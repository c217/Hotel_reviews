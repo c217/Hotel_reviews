{
 "cells": [
  {
   "cell_type": "markdown",
   "id": "42d808af",
   "metadata": {},
   "source": [
    "<div style=\"display: flex; background-color: RGB(119, 150, 203);\">\n",
    "    <h1 style=\"margin: auto; padding: 30px 30px 30px 30px; color: RGB(255,255,255);\"> \n",
    "        <center>\n",
    "            <b>Algorithmique et Python</b><br/>\n",
    "            <u>The TripAdvisor Hotel Project<br/> \n",
    "        </center>\n",
    "        <br/>\n",
    "        <p style=\"text-align:center;\">\n",
    "            <img src=\"https://static.tacdn.com/img2/brand_refresh/Tripadvisor_lockup_horizontal_secondary_registered.svg\" alt=\"TripAdvisor logo\" width=\"400\" height=\"400\" align=\"center\">\n",
    "        </p>\n",
    "        <center>\n",
    "            Réalisé par Claire Gefflot, Romain Pénichon,<br/> Mohamed Ghazali, Mehdi Aiyad et Abdelkabir Menani<br/>\n",
    "        </center>        \n",
    "</div>"
   ]
  },
  {
   "cell_type": "markdown",
   "id": "d791ebc8",
   "metadata": {
    "jp-MarkdownHeadingCollapsed": true,
    "tags": []
   },
   "source": [
    "<a class=\"anchor\" id=\"table_of_contents\"></a>\n",
    "## Table of contents\n",
    "\n",
    "* [Chapitre 1 : Revue de la littérature](#chapter1)\n",
    "    * [1.1. Qu'est-ce que le traitement automatique du langage naturel (TAL) ?](#section_1_1)\n",
    "    * [1.2. Historique et évolution des méthodes des NLP](#section_1_2)\n",
    "    * [1.3. Exploration des méthodes classiques utilisées pour le pré-traitement des données textuelles](#section_1_3)\n",
    "    * [1.4. Les algorithmes de traitement du langage naturel : une revue des approches classiques](#section_1_4)\n",
    "    * [1.5. L'état de l'art](#section_1_5)<br>\n",
    "<br>\n",
    "* [Chapitre 2 : Web-Scraping Tripadvisor Hôtel](#chapter2)<br>\n",
    "<br>\n",
    "* [Chapitre 3 : Modélisation](#chapter3)\n",
    "    * [3.1. Modèle d'analyse de sentiment](#section_3_1)\n",
    "        * [3.1.1. Régression logistique](#section_3_1_1)\n",
    "        * [3.1.2. Long Short Term Memory (LSTM)](#section_3_1_2)\n",
    "        * [3.1.3. Bidirectional Encoder Representations from Transformers (BERT)](#section_3_1_3)\n",
    "    * [3.2. Modèle d'extraction](#section_3_2)\n",
    "        * [3.2.1. Named Entity Recognition (NER)](#section_3_2_1)\n",
    "        * [3.2.2. Aspect Based Sentiment Analysis (ABSA)](#section_3_2_2)<br>\n",
    "<br> \n",
    "* [Chapitre 4 : Forces et faiblesses des différents modèles](#chapter4)\n",
    "    * [4.1. Analyse comparative des modèles d'analyse de sentiment](#section_4_1)\n",
    "    * [4.2. Comparaison des différents algorithmes d'extraction de données](#section_4_2)\n",
    "    * [4.3. Extraction des points forts et points faible avec la première méthode de NER](#section_4_3)<br>\n",
    "<br>   \n",
    "* [Chapitre 5 : Analyse statistique des avis d'hôtels : ce que les clients apprécient et ce qui peut être amélioré](#chapter5) \n",
    "    * [5.1. Analyse quantitative](#section_5_1)\n",
    "    * [5.2. Analyse qualitative](#section_5_2)<br>\n",
    "<br>    \n",
    "* [Chapitre 6 : Déploiement](#chapter6)<br>\n",
    "<br>\n",
    "* [Chapitre 7 : Conclusion](#chapter7)"
   ]
  },
  {
   "cell_type": "markdown",
   "id": "ba7f5eff",
   "metadata": {},
   "source": [
    "<a class=\"anchor\" id=\"chapter1\"></a>\n",
    "<div style=\"background-color: RGB(119, 150, 203);\" >\n",
    "<h2 style=\"margin: auto; padding: 20px; color:#fff; \">Chapitre 1 : Revue de la littérature</h2>\n",
    "</div>"
   ]
  },
  {
   "cell_type": "markdown",
   "id": "ef764641",
   "metadata": {},
   "source": [
    "<a class=\"anchor\" id=\"section_1_1\"></a>\n",
    "<div style=\"border: 1px solid RGB(119, 150, 203);\" >\n",
    "    <h3 style=\"margin: auto; padding: 20px; color: RGB(119, 150, 203); \">1.1. Qu'est-ce que le traitement automatique du langage naturel (TAL) ?</h3>\n",
    "</div>"
   ]
  },
  {
   "cell_type": "markdown",
   "id": "dc0e3602",
   "metadata": {},
   "source": [
    "Les NLP (Natural Language Processing) ou le traitement automatique du langage naturel, sont une branche de l'intelligence artificielle qui consiste à permettre aux ordinateurs de comprendre, de générer et d'interagir avec le langage humain. Cela inclut la reconnaissance de la parole, la traduction automatique, la compréhension de textes et l'analyse de sentiments. Il s'agit d'une tâche complexe, car le langage humain est riche et ambigu, et peut varier considérablement selon le contexte et la culture. Les NLP sont utilisées dans de nombreux domaines, tels que la recherche sur le web, la messagerie instantanée, la reconnaissance vocale de commandes et la création de chatbots. Les NLP reposent sur des algorithmes et des modèles de machine learning ou deep learning pour comprendre et traiter le langage humain."
   ]
  },
  {
   "cell_type": "markdown",
   "id": "71038da6",
   "metadata": {},
   "source": [
    "<a class=\"anchor\" id=\"section_1_2\"></a>\n",
    "<div style=\"border: 1px solid RGB(119, 150, 203);\" >\n",
    "    <h3 style=\"margin: auto; padding: 20px; color: RGB(119, 150, 203); \">1.2. Historique et évolution des méthodes des NLP</h3>\n",
    "</div>"
   ]
  },
  {
   "cell_type": "markdown",
   "id": "785f5620",
   "metadata": {},
   "source": [
    "Voici quelques étapes clés dans l'histoire et l'évolution des techniques de NLP :\n",
    "\n",
    "- **1950-1960** : les premiers travaux sur la traduction automatique sont menés, notamment par le linguiste et informaticien Warren Weaver. Des approches basées sur des règles sont utilisées pour traduire des phrases simples d'une langue à l'autre.\n",
    "\n",
    "- **1960-1970** : de nouvelles méthodes de TAL sont développées, notamment la reconnaissance de la parole et la compréhension de texte. Des approches statistiques commencent également à être utilisées, permettant d'apprendre à partir de données annotées plutôt que de règles prédéfinies.\n",
    "\n",
    "- **1970-1980** : développement de la génération de texte et la reconnaissance d'émotions dans le discours. Des modèles probabilistes commencent à être utilisés pour la reconnaissance de la parole et la traduction automatique.\n",
    "\n",
    "- **1980-1990** : de nouvelles approches statistiques sont développées pour la traduction automatique, notamment les modèles de langue source-cible et les modèles de mots latents. Des progrès importants sont également réalisés dans la reconnaissance de la parole et la compréhension de texte.\n",
    "\n",
    "- **1990-2000** : de nouvelles approches de traitement du langage naturel sont développées, notamment les réseaux de neurones et les approches basées sur l'apprentissage automatique. Ces approches permettent de traiter des données de manière plus efficace et de meilleures performances que les approches statistiques précédentes.\n",
    "\n",
    "- **2000-2010** : les approches basées sur l'apprentissage automatique connaissent un développement important et sont utilisées dans de nombreuses applications de NLP, notamment la traduction automatique, la reconnaissance de la parole et la compréhension de texte. Des approches de traitement du langage naturel sont également développées pour des tâches telles que la reconnaissance d'entités nommées et la catégorisation de documents.\n",
    "\n",
    "- **2010-aujourd'hui** : Au cours de la dernière décennie, les techniques de traitement du langage naturel ont connu un développement important et ont été utilisées dans de nombreuses applications pratiques.\n",
    "    - L'utilisation de modèles de langage pré-entraînés : ces modèles sont entraînés sur de grandes quantités de données et peuvent être utilisés pour différentes tâches de NLP sans nécessiter de nouvel entraînement. Ils ont permis de réaliser des progrès importants dans des tâches telles que la reconnaissance d'entités nommées, la génération de texte et la compréhension de texte.\n",
    "    - L'utilisation de données de grande taille et de grande qualité : l'amélioration de la qualité et de la quantité de donnée disponible a permis de développer des modèles de NLP plus précis. Cela a été rendu possible notamment grâce à l'apparition de grandes bases de données annotées, telles que celles proposées par Google et Microsoft.\n",
    "    - L'utilisation de techniques d'apprentissage automatique avancées : les techniques d'apprentissage automatique ont connu un développement important ces dernières années et ont été utilisées pour résoudre de nombreuses tâches de NLP. Par exemple, les réseaux de neurones profonds (Deep Neural Networks, DNN) ont été utilisés avec succès pour la traduction automatique et la reconnaissance de la parole. \n",
    "\n",
    "    - L'intégration des NLP dans de nombreux domaines d'application : les techniques de NLP ont été utilisées dans de nombreux domaines, notamment la recherche d'emploi, la publicité en ligne, la création de chatbots et l'analyse de données de réseaux sociaux. Elles ont également été utilisées pour améliorer l'accessibilité des technologies, par exemple en permettant à des personnes sourdes ou malentendantes de communiquer avec des personnes entendantes grâce à la traduction automatique en langue des signes.\n",
    "\n",
    "Enfin, il existe de nombreuses autres approches pour le traitement du langage naturel, qui incluent l'analyse syntaxique, l'analyse sémantique, la génération de texte et la reconnaissance de l'intention de l'utilisateur. Ces approches peuvent être utilisées seules ou combinées de différentes manières pour résoudre des tâches spécifiques de NLP.\n",
    "\n",
    "En résumé, le traitement du langage naturel est un domaine en constante évolution qui a fait de nombreux progrès ces dernières années grâce à l'utilisation de grandes quantités de données et de puissance de calcul, ainsi qu'à l'adoption de techniques d'apprentissage automatique avancées. Il reste cependant encore beaucoup de travail à faire pour parvenir à une compréhension complète du langage humain et pour permettre aux ordinateurs de le traiter efficacement."
   ]
  },
  {
   "cell_type": "markdown",
   "id": "2d57a62d",
   "metadata": {},
   "source": [
    "<a class=\"anchor\" id=\"section_1_3\"></a>\n",
    "<div style=\"border: 1px solid RGB(119, 150, 203);\" >\n",
    "    <h3 style=\"margin: auto; padding: 20px; color: RGB(119, 150, 203); \">1.3. Exploration des méthodes classiques utilisées pour le pré-traitement des données textuelles</h3>\n",
    "</div>"
   ]
  },
  {
   "cell_type": "markdown",
   "id": "413143d1",
   "metadata": {},
   "source": [
    "Dans cette partie on parlera des différentes techniques utilisées typiquement dans un projet de NLP. Cependant avant d'entamer cette partie nous allons introduire l'étape de pre-processing qui est une étape essentielle afin d'exploiter les données.\n",
    "\n",
    "Le traitement du langage naturel implique souvent l'utilisation de techniques de prétraitement pour transformer les données textuelles en un format utilisable par l'ordinateur.\n",
    "\n",
    "Voici quelques techniques couramment utilisées pour le prétraitement des NLP :\n",
    "- **Conversion en minuscules ou en majuscules** : convertir tous les caractères d'un texte en minuscules ou en majuscules.\n",
    "\n",
    "- **Suppression de la ponctuation** : suppression de tous les signes de ponctuation d'un texte.\n",
    "\n",
    "- **Tokenization** : il s'agit du processus de découpage d'un texte en unités plus petites appelées tokens. Ces tokens peuvent être des mots individuels, des phrases ou des symboles.\n",
    " \n",
    "- **Suppression des stop words** : il s'agit du processus de suppression des mots courants qui ne sont pas utiles pour les tâches de NLP, tels que \"le\", \"et\", \"un\", etc. Ces mots sont souvent appelés mots vides ou stop words en anglais.\n",
    "\n",
    "- **Stemmatization/racinisation** : il s'agit du processus de réduction des mots à leur forme de base, qui est appelée le stem. La stemmatization ramène les mots à leur racine, c'est-à-dire à leur version sans suffixe. Par exemple, le stem du mot \"sauter\" est \"saut\". Cela est utile car cela permet au modèle de reconnaître que \"sauter\" et \"sauts\" sont liés, même s'ils ne sont pas exactement les mêmes.\n",
    "\n",
    "- **Lemmatization** : cela ressemble à la stemmatization, mais au lieu de réduire les mots à leur forme de base, les mots sont réduits à leur forme non conjuguée et non accordée. Par exemple, \"jouons\" et \"garages\" deviennent respectivement \"jouer\" et \"garage\".\n",
    " \n",
    "- **Tagging de la partie du discours** : il s'agit du processus d'identification de la partie du discours de chaque mot dans un texte. Cela est utile car le sens d'un mot peut dépendre de sa partie du discours.\n",
    "\n",
    "- **Reconnaissance des entités nommées** : il s'agit du processus d'identification et d'extraction des entités nommées (telles que les personnes, les organisations et les lieux) d'un texte.\n",
    "\n",
    "- Analyse de sentiment : il s'agit du processus de détermination du sentiment (positif, négatif ou neutre) d'un texte.\n",
    "\n",
    "- **Traduction** : il s'agit du processus de traduction d'un texte d'une langue à une autre.\n",
    "\n",
    "Ce sont là quelques exemples des techniques couramment utilisées dans le prétraitement en NLP. Les techniques spécifiques utilisées dépendront de la tâche de NLP à effectuer et des ressources disponibles.\n",
    "\n",
    "Ensuite, après avoir effectué cette étape de prétraitement on peut transformer nos données textuelles en vecteur afin de les intégrer en input de nos modèles.\n",
    "\n",
    "Il existe plusieurs techniques pour transformer les mots en vecteur en traitement du langage naturel (NLP). Voici quelques exemples :\n",
    "\n",
    "- **Représentation par mot (word embedding)** : il s'agit de représenter chaque mot par un vecteur de nombres. Ces vecteurs sont appris à partir de données de texte et capturent des informations sur la signification des mots et leur utilisation dans différents contextes.\n",
    "\n",
    "- **Représentation one-hot encoding** : il s'agit de représenter chaque mot par un vecteur de zéros, avec une seule valeur à 1 dans la position correspondant à l'index du mot dans un dictionnaire.\n",
    "\n",
    "- **Représentation term-frequency inverse document-frequency (TF-IDF)** : il s'agit de représenter chaque mot par un vecteur qui combine sa fréquence dans un document (term-frequency) et sa rareté dans l'ensemble des documents (inverse document-frequency).\n",
    "\n",
    "- **Représentation par n-grammes** : il s'agit de représenter chaque mot par un vecteur qui inclut non seulement le mot lui-même, mais aussi des informations sur les mots qui l'entourent (par exemple, les bigrammes ou trigrammes).\n",
    "\n",
    "Il y a de nombreuses autres techniques pour représenter les mots en vecteurs en NLP. Le choix de la technique dépendra de l'application et des ressources disponibles."
   ]
  },
  {
   "cell_type": "markdown",
   "id": "52fa627b",
   "metadata": {},
   "source": [
    "<a class=\"anchor\" id=\"section_1_4\"></a>\n",
    "<div style=\"border: 1px solid RGB(119, 150, 203);\" >\n",
    "    <h3 style=\"margin: auto; padding: 20px; color: RGB(119, 150, 203); \">1.4. Les algorithmes de traitement du langage naturel : une revue des approches classiques</h3>\n",
    "</div>"
   ]
  },
  {
   "cell_type": "markdown",
   "id": "c8970d8f",
   "metadata": {},
   "source": [
    "Il existe de nombreux algorithmes utilisés pour traiter les problèmes de NLP. Voici quelques exemples :\n",
    "\n",
    "- **Algorithmes de classification** : ils sont utilisés pour prédire la classe d'un texte (par exemple, un courriel spam ou non spam). Les algorithmes de classification couramment utilisés en NLP incluent les réseaux de neurones, les arbres de décision et la régression logistique.\n",
    "\n",
    "- **Algorithmes de segmentation** : ils sont utilisés pour diviser un texte en parties plus petites (par exemple, les phrases ou les paragraphes). Les algorithmes de segmentation couramment utilisés en NLP incluent les modèles de langage et les algorithmes de détection de frontières.\n",
    "\n",
    "- **Algorithmes de traduction** : ils sont utilisés pour traduire du texte d'une langue à une autre. Les algorithmes de traduction couramment utilisés en NLP incluent les modèles de traduction automatique et les modèles de traduction neuronaux.\n",
    "\n",
    "- **Algorithmes de reconnaissance de la parole** : ils sont utilisés pour transformer la parole en texte. Les algorithmes de reconnaissance de la parole couramment utilisés en NLP incluent les modèles de reconnaissance de la parole HMM et les modèles de reconnaissance de la parole neuronaux.\n",
    "\n",
    "- **Algorithmes de génération de texte** : ils sont utilisés pour générer du texte à partir de données de texte ou de modèles de langage. Les algorithmes de génération de texte couramment utilisés en NLP incluent les modèles de langage et les modèles de génération de texte neuronaux.\n",
    "\n",
    "Ce ne sont là que quelques exemples d'algorithmes utilisés en NLP. Le choix de l'algorithme dépendra de l'application et des ressources disponibles."
   ]
  },
  {
   "cell_type": "markdown",
   "id": "843f596e",
   "metadata": {},
   "source": [
    "<a class=\"anchor\" id=\"section_1_5\"></a>\n",
    "<div style=\"border: 1px solid RGB(119, 150, 203);\" >\n",
    "    <h3 style=\"margin: auto; padding: 20px; color: RGB(119, 150, 203); \">1.5. L'état de l'art</h3>\n",
    "</div>"
   ]
  },
  {
   "cell_type": "markdown",
   "id": "8ad89b6e",
   "metadata": {},
   "source": [
    "L'état de l'art du TAL désigne les performances les plus avancées et les plus récentes atteintes dans le domaine du traitement du langage naturel. Ces performances sont généralement mesurées en utilisant des benchmarks et des ensembles de données de référence pour évaluer la qualité des résultats produits par les différents modèles et algorithmes de NLP.\n",
    "\n",
    "Au cours des dernières années, l'état de l'art des NLP a considérablement progressé grâce à l'utilisation de techniques de deep learning, qui ont permis d'atteindre des performances remarquables dans de nombreuses tâches de NLP, telles que la reconnaissance de la parole, la traduction, la segmentation et la classification de texte.\n",
    "\n",
    "En outre, l'état de l'art en NLP est constamment en évolution, avec de nouvelles approches et technologies qui continuent d'être développées et testées. Par exemple, l'utilisation de modèles de transformer pour les NLP est actuellement en vogue et a permis d'atteindre des performances exceptionnelles dans de nombreuses tâches de NLP.\n",
    "\n",
    "**Les modèles de transformer** sont un type de réseau de neurones utilisé en apprentissage profond et en traitement du langage naturel. Ils ont été introduits dans un article de 2017 intitulé \"Attention is All You Need\" et ont rapidement gagné en popularité grâce à leur capacité à atteindre de très bonnes performances dans de nombreuses tâches de NLP.\n",
    "\n",
    "Les modèles de transformer sont conçus pour traiter des séquences de données de longueur variable, comme des phrases ou des paragraphes de texte. Ils utilisent une technique d'attention qui permet au modèle de se concentrer sur les parties de la séquence qui sont les plus pertinentes pour la tâche en cours.\n",
    "\n",
    "Les modèles de transformer sont composés de plusieurs couches de transformer, chacune comprenant un mécanisme d'attention et une couche de projection. Le mécanisme d'attention calcule des poids pour chaque élément de la séquence en fonction de sa pertinence pour la tâche en cours, tandis que la couche de projection transforme les représentations vectorielles des éléments de la séquence en une représentation unique de la séquence entière.\n",
    "\n",
    "Les modèles de transformer ont été largement utilisés en NLP pour de nombreuses tâches, notamment la reconnaissance de la parole, la traduction, la segmentation du texte et la classification du texte. Ils ont également été utilisés dans d'autres domaines, tels que la reconnaissance d'images et la synthèse de la parole.\n",
    "\n",
    "Un des algorithmes les plus reconnus dans le monde de NLP est le BERT :\n",
    "\n",
    "**BERT (Bidirectional Encoder Representations from Transformers)** est un algorithme de traitement du langage naturel (NLP) développé par Google qui a été largement utilisé pour améliorer les performances de nombreuses tâches de NLP.\n",
    "\n",
    "BERT utilise un modèle de transformer, qui est un type de réseau de neurones conçu pour traiter des séquences de données de longueur variable. Le modèle BERT prend en entrée une séquence de mots et produit en sortie une représentation vectorielle de chaque mot, qui capture des informations sur sa signification et son utilisation dans le contexte de la séquence.\n",
    "\n",
    "Le modèle BERT est \"bidirectionnel\" car il prend en compte non seulement la prédiction de chaque mot à partir des mots qui lui précèdent, mais aussi à partir de ceux qui lui succèdent. Cette approche bidirectionnelle lui permet de capturer des informations sur le contexte des mots qui l'entourent, ce qui peut être très utile pour de nombreuses tâches de NLP.\n",
    "\n",
    "En résumé, BERT est un algorithme de NLP qui utilise un modèle de transformer pour produire des représentations vectorielles de chaque mot d'une séquence de mots, en prenant en compte le contexte des mots qui l'entourent. Nous l'utiliserons par la suite pour répondre à notre problématique concernant les commentaires d'hôtels."
   ]
  },
  {
   "cell_type": "markdown",
   "id": "3cf3b50f",
   "metadata": {},
   "source": [
    "<a class=\"anchor\" id=\"chapter2\"></a>\n",
    "<div style=\"background-color: RGB(119, 150, 203);\" >\n",
    "<h2 style=\"margin: auto; padding: 20px; color:#fff; \">Chapitre 2 : Web-Scraping Tripadvisor Hôtel</h2>\n",
    "</div>"
   ]
  },
  {
   "cell_type": "markdown",
   "id": "2f1667f9",
   "metadata": {},
   "source": [
    "Le web scraping est un processus consistant à extraire de l'information à partir de sites web. Cela peut être fait à l'aide de programmes ou de scripts automatisés qui naviguent sur le web et analysent le contenu des pages web. Nous avons donc décidé d'utiliser le web-scraping pour obtenir les commentaires sous certains hôtels sur le site Tripadvisor."
   ]
  },
  {
   "cell_type": "code",
   "execution_count": 5,
   "id": "582fb9b2",
   "metadata": {},
   "outputs": [],
   "source": [
    "import pandas as pd\n",
    "import numpy as np\n",
    "from selenium import webdriver\n",
    "from selenium.webdriver.support.ui import WebDriverWait\n",
    "from selenium.webdriver.support import expected_conditions as EC\n",
    "from selenium.webdriver.common.by import By\n",
    "import time"
   ]
  },
  {
   "cell_type": "code",
   "execution_count": 6,
   "id": "cd0cf514",
   "metadata": {},
   "outputs": [],
   "source": [
    "# Classes used to find elements (current source code of tripadvisor website)\n",
    "cls = {\n",
    "    'rating' : 'Hlmiy F1',\n",
    "    'title': 'KgQgP MC _S b S6 H5 _a',\n",
    "    'text': 'fIrGe _T',\n",
    "    'date': 'teHYY _R Me S4 H3',\n",
    "    'type': 'TDKzw _R Me'\n",
    "}"
   ]
  },
  {
   "cell_type": "code",
   "execution_count": 7,
   "id": "6a8f9de2",
   "metadata": {},
   "outputs": [],
   "source": [
    "# Tripadvisor hotels selected for sentiment analysis (average rating around 3.5 and at least 1000 reviews)\n",
    "hotels = [\n",
    "    {\n",
    "        'name' : 'Hotel Malte - Astotel',\n",
    "        'url' : 'https://www.tripadvisor.com/Hotel_Review-g187147-d228694-Reviews-Hotel_Malte_Astotel-Paris_Ile_de_France.html'\n",
    "    },\n",
    "    {\n",
    "        'name' : 'Novotel Paris Les Halles',\n",
    "        'url' : 'https://www.tripadvisor.com/Hotel_Review-g187147-d197424-Reviews-Novotel_Paris_Les_Halles-Paris_Ile_de_France.html'\n",
    "    },\n",
    "    {\n",
    "        'name' : 'Hotel Design Sorbonne',\n",
    "        'url' : 'https://www.tripadvisor.com/Hotel_Review-g187147-d302989-Reviews-Hotel_Design_Sorbonne-Paris_Ile_de_France.html'\n",
    "    },\n",
    "    {\n",
    "        'name' : 'B&B HOTEL Paris 17 Batignolles',\n",
    "        'url' : 'https://www.tripadvisor.com/Hotel_Review-g187147-d231058-Reviews-B_B_HOTEL_Paris_17_Batignolles-Paris_Ile_de_France.html'\n",
    "    }\n",
    "]"
   ]
  },
  {
   "cell_type": "code",
   "execution_count": 8,
   "id": "0139d996",
   "metadata": {},
   "outputs": [],
   "source": [
    "def get_reviews(hotel):\n",
    "    # Get hotel name and url\n",
    "    name = hotel['name']\n",
    "    url = hotel['url']\n",
    "    \n",
    "    # Initialize selenium webdriver\n",
    "    driver = webdriver.Chrome()\n",
    "    driver.get(url)\n",
    "    \n",
    "    # Reject cookies\n",
    "    WebDriverWait(driver, 10).until(EC.element_to_be_clickable((By.XPATH,'//*[@id=\"onetrust-reject-all-handler\"]'))).click()\n",
    "\n",
    "    json_reviews = []\n",
    "\n",
    "    while True:\n",
    "        # Click on \"expand review\" button to access full review\n",
    "        while True:\n",
    "            try:\n",
    "                driver.find_element(\"xpath\", \".//div[contains(@data-test-target, 'expand-review')]\").click()\n",
    "                break\n",
    "            except:\n",
    "                time.sleep(0.1)\n",
    "                continue\n",
    "                \n",
    "        # Get review elements using xpath\n",
    "        for review in driver.find_elements(\"xpath\", \"//div[@data-reviewid]\"):\n",
    "\n",
    "            try:\n",
    "                rating = int(review.find_element(\"xpath\", \".//div[contains(@data-test-target, 'review-rating')]/span[1]\").get_attribute(\"class\")[-2:])/10\n",
    "            except:\n",
    "                rating = np.nan\n",
    "            try:\n",
    "                title = review.find_element(\"xpath\", \".//div[contains(@data-test-target, 'review-title')]/a/span[1]\").text\n",
    "            except:\n",
    "                title = np.nan\n",
    "            try:\n",
    "                text = review.find_element(\"xpath\", \".//q[@class='QewHA H4 _a']/span[1]\").text\n",
    "            except:\n",
    "                text = np.nan\n",
    "            try:\n",
    "                date = review.find_element(\"xpath\", \".//span[@class='teHYY _R Me S4 H3']\").text\n",
    "            except:\n",
    "                date = np.nan\n",
    "            try:\n",
    "                typ = review.find_element(\"xpath\", \".//span[@class='TDKzw _R Me']\").text\n",
    "            except:\n",
    "                typ = np.nan\n",
    "                \n",
    "            # Creating a dictionary for each review and appending it to a list (json format)\n",
    "            review_dict = {\n",
    "                'rating' : rating,\n",
    "                'title': title,\n",
    "                'text': text,\n",
    "                'date': date,\n",
    "                'type': typ\n",
    "            }\n",
    "            json_reviews.append(review_dict)\n",
    "            \n",
    "        # Move to next page (if possible)\n",
    "        try:\n",
    "            driver.find_element(\"xpath\", './/a[@class=\"ui_button nav next primary \"]').click() \n",
    "        except:\n",
    "            break\n",
    "            \n",
    "    # Close webdriver\n",
    "    driver.quit()\n",
    "    \n",
    "    # Convert from json format to pandas dataframe\n",
    "    df = pd.json_normalize(json_reviews)\n",
    "    \n",
    "    # Export in excel format\n",
    "    df.to_excel(f'{name}.xlsx', index=False)\n",
    "    \n",
    "    return df"
   ]
  },
  {
   "cell_type": "code",
   "execution_count": 1,
   "id": "b0dad0e3",
   "metadata": {},
   "outputs": [],
   "source": [
    "# get_reviews(hotels[3])"
   ]
  },
  {
   "cell_type": "code",
   "execution_count": 2,
   "id": "48f1c19f",
   "metadata": {},
   "outputs": [],
   "source": [
    "for hotel in hotels:\n",
    "    get_reviews(hotel)"
   ]
  },
  {
   "cell_type": "markdown",
   "id": "585723fa",
   "metadata": {},
   "source": [
    "<a class=\"anchor\" id=\"chapter3\"></a>\n",
    "<div style=\"background-color: RGB(119, 150, 203);\" >\n",
    "<h2 style=\"margin: auto; padding: 20px; color:#fff; \">Chapitre 3 : Modélisation</h2>\n",
    "</div>"
   ]
  },
  {
   "cell_type": "markdown",
   "id": "54055666",
   "metadata": {},
   "source": [
    "<a class=\"anchor\" id=\"section_3_1\"></a>\n",
    "<div style=\"border: 1px solid RGB(119, 150, 203);\" >\n",
    "    <h3 style=\"margin: auto; padding: 20px; color: RGB(119, 150, 203); \">3.1. Modèle d'analyse de sentiment</h3>\n",
    "</div>"
   ]
  },
  {
   "cell_type": "markdown",
   "id": "b22f3f77",
   "metadata": {},
   "source": [
    "<a class=\"anchor\" id=\"section_3_1_1\"></a>\n",
    "<div style=\"border: 1px dashed RGB(119, 150, 203);\" >\n",
    "    <h3 style=\"margin: auto; padding: 20px; color: RGB(119, 150, 203); \">3.1.1. Régression logistique</h3>\n",
    "</div>"
   ]
  },
  {
   "cell_type": "markdown",
   "id": "3a2da470",
   "metadata": {},
   "source": [
    "La **régression logistique** est une technique de modélisation qui est utilisée pour prédire la probabilité d'appartenance à une classe ou d'un événement futur. Elle est souvent utilisée dans l'analyse de sentiments, car elle peut être utilisée pour prédire si un texte, par exemple, est positif ou négatif.\n",
    "\n",
    "Pour l'analyse de sentiments, on peut utiliser la régression logistique pour prédire la probabilité qu'un texte soit positif ou négatif en fonction de ses caractéristiques (par exemple, le nombre de mots positifs ou négatifs qu'il contient, ou encore les émotions qu'il exprime). On peut entraîner un modèle de régression logistique en utilisant un ensemble de données annotées manuellement, où chaque élément est étiqueté comme positif ou négatif. Une fois entraîné, le modèle peut être utilisé pour prédire la polarité d'un texte en fonction de ses caractéristiques.\n",
    "\n",
    "La régression logistique est souvent utilisée dans l'analyse de sentiments car elle permet de prendre en compte plusieurs facteurs à la fois et de donner une probabilité plutôt qu'une simple prédiction binaire (positif ou négatif). Elle est également facile à mettre en œuvre et ne nécessite pas beaucoup de prétraitement des données. Cependant, elle peut parfois donner des résultats moins précis que d'autres techniques de modélisation plus complexes."
   ]
  },
  {
   "cell_type": "markdown",
   "id": "f3569947",
   "metadata": {},
   "source": [
    "<a class=\"anchor\" id=\"section_3_1_2\"></a>\n",
    "<div style=\"border: 1px dashed RGB(119, 150, 203);\" >\n",
    "    <h3 style=\"margin: auto; padding: 20px; color: RGB(119, 150, 203); \">3.1.2. Long Short Term Memory (LSTM)</h3>\n",
    "</div>"
   ]
  },
  {
   "cell_type": "markdown",
   "id": "833c0842",
   "metadata": {},
   "source": [
    "Le modèle **LSTM (Long Short-Term Memory)** est un type de réseau de neurones qui est souvent utilisé en analyse de sentiments. Il est particulièrement adapté à l'analyse de données séquentielles, comme le texte, car il peut conserver des informations sur de longues périodes de temps et gérer les dépendances à long terme.\n",
    "\n",
    "Les modèles LSTM sont formés sur des données annotées pour l'analyse de sentiments, en utilisant une tâche d'apprentissage supervisé. Pendant l'entraînement, le modèle LSTM apprend à prédire l'étiquette de sentiment (par exemple, positif ou négatif) en fonction des mots dans le texte. Une fois entraîné, le modèle peut être utilisé pour analyser de nouvelles données et prédire l'étiquette de sentiment de ces données.\n",
    "\n",
    "Les modèles LSTM sont souvent utilisés en conjonction avec d'autres techniques de traitement du langage naturel, comme le pré-traitement des données et le vectorisation des mots, afin d'améliorer leur performance."
   ]
  },
  {
   "cell_type": "markdown",
   "id": "ef5a6546-e9d3-4110-9b4a-924f66ea9b28",
   "metadata": {
    "tags": []
   },
   "source": [
    "<a class=\"anchor\"></a>\n",
    "<div style=\"border: 1px RGB(119, 150, 203);\" >\n",
    "    <h3 style=\"margin: auto; padding: 20px; color: RGB(119, 150, 203); \"> LSTM train</h3>\n",
    "</div>"
   ]
  },
  {
   "cell_type": "code",
   "execution_count": 2,
   "id": "acc3234f",
   "metadata": {
    "execution": {
     "iopub.execute_input": "2023-01-02T12:36:34.314098Z",
     "iopub.status.busy": "2023-01-02T12:36:34.313161Z",
     "iopub.status.idle": "2023-01-02T12:36:40.218906Z",
     "shell.execute_reply": "2023-01-02T12:36:40.217964Z",
     "shell.execute_reply.started": "2023-01-02T12:36:34.314061Z"
    }
   },
   "outputs": [],
   "source": [
    "import pandas as pd\n",
    "import numpy as np\n",
    "import matplotlib.pyplot as plt\n",
    "import seaborn as sns\n",
    "import re\n",
    "import os\n",
    "from tqdm.notebook import tqdm\n",
    "import nltk\n",
    "from sklearn.model_selection import train_test_split\n",
    "from keras.preprocessing.text import Tokenizer\n",
    "from keras.preprocessing.sequence import pad_sequences\n",
    "from keras.models import Sequential\n",
    "from keras.layers import Activation, Dense, Dropout, Embedding, Flatten, Conv1D, MaxPooling1D, LSTM\n",
    "from keras import utils\n",
    "from keras.callbacks import ReduceLROnPlateau, EarlyStopping\n",
    "plt.style.use('ggplot')\n",
    "import warnings\n",
    "warnings.filterwarnings('ignore')\n",
    "import nltk\n",
    "from nltk.corpus import stopwords\n",
    "from nltk.stem import SnowballStemmer\n",
    "import gensim"
   ]
  },
  {
   "cell_type": "code",
   "execution_count": 3,
   "id": "1c09f061",
   "metadata": {
    "execution": {
     "iopub.execute_input": "2023-01-02T12:36:40.222775Z",
     "iopub.status.busy": "2023-01-02T12:36:40.221730Z",
     "iopub.status.idle": "2023-01-02T12:36:40.376114Z",
     "shell.execute_reply": "2023-01-02T12:36:40.374908Z",
     "shell.execute_reply.started": "2023-01-02T12:36:40.222735Z"
    }
   },
   "outputs": [
    {
     "name": "stderr",
     "output_type": "stream",
     "text": [
      "[nltk_data] Downloading package stopwords to /usr/share/nltk_data...\n",
      "[nltk_data]   Package stopwords is already up-to-date!\n"
     ]
    },
    {
     "data": {
      "text/plain": [
       "True"
      ]
     },
     "execution_count": 3,
     "metadata": {},
     "output_type": "execute_result"
    }
   ],
   "source": [
    "nltk.download('stopwords')"
   ]
  },
  {
   "cell_type": "code",
   "execution_count": 4,
   "id": "b9c7af51",
   "metadata": {
    "execution": {
     "iopub.execute_input": "2023-01-02T12:36:40.377859Z",
     "iopub.status.busy": "2023-01-02T12:36:40.377418Z",
     "iopub.status.idle": "2023-01-02T12:36:40.387250Z",
     "shell.execute_reply": "2023-01-02T12:36:40.386051Z",
     "shell.execute_reply.started": "2023-01-02T12:36:40.377819Z"
    }
   },
   "outputs": [],
   "source": [
    "# stopwords and stemmer from nltk\n",
    "stop = stopwords.words('english')\n",
    "stem = SnowballStemmer('english')"
   ]
  },
  {
   "cell_type": "code",
   "execution_count": 5,
   "id": "dccf9792",
   "metadata": {
    "execution": {
     "iopub.execute_input": "2023-01-02T12:36:40.391192Z",
     "iopub.status.busy": "2023-01-02T12:36:40.390931Z",
     "iopub.status.idle": "2023-01-02T12:36:46.418924Z",
     "shell.execute_reply": "2023-01-02T12:36:46.417918Z",
     "shell.execute_reply.started": "2023-01-02T12:36:40.391167Z"
    }
   },
   "outputs": [],
   "source": [
    "# Kaggle dataset to train our lstm (515k hotel reviews)\n",
    "predf = pd.read_csv('/kaggle/input/515k-hotel-reviews-data-in-europe/Hotel_Reviews.csv')"
   ]
  },
  {
   "cell_type": "code",
   "execution_count": 6,
   "id": "4d6d7df1",
   "metadata": {
    "execution": {
     "iopub.execute_input": "2023-01-02T12:36:46.422723Z",
     "iopub.status.busy": "2023-01-02T12:36:46.421984Z",
     "iopub.status.idle": "2023-01-02T12:36:46.586936Z",
     "shell.execute_reply": "2023-01-02T12:36:46.585966Z",
     "shell.execute_reply.started": "2023-01-02T12:36:46.422683Z"
    }
   },
   "outputs": [],
   "source": [
    "# Labelling dataset using the hotel rating out of 10 (above 5 is positive, below 5 is negative)\n",
    "predf['review'] = predf[\"Negative_Review\"] + predf[\"Positive_Review\"]\n",
    "predf['target'] = 1*(predf[\"Reviewer_Score\"]>5)"
   ]
  },
  {
   "cell_type": "code",
   "execution_count": 7,
   "id": "4a6fb25a",
   "metadata": {
    "execution": {
     "iopub.execute_input": "2023-01-02T12:36:46.589040Z",
     "iopub.status.busy": "2023-01-02T12:36:46.588641Z",
     "iopub.status.idle": "2023-01-02T12:37:25.791603Z",
     "shell.execute_reply": "2023-01-02T12:37:25.790511Z",
     "shell.execute_reply.started": "2023-01-02T12:36:46.589002Z"
    }
   },
   "outputs": [],
   "source": [
    "# Cleaning reviews (from punctuation, trailing/leading spaces and non-alphanumeric characters)\n",
    "# Splitting the cleaned reviews into words and removing stopwords (optionally also stemming)\n",
    "predf['review'] = predf['review'].apply(lambda x: \" \".join([token for token in re.sub('[^A-Za-z0-9\\s]','', x).strip().split() if token not in stop]))"
   ]
  },
  {
   "cell_type": "code",
   "execution_count": 8,
   "id": "e8ede8f4",
   "metadata": {
    "execution": {
     "iopub.execute_input": "2023-01-02T12:37:25.794815Z",
     "iopub.status.busy": "2023-01-02T12:37:25.794419Z",
     "iopub.status.idle": "2023-01-02T12:37:30.148622Z",
     "shell.execute_reply": "2023-01-02T12:37:30.147576Z",
     "shell.execute_reply.started": "2023-01-02T12:37:25.794778Z"
    }
   },
   "outputs": [],
   "source": [
    "# Using word2vec for embedding\n",
    "reviews = [rev.split() for rev in predf.review]\n",
    "w2v = gensim.models.word2vec.Word2Vec(vector_size=300, window=7, min_count=10, workers=8)\n",
    "w2v.build_vocab(reviews)"
   ]
  },
  {
   "cell_type": "code",
   "execution_count": 9,
   "id": "3edfb1e1",
   "metadata": {
    "execution": {
     "iopub.execute_input": "2023-01-02T12:37:30.150870Z",
     "iopub.status.busy": "2023-01-02T12:37:30.150463Z",
     "iopub.status.idle": "2023-01-02T12:37:30.156867Z",
     "shell.execute_reply": "2023-01-02T12:37:30.155176Z",
     "shell.execute_reply.started": "2023-01-02T12:37:30.150829Z"
    }
   },
   "outputs": [],
   "source": [
    "# Set up logger to view the training of our word2vec model in details\n",
    "import logging\n",
    "logging.basicConfig(format='%(asctime)s : %(levelname)s : %(message)s', level=logging.INFO)"
   ]
  },
  {
   "cell_type": "code",
   "execution_count": 10,
   "id": "bff6b974",
   "metadata": {
    "execution": {
     "iopub.execute_input": "2023-01-02T12:37:30.159274Z",
     "iopub.status.busy": "2023-01-02T12:37:30.158935Z",
     "iopub.status.idle": "2023-01-02T12:47:44.121993Z",
     "shell.execute_reply": "2023-01-02T12:47:44.121119Z",
     "shell.execute_reply.started": "2023-01-02T12:37:30.159198Z"
    }
   },
   "outputs": [
    {
     "data": {
      "text/plain": [
       "(283489242, 343242720)"
      ]
     },
     "execution_count": 10,
     "metadata": {},
     "output_type": "execute_result"
    }
   ],
   "source": [
    "# Training the word2vec model\n",
    "w2v.train(reviews, total_examples=len(reviews), epochs=32)"
   ]
  },
  {
   "cell_type": "code",
   "execution_count": 11,
   "id": "d4101ec0",
   "metadata": {
    "execution": {
     "iopub.execute_input": "2023-01-02T12:47:44.125339Z",
     "iopub.status.busy": "2023-01-02T12:47:44.123470Z",
     "iopub.status.idle": "2023-01-02T12:47:44.694617Z",
     "shell.execute_reply": "2023-01-02T12:47:44.693526Z",
     "shell.execute_reply.started": "2023-01-02T12:47:44.125309Z"
    }
   },
   "outputs": [],
   "source": [
    "# Splitting dataset into training and testing data\n",
    "train, test = train_test_split(predf, test_size=0.3, random_state=42)"
   ]
  },
  {
   "cell_type": "code",
   "execution_count": 12,
   "id": "e2971a00",
   "metadata": {
    "execution": {
     "iopub.execute_input": "2023-01-02T12:47:44.696281Z",
     "iopub.status.busy": "2023-01-02T12:47:44.695896Z",
     "iopub.status.idle": "2023-01-02T12:47:53.211096Z",
     "shell.execute_reply": "2023-01-02T12:47:53.210242Z",
     "shell.execute_reply.started": "2023-01-02T12:47:44.696247Z"
    }
   },
   "outputs": [
    {
     "name": "stdout",
     "output_type": "stream",
     "text": [
      "Total words 69486\n"
     ]
    }
   ],
   "source": [
    "# Fitting a tokenizer on reviews\n",
    "tokenizer = Tokenizer()\n",
    "tokenizer.fit_on_texts(train.review)\n",
    "vocab_size = len(tokenizer.word_index) + 1\n",
    "print(\"Total words\", vocab_size)"
   ]
  },
  {
   "cell_type": "code",
   "execution_count": 13,
   "id": "402949df",
   "metadata": {
    "execution": {
     "iopub.execute_input": "2023-01-02T12:47:53.216204Z",
     "iopub.status.busy": "2023-01-02T12:47:53.215666Z",
     "iopub.status.idle": "2023-01-02T12:48:04.753181Z",
     "shell.execute_reply": "2023-01-02T12:48:04.752198Z",
     "shell.execute_reply.started": "2023-01-02T12:47:53.216166Z"
    }
   },
   "outputs": [],
   "source": [
    "# Transforming reviews into sequences using our tokenizer\n",
    "rev_train = pad_sequences(tokenizer.texts_to_sequences(train.review), maxlen=300)\n",
    "rev_test = pad_sequences(tokenizer.texts_to_sequences(test.review), maxlen=300)"
   ]
  },
  {
   "cell_type": "code",
   "execution_count": 14,
   "id": "9251733d",
   "metadata": {
    "execution": {
     "iopub.execute_input": "2023-01-02T12:48:04.757997Z",
     "iopub.status.busy": "2023-01-02T12:48:04.757697Z",
     "iopub.status.idle": "2023-01-02T12:48:04.762481Z",
     "shell.execute_reply": "2023-01-02T12:48:04.761418Z",
     "shell.execute_reply.started": "2023-01-02T12:48:04.757971Z"
    }
   },
   "outputs": [],
   "source": [
    "# Naming targets\n",
    "sent_train = train.target\n",
    "sent_test = test.target"
   ]
  },
  {
   "cell_type": "code",
   "execution_count": 15,
   "id": "fc9d52d9",
   "metadata": {
    "execution": {
     "iopub.execute_input": "2023-01-02T12:48:04.764633Z",
     "iopub.status.busy": "2023-01-02T12:48:04.763984Z",
     "iopub.status.idle": "2023-01-02T12:48:04.916786Z",
     "shell.execute_reply": "2023-01-02T12:48:04.915855Z",
     "shell.execute_reply.started": "2023-01-02T12:48:04.764599Z"
    }
   },
   "outputs": [],
   "source": [
    "# Create Embedding layer using the fitted word2vec matrix\n",
    "embedding_matrix = np.zeros((vocab_size, 300))\n",
    "for word, i in tokenizer.word_index.items():\n",
    "  if word in w2v.wv:\n",
    "    embedding_matrix[i] = w2v.wv[word]\n",
    "embedding_layer = Embedding(vocab_size, 300, weights=[embedding_matrix], input_length=300, trainable=False)"
   ]
  },
  {
   "cell_type": "code",
   "execution_count": 16,
   "id": "c47676a0",
   "metadata": {
    "execution": {
     "iopub.execute_input": "2023-01-02T12:48:04.918555Z",
     "iopub.status.busy": "2023-01-02T12:48:04.918201Z",
     "iopub.status.idle": "2023-01-02T12:48:07.970194Z",
     "shell.execute_reply": "2023-01-02T12:48:07.969173Z",
     "shell.execute_reply.started": "2023-01-02T12:48:04.918521Z"
    }
   },
   "outputs": [
    {
     "name": "stderr",
     "output_type": "stream",
     "text": [
      "2023-01-02 12:48:04.987563: I tensorflow/stream_executor/cuda/cuda_gpu_executor.cc:937] successful NUMA node read from SysFS had negative value (-1), but there must be at least one NUMA node, so returning NUMA node zero\n",
      "2023-01-02 12:48:05.113597: I tensorflow/stream_executor/cuda/cuda_gpu_executor.cc:937] successful NUMA node read from SysFS had negative value (-1), but there must be at least one NUMA node, so returning NUMA node zero\n",
      "2023-01-02 12:48:05.114370: I tensorflow/stream_executor/cuda/cuda_gpu_executor.cc:937] successful NUMA node read from SysFS had negative value (-1), but there must be at least one NUMA node, so returning NUMA node zero\n",
      "2023-01-02 12:48:05.116630: I tensorflow/core/platform/cpu_feature_guard.cc:142] This TensorFlow binary is optimized with oneAPI Deep Neural Network Library (oneDNN) to use the following CPU instructions in performance-critical operations:  AVX2 AVX512F FMA\n",
      "To enable them in other operations, rebuild TensorFlow with the appropriate compiler flags.\n",
      "2023-01-02 12:48:05.116982: I tensorflow/stream_executor/cuda/cuda_gpu_executor.cc:937] successful NUMA node read from SysFS had negative value (-1), but there must be at least one NUMA node, so returning NUMA node zero\n",
      "2023-01-02 12:48:05.118033: I tensorflow/stream_executor/cuda/cuda_gpu_executor.cc:937] successful NUMA node read from SysFS had negative value (-1), but there must be at least one NUMA node, so returning NUMA node zero\n",
      "2023-01-02 12:48:05.119045: I tensorflow/stream_executor/cuda/cuda_gpu_executor.cc:937] successful NUMA node read from SysFS had negative value (-1), but there must be at least one NUMA node, so returning NUMA node zero\n",
      "2023-01-02 12:48:07.274810: I tensorflow/stream_executor/cuda/cuda_gpu_executor.cc:937] successful NUMA node read from SysFS had negative value (-1), but there must be at least one NUMA node, so returning NUMA node zero\n",
      "2023-01-02 12:48:07.275679: I tensorflow/stream_executor/cuda/cuda_gpu_executor.cc:937] successful NUMA node read from SysFS had negative value (-1), but there must be at least one NUMA node, so returning NUMA node zero\n",
      "2023-01-02 12:48:07.276349: I tensorflow/stream_executor/cuda/cuda_gpu_executor.cc:937] successful NUMA node read from SysFS had negative value (-1), but there must be at least one NUMA node, so returning NUMA node zero\n",
      "2023-01-02 12:48:07.276952: I tensorflow/core/common_runtime/gpu/gpu_device.cc:1510] Created device /job:localhost/replica:0/task:0/device:GPU:0 with 15401 MB memory:  -> device: 0, name: Tesla P100-PCIE-16GB, pci bus id: 0000:00:04.0, compute capability: 6.0\n"
     ]
    },
    {
     "name": "stdout",
     "output_type": "stream",
     "text": [
      "Model: \"sequential\"\n",
      "_________________________________________________________________\n",
      "Layer (type)                 Output Shape              Param #   \n",
      "=================================================================\n",
      "embedding (Embedding)        (None, 300, 300)          20845800  \n",
      "_________________________________________________________________\n",
      "dropout (Dropout)            (None, 300, 300)          0         \n",
      "_________________________________________________________________\n",
      "lstm (LSTM)                  (None, 100)               160400    \n",
      "_________________________________________________________________\n",
      "dense (Dense)                (None, 1)                 101       \n",
      "=================================================================\n",
      "Total params: 21,006,301\n",
      "Trainable params: 160,501\n",
      "Non-trainable params: 20,845,800\n",
      "_________________________________________________________________\n"
     ]
    }
   ],
   "source": [
    "# Creating our LSTM model using keras\n",
    "model = Sequential()\n",
    "model.add(embedding_layer)\n",
    "model.add(Dropout(0.5))\n",
    "model.add(LSTM(100, dropout=0.2, recurrent_dropout=0.2))\n",
    "model.add(Dense(1, activation='sigmoid'))\n",
    "\n",
    "model.summary()"
   ]
  },
  {
   "cell_type": "code",
   "execution_count": 17,
   "id": "811fc21a",
   "metadata": {
    "execution": {
     "iopub.execute_input": "2023-01-02T12:48:07.972168Z",
     "iopub.status.busy": "2023-01-02T12:48:07.971795Z",
     "iopub.status.idle": "2023-01-02T12:48:07.985145Z",
     "shell.execute_reply": "2023-01-02T12:48:07.984139Z",
     "shell.execute_reply.started": "2023-01-02T12:48:07.972132Z"
    }
   },
   "outputs": [],
   "source": [
    "# Compiling the model\n",
    "model.compile(loss='binary_crossentropy',\n",
    "              optimizer=\"adam\",\n",
    "              metrics=['accuracy'])"
   ]
  },
  {
   "cell_type": "code",
   "execution_count": 18,
   "id": "6ffb9385",
   "metadata": {
    "execution": {
     "iopub.execute_input": "2023-01-02T12:48:07.988350Z",
     "iopub.status.busy": "2023-01-02T12:48:07.988059Z",
     "iopub.status.idle": "2023-01-02T12:48:07.992895Z",
     "shell.execute_reply": "2023-01-02T12:48:07.991799Z",
     "shell.execute_reply.started": "2023-01-02T12:48:07.988325Z"
    }
   },
   "outputs": [],
   "source": [
    "# Settinp up callbacks to monitor the learning rate and stop the training early when validation accuracy stops improving (with a patience of 5 epochs) \n",
    "callbacks = [ReduceLROnPlateau(monitor='val_loss', patience=5, cooldown=0),\n",
    "              EarlyStopping(monitor='val_accuracy', min_delta=1e-4, patience=5)]"
   ]
  },
  {
   "cell_type": "code",
   "execution_count": 19,
   "id": "4ca4b74f",
   "metadata": {
    "execution": {
     "iopub.execute_input": "2023-01-02T12:48:07.994725Z",
     "iopub.status.busy": "2023-01-02T12:48:07.994269Z",
     "iopub.status.idle": "2023-01-02T14:13:09.547884Z",
     "shell.execute_reply": "2023-01-02T14:13:09.547007Z",
     "shell.execute_reply.started": "2023-01-02T12:48:07.994691Z"
    }
   },
   "outputs": [
    {
     "name": "stderr",
     "output_type": "stream",
     "text": [
      "2023-01-02 12:48:08.388492: I tensorflow/compiler/mlir/mlir_graph_optimization_pass.cc:185] None of the MLIR Optimization Passes are enabled (registered 2)\n"
     ]
    },
    {
     "name": "stdout",
     "output_type": "stream",
     "text": [
      "Epoch 1/32\n",
      "318/318 [==============================] - 370s 1s/step - loss: 0.1692 - accuracy: 0.9407 - val_loss: 0.1418 - val_accuracy: 0.9508\n",
      "Epoch 2/32\n",
      "318/318 [==============================] - 358s 1s/step - loss: 0.1363 - accuracy: 0.9496 - val_loss: 0.1337 - val_accuracy: 0.9515\n",
      "Epoch 3/32\n",
      "318/318 [==============================] - 363s 1s/step - loss: 0.1320 - accuracy: 0.9503 - val_loss: 0.1298 - val_accuracy: 0.9511\n",
      "Epoch 4/32\n",
      "318/318 [==============================] - 365s 1s/step - loss: 0.1425 - accuracy: 0.9467 - val_loss: 0.1312 - val_accuracy: 0.9511\n",
      "Epoch 5/32\n",
      "318/318 [==============================] - 365s 1s/step - loss: 0.1304 - accuracy: 0.9508 - val_loss: 0.1313 - val_accuracy: 0.9516\n",
      "Epoch 6/32\n",
      "318/318 [==============================] - 363s 1s/step - loss: 0.1281 - accuracy: 0.9517 - val_loss: 0.1303 - val_accuracy: 0.9523\n",
      "Epoch 7/32\n",
      "318/318 [==============================] - 364s 1s/step - loss: 0.1270 - accuracy: 0.9520 - val_loss: 0.1306 - val_accuracy: 0.9524\n",
      "Epoch 8/32\n",
      "318/318 [==============================] - 363s 1s/step - loss: 0.1257 - accuracy: 0.9526 - val_loss: 0.1301 - val_accuracy: 0.9522\n",
      "Epoch 9/32\n",
      "318/318 [==============================] - 364s 1s/step - loss: 0.1244 - accuracy: 0.9528 - val_loss: 0.1291 - val_accuracy: 0.9525\n",
      "Epoch 10/32\n",
      "318/318 [==============================] - 365s 1s/step - loss: 0.1239 - accuracy: 0.9531 - val_loss: 0.1284 - val_accuracy: 0.9524\n",
      "Epoch 11/32\n",
      "318/318 [==============================] - 363s 1s/step - loss: 0.1241 - accuracy: 0.9530 - val_loss: 0.1288 - val_accuracy: 0.9526\n",
      "Epoch 12/32\n",
      "318/318 [==============================] - 365s 1s/step - loss: 0.1235 - accuracy: 0.9532 - val_loss: 0.1286 - val_accuracy: 0.9524\n",
      "Epoch 13/32\n",
      "318/318 [==============================] - 365s 1s/step - loss: 0.1235 - accuracy: 0.9531 - val_loss: 0.1284 - val_accuracy: 0.9524\n",
      "Epoch 14/32\n",
      "318/318 [==============================] - 366s 1s/step - loss: 0.1226 - accuracy: 0.9535 - val_loss: 0.1289 - val_accuracy: 0.9524\n",
      "CPU times: user 1h 59min 1s, sys: 16min 10s, total: 2h 15min 11s\n",
      "Wall time: 1h 25min 1s\n"
     ]
    }
   ],
   "source": [
    "# Training the LSTM model\n",
    "%%time\n",
    "history = model.fit(rev_train, sent_train,\n",
    "                    batch_size=1024,\n",
    "                    epochs=32,\n",
    "                    validation_split=0.1,\n",
    "                    verbose=1,\n",
    "                    callbacks=callbacks)"
   ]
  },
  {
   "cell_type": "code",
   "execution_count": 20,
   "id": "572bf8ee",
   "metadata": {
    "execution": {
     "iopub.execute_input": "2023-01-02T14:13:09.549845Z",
     "iopub.status.busy": "2023-01-02T14:13:09.549499Z",
     "iopub.status.idle": "2023-01-02T14:13:21.738460Z",
     "shell.execute_reply": "2023-01-02T14:13:21.737393Z",
     "shell.execute_reply.started": "2023-01-02T14:13:09.549810Z"
    }
   },
   "outputs": [
    {
     "name": "stdout",
     "output_type": "stream",
     "text": [
      "152/152 [==============================] - 12s 79ms/step - loss: 0.1264 - accuracy: 0.9529\n",
      "\n",
      "ACCURACY: 0.9528767466545105\n",
      "LOSS: 0.12642861902713776\n",
      "CPU times: user 10.9 s, sys: 573 ms, total: 11.5 s\n",
      "Wall time: 12.2 s\n"
     ]
    }
   ],
   "source": [
    "# Evaluating our LSTM model on test set\n",
    "%%time\n",
    "score = model.evaluate(rev_test, sent_test, batch_size=1024)\n",
    "print()\n",
    "print(\"ACCURACY:\",score[1])\n",
    "print(\"LOSS:\",score[0])"
   ]
  },
  {
   "cell_type": "code",
   "execution_count": 21,
   "id": "dae82a45",
   "metadata": {
    "execution": {
     "iopub.execute_input": "2023-01-02T14:13:21.740300Z",
     "iopub.status.busy": "2023-01-02T14:13:21.739837Z",
     "iopub.status.idle": "2023-01-02T14:13:21.746938Z",
     "shell.execute_reply": "2023-01-02T14:13:21.745877Z",
     "shell.execute_reply.started": "2023-01-02T14:13:21.740263Z"
    }
   },
   "outputs": [],
   "source": [
    "def predict(text):\n",
    "    # Tokenize text\n",
    "    x_test = pad_sequences(tokenizer.texts_to_sequences([text]), maxlen=300)\n",
    "    # Predict\n",
    "    score = model.predict([x_test])[0]\n",
    "    return float(score)"
   ]
  },
  {
   "cell_type": "code",
   "execution_count": 22,
   "id": "840deaa8",
   "metadata": {
    "execution": {
     "iopub.execute_input": "2023-01-02T14:13:21.749264Z",
     "iopub.status.busy": "2023-01-02T14:13:21.748433Z",
     "iopub.status.idle": "2023-01-02T14:18:44.405013Z",
     "shell.execute_reply": "2023-01-02T14:18:44.404148Z",
     "shell.execute_reply.started": "2023-01-02T14:13:21.749227Z"
    }
   },
   "outputs": [
    {
     "data": {
      "image/png": "[encoded data removed]",
      "text/plain": [
       "<Figure size 1080x720 with 1 Axes>"
      ]
     },
     "metadata": {},
     "output_type": "display_data"
    }
   ],
   "source": [
    "# Plot the receiver operating characteristic (ROC curve) of our model\n",
    "from sklearn.metrics import roc_curve, auc, roc_auc_score\n",
    "import matplotlib.pyplot as plt\n",
    "\n",
    "sent_pred = model.predict(rev_test)\n",
    "fpr, tpr, thresholds = roc_curve(sent_test, sent_pred, pos_label = 1)\n",
    "\n",
    "roc_auc = auc(fpr, tpr)\n",
    "\n",
    "plt.figure(1, figsize = (15, 10))\n",
    "lw = 2\n",
    "plt.plot(fpr, tpr, color='darkorange',\n",
    "         lw=lw, label='ROC curve (area = %0.2f)' % roc_auc)\n",
    "plt.plot([0, 1], [0, 1], lw=lw, linestyle='--')\n",
    "plt.xlim([0.0, 1.0])\n",
    "plt.ylim([0.0, 1.0])\n",
    "plt.xlabel('False Positive Rate')\n",
    "plt.ylabel('True Positive Rate')\n",
    "plt.title('Receiver operating characteristic example')\n",
    "plt.legend(loc=\"lower right\")\n",
    "plt.show()"
   ]
  },
  {
   "cell_type": "code",
   "execution_count": 27,
   "id": "b359a571",
   "metadata": {
    "execution": {
     "iopub.execute_input": "2023-01-02T14:20:21.476711Z",
     "iopub.status.busy": "2023-01-02T14:20:21.476341Z",
     "iopub.status.idle": "2023-01-02T14:20:21.986800Z",
     "shell.execute_reply": "2023-01-02T14:20:21.985442Z",
     "shell.execute_reply.started": "2023-01-02T14:20:21.476680Z"
    }
   },
   "outputs": [
    {
     "data": {
      "text/plain": [
       "Text(0.5, 1.0, '2-class Precision-Recall curve: AP=0.59')"
      ]
     },
     "execution_count": 27,
     "metadata": {},
     "output_type": "execute_result"
    },
    {
     "data": {
      "image/png": "[encoded data removed]",
      "text/plain": [
       "<Figure size 1080x720 with 1 Axes>"
      ]
     },
     "metadata": {},
     "output_type": "display_data"
    }
   ],
   "source": [
    "# Plot the Precision-Recall (PR) curve for our model\n",
    "# The PR curve allows a better evaluation of our model contrary to the ROC curve which is biased by the imbalance of our dataset (~95% positive reviews)\n",
    "from sklearn.metrics import average_precision_score, precision_recall_curve\n",
    "\n",
    "average_precision = average_precision_score(1-sent_test, 1-sent_pred)\n",
    "\n",
    "precision, recall, _ = precision_recall_curve(1-sent_test, 1-sent_pred)\n",
    "\n",
    "# In matplotlib < 1.5, plt.fill_between does not have a 'step' argument\n",
    "step_kwargs = ({'step': 'post'})\n",
    "\n",
    "plt.figure(1, figsize = (15, 10))\n",
    "plt.step(recall, precision, color='b', alpha=0.2,\n",
    "         where='post')\n",
    "plt.fill_between(recall, precision, alpha=0.2, color='b', **step_kwargs)\n",
    "\n",
    "plt.xlabel('Recall')\n",
    "plt.ylabel('Precision')\n",
    "plt.ylim([0.0, 1.05])\n",
    "plt.xlim([0.0, 1.0])\n",
    "plt.title('2-class Precision-Recall curve: AP={0:0.2f}'.format(average_precision))"
   ]
  },
  {
   "cell_type": "code",
   "execution_count": 35,
   "id": "8e7feb71",
   "metadata": {
    "execution": {
     "iopub.execute_input": "2023-01-02T14:47:21.234183Z",
     "iopub.status.busy": "2023-01-02T14:47:21.233523Z",
     "iopub.status.idle": "2023-01-02T14:47:21.434116Z",
     "shell.execute_reply": "2023-01-02T14:47:21.433140Z",
     "shell.execute_reply.started": "2023-01-02T14:47:21.234145Z"
    }
   },
   "outputs": [],
   "source": [
    "# Saving the LSTM model in h5 format for later use\n",
    "model.save('model.h5')"
   ]
  },
  {
   "cell_type": "code",
   "execution_count": 38,
   "id": "b1d0078f",
   "metadata": {
    "execution": {
     "iopub.execute_input": "2023-01-02T14:53:36.000523Z",
     "iopub.status.busy": "2023-01-02T14:53:35.999542Z",
     "iopub.status.idle": "2023-01-02T14:53:36.065313Z",
     "shell.execute_reply": "2023-01-02T14:53:36.064408Z",
     "shell.execute_reply.started": "2023-01-02T14:53:36.000479Z"
    }
   },
   "outputs": [],
   "source": [
    "# Also saving the tokenizer\n",
    "with open('tokenizer.pickle', 'wb') as handle:\n",
    "    pickle.dump(tokenizer, handle, protocol=pickle.HIGHEST_PROTOCOL)"
   ]
  },
  {
   "cell_type": "markdown",
   "id": "65b03352-4ba8-4d98-a0ce-2f7ed01b8286",
   "metadata": {},
   "source": [
    "<a class=\"anchor\"></a>\n",
    "<div style=\"border: 1px RGB(119, 150, 203);\" >\n",
    "    <h3 style=\"margin: auto; padding: 20px; color: RGB(119, 150, 203); \"> LSTM test</h3>\n",
    "</div>"
   ]
  },
  {
   "cell_type": "code",
   "execution_count": 1,
   "id": "9c7097c1",
   "metadata": {},
   "outputs": [],
   "source": [
    "import pandas as pd\n",
    "import nltk\n",
    "import re"
   ]
  },
  {
   "cell_type": "code",
   "execution_count": null,
   "id": "2b82a99f",
   "metadata": {},
   "outputs": [],
   "source": [
    "#nltk.download('stopwords')\n",
    "stop = stopwords.words('english')"
   ]
  },
  {
   "cell_type": "code",
   "execution_count": null,
   "id": "d16bb6b1",
   "metadata": {},
   "outputs": [],
   "source": [
    "df = pd.read_excel('reviews_target.xlsx')"
   ]
  },
  {
   "cell_type": "code",
   "execution_count": null,
   "id": "c864d968",
   "metadata": {},
   "outputs": [],
   "source": [
    "df['review'] = df['review'].apply(lambda x: \" \".join([token for token in re.sub('[^A-Za-z0-9\\s]','', x).strip().split() if token not in stop]))"
   ]
  },
  {
   "cell_type": "code",
   "execution_count": null,
   "id": "0d05e4e7",
   "metadata": {},
   "outputs": [],
   "source": [
    "import tensorflow as tf\n",
    "l_model = tf.keras.models.load_model('model.h5')"
   ]
  },
  {
   "cell_type": "code",
   "execution_count": null,
   "id": "6e3f8a53",
   "metadata": {},
   "outputs": [],
   "source": [
    "import pickle\n",
    "with open('tokenizer.pickle', 'rb') as handle:\n",
    "    tokenizer = pickle.load(handle)"
   ]
  },
  {
   "cell_type": "code",
   "execution_count": null,
   "id": "c8c9b7d0",
   "metadata": {},
   "outputs": [],
   "source": [
    "df['lstm_pred'] = df['review'].apply(lambda x:  l_model.predict(pad_sequences(tokenizer.texts_to_sequences([x]), maxlen=300))[0][0])"
   ]
  },
  {
   "cell_type": "code",
   "execution_count": null,
   "id": "02ddb105",
   "metadata": {},
   "outputs": [],
   "source": [
    "df.to_excel('reviews_lstm.xlsx', index=False)"
   ]
  },
  {
   "cell_type": "code",
   "execution_count": null,
   "id": "ea288126-6f51-43a5-879b-04758fb4fa2b",
   "metadata": {},
   "outputs": [],
   "source": [
    "reviews_lstm = pd.read_excel('reviews_lstm.xlsx')"
   ]
  },
  {
   "cell_type": "code",
   "execution_count": null,
   "id": "7fffb11a-9f52-494a-be70-07413556c8d4",
   "metadata": {},
   "outputs": [],
   "source": [
    "reviews_lstm.head(5)"
   ]
  },
  {
   "cell_type": "markdown",
   "id": "bc076410",
   "metadata": {},
   "source": [
    "<a class=\"anchor\" id=\"section_3_1_3\"></a>\n",
    "<div style=\"border: 1px dashed RGB(119, 150, 203);\" >\n",
    "    <h3 style=\"margin: auto; padding: 20px; color: RGB(119, 150, 203); \">3.1.3. Bidirectional Encoder Representations from Transformers (BERT)</h3>\n",
    "</div>"
   ]
  },
  {
   "cell_type": "markdown",
   "id": "11e789fb",
   "metadata": {},
   "source": [
    "Comme dit précédemment dans la partie 1.5, **BERT** est un modèle de traitement du langage naturel développé par Google en 2018. C'est un modèle de \"transfert de connaissances\" qui a été pré-entraîné sur un grand corpus de textes en utilisant une technique appelée \"masking language modeling\" (MLM). Lorsqu'il est utilisé pour accomplir une tâche spécifique, comme la classification de texte ou la génération de réponses, BERT peut être finement ajusté en utilisant un jeu de données d'entraînement pour la tâche en question. Il est conçu pour prédire une information manquante dans un texte en utilisant le contexte de ce texte. BERT est donc particulièrement utile pour les tâches de classification de texte, comme l'analyse de sentiments, car il peut prendre en compte le sens des mots dans leur contexte et non simplement en se basant sur leur signification individuelle. Contrairement à ses prédécesseurs BERT a une meilleure compréhension du contexte et est donc plus performant sur de nombreuses tâches de traitement du langage naturel."
   ]
  },
  {
   "cell_type": "markdown",
   "id": "cf40d0c4-269b-4547-836b-0d4d2cf3b966",
   "metadata": {},
   "source": [
    "#### Install dependecies and necessary libraries"
   ]
  },
  {
   "cell_type": "code",
   "execution_count": 1,
   "id": "1f12b53c-667e-476a-8ee5-e7a7b8426548",
   "metadata": {
    "_cell_guid": "b1076dfc-b9ad-4769-8c92-a6c4dae69d19",
    "_uuid": "8f2839f25d086af736a60e9eeb907d3b93b6e0e5",
    "execution": {
     "iopub.execute_input": "2023-01-02T13:55:52.531982Z",
     "iopub.status.busy": "2023-01-02T13:55:52.531346Z",
     "iopub.status.idle": "2023-01-02T13:55:52.565952Z",
     "shell.execute_reply": "2023-01-02T13:55:52.564988Z",
     "shell.execute_reply.started": "2023-01-02T13:55:52.531877Z"
    }
   },
   "outputs": [
    {
     "name": "stdout",
     "output_type": "stream",
     "text": [
      "/kaggle/input/bert-model/bert_model_.pth\n",
      "/kaggle/input/model-bert/best_model_state.bin\n",
      "/kaggle/input/reviews-target/reviews_target.xlsx\n"
     ]
    }
   ],
   "source": [
    "# This Python 3 environment comes with many helpful analytics libraries installed\n",
    "# It is defined by the kaggle/python Docker image: https://github.com/kaggle/docker-python\n",
    "# For example, here's several helpful packages to load\n",
    "\n",
    "import numpy as np # linear algebra\n",
    "import pandas as pd # data processing, CSV file I/O (e.g. pd.read_csv)\n",
    "\n",
    "# Input data files are available in the read-only \"../input/\" directory\n",
    "# For example, running this (by clicking run or pressing Shift+Enter) will list all files under the input directory\n",
    "\n",
    "import os\n",
    "for dirname, _, filenames in os.walk('/kaggle/input'):\n",
    "    for filename in filenames:\n",
    "        print(os.path.join(dirname, filename))\n",
    "\n",
    "# You can write up to 20GB to the current directory (/kaggle/working/) that gets preserved as output when you create a version using \"Save & Run All\" \n",
    "# You can also write temporary files to /kaggle/temp/, but they won't be saved outside of the current session"
   ]
  },
  {
   "cell_type": "code",
   "execution_count": 2,
   "id": "b62c9650-210c-4948-9093-6305e77ddd95",
   "metadata": {
    "execution": {
     "iopub.execute_input": "2023-01-02T05:49:33.328071Z",
     "iopub.status.busy": "2023-01-02T05:49:33.327470Z",
     "iopub.status.idle": "2023-01-02T05:49:45.265827Z",
     "shell.execute_reply": "2023-01-02T05:49:45.264451Z",
     "shell.execute_reply.started": "2023-01-02T05:49:33.328037Z"
    }
   },
   "outputs": [],
   "source": [
    "# !pip install -qq transformers"
   ]
  },
  {
   "cell_type": "code",
   "execution_count": 3,
   "id": "075498fc-01f9-47f6-84ce-2a8a8b07568d",
   "metadata": {
    "execution": {
     "iopub.execute_input": "2023-01-02T05:49:45.270698Z",
     "iopub.status.busy": "2023-01-02T05:49:45.269024Z",
     "iopub.status.idle": "2023-01-02T05:49:55.192119Z",
     "shell.execute_reply": "2023-01-02T05:49:55.190755Z",
     "shell.execute_reply.started": "2023-01-02T05:49:45.270653Z"
    }
   },
   "outputs": [
    {
     "name": "stdout",
     "output_type": "stream",
     "text": [
      "Collecting watermark\n",
      "  Downloading watermark-2.3.1-py2.py3-none-any.whl (7.2 kB)\n",
      "Requirement already satisfied: importlib-metadata>=1.4 in /opt/conda/lib/python3.7/site-packages (from watermark) (4.13.0)\n",
      "Requirement already satisfied: ipython in /opt/conda/lib/python3.7/site-packages (from watermark) (7.33.0)\n",
      "Requirement already satisfied: typing-extensions>=3.6.4 in /opt/conda/lib/python3.7/site-packages (from importlib-metadata>=1.4->watermark) (4.1.1)\n",
      "Requirement already satisfied: zipp>=0.5 in /opt/conda/lib/python3.7/site-packages (from importlib-metadata>=1.4->watermark) (3.8.0)\n",
      "Requirement already satisfied: traitlets>=4.2 in /opt/conda/lib/python3.7/site-packages (from ipython->watermark) (5.3.0)\n",
      "Requirement already satisfied: prompt-toolkit!=3.0.0,!=3.0.1,<3.1.0,>=2.0.0 in /opt/conda/lib/python3.7/site-packages (from ipython->watermark) (3.0.30)\n",
      "Requirement already satisfied: matplotlib-inline in /opt/conda/lib/python3.7/site-packages (from ipython->watermark) (0.1.3)\n",
      "Requirement already satisfied: backcall in /opt/conda/lib/python3.7/site-packages (from ipython->watermark) (0.2.0)\n",
      "Requirement already satisfied: jedi>=0.16 in /opt/conda/lib/python3.7/site-packages (from ipython->watermark) (0.18.1)\n",
      "Requirement already satisfied: decorator in /opt/conda/lib/python3.7/site-packages (from ipython->watermark) (5.1.1)\n",
      "Requirement already satisfied: pygments in /opt/conda/lib/python3.7/site-packages (from ipython->watermark) (2.12.0)\n",
      "Requirement already satisfied: setuptools>=18.5 in /opt/conda/lib/python3.7/site-packages (from ipython->watermark) (59.8.0)\n",
      "Requirement already satisfied: pexpect>4.3 in /opt/conda/lib/python3.7/site-packages (from ipython->watermark) (4.8.0)\n",
      "Requirement already satisfied: pickleshare in /opt/conda/lib/python3.7/site-packages (from ipython->watermark) (0.7.5)\n",
      "Requirement already satisfied: parso<0.9.0,>=0.8.0 in /opt/conda/lib/python3.7/site-packages (from jedi>=0.16->ipython->watermark) (0.8.3)\n",
      "Requirement already satisfied: ptyprocess>=0.5 in /opt/conda/lib/python3.7/site-packages (from pexpect>4.3->ipython->watermark) (0.7.0)\n",
      "Requirement already satisfied: wcwidth in /opt/conda/lib/python3.7/site-packages (from prompt-toolkit!=3.0.0,!=3.0.1,<3.1.0,>=2.0.0->ipython->watermark) (0.2.5)\n",
      "Installing collected packages: watermark\n",
      "Successfully installed watermark-2.3.1\n",
      "\u001b[33mWARNING: Running pip as the 'root' user can result in broken permissions and conflicting behaviour with the system package manager. It is recommended to use a virtual environment instead: https://pip.pypa.io/warnings/venv\u001b[0m\u001b[33m\n",
      "\u001b[0mNote: you may need to restart the kernel to use updated packages.\n"
     ]
    }
   ],
   "source": [
    "# pip install watermark"
   ]
  },
  {
   "cell_type": "code",
   "execution_count": 4,
   "id": "4ad0eecd-81b4-419f-97be-19a6f5d1c496",
   "metadata": {
    "execution": {
     "iopub.execute_input": "2023-01-02T05:49:55.194719Z",
     "iopub.status.busy": "2023-01-02T05:49:55.194301Z",
     "iopub.status.idle": "2023-01-02T05:49:57.062666Z",
     "shell.execute_reply": "2023-01-02T05:49:57.061704Z",
     "shell.execute_reply.started": "2023-01-02T05:49:55.194673Z"
    }
   },
   "outputs": [
    {
     "name": "stdout",
     "output_type": "stream",
     "text": [
      "Python implementation: CPython\n",
      "Python version       : 3.7.12\n",
      "IPython version      : 7.33.0\n",
      "\n",
      "numpy       : 1.21.6\n",
      "pandas      : 1.3.5\n",
      "torch       : 1.11.0\n",
      "transformers: 4.20.1\n",
      "\n"
     ]
    }
   ],
   "source": [
    "%reload_ext watermark\n",
    "%watermark -v -p numpy,pandas,torch,transformers"
   ]
  },
  {
   "cell_type": "code",
   "execution_count": 4,
   "id": "142b64fc-fa47-42bf-8090-cfb602955da0",
   "metadata": {
    "execution": {
     "iopub.execute_input": "2023-01-02T13:58:24.260151Z",
     "iopub.status.busy": "2023-01-02T13:58:24.259801Z",
     "iopub.status.idle": "2023-01-02T13:58:29.870876Z",
     "shell.execute_reply": "2023-01-02T13:58:29.869814Z",
     "shell.execute_reply.started": "2023-01-02T13:58:24.260119Z"
    }
   },
   "outputs": [],
   "source": [
    "import transformers\n",
    "from transformers import BertModel, BertTokenizer, AdamW, get_linear_schedule_with_warmup\n",
    "import torch"
   ]
  },
  {
   "cell_type": "code",
   "execution_count": 6,
   "id": "dc81720d-f055-481e-bbbb-f6ef186387b9",
   "metadata": {
    "execution": {
     "iopub.execute_input": "2023-01-02T13:58:31.599155Z",
     "iopub.status.busy": "2023-01-02T13:58:31.598797Z",
     "iopub.status.idle": "2023-01-02T13:58:31.604790Z",
     "shell.execute_reply": "2023-01-02T13:58:31.603799Z",
     "shell.execute_reply.started": "2023-01-02T13:58:31.599124Z"
    }
   },
   "outputs": [],
   "source": [
    "import numpy as np\n",
    "import pandas as pd\n",
    "import seaborn as sns\n",
    "from pylab import rcParams\n",
    "import matplotlib.pyplot as plt\n",
    "from matplotlib import rc\n",
    "from sklearn.model_selection import train_test_split\n",
    "from sklearn.metrics import confusion_matrix, classification_report\n",
    "from collections import defaultdict\n",
    "from textwrap import wrap\n",
    "from torch import nn, optim\n",
    "from torch.utils.data import Dataset, DataLoader"
   ]
  },
  {
   "cell_type": "code",
   "execution_count": 7,
   "id": "f91b801f-3468-4c98-b97b-6788fbb27fa1",
   "metadata": {
    "execution": {
     "iopub.execute_input": "2023-01-02T13:58:32.637055Z",
     "iopub.status.busy": "2023-01-02T13:58:32.636086Z",
     "iopub.status.idle": "2023-01-02T13:58:32.653458Z",
     "shell.execute_reply": "2023-01-02T13:58:32.652468Z",
     "shell.execute_reply.started": "2023-01-02T13:58:32.637008Z"
    }
   },
   "outputs": [],
   "source": [
    "%matplotlib inline\n",
    "%config InlineBackend.figure_format='retina'"
   ]
  },
  {
   "cell_type": "code",
   "execution_count": 22,
   "id": "437bedd5-b73c-4f8b-8ca6-493aa2779d5a",
   "metadata": {
    "execution": {
     "iopub.execute_input": "2023-01-02T10:05:53.119259Z",
     "iopub.status.busy": "2023-01-02T10:05:53.118779Z",
     "iopub.status.idle": "2023-01-02T10:05:53.131462Z",
     "shell.execute_reply": "2023-01-02T10:05:53.130124Z",
     "shell.execute_reply.started": "2023-01-02T10:05:53.119207Z"
    }
   },
   "outputs": [],
   "source": [
    "sns.set(style='whitegrid', palette='muted', font_scale=1.2)"
   ]
  },
  {
   "cell_type": "code",
   "execution_count": 23,
   "id": "d1a06e94-fc4e-46f5-ac9a-fb9d1cd71139",
   "metadata": {
    "execution": {
     "iopub.execute_input": "2023-01-02T10:05:53.859189Z",
     "iopub.status.busy": "2023-01-02T10:05:53.858231Z",
     "iopub.status.idle": "2023-01-02T10:05:53.866006Z",
     "shell.execute_reply": "2023-01-02T10:05:53.864986Z",
     "shell.execute_reply.started": "2023-01-02T10:05:53.859151Z"
    }
   },
   "outputs": [],
   "source": [
    "HAPPY_COLORS_PALETTE = [\"#01BEFE\", \"#FFDD00\", \"#FF7D00\", \"#FF006D\", \"#ADFF02\", \"#8F00FF\"]\n",
    "sns.set_palette(sns.color_palette(HAPPY_COLORS_PALETTE))"
   ]
  },
  {
   "cell_type": "code",
   "execution_count": 24,
   "id": "b49c92b1-0412-4561-bac7-3a1b03ffc41d",
   "metadata": {
    "execution": {
     "iopub.execute_input": "2023-01-02T10:05:54.760690Z",
     "iopub.status.busy": "2023-01-02T10:05:54.760297Z",
     "iopub.status.idle": "2023-01-02T10:05:54.827663Z",
     "shell.execute_reply": "2023-01-02T10:05:54.826722Z",
     "shell.execute_reply.started": "2023-01-02T10:05:54.760660Z"
    }
   },
   "outputs": [],
   "source": [
    "rcParams['figure.figsize'] = 12, 8\n",
    "RANDOM_SEED = 42\n",
    "np.random.seed(RANDOM_SEED)\n",
    "torch.manual_seed(RANDOM_SEED)\n",
    "device = torch.device(\"cuda:0\" if torch.cuda.is_available() else \"cpu\")"
   ]
  },
  {
   "cell_type": "markdown",
   "id": "89827012-4f96-4edd-a0cf-79dc1cfb078e",
   "metadata": {},
   "source": [
    "#### Importing dataset"
   ]
  },
  {
   "cell_type": "code",
   "execution_count": 25,
   "id": "45246649-36ba-4819-a7de-0d29d65bc2a3",
   "metadata": {
    "execution": {
     "iopub.execute_input": "2023-01-02T10:05:55.537882Z",
     "iopub.status.busy": "2023-01-02T10:05:55.536871Z",
     "iopub.status.idle": "2023-01-02T10:05:57.792608Z",
     "shell.execute_reply": "2023-01-02T10:05:57.791475Z",
     "shell.execute_reply.started": "2023-01-02T10:05:55.537824Z"
    }
   },
   "outputs": [
    {
     "data": {
      "text/html": [
       "<div>\n",
       "<style scoped>\n",
       "    .dataframe tbody tr th:only-of-type {\n",
       "        vertical-align: middle;\n",
       "    }\n",
       "\n",
       "    .dataframe tbody tr th {\n",
       "        vertical-align: top;\n",
       "    }\n",
       "\n",
       "    .dataframe thead th {\n",
       "        text-align: right;\n",
       "    }\n",
       "</style>\n",
       "<table border=\"1\" class=\"dataframe\">\n",
       "  <thead>\n",
       "    <tr style=\"text-align: right;\">\n",
       "      <th></th>\n",
       "      <th>title</th>\n",
       "      <th>review</th>\n",
       "      <th>rate</th>\n",
       "      <th>date</th>\n",
       "      <th>type</th>\n",
       "      <th>r_neg</th>\n",
       "      <th>r_neu</th>\n",
       "      <th>r_pos</th>\n",
       "      <th>t_neg</th>\n",
       "      <th>t_neu</th>\n",
       "      <th>t_pos</th>\n",
       "      <th>target</th>\n",
       "      <th>score</th>\n",
       "    </tr>\n",
       "  </thead>\n",
       "  <tbody>\n",
       "    <tr>\n",
       "      <th>0</th>\n",
       "      <td>small room but okey</td>\n",
       "      <td>this hotel has the smallest room, and we have ...</td>\n",
       "      <td>4</td>\n",
       "      <td>2022-11-01</td>\n",
       "      <td>couple</td>\n",
       "      <td>0.002249</td>\n",
       "      <td>0.036023</td>\n",
       "      <td>0.961728</td>\n",
       "      <td>0.096072</td>\n",
       "      <td>0.793380</td>\n",
       "      <td>0.110547</td>\n",
       "      <td>1</td>\n",
       "      <td>0.961728</td>\n",
       "    </tr>\n",
       "    <tr>\n",
       "      <th>1</th>\n",
       "      <td>great location, great staff</td>\n",
       "      <td>great location and simple but clean ammenities...</td>\n",
       "      <td>5</td>\n",
       "      <td>2022-10-01</td>\n",
       "      <td>business</td>\n",
       "      <td>0.001657</td>\n",
       "      <td>0.013658</td>\n",
       "      <td>0.984685</td>\n",
       "      <td>0.003723</td>\n",
       "      <td>0.035624</td>\n",
       "      <td>0.960653</td>\n",
       "      <td>1</td>\n",
       "      <td>0.984685</td>\n",
       "    </tr>\n",
       "    <tr>\n",
       "      <th>2</th>\n",
       "      <td>dont stay in this hotel unless you would like ...</td>\n",
       "      <td>don't stay in this hotel unless you would like...</td>\n",
       "      <td>1</td>\n",
       "      <td>2022-10-01</td>\n",
       "      <td>NAN</td>\n",
       "      <td>0.811276</td>\n",
       "      <td>0.163842</td>\n",
       "      <td>0.024882</td>\n",
       "      <td>0.666713</td>\n",
       "      <td>0.321159</td>\n",
       "      <td>0.012128</td>\n",
       "      <td>-1</td>\n",
       "      <td>0.811276</td>\n",
       "    </tr>\n",
       "    <tr>\n",
       "      <th>3</th>\n",
       "      <td>waste of money</td>\n",
       "      <td>not worth it. better rooms available for this ...</td>\n",
       "      <td>1</td>\n",
       "      <td>2022-09-01</td>\n",
       "      <td>NAN</td>\n",
       "      <td>0.854073</td>\n",
       "      <td>0.122230</td>\n",
       "      <td>0.023698</td>\n",
       "      <td>0.885921</td>\n",
       "      <td>0.100440</td>\n",
       "      <td>0.013639</td>\n",
       "      <td>-1</td>\n",
       "      <td>0.854073</td>\n",
       "    </tr>\n",
       "    <tr>\n",
       "      <th>4</th>\n",
       "      <td>pre-autorisation money has not been refunded</td>\n",
       "      <td>ibis paris tour eiffel cambronne charged my de...</td>\n",
       "      <td>3</td>\n",
       "      <td>2022-10-01</td>\n",
       "      <td>couple</td>\n",
       "      <td>0.782589</td>\n",
       "      <td>0.201761</td>\n",
       "      <td>0.015650</td>\n",
       "      <td>0.651665</td>\n",
       "      <td>0.336654</td>\n",
       "      <td>0.011681</td>\n",
       "      <td>-1</td>\n",
       "      <td>0.782589</td>\n",
       "    </tr>\n",
       "  </tbody>\n",
       "</table>\n",
       "</div>"
      ],
      "text/plain": [
       "                                               title  \\\n",
       "0                                small room but okey   \n",
       "1                        great location, great staff   \n",
       "2  dont stay in this hotel unless you would like ...   \n",
       "3                                     waste of money   \n",
       "4       pre-autorisation money has not been refunded   \n",
       "\n",
       "                                              review  rate       date  \\\n",
       "0  this hotel has the smallest room, and we have ...     4 2022-11-01   \n",
       "1  great location and simple but clean ammenities...     5 2022-10-01   \n",
       "2  don't stay in this hotel unless you would like...     1 2022-10-01   \n",
       "3  not worth it. better rooms available for this ...     1 2022-09-01   \n",
       "4  ibis paris tour eiffel cambronne charged my de...     3 2022-10-01   \n",
       "\n",
       "       type     r_neg     r_neu     r_pos     t_neg     t_neu     t_pos  \\\n",
       "0    couple  0.002249  0.036023  0.961728  0.096072  0.793380  0.110547   \n",
       "1  business  0.001657  0.013658  0.984685  0.003723  0.035624  0.960653   \n",
       "2       NAN  0.811276  0.163842  0.024882  0.666713  0.321159  0.012128   \n",
       "3       NAN  0.854073  0.122230  0.023698  0.885921  0.100440  0.013639   \n",
       "4    couple  0.782589  0.201761  0.015650  0.651665  0.336654  0.011681   \n",
       "\n",
       "   target     score  \n",
       "0       1  0.961728  \n",
       "1       1  0.984685  \n",
       "2      -1  0.811276  \n",
       "3      -1  0.854073  \n",
       "4      -1  0.782589  "
      ]
     },
     "execution_count": 25,
     "metadata": {},
     "output_type": "execute_result"
    }
   ],
   "source": [
    "df=pd.read_excel('/kaggle/input/reviews-target/reviews_target.xlsx')\n",
    "df.head()"
   ]
  },
  {
   "cell_type": "markdown",
   "id": "0555e093-6cfa-478d-9341-b818980aa8bc",
   "metadata": {},
   "source": [
    "#### Importing pretrained bert uncased model and huggingface tokenizer"
   ]
  },
  {
   "cell_type": "code",
   "execution_count": 13,
   "id": "19cb7230-cec2-49b7-a648-33fc14889df5",
   "metadata": {
    "execution": {
     "iopub.execute_input": "2023-01-02T14:02:18.645846Z",
     "iopub.status.busy": "2023-01-02T14:02:18.645448Z",
     "iopub.status.idle": "2023-01-02T14:02:18.651004Z",
     "shell.execute_reply": "2023-01-02T14:02:18.649854Z",
     "shell.execute_reply.started": "2023-01-02T14:02:18.645815Z"
    }
   },
   "outputs": [],
   "source": [
    "PRE_TRAINED_MODEL_NAME = 'bert-base-cased'"
   ]
  },
  {
   "cell_type": "code",
   "execution_count": 27,
   "id": "95465bd3-704f-401c-a8ed-a179d125fe7b",
   "metadata": {
    "execution": {
     "iopub.execute_input": "2023-01-02T10:05:57.802843Z",
     "iopub.status.busy": "2023-01-02T10:05:57.802484Z",
     "iopub.status.idle": "2023-01-02T10:06:00.827755Z",
     "shell.execute_reply": "2023-01-02T10:06:00.826676Z",
     "shell.execute_reply.started": "2023-01-02T10:05:57.802808Z"
    }
   },
   "outputs": [
    {
     "data": {
      "application/vnd.jupyter.widget-view+json": {
       "model_id": "58f0e1dbed684f6ea7a4c64ec924dcf2",
       "version_major": 2,
       "version_minor": 0
      },
      "text/plain": [
       "Downloading:   0%|          | 0.00/208k [00:00<?, ?B/s]"
      ]
     },
     "metadata": {},
     "output_type": "display_data"
    },
    {
     "data": {
      "application/vnd.jupyter.widget-view+json": {
       "model_id": "d48c8797148343bdbb8a313992126a27",
       "version_major": 2,
       "version_minor": 0
      },
      "text/plain": [
       "Downloading:   0%|          | 0.00/29.0 [00:00<?, ?B/s]"
      ]
     },
     "metadata": {},
     "output_type": "display_data"
    },
    {
     "data": {
      "application/vnd.jupyter.widget-view+json": {
       "model_id": "e482730ae1ff46f58f3e08c5621e92db",
       "version_major": 2,
       "version_minor": 0
      },
      "text/plain": [
       "Downloading:   0%|          | 0.00/570 [00:00<?, ?B/s]"
      ]
     },
     "metadata": {},
     "output_type": "display_data"
    }
   ],
   "source": [
    "tokenizer = BertTokenizer.from_pretrained(PRE_TRAINED_MODEL_NAME)"
   ]
  },
  {
   "cell_type": "markdown",
   "id": "55de8e11-c610-4e67-a0b9-0c45bde93b64",
   "metadata": {},
   "source": [
    "Tokenization on a sample from the dataset to know how it works"
   ]
  },
  {
   "cell_type": "code",
   "execution_count": 28,
   "id": "3f47ed10-4257-4ef8-a5b5-294895017bf9",
   "metadata": {
    "execution": {
     "iopub.execute_input": "2023-01-02T10:06:00.830923Z",
     "iopub.status.busy": "2023-01-02T10:06:00.830460Z",
     "iopub.status.idle": "2023-01-02T10:06:00.835695Z",
     "shell.execute_reply": "2023-01-02T10:06:00.834552Z",
     "shell.execute_reply.started": "2023-01-02T10:06:00.830886Z"
    }
   },
   "outputs": [],
   "source": [
    "sample_txt = 'When was I last outside? I am stuck at home for 2 weeks.'"
   ]
  },
  {
   "cell_type": "code",
   "execution_count": 29,
   "id": "f78aeea3-15db-44d6-b801-46784c2625a2",
   "metadata": {
    "execution": {
     "iopub.execute_input": "2023-01-02T10:06:00.838238Z",
     "iopub.status.busy": "2023-01-02T10:06:00.837245Z",
     "iopub.status.idle": "2023-01-02T10:06:00.846985Z",
     "shell.execute_reply": "2023-01-02T10:06:00.846041Z",
     "shell.execute_reply.started": "2023-01-02T10:06:00.838197Z"
    }
   },
   "outputs": [],
   "source": [
    "tokens = tokenizer.tokenize(sample_txt)"
   ]
  },
  {
   "cell_type": "code",
   "execution_count": 30,
   "id": "a25b0f0d-e7f6-4389-8788-5dfc899dd5cf",
   "metadata": {
    "execution": {
     "iopub.execute_input": "2023-01-02T10:06:00.850297Z",
     "iopub.status.busy": "2023-01-02T10:06:00.849748Z",
     "iopub.status.idle": "2023-01-02T10:06:00.860212Z",
     "shell.execute_reply": "2023-01-02T10:06:00.859075Z",
     "shell.execute_reply.started": "2023-01-02T10:06:00.850271Z"
    }
   },
   "outputs": [
    {
     "data": {
      "text/plain": [
       "['When',\n",
       " 'was',\n",
       " 'I',\n",
       " 'last',\n",
       " 'outside',\n",
       " '?',\n",
       " 'I',\n",
       " 'am',\n",
       " 'stuck',\n",
       " 'at',\n",
       " 'home',\n",
       " 'for',\n",
       " '2',\n",
       " 'weeks',\n",
       " '.']"
      ]
     },
     "execution_count": 30,
     "metadata": {},
     "output_type": "execute_result"
    }
   ],
   "source": [
    "tokens"
   ]
  },
  {
   "cell_type": "markdown",
   "id": "f56efd56-4d02-4d27-adad-97e02aa05bc0",
   "metadata": {},
   "source": [
    "##### Method tokenizer.encode_plus does tokenizations and returns IDs of tokens and attention maskes (inputs for the bert model)"
   ]
  },
  {
   "cell_type": "code",
   "execution_count": 31,
   "id": "8068131f-d515-4d3e-b963-d4d1fe45a499",
   "metadata": {
    "execution": {
     "iopub.execute_input": "2023-01-02T10:06:00.862631Z",
     "iopub.status.busy": "2023-01-02T10:06:00.861862Z",
     "iopub.status.idle": "2023-01-02T10:06:00.875020Z",
     "shell.execute_reply": "2023-01-02T10:06:00.873697Z",
     "shell.execute_reply.started": "2023-01-02T10:06:00.862577Z"
    }
   },
   "outputs": [
    {
     "name": "stderr",
     "output_type": "stream",
     "text": [
      "Truncation was not explicitly activated but `max_length` is provided a specific value, please use `truncation=True` to explicitly truncate examples to max length. Defaulting to 'longest_first' truncation strategy. If you encode pairs of sequences (GLUE-style) with the tokenizer you can select this strategy more precisely by providing a specific strategy to `truncation`.\n",
      "/opt/conda/lib/python3.7/site-packages/transformers/tokenization_utils_base.py:2307: FutureWarning: The `pad_to_max_length` argument is deprecated and will be removed in a future version, use `padding=True` or `padding='longest'` to pad to the longest sequence in the batch, or use `padding='max_length'` to pad to a max length. In this case, you can give a specific length with `max_length` (e.g. `max_length=45`) or leave max_length to None to pad to the maximal input size of the model (e.g. 512 for Bert).\n",
      "  FutureWarning,\n"
     ]
    }
   ],
   "source": [
    "encoding = tokenizer.encode_plus(\n",
    "  sample_txt,\n",
    "  max_length=32,\n",
    "  add_special_tokens=True, # Add '[CLS]' and '[SEP]'\n",
    "  return_token_type_ids=False,\n",
    "  pad_to_max_length=True,\n",
    "  return_attention_mask=True,\n",
    "  return_tensors='pt',  # Return PyTorch tensors\n",
    ")"
   ]
  },
  {
   "cell_type": "code",
   "execution_count": 32,
   "id": "15ae1669-78ba-4be9-9bf4-c82540d99310",
   "metadata": {
    "execution": {
     "iopub.execute_input": "2023-01-02T10:06:00.877252Z",
     "iopub.status.busy": "2023-01-02T10:06:00.876534Z",
     "iopub.status.idle": "2023-01-02T10:06:00.883463Z",
     "shell.execute_reply": "2023-01-02T10:06:00.882495Z",
     "shell.execute_reply.started": "2023-01-02T10:06:00.877218Z"
    }
   },
   "outputs": [
    {
     "data": {
      "text/plain": [
       "dict_keys(['input_ids', 'attention_mask'])"
      ]
     },
     "execution_count": 32,
     "metadata": {},
     "output_type": "execute_result"
    }
   ],
   "source": [
    "encoding.keys()"
   ]
  },
  {
   "cell_type": "code",
   "execution_count": 33,
   "id": "dddd62a4-ea7a-494f-a767-143bed6e0130",
   "metadata": {
    "execution": {
     "iopub.execute_input": "2023-01-02T10:06:01.841623Z",
     "iopub.status.busy": "2023-01-02T10:06:01.841214Z",
     "iopub.status.idle": "2023-01-02T10:06:25.833955Z",
     "shell.execute_reply": "2023-01-02T10:06:25.832791Z",
     "shell.execute_reply.started": "2023-01-02T10:06:01.841593Z"
    }
   },
   "outputs": [],
   "source": [
    "token_lens = []\n",
    "for txt in df.review:\n",
    "  tokens = tokenizer.encode(txt, max_length=512)\n",
    "  token_lens.append(len(tokens))"
   ]
  },
  {
   "cell_type": "code",
   "execution_count": 34,
   "id": "125270b2-60dc-4658-820c-76b0e71e9a38",
   "metadata": {
    "execution": {
     "iopub.execute_input": "2023-01-02T10:06:25.836479Z",
     "iopub.status.busy": "2023-01-02T10:06:25.836007Z",
     "iopub.status.idle": "2023-01-02T10:06:26.587326Z",
     "shell.execute_reply": "2023-01-02T10:06:26.586360Z",
     "shell.execute_reply.started": "2023-01-02T10:06:25.836439Z"
    }
   },
   "outputs": [
    {
     "name": "stderr",
     "output_type": "stream",
     "text": [
      "/opt/conda/lib/python3.7/site-packages/seaborn/distributions.py:2619: FutureWarning: `distplot` is a deprecated function and will be removed in a future version. Please adapt your code to use either `displot` (a figure-level function with similar flexibility) or `histplot` (an axes-level function for histograms).\n",
      "  warnings.warn(msg, FutureWarning)\n"
     ]
    },
    {
     "data": {
      "image/png": "[encoded data removed]",
      "text/plain": [
       "<Figure size 864x576 with 1 Axes>"
      ]
     },
     "metadata": {
      "image/png": {
       "height": 489,
       "width": 749
      }
     },
     "output_type": "display_data"
    }
   ],
   "source": [
    "sns.distplot(token_lens)\n",
    "plt.xlim([0, 256]);\n",
    "plt.xlabel('Token count');"
   ]
  },
  {
   "cell_type": "markdown",
   "id": "89885cad-d6d2-4153-a98e-a2ebe0cc64d9",
   "metadata": {},
   "source": [
    "There are sequeneces of the dataset which are very large so we will take the default max length of 512"
   ]
  },
  {
   "cell_type": "code",
   "execution_count": 35,
   "id": "652131a3-d089-47ec-8a91-b663b7b1883d",
   "metadata": {
    "execution": {
     "iopub.execute_input": "2023-01-02T10:06:26.593801Z",
     "iopub.status.busy": "2023-01-02T10:06:26.591282Z",
     "iopub.status.idle": "2023-01-02T10:06:26.599771Z",
     "shell.execute_reply": "2023-01-02T10:06:26.598818Z",
     "shell.execute_reply.started": "2023-01-02T10:06:26.593761Z"
    }
   },
   "outputs": [],
   "source": [
    "MAX_LEN = 512"
   ]
  },
  {
   "cell_type": "markdown",
   "id": "519c564d-0ca1-41a1-a164-3923a1e9f77d",
   "metadata": {},
   "source": [
    "#### Build pytorch dataset with tokenizations."
   ]
  },
  {
   "cell_type": "code",
   "execution_count": 36,
   "id": "e9dcc264-1403-48f3-b974-b5681f768584",
   "metadata": {
    "execution": {
     "iopub.execute_input": "2023-01-02T10:06:26.605406Z",
     "iopub.status.busy": "2023-01-02T10:06:26.605077Z",
     "iopub.status.idle": "2023-01-02T10:06:26.620988Z",
     "shell.execute_reply": "2023-01-02T10:06:26.619359Z",
     "shell.execute_reply.started": "2023-01-02T10:06:26.605380Z"
    }
   },
   "outputs": [],
   "source": [
    "class HotelReviewDataset(Dataset):\n",
    "    def __init__(self, reviews, targets, tokenizer, max_len):\n",
    "        self.reviews = reviews\n",
    "        self.targets = targets\n",
    "        self.tokenizer = tokenizer\n",
    "        self.max_len = max_len\n",
    "    def __len__(self):\n",
    "        return len(self.reviews)\n",
    "    def __getitem__(self, item):\n",
    "        review = str(self.reviews[item])\n",
    "        target = self.targets[item]\n",
    "        encoding = self.tokenizer.encode_plus(\n",
    "          review,\n",
    "          add_special_tokens=True,\n",
    "          max_length=self.max_len,\n",
    "          return_token_type_ids=False,\n",
    "          pad_to_max_length=True,\n",
    "          return_attention_mask=True,\n",
    "          return_tensors='pt',\n",
    "        )\n",
    "        return {\n",
    "      'review_text': review,\n",
    "      'input_ids': encoding['input_ids'].flatten(),\n",
    "      'attention_mask': encoding['attention_mask'].flatten(),\n",
    "      'targets': torch.tensor(target, dtype=torch.long)\n",
    "    }"
   ]
  },
  {
   "cell_type": "markdown",
   "id": "899be977-9b84-4ba6-a8b3-ae65f9414ce7",
   "metadata": {},
   "source": [
    "#### Split data to train/test:"
   ]
  },
  {
   "cell_type": "code",
   "execution_count": 37,
   "id": "79c5c74c-02b4-4656-9d15-23c9bb4bdeb4",
   "metadata": {
    "execution": {
     "iopub.execute_input": "2023-01-02T10:06:26.622660Z",
     "iopub.status.busy": "2023-01-02T10:06:26.622191Z",
     "iopub.status.idle": "2023-01-02T10:06:26.632779Z",
     "shell.execute_reply": "2023-01-02T10:06:26.631631Z",
     "shell.execute_reply.started": "2023-01-02T10:06:26.622608Z"
    }
   },
   "outputs": [],
   "source": [
    "from sklearn.model_selection import train_test_split"
   ]
  },
  {
   "cell_type": "code",
   "execution_count": 38,
   "id": "1f1a35b5-1117-41da-92ad-b27445bb8d00",
   "metadata": {
    "execution": {
     "iopub.execute_input": "2023-01-02T10:06:26.635104Z",
     "iopub.status.busy": "2023-01-02T10:06:26.634067Z",
     "iopub.status.idle": "2023-01-02T10:06:26.648671Z",
     "shell.execute_reply": "2023-01-02T10:06:26.647903Z",
     "shell.execute_reply.started": "2023-01-02T10:06:26.635023Z"
    }
   },
   "outputs": [],
   "source": [
    "possible_labels = df.target.unique()"
   ]
  },
  {
   "cell_type": "code",
   "execution_count": 39,
   "id": "6bd52c4c-7022-47aa-99b3-e41d55505c63",
   "metadata": {
    "execution": {
     "iopub.execute_input": "2023-01-02T10:06:26.650820Z",
     "iopub.status.busy": "2023-01-02T10:06:26.650481Z",
     "iopub.status.idle": "2023-01-02T10:06:26.658507Z",
     "shell.execute_reply": "2023-01-02T10:06:26.657665Z",
     "shell.execute_reply.started": "2023-01-02T10:06:26.650788Z"
    }
   },
   "outputs": [],
   "source": [
    "label_dict = {}\n",
    "for index, possible_label in enumerate(possible_labels):\n",
    "    label_dict[possible_label] = index"
   ]
  },
  {
   "cell_type": "code",
   "execution_count": 40,
   "id": "f8e7b863-2c2f-4d90-a9c0-3544a11dc8e3",
   "metadata": {
    "execution": {
     "iopub.execute_input": "2023-01-02T10:06:26.660498Z",
     "iopub.status.busy": "2023-01-02T10:06:26.660086Z",
     "iopub.status.idle": "2023-01-02T10:06:26.691174Z",
     "shell.execute_reply": "2023-01-02T10:06:26.690295Z",
     "shell.execute_reply.started": "2023-01-02T10:06:26.660465Z"
    }
   },
   "outputs": [
    {
     "data": {
      "text/html": [
       "<div>\n",
       "<style scoped>\n",
       "    .dataframe tbody tr th:only-of-type {\n",
       "        vertical-align: middle;\n",
       "    }\n",
       "\n",
       "    .dataframe tbody tr th {\n",
       "        vertical-align: top;\n",
       "    }\n",
       "\n",
       "    .dataframe thead th {\n",
       "        text-align: right;\n",
       "    }\n",
       "</style>\n",
       "<table border=\"1\" class=\"dataframe\">\n",
       "  <thead>\n",
       "    <tr style=\"text-align: right;\">\n",
       "      <th></th>\n",
       "      <th>title</th>\n",
       "      <th>review</th>\n",
       "      <th>rate</th>\n",
       "      <th>date</th>\n",
       "      <th>type</th>\n",
       "      <th>r_neg</th>\n",
       "      <th>r_neu</th>\n",
       "      <th>r_pos</th>\n",
       "      <th>t_neg</th>\n",
       "      <th>t_neu</th>\n",
       "      <th>t_pos</th>\n",
       "      <th>target</th>\n",
       "      <th>score</th>\n",
       "      <th>label</th>\n",
       "    </tr>\n",
       "  </thead>\n",
       "  <tbody>\n",
       "    <tr>\n",
       "      <th>0</th>\n",
       "      <td>small room but okey</td>\n",
       "      <td>this hotel has the smallest room, and we have ...</td>\n",
       "      <td>4</td>\n",
       "      <td>2022-11-01</td>\n",
       "      <td>couple</td>\n",
       "      <td>0.002249</td>\n",
       "      <td>0.036023</td>\n",
       "      <td>0.961728</td>\n",
       "      <td>0.096072</td>\n",
       "      <td>0.793380</td>\n",
       "      <td>0.110547</td>\n",
       "      <td>1</td>\n",
       "      <td>0.961728</td>\n",
       "      <td>0</td>\n",
       "    </tr>\n",
       "    <tr>\n",
       "      <th>1</th>\n",
       "      <td>great location, great staff</td>\n",
       "      <td>great location and simple but clean ammenities...</td>\n",
       "      <td>5</td>\n",
       "      <td>2022-10-01</td>\n",
       "      <td>business</td>\n",
       "      <td>0.001657</td>\n",
       "      <td>0.013658</td>\n",
       "      <td>0.984685</td>\n",
       "      <td>0.003723</td>\n",
       "      <td>0.035624</td>\n",
       "      <td>0.960653</td>\n",
       "      <td>1</td>\n",
       "      <td>0.984685</td>\n",
       "      <td>0</td>\n",
       "    </tr>\n",
       "    <tr>\n",
       "      <th>2</th>\n",
       "      <td>dont stay in this hotel unless you would like ...</td>\n",
       "      <td>don't stay in this hotel unless you would like...</td>\n",
       "      <td>1</td>\n",
       "      <td>2022-10-01</td>\n",
       "      <td>NAN</td>\n",
       "      <td>0.811276</td>\n",
       "      <td>0.163842</td>\n",
       "      <td>0.024882</td>\n",
       "      <td>0.666713</td>\n",
       "      <td>0.321159</td>\n",
       "      <td>0.012128</td>\n",
       "      <td>-1</td>\n",
       "      <td>0.811276</td>\n",
       "      <td>1</td>\n",
       "    </tr>\n",
       "    <tr>\n",
       "      <th>3</th>\n",
       "      <td>waste of money</td>\n",
       "      <td>not worth it. better rooms available for this ...</td>\n",
       "      <td>1</td>\n",
       "      <td>2022-09-01</td>\n",
       "      <td>NAN</td>\n",
       "      <td>0.854073</td>\n",
       "      <td>0.122230</td>\n",
       "      <td>0.023698</td>\n",
       "      <td>0.885921</td>\n",
       "      <td>0.100440</td>\n",
       "      <td>0.013639</td>\n",
       "      <td>-1</td>\n",
       "      <td>0.854073</td>\n",
       "      <td>1</td>\n",
       "    </tr>\n",
       "    <tr>\n",
       "      <th>4</th>\n",
       "      <td>pre-autorisation money has not been refunded</td>\n",
       "      <td>ibis paris tour eiffel cambronne charged my de...</td>\n",
       "      <td>3</td>\n",
       "      <td>2022-10-01</td>\n",
       "      <td>couple</td>\n",
       "      <td>0.782589</td>\n",
       "      <td>0.201761</td>\n",
       "      <td>0.015650</td>\n",
       "      <td>0.651665</td>\n",
       "      <td>0.336654</td>\n",
       "      <td>0.011681</td>\n",
       "      <td>-1</td>\n",
       "      <td>0.782589</td>\n",
       "      <td>1</td>\n",
       "    </tr>\n",
       "    <tr>\n",
       "      <th>...</th>\n",
       "      <td>...</td>\n",
       "      <td>...</td>\n",
       "      <td>...</td>\n",
       "      <td>...</td>\n",
       "      <td>...</td>\n",
       "      <td>...</td>\n",
       "      <td>...</td>\n",
       "      <td>...</td>\n",
       "      <td>...</td>\n",
       "      <td>...</td>\n",
       "      <td>...</td>\n",
       "      <td>...</td>\n",
       "      <td>...</td>\n",
       "      <td>...</td>\n",
       "    </tr>\n",
       "    <tr>\n",
       "      <th>8564</th>\n",
       "      <td>just papering over the cracks!</td>\n",
       "      <td>just got back from 3 nights in paris\\none nigh...</td>\n",
       "      <td>3</td>\n",
       "      <td>2010-01-01</td>\n",
       "      <td>business</td>\n",
       "      <td>0.226973</td>\n",
       "      <td>0.385275</td>\n",
       "      <td>0.387752</td>\n",
       "      <td>0.237504</td>\n",
       "      <td>0.580672</td>\n",
       "      <td>0.181825</td>\n",
       "      <td>0</td>\n",
       "      <td>0.387752</td>\n",
       "      <td>2</td>\n",
       "    </tr>\n",
       "    <tr>\n",
       "      <th>8565</th>\n",
       "      <td>perfect</td>\n",
       "      <td>our stay was perfect. the location was amazing...</td>\n",
       "      <td>5</td>\n",
       "      <td>2008-08-01</td>\n",
       "      <td>couple</td>\n",
       "      <td>0.001523</td>\n",
       "      <td>0.007159</td>\n",
       "      <td>0.991318</td>\n",
       "      <td>0.083121</td>\n",
       "      <td>0.383298</td>\n",
       "      <td>0.533581</td>\n",
       "      <td>1</td>\n",
       "      <td>0.991318</td>\n",
       "      <td>0</td>\n",
       "    </tr>\n",
       "    <tr>\n",
       "      <th>8566</th>\n",
       "      <td>very nice hotel</td>\n",
       "      <td>we decided on this hotel in paris for location...</td>\n",
       "      <td>4</td>\n",
       "      <td>2009-05-01</td>\n",
       "      <td>family</td>\n",
       "      <td>0.013408</td>\n",
       "      <td>0.091601</td>\n",
       "      <td>0.894992</td>\n",
       "      <td>0.003610</td>\n",
       "      <td>0.032563</td>\n",
       "      <td>0.963827</td>\n",
       "      <td>1</td>\n",
       "      <td>0.894992</td>\n",
       "      <td>0</td>\n",
       "    </tr>\n",
       "    <tr>\n",
       "      <th>8567</th>\n",
       "      <td>ideally situated</td>\n",
       "      <td>very small hotel but ideally situated with bre...</td>\n",
       "      <td>4</td>\n",
       "      <td>2008-07-01</td>\n",
       "      <td>couple</td>\n",
       "      <td>0.206908</td>\n",
       "      <td>0.393892</td>\n",
       "      <td>0.399200</td>\n",
       "      <td>0.101543</td>\n",
       "      <td>0.744662</td>\n",
       "      <td>0.153796</td>\n",
       "      <td>0</td>\n",
       "      <td>0.399200</td>\n",
       "      <td>2</td>\n",
       "    </tr>\n",
       "    <tr>\n",
       "      <th>8568</th>\n",
       "      <td>just a great place to stay!</td>\n",
       "      <td>just came back from vacation to paris. hotel l...</td>\n",
       "      <td>5</td>\n",
       "      <td>2009-04-01</td>\n",
       "      <td>couple</td>\n",
       "      <td>0.001415</td>\n",
       "      <td>0.011294</td>\n",
       "      <td>0.987291</td>\n",
       "      <td>0.002927</td>\n",
       "      <td>0.027185</td>\n",
       "      <td>0.969888</td>\n",
       "      <td>1</td>\n",
       "      <td>0.987291</td>\n",
       "      <td>0</td>\n",
       "    </tr>\n",
       "  </tbody>\n",
       "</table>\n",
       "<p>8569 rows × 14 columns</p>\n",
       "</div>"
      ],
      "text/plain": [
       "                                                  title  \\\n",
       "0                                   small room but okey   \n",
       "1                           great location, great staff   \n",
       "2     dont stay in this hotel unless you would like ...   \n",
       "3                                        waste of money   \n",
       "4          pre-autorisation money has not been refunded   \n",
       "...                                                 ...   \n",
       "8564                     just papering over the cracks!   \n",
       "8565                                            perfect   \n",
       "8566                                    very nice hotel   \n",
       "8567                                   ideally situated   \n",
       "8568                        just a great place to stay!   \n",
       "\n",
       "                                                 review  rate       date  \\\n",
       "0     this hotel has the smallest room, and we have ...     4 2022-11-01   \n",
       "1     great location and simple but clean ammenities...     5 2022-10-01   \n",
       "2     don't stay in this hotel unless you would like...     1 2022-10-01   \n",
       "3     not worth it. better rooms available for this ...     1 2022-09-01   \n",
       "4     ibis paris tour eiffel cambronne charged my de...     3 2022-10-01   \n",
       "...                                                 ...   ...        ...   \n",
       "8564  just got back from 3 nights in paris\\none nigh...     3 2010-01-01   \n",
       "8565  our stay was perfect. the location was amazing...     5 2008-08-01   \n",
       "8566  we decided on this hotel in paris for location...     4 2009-05-01   \n",
       "8567  very small hotel but ideally situated with bre...     4 2008-07-01   \n",
       "8568  just came back from vacation to paris. hotel l...     5 2009-04-01   \n",
       "\n",
       "          type     r_neg     r_neu     r_pos     t_neg     t_neu     t_pos  \\\n",
       "0       couple  0.002249  0.036023  0.961728  0.096072  0.793380  0.110547   \n",
       "1     business  0.001657  0.013658  0.984685  0.003723  0.035624  0.960653   \n",
       "2          NAN  0.811276  0.163842  0.024882  0.666713  0.321159  0.012128   \n",
       "3          NAN  0.854073  0.122230  0.023698  0.885921  0.100440  0.013639   \n",
       "4       couple  0.782589  0.201761  0.015650  0.651665  0.336654  0.011681   \n",
       "...        ...       ...       ...       ...       ...       ...       ...   \n",
       "8564  business  0.226973  0.385275  0.387752  0.237504  0.580672  0.181825   \n",
       "8565    couple  0.001523  0.007159  0.991318  0.083121  0.383298  0.533581   \n",
       "8566    family  0.013408  0.091601  0.894992  0.003610  0.032563  0.963827   \n",
       "8567    couple  0.206908  0.393892  0.399200  0.101543  0.744662  0.153796   \n",
       "8568    couple  0.001415  0.011294  0.987291  0.002927  0.027185  0.969888   \n",
       "\n",
       "      target     score  label  \n",
       "0          1  0.961728      0  \n",
       "1          1  0.984685      0  \n",
       "2         -1  0.811276      1  \n",
       "3         -1  0.854073      1  \n",
       "4         -1  0.782589      1  \n",
       "...      ...       ...    ...  \n",
       "8564       0  0.387752      2  \n",
       "8565       1  0.991318      0  \n",
       "8566       1  0.894992      0  \n",
       "8567       0  0.399200      2  \n",
       "8568       1  0.987291      0  \n",
       "\n",
       "[8569 rows x 14 columns]"
      ]
     },
     "execution_count": 40,
     "metadata": {},
     "output_type": "execute_result"
    }
   ],
   "source": [
    "df['label'] = df.target.replace(label_dict)\n",
    "df"
   ]
  },
  {
   "cell_type": "markdown",
   "id": "ae1f6a5e-fa54-49b3-9f94-882202915782",
   "metadata": {},
   "source": [
    "We have unbalanced data so we will do stratified splitting"
   ]
  },
  {
   "cell_type": "code",
   "execution_count": 41,
   "id": "a3827244-1364-40f7-aee7-49fcb73dd7c3",
   "metadata": {
    "execution": {
     "iopub.execute_input": "2023-01-02T10:06:26.693312Z",
     "iopub.status.busy": "2023-01-02T10:06:26.692463Z",
     "iopub.status.idle": "2023-01-02T10:06:26.704120Z",
     "shell.execute_reply": "2023-01-02T10:06:26.703111Z",
     "shell.execute_reply.started": "2023-01-02T10:06:26.693272Z"
    }
   },
   "outputs": [],
   "source": [
    "X_train, X_val, y_train, y_val = train_test_split(\n",
    "    df.index.values, \n",
    "    df.label.values, \n",
    "    test_size = 0.15,\n",
    "    random_state = 17,\n",
    "    stratify = df.target.values\n",
    ")"
   ]
  },
  {
   "cell_type": "markdown",
   "id": "9039bdaf-adcb-42cf-a933-c15c5fe3af15",
   "metadata": {},
   "source": [
    "#### Create pytorch dataloader to simplify training loop"
   ]
  },
  {
   "cell_type": "code",
   "execution_count": 42,
   "id": "532930d3-83da-45a8-b8bc-34c39fc2dac8",
   "metadata": {
    "execution": {
     "iopub.execute_input": "2023-01-02T10:06:26.711231Z",
     "iopub.status.busy": "2023-01-02T10:06:26.709807Z",
     "iopub.status.idle": "2023-01-02T10:06:26.716466Z",
     "shell.execute_reply": "2023-01-02T10:06:26.715704Z",
     "shell.execute_reply.started": "2023-01-02T10:06:26.711163Z"
    }
   },
   "outputs": [],
   "source": [
    "def create_data_loader(df, tokenizer, max_len, batch_size):\n",
    "    ds = HotelReviewDataset(\n",
    "    reviews=df.review.to_numpy(),\n",
    "    targets=df.label.to_numpy(),\n",
    "    tokenizer=tokenizer,\n",
    "    max_len=max_len\n",
    "    )\n",
    "    return DataLoader(\n",
    "    ds,\n",
    "    batch_size=batch_size,\n",
    "    num_workers=4\n",
    "  )"
   ]
  },
  {
   "cell_type": "code",
   "execution_count": 43,
   "id": "eec0e528-5c45-4e1f-ac4d-2d118b42947e",
   "metadata": {
    "execution": {
     "iopub.execute_input": "2023-01-02T10:06:26.719640Z",
     "iopub.status.busy": "2023-01-02T10:06:26.717682Z",
     "iopub.status.idle": "2023-01-02T10:06:26.731144Z",
     "shell.execute_reply": "2023-01-02T10:06:26.730061Z",
     "shell.execute_reply.started": "2023-01-02T10:06:26.719596Z"
    }
   },
   "outputs": [],
   "source": [
    "df['data_type'] = ['not_set']* df.shape[0]\n",
    "df.loc[X_train, 'data_type'] = 'train'\n",
    "df.loc[X_val, 'data_type'] = 'val'"
   ]
  },
  {
   "cell_type": "markdown",
   "id": "cf7aa49f-28a7-42f8-ae9a-9c6f9e31342f",
   "metadata": {},
   "source": [
    "Create dataloader instance with batch size equals 4 because we have a relatively small dataset"
   ]
  },
  {
   "cell_type": "code",
   "execution_count": 44,
   "id": "28dabb7d-5af4-467c-8995-9b29ca5112ea",
   "metadata": {
    "execution": {
     "iopub.execute_input": "2023-01-02T10:06:26.733201Z",
     "iopub.status.busy": "2023-01-02T10:06:26.732848Z",
     "iopub.status.idle": "2023-01-02T10:06:26.746434Z",
     "shell.execute_reply": "2023-01-02T10:06:26.745442Z",
     "shell.execute_reply.started": "2023-01-02T10:06:26.733169Z"
    }
   },
   "outputs": [
    {
     "name": "stderr",
     "output_type": "stream",
     "text": [
      "/opt/conda/lib/python3.7/site-packages/torch/utils/data/dataloader.py:490: UserWarning: This DataLoader will create 4 worker processes in total. Our suggested max number of worker in current system is 2, which is smaller than what this DataLoader is going to create. Please be aware that excessive worker creation might get DataLoader running slow or even freeze, lower the worker number to avoid potential slowness/freeze if necessary.\n",
      "  cpuset_checked))\n"
     ]
    }
   ],
   "source": [
    "BATCH_SIZE = 4\n",
    "train_data_loader = create_data_loader(df[df['data_type'] == 'train'], tokenizer, MAX_LEN, BATCH_SIZE)\n",
    "val_data_loader = create_data_loader(df[df['data_type'] == 'val'], tokenizer, MAX_LEN, BATCH_SIZE)"
   ]
  },
  {
   "cell_type": "markdown",
   "id": "70b6a42e-f90c-49bf-bad5-0f39f9b665f9",
   "metadata": {
    "execution": {
     "iopub.execute_input": "2023-01-02T04:49:24.234066Z",
     "iopub.status.busy": "2023-01-02T04:49:24.233347Z",
     "iopub.status.idle": "2023-01-02T04:49:24.240604Z",
     "shell.execute_reply": "2023-01-02T04:49:24.239476Z",
     "shell.execute_reply.started": "2023-01-02T04:49:24.234031Z"
    }
   },
   "source": [
    "#### Example of a batch from dataloader"
   ]
  },
  {
   "cell_type": "code",
   "execution_count": 45,
   "id": "d5a012b1-3a84-4d21-a53c-5bad47cbfae0",
   "metadata": {
    "execution": {
     "iopub.execute_input": "2023-01-02T10:06:26.748457Z",
     "iopub.status.busy": "2023-01-02T10:06:26.747888Z",
     "iopub.status.idle": "2023-01-02T10:06:26.972461Z",
     "shell.execute_reply": "2023-01-02T10:06:26.971223Z",
     "shell.execute_reply.started": "2023-01-02T10:06:26.748424Z"
    }
   },
   "outputs": [
    {
     "name": "stderr",
     "output_type": "stream",
     "text": [
      "/opt/conda/lib/python3.7/site-packages/transformers/tokenization_utils_base.py:2307: FutureWarning: The `pad_to_max_length` argument is deprecated and will be removed in a future version, use `padding=True` or `padding='longest'` to pad to the longest sequence in the batch, or use `padding='max_length'` to pad to a max length. In this case, you can give a specific length with `max_length` (e.g. `max_length=45`) or leave max_length to None to pad to the maximal input size of the model (e.g. 512 for Bert).\n",
      "  FutureWarning,\n",
      "/opt/conda/lib/python3.7/site-packages/transformers/tokenization_utils_base.py:2307: FutureWarning: The `pad_to_max_length` argument is deprecated and will be removed in a future version, use `padding=True` or `padding='longest'` to pad to the longest sequence in the batch, or use `padding='max_length'` to pad to a max length. In this case, you can give a specific length with `max_length` (e.g. `max_length=45`) or leave max_length to None to pad to the maximal input size of the model (e.g. 512 for Bert).\n",
      "  FutureWarning,\n",
      "/opt/conda/lib/python3.7/site-packages/transformers/tokenization_utils_base.py:2307: FutureWarning: The `pad_to_max_length` argument is deprecated and will be removed in a future version, use `padding=True` or `padding='longest'` to pad to the longest sequence in the batch, or use `padding='max_length'` to pad to a max length. In this case, you can give a specific length with `max_length` (e.g. `max_length=45`) or leave max_length to None to pad to the maximal input size of the model (e.g. 512 for Bert).\n",
      "  FutureWarning,\n",
      "/opt/conda/lib/python3.7/site-packages/transformers/tokenization_utils_base.py:2307: FutureWarning: The `pad_to_max_length` argument is deprecated and will be removed in a future version, use `padding=True` or `padding='longest'` to pad to the longest sequence in the batch, or use `padding='max_length'` to pad to a max length. In this case, you can give a specific length with `max_length` (e.g. `max_length=45`) or leave max_length to None to pad to the maximal input size of the model (e.g. 512 for Bert).\n",
      "  FutureWarning,\n"
     ]
    }
   ],
   "source": [
    "data = next(iter(train_data_loader))"
   ]
  },
  {
   "cell_type": "code",
   "execution_count": 46,
   "id": "eda29cb5-5c9b-4f3f-ab25-b38eb20774e8",
   "metadata": {
    "execution": {
     "iopub.execute_input": "2023-01-02T10:06:26.974548Z",
     "iopub.status.busy": "2023-01-02T10:06:26.974151Z",
     "iopub.status.idle": "2023-01-02T10:06:26.983470Z",
     "shell.execute_reply": "2023-01-02T10:06:26.982480Z",
     "shell.execute_reply.started": "2023-01-02T10:06:26.974507Z"
    }
   },
   "outputs": [
    {
     "data": {
      "text/plain": [
       "dict_keys(['review_text', 'input_ids', 'attention_mask', 'targets'])"
      ]
     },
     "execution_count": 46,
     "metadata": {},
     "output_type": "execute_result"
    }
   ],
   "source": [
    "data.keys()"
   ]
  },
  {
   "cell_type": "code",
   "execution_count": 47,
   "id": "3169d33b-4318-4617-8782-3440c5e3dbfe",
   "metadata": {
    "execution": {
     "iopub.execute_input": "2023-01-02T10:06:26.986121Z",
     "iopub.status.busy": "2023-01-02T10:06:26.985066Z",
     "iopub.status.idle": "2023-01-02T10:06:50.077212Z",
     "shell.execute_reply": "2023-01-02T10:06:50.076099Z",
     "shell.execute_reply.started": "2023-01-02T10:06:26.986085Z"
    }
   },
   "outputs": [
    {
     "data": {
      "application/vnd.jupyter.widget-view+json": {
       "model_id": "42144b00357f42949483687ccff485c6",
       "version_major": 2,
       "version_minor": 0
      },
      "text/plain": [
       "Downloading:   0%|          | 0.00/416M [00:00<?, ?B/s]"
      ]
     },
     "metadata": {},
     "output_type": "display_data"
    },
    {
     "name": "stderr",
     "output_type": "stream",
     "text": [
      "Some weights of the model checkpoint at bert-base-cased were not used when initializing BertModel: ['cls.predictions.transform.LayerNorm.bias', 'cls.predictions.transform.dense.weight', 'cls.predictions.decoder.weight', 'cls.predictions.transform.LayerNorm.weight', 'cls.seq_relationship.bias', 'cls.seq_relationship.weight', 'cls.predictions.bias', 'cls.predictions.transform.dense.bias']\n",
      "- This IS expected if you are initializing BertModel from the checkpoint of a model trained on another task or with another architecture (e.g. initializing a BertForSequenceClassification model from a BertForPreTraining model).\n",
      "- This IS NOT expected if you are initializing BertModel from the checkpoint of a model that you expect to be exactly identical (initializing a BertForSequenceClassification model from a BertForSequenceClassification model).\n"
     ]
    }
   ],
   "source": [
    "bert_model = BertModel.from_pretrained(PRE_TRAINED_MODEL_NAME)"
   ]
  },
  {
   "cell_type": "code",
   "execution_count": 48,
   "id": "a990bc0c-107b-487c-86a4-91809d05085a",
   "metadata": {
    "execution": {
     "iopub.execute_input": "2023-01-02T10:06:50.080400Z",
     "iopub.status.busy": "2023-01-02T10:06:50.080053Z",
     "iopub.status.idle": "2023-01-02T10:06:50.312762Z",
     "shell.execute_reply": "2023-01-02T10:06:50.311490Z",
     "shell.execute_reply.started": "2023-01-02T10:06:50.080370Z"
    }
   },
   "outputs": [],
   "source": [
    "last_hidden_state, pooled_output = bert_model(\n",
    "  input_ids=encoding['input_ids'],\n",
    "  attention_mask=encoding['attention_mask'],\n",
    "  return_dict=False\n",
    ")"
   ]
  },
  {
   "cell_type": "code",
   "execution_count": 49,
   "id": "5f857a64-1d8a-4829-97a7-aa8f618d39b2",
   "metadata": {
    "execution": {
     "iopub.execute_input": "2023-01-02T10:06:50.315841Z",
     "iopub.status.busy": "2023-01-02T10:06:50.315034Z",
     "iopub.status.idle": "2023-01-02T10:06:51.721850Z",
     "shell.execute_reply": "2023-01-02T10:06:51.720469Z",
     "shell.execute_reply.started": "2023-01-02T10:06:50.315799Z"
    }
   },
   "outputs": [
    {
     "data": {
      "text/plain": [
       "torch.Size([1, 32, 768])"
      ]
     },
     "execution_count": 49,
     "metadata": {},
     "output_type": "execute_result"
    }
   ],
   "source": [
    "last_hidden_state.shape"
   ]
  },
  {
   "cell_type": "code",
   "execution_count": 50,
   "id": "b20d9bd5-f546-4711-8cb4-1d7285b1e21b",
   "metadata": {
    "execution": {
     "iopub.execute_input": "2023-01-02T10:06:51.724112Z",
     "iopub.status.busy": "2023-01-02T10:06:51.723649Z",
     "iopub.status.idle": "2023-01-02T10:06:51.733586Z",
     "shell.execute_reply": "2023-01-02T10:06:51.732440Z",
     "shell.execute_reply.started": "2023-01-02T10:06:51.724075Z"
    }
   },
   "outputs": [
    {
     "data": {
      "text/plain": [
       "768"
      ]
     },
     "execution_count": 50,
     "metadata": {},
     "output_type": "execute_result"
    }
   ],
   "source": [
    "bert_model.config.hidden_size"
   ]
  },
  {
   "cell_type": "markdown",
   "id": "36f646c8-bc18-410b-862f-249073429a85",
   "metadata": {},
   "source": [
    "#### Finetune Bert model to do sentiment analysis adding dropout as a form of regularization to avoid overfitting"
   ]
  },
  {
   "cell_type": "code",
   "execution_count": 11,
   "id": "1ab8f05a-9bc8-4ee3-8c24-943557dd19ad",
   "metadata": {
    "execution": {
     "iopub.execute_input": "2023-01-02T14:01:48.028319Z",
     "iopub.status.busy": "2023-01-02T14:01:48.027935Z",
     "iopub.status.idle": "2023-01-02T14:01:48.035896Z",
     "shell.execute_reply": "2023-01-02T14:01:48.034877Z",
     "shell.execute_reply.started": "2023-01-02T14:01:48.028284Z"
    }
   },
   "outputs": [],
   "source": [
    "class SentimentClassifier(nn.Module):\n",
    "    def __init__(self, n_classes):\n",
    "        super(SentimentClassifier, self).__init__()\n",
    "        self.bert = BertModel.from_pretrained(PRE_TRAINED_MODEL_NAME)\n",
    "        self.drop = nn.Dropout(0.1)\n",
    "        self.out = nn.Linear(self.bert.config.hidden_size, n_classes)\n",
    "    def forward(self, input_ids, attention_mask):\n",
    "        _, pooled_output = self.bert(\n",
    "          input_ids=input_ids,\n",
    "          attention_mask=attention_mask,\n",
    "          return_dict=False\n",
    "        )\n",
    "        output = self.drop(pooled_output)\n",
    "        return self.out(output)"
   ]
  },
  {
   "cell_type": "code",
   "execution_count": 2,
   "id": "11c1bb38-a957-4caa-b4ca-b806764fb049",
   "metadata": {
    "execution": {
     "iopub.execute_input": "2023-01-02T13:56:50.533929Z",
     "iopub.status.busy": "2023-01-02T13:56:50.533247Z",
     "iopub.status.idle": "2023-01-02T13:56:50.539089Z",
     "shell.execute_reply": "2023-01-02T13:56:50.537733Z",
     "shell.execute_reply.started": "2023-01-02T13:56:50.533892Z"
    }
   },
   "outputs": [],
   "source": [
    "class_names = ['positive','negative', 'neutral']"
   ]
  },
  {
   "cell_type": "code",
   "execution_count": 53,
   "id": "0831b300-f95e-4508-8b55-c3390131baea",
   "metadata": {
    "execution": {
     "iopub.execute_input": "2023-01-02T10:06:51.755573Z",
     "iopub.status.busy": "2023-01-02T10:06:51.754601Z",
     "iopub.status.idle": "2023-01-02T10:06:51.764636Z",
     "shell.execute_reply": "2023-01-02T10:06:51.763626Z",
     "shell.execute_reply.started": "2023-01-02T10:06:51.755536Z"
    }
   },
   "outputs": [
    {
     "data": {
      "text/plain": [
       "{1: 0, -1: 1, 0: 2}"
      ]
     },
     "execution_count": 53,
     "metadata": {},
     "output_type": "execute_result"
    }
   ],
   "source": [
    "label_dict"
   ]
  },
  {
   "cell_type": "markdown",
   "id": "f33df8ec-cb7a-40d1-8c68-f0aded574290",
   "metadata": {},
   "source": [
    "#### Create instance of the classifier"
   ]
  },
  {
   "cell_type": "code",
   "execution_count": 54,
   "id": "67b0916c-3f95-460d-888e-4666ed8b6962",
   "metadata": {
    "execution": {
     "iopub.execute_input": "2023-01-02T10:07:07.594845Z",
     "iopub.status.busy": "2023-01-02T10:07:07.594484Z",
     "iopub.status.idle": "2023-01-02T10:07:15.887047Z",
     "shell.execute_reply": "2023-01-02T10:07:15.885823Z",
     "shell.execute_reply.started": "2023-01-02T10:07:07.594815Z"
    }
   },
   "outputs": [
    {
     "name": "stderr",
     "output_type": "stream",
     "text": [
      "Some weights of the model checkpoint at bert-base-cased were not used when initializing BertModel: ['cls.predictions.transform.LayerNorm.bias', 'cls.predictions.transform.dense.weight', 'cls.predictions.decoder.weight', 'cls.predictions.transform.LayerNorm.weight', 'cls.seq_relationship.bias', 'cls.seq_relationship.weight', 'cls.predictions.bias', 'cls.predictions.transform.dense.bias']\n",
      "- This IS expected if you are initializing BertModel from the checkpoint of a model trained on another task or with another architecture (e.g. initializing a BertForSequenceClassification model from a BertForPreTraining model).\n",
      "- This IS NOT expected if you are initializing BertModel from the checkpoint of a model that you expect to be exactly identical (initializing a BertForSequenceClassification model from a BertForSequenceClassification model).\n"
     ]
    }
   ],
   "source": [
    "model = SentimentClassifier(len(class_names))\n",
    "model = model.to(device)"
   ]
  },
  {
   "cell_type": "code",
   "execution_count": 55,
   "id": "1305410b-06dd-4171-84c6-e53a99510f4a",
   "metadata": {
    "execution": {
     "iopub.execute_input": "2023-01-02T10:07:15.889204Z",
     "iopub.status.busy": "2023-01-02T10:07:15.888817Z",
     "iopub.status.idle": "2023-01-02T10:07:15.897949Z",
     "shell.execute_reply": "2023-01-02T10:07:15.896628Z",
     "shell.execute_reply.started": "2023-01-02T10:07:15.889166Z"
    }
   },
   "outputs": [],
   "source": [
    "input_ids = data['input_ids'].to(device)\n",
    "attention_mask = data['attention_mask'].to(device)"
   ]
  },
  {
   "cell_type": "code",
   "execution_count": 56,
   "id": "ef411c85-71d2-469d-b5b7-567aca19875b",
   "metadata": {
    "execution": {
     "iopub.execute_input": "2023-01-02T10:07:16.290992Z",
     "iopub.status.busy": "2023-01-02T10:07:16.290596Z",
     "iopub.status.idle": "2023-01-02T10:07:17.266816Z",
     "shell.execute_reply": "2023-01-02T10:07:17.265844Z",
     "shell.execute_reply.started": "2023-01-02T10:07:16.290935Z"
    }
   },
   "outputs": [
    {
     "data": {
      "text/plain": [
       "tensor([[0.2569, 0.3507, 0.3924],\n",
       "        [0.2268, 0.3896, 0.3837],\n",
       "        [0.2520, 0.3651, 0.3828],\n",
       "        [0.2227, 0.3471, 0.4303]], device='cuda:0', grad_fn=<SoftmaxBackward0>)"
      ]
     },
     "execution_count": 56,
     "metadata": {},
     "output_type": "execute_result"
    }
   ],
   "source": [
    "import torch.nn.functional as F\n",
    "F.softmax(model(input_ids, attention_mask), dim=1)"
   ]
  },
  {
   "cell_type": "markdown",
   "id": "5a855a4c-c8c9-4360-a3ab-4cadc8e7f019",
   "metadata": {},
   "source": [
    "#### Choosing 10 epoches for the training loop and the adamOptimizer as stated in the Bert Paper"
   ]
  },
  {
   "cell_type": "code",
   "execution_count": 57,
   "id": "dc7091ea-5bf8-4b11-a3fc-d2d80e674d95",
   "metadata": {
    "execution": {
     "iopub.execute_input": "2023-01-02T10:07:21.918812Z",
     "iopub.status.busy": "2023-01-02T10:07:21.918457Z",
     "iopub.status.idle": "2023-01-02T10:07:21.931726Z",
     "shell.execute_reply": "2023-01-02T10:07:21.930611Z",
     "shell.execute_reply.started": "2023-01-02T10:07:21.918782Z"
    }
   },
   "outputs": [
    {
     "name": "stderr",
     "output_type": "stream",
     "text": [
      "/opt/conda/lib/python3.7/site-packages/transformers/optimization.py:310: FutureWarning: This implementation of AdamW is deprecated and will be removed in a future version. Use the PyTorch implementation torch.optim.AdamW instead, or set `no_deprecation_warning=True` to disable this warning\n",
      "  FutureWarning,\n"
     ]
    }
   ],
   "source": [
    "EPOCHS = 10\n",
    "optimizer = AdamW(model.parameters(), lr=2e-5, correct_bias=False)\n",
    "total_steps = len(train_data_loader) * EPOCHS\n",
    "scheduler = get_linear_schedule_with_warmup(\n",
    "  optimizer,\n",
    "  num_warmup_steps=0,\n",
    "  num_training_steps=total_steps\n",
    ")\n",
    "loss_fn = nn.CrossEntropyLoss().to(device)"
   ]
  },
  {
   "cell_type": "markdown",
   "id": "6928f06b-1313-472a-8574-4651586a003d",
   "metadata": {},
   "source": [
    "#### Hyperparameters finetuning:\n",
    "\n",
    "Batch size: 16, 32\n",
    "Learning rate (Adam): 5e-5, 3e-5, 2e-5\n",
    "Number of epochs: 2, 3, 4"
   ]
  },
  {
   "cell_type": "code",
   "execution_count": 5,
   "id": "5c2d8ffe-ea45-48b5-82ce-3d046a6da118",
   "metadata": {},
   "outputs": [
    {
     "ename": "SyntaxError",
     "evalue": "invalid syntax (86485788.py, line 1)",
     "output_type": "error",
     "traceback": [
      "\u001b[1;36m  Input \u001b[1;32mIn [5]\u001b[1;36m\u001b[0m\n\u001b[1;33m    Training one epoch and coputing forward and backward propagation\u001b[0m\n\u001b[1;37m             ^\u001b[0m\n\u001b[1;31mSyntaxError\u001b[0m\u001b[1;31m:\u001b[0m invalid syntax\n"
     ]
    }
   ],
   "source": [
    "Training one epoch and coputing forward and backward propagation"
   ]
  },
  {
   "cell_type": "code",
   "execution_count": 58,
   "id": "7a8e2512-0098-4d1f-87d7-7f1cb32b833a",
   "metadata": {
    "execution": {
     "iopub.execute_input": "2023-01-02T10:07:27.423041Z",
     "iopub.status.busy": "2023-01-02T10:07:27.422450Z",
     "iopub.status.idle": "2023-01-02T10:07:27.430463Z",
     "shell.execute_reply": "2023-01-02T10:07:27.429527Z",
     "shell.execute_reply.started": "2023-01-02T10:07:27.423003Z"
    }
   },
   "outputs": [],
   "source": [
    "def train_epoch(\n",
    "  model,\n",
    "  data_loader,\n",
    "  loss_fn,\n",
    "  optimizer,\n",
    "  device,\n",
    "  scheduler,\n",
    "  n_examples\n",
    "):\n",
    "  model = model.train()\n",
    "  losses = []\n",
    "  correct_predictions = 0\n",
    "  for d in data_loader:\n",
    "    input_ids = d[\"input_ids\"].to(device)\n",
    "    attention_mask = d[\"attention_mask\"].to(device)\n",
    "    targets = d[\"targets\"].to(device)\n",
    "    outputs = model(\n",
    "      input_ids=input_ids,\n",
    "      attention_mask=attention_mask\n",
    "    )\n",
    "    _, preds = torch.max(outputs, dim=1)\n",
    "    loss = loss_fn(outputs, targets)\n",
    "    correct_predictions += torch.sum(preds == targets)\n",
    "    losses.append(loss.item())\n",
    "    loss.backward()\n",
    "    nn.utils.clip_grad_norm_(model.parameters(), max_norm=1.0)\n",
    "    optimizer.step()\n",
    "    scheduler.step()\n",
    "    optimizer.zero_grad()\n",
    "  return correct_predictions.double() / n_examples, np.mean(losses)"
   ]
  },
  {
   "cell_type": "markdown",
   "id": "60adb90c-6256-491a-8dd6-8774b0a28aa9",
   "metadata": {},
   "source": [
    "#### Function to evaluate the model on validation data"
   ]
  },
  {
   "cell_type": "code",
   "execution_count": 59,
   "id": "8aeb9f1b-3356-4654-9432-7c25814d00d1",
   "metadata": {
    "execution": {
     "iopub.execute_input": "2023-01-02T10:07:30.056478Z",
     "iopub.status.busy": "2023-01-02T10:07:30.056120Z",
     "iopub.status.idle": "2023-01-02T10:07:30.064192Z",
     "shell.execute_reply": "2023-01-02T10:07:30.063086Z",
     "shell.execute_reply.started": "2023-01-02T10:07:30.056448Z"
    }
   },
   "outputs": [],
   "source": [
    "def eval_model(model, data_loader, loss_fn, device, n_examples):\n",
    "  model = model.eval()\n",
    "  losses = []\n",
    "  correct_predictions = 0\n",
    "  with torch.no_grad():\n",
    "    for d in data_loader:\n",
    "      input_ids = d[\"input_ids\"].to(device)\n",
    "      attention_mask = d[\"attention_mask\"].to(device)\n",
    "      targets = d[\"targets\"].to(device)\n",
    "      outputs = model(\n",
    "        input_ids=input_ids,\n",
    "        attention_mask=attention_mask\n",
    "      )\n",
    "      _, preds = torch.max(outputs, dim=1)\n",
    "      loss = loss_fn(outputs, targets)\n",
    "      correct_predictions += torch.sum(preds == targets)\n",
    "      losses.append(loss.item())\n",
    "  return correct_predictions.double() / n_examples, np.mean(losses)"
   ]
  },
  {
   "cell_type": "markdown",
   "id": "def893bd-3b1e-4268-8577-f7bfb9295183",
   "metadata": {
    "execution": {
     "iopub.execute_input": "2023-01-02T05:35:32.339596Z",
     "iopub.status.busy": "2023-01-02T05:35:32.339206Z",
     "iopub.status.idle": "2023-01-02T05:35:32.363154Z",
     "shell.execute_reply": "2023-01-02T05:35:32.361771Z",
     "shell.execute_reply.started": "2023-01-02T05:35:32.339564Z"
    }
   },
   "source": [
    "#### Training and exporting best model"
   ]
  },
  {
   "cell_type": "code",
   "execution_count": 64,
   "id": "0ec44a05-a5a9-447e-a385-13a5d027b3ab",
   "metadata": {
    "execution": {
     "iopub.execute_input": "2023-01-02T10:08:29.895828Z",
     "iopub.status.busy": "2023-01-02T10:08:29.895446Z",
     "iopub.status.idle": "2023-01-02T10:08:29.901365Z",
     "shell.execute_reply": "2023-01-02T10:08:29.900121Z",
     "shell.execute_reply.started": "2023-01-02T10:08:29.895796Z"
    }
   },
   "outputs": [],
   "source": [
    "import os\n",
    "os.makedirs('folder')"
   ]
  },
  {
   "cell_type": "code",
   "execution_count": 65,
   "id": "f423d647-0665-4b4a-a67e-222fef766ea1",
   "metadata": {
    "execution": {
     "iopub.execute_input": "2023-01-02T10:08:35.105799Z",
     "iopub.status.busy": "2023-01-02T10:08:35.105432Z",
     "iopub.status.idle": "2023-01-02T10:08:36.098485Z",
     "shell.execute_reply": "2023-01-02T10:08:36.097300Z",
     "shell.execute_reply.started": "2023-01-02T10:08:35.105766Z"
    }
   },
   "outputs": [
    {
     "name": "stdout",
     "output_type": "stream",
     "text": [
      "__notebook_source__.ipynb  \u001b[0m\u001b[01;34mfolder\u001b[0m/\n"
     ]
    }
   ],
   "source": [
    "ls"
   ]
  },
  {
   "cell_type": "code",
   "execution_count": 70,
   "id": "72d4418c-7a10-42a6-bed3-bb51b6fa6ca7",
   "metadata": {
    "execution": {
     "iopub.execute_input": "2023-01-02T11:25:22.269196Z",
     "iopub.status.busy": "2023-01-02T11:25:22.268757Z",
     "iopub.status.idle": "2023-01-02T12:41:10.881783Z",
     "shell.execute_reply": "2023-01-02T12:41:10.880641Z",
     "shell.execute_reply.started": "2023-01-02T11:25:22.269147Z"
    }
   },
   "outputs": [
    {
     "name": "stdout",
     "output_type": "stream",
     "text": [
      "Epoch 1/10\n",
      "----------\n"
     ]
    },
    {
     "name": "stderr",
     "output_type": "stream",
     "text": [
      "/opt/conda/lib/python3.7/site-packages/transformers/tokenization_utils_base.py:2307: FutureWarning: The `pad_to_max_length` argument is deprecated and will be removed in a future version, use `padding=True` or `padding='longest'` to pad to the longest sequence in the batch, or use `padding='max_length'` to pad to a max length. In this case, you can give a specific length with `max_length` (e.g. `max_length=45`) or leave max_length to None to pad to the maximal input size of the model (e.g. 512 for Bert).\n",
      "  FutureWarning,\n",
      "/opt/conda/lib/python3.7/site-packages/transformers/tokenization_utils_base.py:2307: FutureWarning: The `pad_to_max_length` argument is deprecated and will be removed in a future version, use `padding=True` or `padding='longest'` to pad to the longest sequence in the batch, or use `padding='max_length'` to pad to a max length. In this case, you can give a specific length with `max_length` (e.g. `max_length=45`) or leave max_length to None to pad to the maximal input size of the model (e.g. 512 for Bert).\n",
      "  FutureWarning,\n",
      "/opt/conda/lib/python3.7/site-packages/transformers/tokenization_utils_base.py:2307: FutureWarning: The `pad_to_max_length` argument is deprecated and will be removed in a future version, use `padding=True` or `padding='longest'` to pad to the longest sequence in the batch, or use `padding='max_length'` to pad to a max length. In this case, you can give a specific length with `max_length` (e.g. `max_length=45`) or leave max_length to None to pad to the maximal input size of the model (e.g. 512 for Bert).\n",
      "  FutureWarning,\n",
      "/opt/conda/lib/python3.7/site-packages/transformers/tokenization_utils_base.py:2307: FutureWarning: The `pad_to_max_length` argument is deprecated and will be removed in a future version, use `padding=True` or `padding='longest'` to pad to the longest sequence in the batch, or use `padding='max_length'` to pad to a max length. In this case, you can give a specific length with `max_length` (e.g. `max_length=45`) or leave max_length to None to pad to the maximal input size of the model (e.g. 512 for Bert).\n",
      "  FutureWarning,\n"
     ]
    },
    {
     "name": "stdout",
     "output_type": "stream",
     "text": [
      "Train loss 0.378814764290404 accuracy 0.899217355485377\n"
     ]
    },
    {
     "name": "stderr",
     "output_type": "stream",
     "text": [
      "/opt/conda/lib/python3.7/site-packages/transformers/tokenization_utils_base.py:2307: FutureWarning: The `pad_to_max_length` argument is deprecated and will be removed in a future version, use `padding=True` or `padding='longest'` to pad to the longest sequence in the batch, or use `padding='max_length'` to pad to a max length. In this case, you can give a specific length with `max_length` (e.g. `max_length=45`) or leave max_length to None to pad to the maximal input size of the model (e.g. 512 for Bert).\n",
      "  FutureWarning,\n",
      "/opt/conda/lib/python3.7/site-packages/transformers/tokenization_utils_base.py:2307: FutureWarning: The `pad_to_max_length` argument is deprecated and will be removed in a future version, use `padding=True` or `padding='longest'` to pad to the longest sequence in the batch, or use `padding='max_length'` to pad to a max length. In this case, you can give a specific length with `max_length` (e.g. `max_length=45`) or leave max_length to None to pad to the maximal input size of the model (e.g. 512 for Bert).\n",
      "  FutureWarning,\n",
      "/opt/conda/lib/python3.7/site-packages/transformers/tokenization_utils_base.py:2307: FutureWarning: The `pad_to_max_length` argument is deprecated and will be removed in a future version, use `padding=True` or `padding='longest'` to pad to the longest sequence in the batch, or use `padding='max_length'` to pad to a max length. In this case, you can give a specific length with `max_length` (e.g. `max_length=45`) or leave max_length to None to pad to the maximal input size of the model (e.g. 512 for Bert).\n",
      "  FutureWarning,\n",
      "/opt/conda/lib/python3.7/site-packages/transformers/tokenization_utils_base.py:2307: FutureWarning: The `pad_to_max_length` argument is deprecated and will be removed in a future version, use `padding=True` or `padding='longest'` to pad to the longest sequence in the batch, or use `padding='max_length'` to pad to a max length. In this case, you can give a specific length with `max_length` (e.g. `max_length=45`) or leave max_length to None to pad to the maximal input size of the model (e.g. 512 for Bert).\n",
      "  FutureWarning,\n"
     ]
    },
    {
     "name": "stdout",
     "output_type": "stream",
     "text": [
      "Val   loss 0.5981983302573883 accuracy 0.8709175738724728\n",
      "\n",
      "Epoch 2/10\n",
      "----------\n"
     ]
    },
    {
     "name": "stderr",
     "output_type": "stream",
     "text": [
      "/opt/conda/lib/python3.7/site-packages/transformers/tokenization_utils_base.py:2307: FutureWarning: The `pad_to_max_length` argument is deprecated and will be removed in a future version, use `padding=True` or `padding='longest'` to pad to the longest sequence in the batch, or use `padding='max_length'` to pad to a max length. In this case, you can give a specific length with `max_length` (e.g. `max_length=45`) or leave max_length to None to pad to the maximal input size of the model (e.g. 512 for Bert).\n",
      "  FutureWarning,\n",
      "/opt/conda/lib/python3.7/site-packages/transformers/tokenization_utils_base.py:2307: FutureWarning: The `pad_to_max_length` argument is deprecated and will be removed in a future version, use `padding=True` or `padding='longest'` to pad to the longest sequence in the batch, or use `padding='max_length'` to pad to a max length. In this case, you can give a specific length with `max_length` (e.g. `max_length=45`) or leave max_length to None to pad to the maximal input size of the model (e.g. 512 for Bert).\n",
      "  FutureWarning,\n",
      "/opt/conda/lib/python3.7/site-packages/transformers/tokenization_utils_base.py:2307: FutureWarning: The `pad_to_max_length` argument is deprecated and will be removed in a future version, use `padding=True` or `padding='longest'` to pad to the longest sequence in the batch, or use `padding='max_length'` to pad to a max length. In this case, you can give a specific length with `max_length` (e.g. `max_length=45`) or leave max_length to None to pad to the maximal input size of the model (e.g. 512 for Bert).\n",
      "  FutureWarning,\n",
      "/opt/conda/lib/python3.7/site-packages/transformers/tokenization_utils_base.py:2307: FutureWarning: The `pad_to_max_length` argument is deprecated and will be removed in a future version, use `padding=True` or `padding='longest'` to pad to the longest sequence in the batch, or use `padding='max_length'` to pad to a max length. In this case, you can give a specific length with `max_length` (e.g. `max_length=45`) or leave max_length to None to pad to the maximal input size of the model (e.g. 512 for Bert).\n",
      "  FutureWarning,\n"
     ]
    },
    {
     "name": "stdout",
     "output_type": "stream",
     "text": [
      "Train loss 0.2546282395590058 accuracy 0.939859947823699\n"
     ]
    },
    {
     "name": "stderr",
     "output_type": "stream",
     "text": [
      "/opt/conda/lib/python3.7/site-packages/transformers/tokenization_utils_base.py:2307: FutureWarning: The `pad_to_max_length` argument is deprecated and will be removed in a future version, use `padding=True` or `padding='longest'` to pad to the longest sequence in the batch, or use `padding='max_length'` to pad to a max length. In this case, you can give a specific length with `max_length` (e.g. `max_length=45`) or leave max_length to None to pad to the maximal input size of the model (e.g. 512 for Bert).\n",
      "  FutureWarning,\n",
      "/opt/conda/lib/python3.7/site-packages/transformers/tokenization_utils_base.py:2307: FutureWarning: The `pad_to_max_length` argument is deprecated and will be removed in a future version, use `padding=True` or `padding='longest'` to pad to the longest sequence in the batch, or use `padding='max_length'` to pad to a max length. In this case, you can give a specific length with `max_length` (e.g. `max_length=45`) or leave max_length to None to pad to the maximal input size of the model (e.g. 512 for Bert).\n",
      "  FutureWarning,\n",
      "/opt/conda/lib/python3.7/site-packages/transformers/tokenization_utils_base.py:2307: FutureWarning: The `pad_to_max_length` argument is deprecated and will be removed in a future version, use `padding=True` or `padding='longest'` to pad to the longest sequence in the batch, or use `padding='max_length'` to pad to a max length. In this case, you can give a specific length with `max_length` (e.g. `max_length=45`) or leave max_length to None to pad to the maximal input size of the model (e.g. 512 for Bert).\n",
      "  FutureWarning,\n",
      "/opt/conda/lib/python3.7/site-packages/transformers/tokenization_utils_base.py:2307: FutureWarning: The `pad_to_max_length` argument is deprecated and will be removed in a future version, use `padding=True` or `padding='longest'` to pad to the longest sequence in the batch, or use `padding='max_length'` to pad to a max length. In this case, you can give a specific length with `max_length` (e.g. `max_length=45`) or leave max_length to None to pad to the maximal input size of the model (e.g. 512 for Bert).\n",
      "  FutureWarning,\n"
     ]
    },
    {
     "name": "stdout",
     "output_type": "stream",
     "text": [
      "Val   loss 0.47864989861639895 accuracy 0.8973561430793157\n",
      "\n",
      "Epoch 3/10\n",
      "----------\n"
     ]
    },
    {
     "name": "stderr",
     "output_type": "stream",
     "text": [
      "/opt/conda/lib/python3.7/site-packages/transformers/tokenization_utils_base.py:2307: FutureWarning: The `pad_to_max_length` argument is deprecated and will be removed in a future version, use `padding=True` or `padding='longest'` to pad to the longest sequence in the batch, or use `padding='max_length'` to pad to a max length. In this case, you can give a specific length with `max_length` (e.g. `max_length=45`) or leave max_length to None to pad to the maximal input size of the model (e.g. 512 for Bert).\n",
      "  FutureWarning,\n",
      "/opt/conda/lib/python3.7/site-packages/transformers/tokenization_utils_base.py:2307: FutureWarning: The `pad_to_max_length` argument is deprecated and will be removed in a future version, use `padding=True` or `padding='longest'` to pad to the longest sequence in the batch, or use `padding='max_length'` to pad to a max length. In this case, you can give a specific length with `max_length` (e.g. `max_length=45`) or leave max_length to None to pad to the maximal input size of the model (e.g. 512 for Bert).\n",
      "  FutureWarning,\n",
      "/opt/conda/lib/python3.7/site-packages/transformers/tokenization_utils_base.py:2307: FutureWarning: The `pad_to_max_length` argument is deprecated and will be removed in a future version, use `padding=True` or `padding='longest'` to pad to the longest sequence in the batch, or use `padding='max_length'` to pad to a max length. In this case, you can give a specific length with `max_length` (e.g. `max_length=45`) or leave max_length to None to pad to the maximal input size of the model (e.g. 512 for Bert).\n",
      "  FutureWarning,\n",
      "/opt/conda/lib/python3.7/site-packages/transformers/tokenization_utils_base.py:2307: FutureWarning: The `pad_to_max_length` argument is deprecated and will be removed in a future version, use `padding=True` or `padding='longest'` to pad to the longest sequence in the batch, or use `padding='max_length'` to pad to a max length. In this case, you can give a specific length with `max_length` (e.g. `max_length=45`) or leave max_length to None to pad to the maximal input size of the model (e.g. 512 for Bert).\n",
      "  FutureWarning,\n"
     ]
    },
    {
     "name": "stdout",
     "output_type": "stream",
     "text": [
      "Train loss 0.18059613536777067 accuracy 0.9618289166552245\n"
     ]
    },
    {
     "name": "stderr",
     "output_type": "stream",
     "text": [
      "/opt/conda/lib/python3.7/site-packages/transformers/tokenization_utils_base.py:2307: FutureWarning: The `pad_to_max_length` argument is deprecated and will be removed in a future version, use `padding=True` or `padding='longest'` to pad to the longest sequence in the batch, or use `padding='max_length'` to pad to a max length. In this case, you can give a specific length with `max_length` (e.g. `max_length=45`) or leave max_length to None to pad to the maximal input size of the model (e.g. 512 for Bert).\n",
      "  FutureWarning,\n",
      "/opt/conda/lib/python3.7/site-packages/transformers/tokenization_utils_base.py:2307: FutureWarning: The `pad_to_max_length` argument is deprecated and will be removed in a future version, use `padding=True` or `padding='longest'` to pad to the longest sequence in the batch, or use `padding='max_length'` to pad to a max length. In this case, you can give a specific length with `max_length` (e.g. `max_length=45`) or leave max_length to None to pad to the maximal input size of the model (e.g. 512 for Bert).\n",
      "  FutureWarning,\n",
      "/opt/conda/lib/python3.7/site-packages/transformers/tokenization_utils_base.py:2307: FutureWarning: The `pad_to_max_length` argument is deprecated and will be removed in a future version, use `padding=True` or `padding='longest'` to pad to the longest sequence in the batch, or use `padding='max_length'` to pad to a max length. In this case, you can give a specific length with `max_length` (e.g. `max_length=45`) or leave max_length to None to pad to the maximal input size of the model (e.g. 512 for Bert).\n",
      "  FutureWarning,\n",
      "/opt/conda/lib/python3.7/site-packages/transformers/tokenization_utils_base.py:2307: FutureWarning: The `pad_to_max_length` argument is deprecated and will be removed in a future version, use `padding=True` or `padding='longest'` to pad to the longest sequence in the batch, or use `padding='max_length'` to pad to a max length. In this case, you can give a specific length with `max_length` (e.g. `max_length=45`) or leave max_length to None to pad to the maximal input size of the model (e.g. 512 for Bert).\n",
      "  FutureWarning,\n"
     ]
    },
    {
     "name": "stdout",
     "output_type": "stream",
     "text": [
      "Val   loss 0.5760382974552932 accuracy 0.9035769828926905\n",
      "\n",
      "Epoch 4/10\n",
      "----------\n"
     ]
    },
    {
     "name": "stderr",
     "output_type": "stream",
     "text": [
      "/opt/conda/lib/python3.7/site-packages/transformers/tokenization_utils_base.py:2307: FutureWarning: The `pad_to_max_length` argument is deprecated and will be removed in a future version, use `padding=True` or `padding='longest'` to pad to the longest sequence in the batch, or use `padding='max_length'` to pad to a max length. In this case, you can give a specific length with `max_length` (e.g. `max_length=45`) or leave max_length to None to pad to the maximal input size of the model (e.g. 512 for Bert).\n",
      "  FutureWarning,\n",
      "/opt/conda/lib/python3.7/site-packages/transformers/tokenization_utils_base.py:2307: FutureWarning: The `pad_to_max_length` argument is deprecated and will be removed in a future version, use `padding=True` or `padding='longest'` to pad to the longest sequence in the batch, or use `padding='max_length'` to pad to a max length. In this case, you can give a specific length with `max_length` (e.g. `max_length=45`) or leave max_length to None to pad to the maximal input size of the model (e.g. 512 for Bert).\n",
      "  FutureWarning,\n",
      "/opt/conda/lib/python3.7/site-packages/transformers/tokenization_utils_base.py:2307: FutureWarning: The `pad_to_max_length` argument is deprecated and will be removed in a future version, use `padding=True` or `padding='longest'` to pad to the longest sequence in the batch, or use `padding='max_length'` to pad to a max length. In this case, you can give a specific length with `max_length` (e.g. `max_length=45`) or leave max_length to None to pad to the maximal input size of the model (e.g. 512 for Bert).\n",
      "  FutureWarning,\n",
      "/opt/conda/lib/python3.7/site-packages/transformers/tokenization_utils_base.py:2307: FutureWarning: The `pad_to_max_length` argument is deprecated and will be removed in a future version, use `padding=True` or `padding='longest'` to pad to the longest sequence in the batch, or use `padding='max_length'` to pad to a max length. In this case, you can give a specific length with `max_length` (e.g. `max_length=45`) or leave max_length to None to pad to the maximal input size of the model (e.g. 512 for Bert).\n",
      "  FutureWarning,\n"
     ]
    },
    {
     "name": "stdout",
     "output_type": "stream",
     "text": [
      "Train loss 0.10691949937294971 accuracy 0.9788548674996568\n"
     ]
    },
    {
     "name": "stderr",
     "output_type": "stream",
     "text": [
      "/opt/conda/lib/python3.7/site-packages/transformers/tokenization_utils_base.py:2307: FutureWarning: The `pad_to_max_length` argument is deprecated and will be removed in a future version, use `padding=True` or `padding='longest'` to pad to the longest sequence in the batch, or use `padding='max_length'` to pad to a max length. In this case, you can give a specific length with `max_length` (e.g. `max_length=45`) or leave max_length to None to pad to the maximal input size of the model (e.g. 512 for Bert).\n",
      "  FutureWarning,\n",
      "/opt/conda/lib/python3.7/site-packages/transformers/tokenization_utils_base.py:2307: FutureWarning: The `pad_to_max_length` argument is deprecated and will be removed in a future version, use `padding=True` or `padding='longest'` to pad to the longest sequence in the batch, or use `padding='max_length'` to pad to a max length. In this case, you can give a specific length with `max_length` (e.g. `max_length=45`) or leave max_length to None to pad to the maximal input size of the model (e.g. 512 for Bert).\n",
      "  FutureWarning,\n",
      "/opt/conda/lib/python3.7/site-packages/transformers/tokenization_utils_base.py:2307: FutureWarning: The `pad_to_max_length` argument is deprecated and will be removed in a future version, use `padding=True` or `padding='longest'` to pad to the longest sequence in the batch, or use `padding='max_length'` to pad to a max length. In this case, you can give a specific length with `max_length` (e.g. `max_length=45`) or leave max_length to None to pad to the maximal input size of the model (e.g. 512 for Bert).\n",
      "  FutureWarning,\n",
      "/opt/conda/lib/python3.7/site-packages/transformers/tokenization_utils_base.py:2307: FutureWarning: The `pad_to_max_length` argument is deprecated and will be removed in a future version, use `padding=True` or `padding='longest'` to pad to the longest sequence in the batch, or use `padding='max_length'` to pad to a max length. In this case, you can give a specific length with `max_length` (e.g. `max_length=45`) or leave max_length to None to pad to the maximal input size of the model (e.g. 512 for Bert).\n",
      "  FutureWarning,\n"
     ]
    },
    {
     "name": "stdout",
     "output_type": "stream",
     "text": [
      "Val   loss 0.7171076697078596 accuracy 0.8989113530326595\n",
      "\n",
      "Epoch 5/10\n",
      "----------\n"
     ]
    },
    {
     "name": "stderr",
     "output_type": "stream",
     "text": [
      "/opt/conda/lib/python3.7/site-packages/transformers/tokenization_utils_base.py:2307: FutureWarning: The `pad_to_max_length` argument is deprecated and will be removed in a future version, use `padding=True` or `padding='longest'` to pad to the longest sequence in the batch, or use `padding='max_length'` to pad to a max length. In this case, you can give a specific length with `max_length` (e.g. `max_length=45`) or leave max_length to None to pad to the maximal input size of the model (e.g. 512 for Bert).\n",
      "  FutureWarning,\n",
      "/opt/conda/lib/python3.7/site-packages/transformers/tokenization_utils_base.py:2307: FutureWarning: The `pad_to_max_length` argument is deprecated and will be removed in a future version, use `padding=True` or `padding='longest'` to pad to the longest sequence in the batch, or use `padding='max_length'` to pad to a max length. In this case, you can give a specific length with `max_length` (e.g. `max_length=45`) or leave max_length to None to pad to the maximal input size of the model (e.g. 512 for Bert).\n",
      "  FutureWarning,\n",
      "/opt/conda/lib/python3.7/site-packages/transformers/tokenization_utils_base.py:2307: FutureWarning: The `pad_to_max_length` argument is deprecated and will be removed in a future version, use `padding=True` or `padding='longest'` to pad to the longest sequence in the batch, or use `padding='max_length'` to pad to a max length. In this case, you can give a specific length with `max_length` (e.g. `max_length=45`) or leave max_length to None to pad to the maximal input size of the model (e.g. 512 for Bert).\n",
      "  FutureWarning,\n",
      "/opt/conda/lib/python3.7/site-packages/transformers/tokenization_utils_base.py:2307: FutureWarning: The `pad_to_max_length` argument is deprecated and will be removed in a future version, use `padding=True` or `padding='longest'` to pad to the longest sequence in the batch, or use `padding='max_length'` to pad to a max length. In this case, you can give a specific length with `max_length` (e.g. `max_length=45`) or leave max_length to None to pad to the maximal input size of the model (e.g. 512 for Bert).\n",
      "  FutureWarning,\n"
     ]
    },
    {
     "name": "stdout",
     "output_type": "stream",
     "text": [
      "Train loss 0.07812703165025561 accuracy 0.9858574763147054\n"
     ]
    },
    {
     "name": "stderr",
     "output_type": "stream",
     "text": [
      "/opt/conda/lib/python3.7/site-packages/transformers/tokenization_utils_base.py:2307: FutureWarning: The `pad_to_max_length` argument is deprecated and will be removed in a future version, use `padding=True` or `padding='longest'` to pad to the longest sequence in the batch, or use `padding='max_length'` to pad to a max length. In this case, you can give a specific length with `max_length` (e.g. `max_length=45`) or leave max_length to None to pad to the maximal input size of the model (e.g. 512 for Bert).\n",
      "  FutureWarning,\n",
      "/opt/conda/lib/python3.7/site-packages/transformers/tokenization_utils_base.py:2307: FutureWarning: The `pad_to_max_length` argument is deprecated and will be removed in a future version, use `padding=True` or `padding='longest'` to pad to the longest sequence in the batch, or use `padding='max_length'` to pad to a max length. In this case, you can give a specific length with `max_length` (e.g. `max_length=45`) or leave max_length to None to pad to the maximal input size of the model (e.g. 512 for Bert).\n",
      "  FutureWarning,\n",
      "/opt/conda/lib/python3.7/site-packages/transformers/tokenization_utils_base.py:2307: FutureWarning: The `pad_to_max_length` argument is deprecated and will be removed in a future version, use `padding=True` or `padding='longest'` to pad to the longest sequence in the batch, or use `padding='max_length'` to pad to a max length. In this case, you can give a specific length with `max_length` (e.g. `max_length=45`) or leave max_length to None to pad to the maximal input size of the model (e.g. 512 for Bert).\n",
      "  FutureWarning,\n",
      "/opt/conda/lib/python3.7/site-packages/transformers/tokenization_utils_base.py:2307: FutureWarning: The `pad_to_max_length` argument is deprecated and will be removed in a future version, use `padding=True` or `padding='longest'` to pad to the longest sequence in the batch, or use `padding='max_length'` to pad to a max length. In this case, you can give a specific length with `max_length` (e.g. `max_length=45`) or leave max_length to None to pad to the maximal input size of the model (e.g. 512 for Bert).\n",
      "  FutureWarning,\n"
     ]
    },
    {
     "name": "stdout",
     "output_type": "stream",
     "text": [
      "Val   loss 0.7526022186419548 accuracy 0.9051321928460342\n",
      "\n",
      "Epoch 6/10\n",
      "----------\n"
     ]
    },
    {
     "name": "stderr",
     "output_type": "stream",
     "text": [
      "/opt/conda/lib/python3.7/site-packages/transformers/tokenization_utils_base.py:2307: FutureWarning: The `pad_to_max_length` argument is deprecated and will be removed in a future version, use `padding=True` or `padding='longest'` to pad to the longest sequence in the batch, or use `padding='max_length'` to pad to a max length. In this case, you can give a specific length with `max_length` (e.g. `max_length=45`) or leave max_length to None to pad to the maximal input size of the model (e.g. 512 for Bert).\n",
      "  FutureWarning,\n",
      "/opt/conda/lib/python3.7/site-packages/transformers/tokenization_utils_base.py:2307: FutureWarning: The `pad_to_max_length` argument is deprecated and will be removed in a future version, use `padding=True` or `padding='longest'` to pad to the longest sequence in the batch, or use `padding='max_length'` to pad to a max length. In this case, you can give a specific length with `max_length` (e.g. `max_length=45`) or leave max_length to None to pad to the maximal input size of the model (e.g. 512 for Bert).\n",
      "  FutureWarning,\n",
      "/opt/conda/lib/python3.7/site-packages/transformers/tokenization_utils_base.py:2307: FutureWarning: The `pad_to_max_length` argument is deprecated and will be removed in a future version, use `padding=True` or `padding='longest'` to pad to the longest sequence in the batch, or use `padding='max_length'` to pad to a max length. In this case, you can give a specific length with `max_length` (e.g. `max_length=45`) or leave max_length to None to pad to the maximal input size of the model (e.g. 512 for Bert).\n",
      "  FutureWarning,\n",
      "/opt/conda/lib/python3.7/site-packages/transformers/tokenization_utils_base.py:2307: FutureWarning: The `pad_to_max_length` argument is deprecated and will be removed in a future version, use `padding=True` or `padding='longest'` to pad to the longest sequence in the batch, or use `padding='max_length'` to pad to a max length. In this case, you can give a specific length with `max_length` (e.g. `max_length=45`) or leave max_length to None to pad to the maximal input size of the model (e.g. 512 for Bert).\n",
      "  FutureWarning,\n"
     ]
    },
    {
     "name": "stdout",
     "output_type": "stream",
     "text": [
      "Train loss 0.04636801808636313 accuracy 0.991761636688178\n"
     ]
    },
    {
     "name": "stderr",
     "output_type": "stream",
     "text": [
      "/opt/conda/lib/python3.7/site-packages/transformers/tokenization_utils_base.py:2307: FutureWarning: The `pad_to_max_length` argument is deprecated and will be removed in a future version, use `padding=True` or `padding='longest'` to pad to the longest sequence in the batch, or use `padding='max_length'` to pad to a max length. In this case, you can give a specific length with `max_length` (e.g. `max_length=45`) or leave max_length to None to pad to the maximal input size of the model (e.g. 512 for Bert).\n",
      "  FutureWarning,\n",
      "/opt/conda/lib/python3.7/site-packages/transformers/tokenization_utils_base.py:2307: FutureWarning: The `pad_to_max_length` argument is deprecated and will be removed in a future version, use `padding=True` or `padding='longest'` to pad to the longest sequence in the batch, or use `padding='max_length'` to pad to a max length. In this case, you can give a specific length with `max_length` (e.g. `max_length=45`) or leave max_length to None to pad to the maximal input size of the model (e.g. 512 for Bert).\n",
      "  FutureWarning,\n",
      "/opt/conda/lib/python3.7/site-packages/transformers/tokenization_utils_base.py:2307: FutureWarning: The `pad_to_max_length` argument is deprecated and will be removed in a future version, use `padding=True` or `padding='longest'` to pad to the longest sequence in the batch, or use `padding='max_length'` to pad to a max length. In this case, you can give a specific length with `max_length` (e.g. `max_length=45`) or leave max_length to None to pad to the maximal input size of the model (e.g. 512 for Bert).\n",
      "  FutureWarning,\n",
      "/opt/conda/lib/python3.7/site-packages/transformers/tokenization_utils_base.py:2307: FutureWarning: The `pad_to_max_length` argument is deprecated and will be removed in a future version, use `padding=True` or `padding='longest'` to pad to the longest sequence in the batch, or use `padding='max_length'` to pad to a max length. In this case, you can give a specific length with `max_length` (e.g. `max_length=45`) or leave max_length to None to pad to the maximal input size of the model (e.g. 512 for Bert).\n",
      "  FutureWarning,\n"
     ]
    },
    {
     "name": "stdout",
     "output_type": "stream",
     "text": [
      "Val   loss 0.7031630266936427 accuracy 0.9082426127527217\n",
      "\n",
      "Epoch 7/10\n",
      "----------\n"
     ]
    },
    {
     "name": "stderr",
     "output_type": "stream",
     "text": [
      "/opt/conda/lib/python3.7/site-packages/transformers/tokenization_utils_base.py:2307: FutureWarning: The `pad_to_max_length` argument is deprecated and will be removed in a future version, use `padding=True` or `padding='longest'` to pad to the longest sequence in the batch, or use `padding='max_length'` to pad to a max length. In this case, you can give a specific length with `max_length` (e.g. `max_length=45`) or leave max_length to None to pad to the maximal input size of the model (e.g. 512 for Bert).\n",
      "  FutureWarning,\n",
      "/opt/conda/lib/python3.7/site-packages/transformers/tokenization_utils_base.py:2307: FutureWarning: The `pad_to_max_length` argument is deprecated and will be removed in a future version, use `padding=True` or `padding='longest'` to pad to the longest sequence in the batch, or use `padding='max_length'` to pad to a max length. In this case, you can give a specific length with `max_length` (e.g. `max_length=45`) or leave max_length to None to pad to the maximal input size of the model (e.g. 512 for Bert).\n",
      "  FutureWarning,\n",
      "/opt/conda/lib/python3.7/site-packages/transformers/tokenization_utils_base.py:2307: FutureWarning: The `pad_to_max_length` argument is deprecated and will be removed in a future version, use `padding=True` or `padding='longest'` to pad to the longest sequence in the batch, or use `padding='max_length'` to pad to a max length. In this case, you can give a specific length with `max_length` (e.g. `max_length=45`) or leave max_length to None to pad to the maximal input size of the model (e.g. 512 for Bert).\n",
      "  FutureWarning,\n",
      "/opt/conda/lib/python3.7/site-packages/transformers/tokenization_utils_base.py:2307: FutureWarning: The `pad_to_max_length` argument is deprecated and will be removed in a future version, use `padding=True` or `padding='longest'` to pad to the longest sequence in the batch, or use `padding='max_length'` to pad to a max length. In this case, you can give a specific length with `max_length` (e.g. `max_length=45`) or leave max_length to None to pad to the maximal input size of the model (e.g. 512 for Bert).\n",
      "  FutureWarning,\n"
     ]
    },
    {
     "name": "stdout",
     "output_type": "stream",
     "text": [
      "Train loss 0.029213987750291395 accuracy 0.9953315941233009\n"
     ]
    },
    {
     "name": "stderr",
     "output_type": "stream",
     "text": [
      "/opt/conda/lib/python3.7/site-packages/transformers/tokenization_utils_base.py:2307: FutureWarning: The `pad_to_max_length` argument is deprecated and will be removed in a future version, use `padding=True` or `padding='longest'` to pad to the longest sequence in the batch, or use `padding='max_length'` to pad to a max length. In this case, you can give a specific length with `max_length` (e.g. `max_length=45`) or leave max_length to None to pad to the maximal input size of the model (e.g. 512 for Bert).\n",
      "  FutureWarning,\n",
      "/opt/conda/lib/python3.7/site-packages/transformers/tokenization_utils_base.py:2307: FutureWarning: The `pad_to_max_length` argument is deprecated and will be removed in a future version, use `padding=True` or `padding='longest'` to pad to the longest sequence in the batch, or use `padding='max_length'` to pad to a max length. In this case, you can give a specific length with `max_length` (e.g. `max_length=45`) or leave max_length to None to pad to the maximal input size of the model (e.g. 512 for Bert).\n",
      "  FutureWarning,\n",
      "/opt/conda/lib/python3.7/site-packages/transformers/tokenization_utils_base.py:2307: FutureWarning: The `pad_to_max_length` argument is deprecated and will be removed in a future version, use `padding=True` or `padding='longest'` to pad to the longest sequence in the batch, or use `padding='max_length'` to pad to a max length. In this case, you can give a specific length with `max_length` (e.g. `max_length=45`) or leave max_length to None to pad to the maximal input size of the model (e.g. 512 for Bert).\n",
      "  FutureWarning,\n",
      "/opt/conda/lib/python3.7/site-packages/transformers/tokenization_utils_base.py:2307: FutureWarning: The `pad_to_max_length` argument is deprecated and will be removed in a future version, use `padding=True` or `padding='longest'` to pad to the longest sequence in the batch, or use `padding='max_length'` to pad to a max length. In this case, you can give a specific length with `max_length` (e.g. `max_length=45`) or leave max_length to None to pad to the maximal input size of the model (e.g. 512 for Bert).\n",
      "  FutureWarning,\n"
     ]
    },
    {
     "name": "stdout",
     "output_type": "stream",
     "text": [
      "Val   loss 0.7767830496730719 accuracy 0.9051321928460342\n",
      "\n",
      "Epoch 8/10\n",
      "----------\n"
     ]
    },
    {
     "name": "stderr",
     "output_type": "stream",
     "text": [
      "/opt/conda/lib/python3.7/site-packages/transformers/tokenization_utils_base.py:2307: FutureWarning: The `pad_to_max_length` argument is deprecated and will be removed in a future version, use `padding=True` or `padding='longest'` to pad to the longest sequence in the batch, or use `padding='max_length'` to pad to a max length. In this case, you can give a specific length with `max_length` (e.g. `max_length=45`) or leave max_length to None to pad to the maximal input size of the model (e.g. 512 for Bert).\n",
      "  FutureWarning,\n",
      "/opt/conda/lib/python3.7/site-packages/transformers/tokenization_utils_base.py:2307: FutureWarning: The `pad_to_max_length` argument is deprecated and will be removed in a future version, use `padding=True` or `padding='longest'` to pad to the longest sequence in the batch, or use `padding='max_length'` to pad to a max length. In this case, you can give a specific length with `max_length` (e.g. `max_length=45`) or leave max_length to None to pad to the maximal input size of the model (e.g. 512 for Bert).\n",
      "  FutureWarning,\n",
      "/opt/conda/lib/python3.7/site-packages/transformers/tokenization_utils_base.py:2307: FutureWarning: The `pad_to_max_length` argument is deprecated and will be removed in a future version, use `padding=True` or `padding='longest'` to pad to the longest sequence in the batch, or use `padding='max_length'` to pad to a max length. In this case, you can give a specific length with `max_length` (e.g. `max_length=45`) or leave max_length to None to pad to the maximal input size of the model (e.g. 512 for Bert).\n",
      "  FutureWarning,\n",
      "/opt/conda/lib/python3.7/site-packages/transformers/tokenization_utils_base.py:2307: FutureWarning: The `pad_to_max_length` argument is deprecated and will be removed in a future version, use `padding=True` or `padding='longest'` to pad to the longest sequence in the batch, or use `padding='max_length'` to pad to a max length. In this case, you can give a specific length with `max_length` (e.g. `max_length=45`) or leave max_length to None to pad to the maximal input size of the model (e.g. 512 for Bert).\n",
      "  FutureWarning,\n"
     ]
    },
    {
     "name": "stdout",
     "output_type": "stream",
     "text": [
      "Train loss 0.01843191126184281 accuracy 0.9968419607304682\n"
     ]
    },
    {
     "name": "stderr",
     "output_type": "stream",
     "text": [
      "/opt/conda/lib/python3.7/site-packages/transformers/tokenization_utils_base.py:2307: FutureWarning: The `pad_to_max_length` argument is deprecated and will be removed in a future version, use `padding=True` or `padding='longest'` to pad to the longest sequence in the batch, or use `padding='max_length'` to pad to a max length. In this case, you can give a specific length with `max_length` (e.g. `max_length=45`) or leave max_length to None to pad to the maximal input size of the model (e.g. 512 for Bert).\n",
      "  FutureWarning,\n",
      "/opt/conda/lib/python3.7/site-packages/transformers/tokenization_utils_base.py:2307: FutureWarning: The `pad_to_max_length` argument is deprecated and will be removed in a future version, use `padding=True` or `padding='longest'` to pad to the longest sequence in the batch, or use `padding='max_length'` to pad to a max length. In this case, you can give a specific length with `max_length` (e.g. `max_length=45`) or leave max_length to None to pad to the maximal input size of the model (e.g. 512 for Bert).\n",
      "  FutureWarning,\n",
      "/opt/conda/lib/python3.7/site-packages/transformers/tokenization_utils_base.py:2307: FutureWarning: The `pad_to_max_length` argument is deprecated and will be removed in a future version, use `padding=True` or `padding='longest'` to pad to the longest sequence in the batch, or use `padding='max_length'` to pad to a max length. In this case, you can give a specific length with `max_length` (e.g. `max_length=45`) or leave max_length to None to pad to the maximal input size of the model (e.g. 512 for Bert).\n",
      "  FutureWarning,\n",
      "/opt/conda/lib/python3.7/site-packages/transformers/tokenization_utils_base.py:2307: FutureWarning: The `pad_to_max_length` argument is deprecated and will be removed in a future version, use `padding=True` or `padding='longest'` to pad to the longest sequence in the batch, or use `padding='max_length'` to pad to a max length. In this case, you can give a specific length with `max_length` (e.g. `max_length=45`) or leave max_length to None to pad to the maximal input size of the model (e.g. 512 for Bert).\n",
      "  FutureWarning,\n"
     ]
    },
    {
     "name": "stdout",
     "output_type": "stream",
     "text": [
      "Val   loss 0.7536621269806877 accuracy 0.9097978227060654\n",
      "\n",
      "Epoch 9/10\n",
      "----------\n"
     ]
    },
    {
     "name": "stderr",
     "output_type": "stream",
     "text": [
      "/opt/conda/lib/python3.7/site-packages/transformers/tokenization_utils_base.py:2307: FutureWarning: The `pad_to_max_length` argument is deprecated and will be removed in a future version, use `padding=True` or `padding='longest'` to pad to the longest sequence in the batch, or use `padding='max_length'` to pad to a max length. In this case, you can give a specific length with `max_length` (e.g. `max_length=45`) or leave max_length to None to pad to the maximal input size of the model (e.g. 512 for Bert).\n",
      "  FutureWarning,\n",
      "/opt/conda/lib/python3.7/site-packages/transformers/tokenization_utils_base.py:2307: FutureWarning: The `pad_to_max_length` argument is deprecated and will be removed in a future version, use `padding=True` or `padding='longest'` to pad to the longest sequence in the batch, or use `padding='max_length'` to pad to a max length. In this case, you can give a specific length with `max_length` (e.g. `max_length=45`) or leave max_length to None to pad to the maximal input size of the model (e.g. 512 for Bert).\n",
      "  FutureWarning,\n",
      "/opt/conda/lib/python3.7/site-packages/transformers/tokenization_utils_base.py:2307: FutureWarning: The `pad_to_max_length` argument is deprecated and will be removed in a future version, use `padding=True` or `padding='longest'` to pad to the longest sequence in the batch, or use `padding='max_length'` to pad to a max length. In this case, you can give a specific length with `max_length` (e.g. `max_length=45`) or leave max_length to None to pad to the maximal input size of the model (e.g. 512 for Bert).\n",
      "  FutureWarning,\n",
      "/opt/conda/lib/python3.7/site-packages/transformers/tokenization_utils_base.py:2307: FutureWarning: The `pad_to_max_length` argument is deprecated and will be removed in a future version, use `padding=True` or `padding='longest'` to pad to the longest sequence in the batch, or use `padding='max_length'` to pad to a max length. In this case, you can give a specific length with `max_length` (e.g. `max_length=45`) or leave max_length to None to pad to the maximal input size of the model (e.g. 512 for Bert).\n",
      "  FutureWarning,\n"
     ]
    },
    {
     "name": "stdout",
     "output_type": "stream",
     "text": [
      "Train loss 0.013501554159153595 accuracy 0.9982150212824386\n"
     ]
    },
    {
     "name": "stderr",
     "output_type": "stream",
     "text": [
      "/opt/conda/lib/python3.7/site-packages/transformers/tokenization_utils_base.py:2307: FutureWarning: The `pad_to_max_length` argument is deprecated and will be removed in a future version, use `padding=True` or `padding='longest'` to pad to the longest sequence in the batch, or use `padding='max_length'` to pad to a max length. In this case, you can give a specific length with `max_length` (e.g. `max_length=45`) or leave max_length to None to pad to the maximal input size of the model (e.g. 512 for Bert).\n",
      "  FutureWarning,\n",
      "/opt/conda/lib/python3.7/site-packages/transformers/tokenization_utils_base.py:2307: FutureWarning: The `pad_to_max_length` argument is deprecated and will be removed in a future version, use `padding=True` or `padding='longest'` to pad to the longest sequence in the batch, or use `padding='max_length'` to pad to a max length. In this case, you can give a specific length with `max_length` (e.g. `max_length=45`) or leave max_length to None to pad to the maximal input size of the model (e.g. 512 for Bert).\n",
      "  FutureWarning,\n",
      "/opt/conda/lib/python3.7/site-packages/transformers/tokenization_utils_base.py:2307: FutureWarning: The `pad_to_max_length` argument is deprecated and will be removed in a future version, use `padding=True` or `padding='longest'` to pad to the longest sequence in the batch, or use `padding='max_length'` to pad to a max length. In this case, you can give a specific length with `max_length` (e.g. `max_length=45`) or leave max_length to None to pad to the maximal input size of the model (e.g. 512 for Bert).\n",
      "  FutureWarning,\n",
      "/opt/conda/lib/python3.7/site-packages/transformers/tokenization_utils_base.py:2307: FutureWarning: The `pad_to_max_length` argument is deprecated and will be removed in a future version, use `padding=True` or `padding='longest'` to pad to the longest sequence in the batch, or use `padding='max_length'` to pad to a max length. In this case, you can give a specific length with `max_length` (e.g. `max_length=45`) or leave max_length to None to pad to the maximal input size of the model (e.g. 512 for Bert).\n",
      "  FutureWarning,\n"
     ]
    },
    {
     "name": "stdout",
     "output_type": "stream",
     "text": [
      "Val   loss 0.7832090703611883 accuracy 0.9027993779160186\n",
      "\n",
      "Epoch 10/10\n",
      "----------\n"
     ]
    },
    {
     "name": "stderr",
     "output_type": "stream",
     "text": [
      "/opt/conda/lib/python3.7/site-packages/transformers/tokenization_utils_base.py:2307: FutureWarning: The `pad_to_max_length` argument is deprecated and will be removed in a future version, use `padding=True` or `padding='longest'` to pad to the longest sequence in the batch, or use `padding='max_length'` to pad to a max length. In this case, you can give a specific length with `max_length` (e.g. `max_length=45`) or leave max_length to None to pad to the maximal input size of the model (e.g. 512 for Bert).\n",
      "  FutureWarning,\n",
      "/opt/conda/lib/python3.7/site-packages/transformers/tokenization_utils_base.py:2307: FutureWarning: The `pad_to_max_length` argument is deprecated and will be removed in a future version, use `padding=True` or `padding='longest'` to pad to the longest sequence in the batch, or use `padding='max_length'` to pad to a max length. In this case, you can give a specific length with `max_length` (e.g. `max_length=45`) or leave max_length to None to pad to the maximal input size of the model (e.g. 512 for Bert).\n",
      "  FutureWarning,\n",
      "/opt/conda/lib/python3.7/site-packages/transformers/tokenization_utils_base.py:2307: FutureWarning: The `pad_to_max_length` argument is deprecated and will be removed in a future version, use `padding=True` or `padding='longest'` to pad to the longest sequence in the batch, or use `padding='max_length'` to pad to a max length. In this case, you can give a specific length with `max_length` (e.g. `max_length=45`) or leave max_length to None to pad to the maximal input size of the model (e.g. 512 for Bert).\n",
      "  FutureWarning,\n",
      "/opt/conda/lib/python3.7/site-packages/transformers/tokenization_utils_base.py:2307: FutureWarning: The `pad_to_max_length` argument is deprecated and will be removed in a future version, use `padding=True` or `padding='longest'` to pad to the longest sequence in the batch, or use `padding='max_length'` to pad to a max length. In this case, you can give a specific length with `max_length` (e.g. `max_length=45`) or leave max_length to None to pad to the maximal input size of the model (e.g. 512 for Bert).\n",
      "  FutureWarning,\n"
     ]
    },
    {
     "name": "stdout",
     "output_type": "stream",
     "text": [
      "Train loss 0.016385277698552053 accuracy 0.9976657970616504\n"
     ]
    },
    {
     "name": "stderr",
     "output_type": "stream",
     "text": [
      "/opt/conda/lib/python3.7/site-packages/transformers/tokenization_utils_base.py:2307: FutureWarning: The `pad_to_max_length` argument is deprecated and will be removed in a future version, use `padding=True` or `padding='longest'` to pad to the longest sequence in the batch, or use `padding='max_length'` to pad to a max length. In this case, you can give a specific length with `max_length` (e.g. `max_length=45`) or leave max_length to None to pad to the maximal input size of the model (e.g. 512 for Bert).\n",
      "  FutureWarning,\n",
      "/opt/conda/lib/python3.7/site-packages/transformers/tokenization_utils_base.py:2307: FutureWarning: The `pad_to_max_length` argument is deprecated and will be removed in a future version, use `padding=True` or `padding='longest'` to pad to the longest sequence in the batch, or use `padding='max_length'` to pad to a max length. In this case, you can give a specific length with `max_length` (e.g. `max_length=45`) or leave max_length to None to pad to the maximal input size of the model (e.g. 512 for Bert).\n",
      "  FutureWarning,\n",
      "/opt/conda/lib/python3.7/site-packages/transformers/tokenization_utils_base.py:2307: FutureWarning: The `pad_to_max_length` argument is deprecated and will be removed in a future version, use `padding=True` or `padding='longest'` to pad to the longest sequence in the batch, or use `padding='max_length'` to pad to a max length. In this case, you can give a specific length with `max_length` (e.g. `max_length=45`) or leave max_length to None to pad to the maximal input size of the model (e.g. 512 for Bert).\n",
      "  FutureWarning,\n",
      "/opt/conda/lib/python3.7/site-packages/transformers/tokenization_utils_base.py:2307: FutureWarning: The `pad_to_max_length` argument is deprecated and will be removed in a future version, use `padding=True` or `padding='longest'` to pad to the longest sequence in the batch, or use `padding='max_length'` to pad to a max length. In this case, you can give a specific length with `max_length` (e.g. `max_length=45`) or leave max_length to None to pad to the maximal input size of the model (e.g. 512 for Bert).\n",
      "  FutureWarning,\n"
     ]
    },
    {
     "name": "stdout",
     "output_type": "stream",
     "text": [
      "Val   loss 0.7832090703611883 accuracy 0.9027993779160186\n",
      "\n",
      "CPU times: user 57min 57s, sys: 16min 36s, total: 1h 14min 34s\n",
      "Wall time: 1h 15min 48s\n"
     ]
    }
   ],
   "source": [
    "%%time\n",
    "history = defaultdict(list)\n",
    "best_accuracy = 0\n",
    "for epoch in range(EPOCHS):\n",
    "  print(f'Epoch {epoch + 1}/{EPOCHS}')\n",
    "  print('-' * 10)\n",
    "  train_acc, train_loss = train_epoch(\n",
    "    model,\n",
    "    train_data_loader,\n",
    "    loss_fn,\n",
    "    optimizer,\n",
    "    device,\n",
    "    scheduler,\n",
    "    len(df[df['data_type']=='train'])\n",
    "  )\n",
    "  print(f'Train loss {train_loss} accuracy {train_acc}')\n",
    "  val_acc, val_loss = eval_model(\n",
    "    model,\n",
    "    val_data_loader,\n",
    "    loss_fn,\n",
    "    device,\n",
    "    len(df[df['data_type']=='val'])\n",
    "  )\n",
    "  print(f'Val   loss {val_loss} accuracy {val_acc}')\n",
    "  print()\n",
    "  history['train_acc'].append(train_acc)\n",
    "  history['train_loss'].append(train_loss)\n",
    "  history['val_acc'].append(val_acc)\n",
    "  history['val_loss'].append(val_loss)\n",
    "  if val_acc > best_accuracy:\n",
    "    torch.save({\n",
    "        'model_state_dict': model.state_dict(),\n",
    "        'optimizer_state_dict': optimizer.state_dict()\n",
    "    }, 'folder/bert_model_.pth')\n",
    "    #torch.save(model.state_dict(), 'best_model_state.bin')\n",
    "    best_accuracy = val_acc"
   ]
  },
  {
   "cell_type": "code",
   "execution_count": 77,
   "id": "02fd9892-3191-4add-865d-8f7af52a2f9e",
   "metadata": {
    "execution": {
     "iopub.execute_input": "2023-01-02T08:10:55.258373Z",
     "iopub.status.busy": "2023-01-02T08:10:55.257980Z",
     "iopub.status.idle": "2023-01-02T08:10:55.265024Z",
     "shell.execute_reply": "2023-01-02T08:10:55.263730Z",
     "shell.execute_reply.started": "2023-01-02T08:10:55.258335Z"
    }
   },
   "outputs": [],
   "source": [
    "l=[]\n",
    "for obj in history['train_acc']:\n",
    "    l.append(obj.cpu().numpy())\n",
    "history['train_acc']=l"
   ]
  },
  {
   "cell_type": "code",
   "execution_count": 78,
   "id": "80dade73-e1d3-49d8-b070-c237645a3543",
   "metadata": {
    "execution": {
     "iopub.execute_input": "2023-01-02T08:11:02.633628Z",
     "iopub.status.busy": "2023-01-02T08:11:02.633246Z",
     "iopub.status.idle": "2023-01-02T08:11:02.642081Z",
     "shell.execute_reply": "2023-01-02T08:11:02.640792Z",
     "shell.execute_reply.started": "2023-01-02T08:11:02.633595Z"
    }
   },
   "outputs": [
    {
     "data": {
      "text/plain": [
       "[array(0.98846629),\n",
       " array(0.99382123),\n",
       " array(0.99588082),\n",
       " array(0.99794041),\n",
       " array(0.99903886),\n",
       " array(0.99931347),\n",
       " array(0.99945078),\n",
       " array(0.99945078),\n",
       " array(0.99931347),\n",
       " array(0.99958808)]"
      ]
     },
     "execution_count": 78,
     "metadata": {},
     "output_type": "execute_result"
    }
   ],
   "source": [
    "history['train_acc']"
   ]
  },
  {
   "cell_type": "code",
   "execution_count": 81,
   "id": "67db7e65-2760-49c6-92a1-2255071b4a40",
   "metadata": {
    "execution": {
     "iopub.execute_input": "2023-01-02T08:12:03.624353Z",
     "iopub.status.busy": "2023-01-02T08:12:03.623980Z",
     "iopub.status.idle": "2023-01-02T08:12:03.630898Z",
     "shell.execute_reply": "2023-01-02T08:12:03.629571Z",
     "shell.execute_reply.started": "2023-01-02T08:12:03.624321Z"
    }
   },
   "outputs": [],
   "source": [
    "l=[]\n",
    "for obj in history['val_acc']:\n",
    "    l.append(obj.cpu().numpy())\n",
    "history['val_acc']=l"
   ]
  },
  {
   "cell_type": "code",
   "execution_count": 82,
   "id": "df3d5f43-bdc4-4e5e-b2d7-407865f5ce5f",
   "metadata": {
    "execution": {
     "iopub.execute_input": "2023-01-02T08:12:05.246208Z",
     "iopub.status.busy": "2023-01-02T08:12:05.245815Z",
     "iopub.status.idle": "2023-01-02T08:12:05.657495Z",
     "shell.execute_reply": "2023-01-02T08:12:05.656536Z",
     "shell.execute_reply.started": "2023-01-02T08:12:05.246167Z"
    }
   },
   "outputs": [
    {
     "data": {
      "image/png": "[encoded data removed]",
      "text/plain": [
       "<Figure size 864x576 with 1 Axes>"
      ]
     },
     "metadata": {
      "image/png": {
       "height": 506,
       "width": 732
      }
     },
     "output_type": "display_data"
    }
   ],
   "source": [
    "plt.plot(history['train_acc'], label='train accuracy')\n",
    "plt.plot(history['val_acc'], label='validation accuracy')\n",
    "plt.title('Training history')\n",
    "plt.ylabel('Accuracy')\n",
    "plt.xlabel('Epoch')\n",
    "plt.legend()\n",
    "plt.ylim([0, 1]);"
   ]
  },
  {
   "cell_type": "markdown",
   "id": "d30d6118-2ca2-4fd5-9378-e94df58a5393",
   "metadata": {},
   "source": [
    "#### Prediction"
   ]
  },
  {
   "cell_type": "code",
   "execution_count": 101,
   "id": "286d8f9e-5ca5-44cd-ab2a-a42714df017a",
   "metadata": {
    "execution": {
     "iopub.execute_input": "2023-01-02T09:45:25.632913Z",
     "iopub.status.busy": "2023-01-02T09:45:25.632512Z",
     "iopub.status.idle": "2023-01-02T09:45:26.659519Z",
     "shell.execute_reply": "2023-01-02T09:45:26.658204Z",
     "shell.execute_reply.started": "2023-01-02T09:45:25.632878Z"
    }
   },
   "outputs": [
    {
     "name": "stdout",
     "output_type": "stream",
     "text": [
      "__notebook_source__.ipynb  best_model_state.bin\n"
     ]
    }
   ],
   "source": [
    "ls"
   ]
  },
  {
   "cell_type": "code",
   "execution_count": 84,
   "id": "4633c7ec-3a20-47c8-a795-ad41d69c883d",
   "metadata": {
    "execution": {
     "iopub.execute_input": "2023-01-02T08:12:59.458277Z",
     "iopub.status.busy": "2023-01-02T08:12:59.457878Z",
     "iopub.status.idle": "2023-01-02T08:12:59.462895Z",
     "shell.execute_reply": "2023-01-02T08:12:59.461600Z",
     "shell.execute_reply.started": "2023-01-02T08:12:59.458241Z"
    }
   },
   "outputs": [],
   "source": [
    "review_text = \"I love completing my todos! Best app ever!!!\""
   ]
  },
  {
   "cell_type": "code",
   "execution_count": 85,
   "id": "ac8a2dfc-3fe8-4a37-85d7-96464abde50d",
   "metadata": {
    "execution": {
     "iopub.execute_input": "2023-01-02T08:16:02.466257Z",
     "iopub.status.busy": "2023-01-02T08:16:02.465871Z",
     "iopub.status.idle": "2023-01-02T08:16:02.473643Z",
     "shell.execute_reply": "2023-01-02T08:16:02.472566Z",
     "shell.execute_reply.started": "2023-01-02T08:16:02.466224Z"
    }
   },
   "outputs": [
    {
     "name": "stderr",
     "output_type": "stream",
     "text": [
      "/opt/conda/lib/python3.7/site-packages/transformers/tokenization_utils_base.py:2307: FutureWarning: The `pad_to_max_length` argument is deprecated and will be removed in a future version, use `padding=True` or `padding='longest'` to pad to the longest sequence in the batch, or use `padding='max_length'` to pad to a max length. In this case, you can give a specific length with `max_length` (e.g. `max_length=45`) or leave max_length to None to pad to the maximal input size of the model (e.g. 512 for Bert).\n",
      "  FutureWarning,\n"
     ]
    }
   ],
   "source": [
    "encoded_review = tokenizer.encode_plus(\n",
    "  review_text,\n",
    "  max_length=MAX_LEN,\n",
    "  add_special_tokens=True,\n",
    "  return_token_type_ids=False,\n",
    "  pad_to_max_length=True,\n",
    "  return_attention_mask=True,\n",
    "  return_tensors='pt',\n",
    ")"
   ]
  },
  {
   "cell_type": "code",
   "execution_count": 86,
   "id": "ae5e8144-6375-4186-9796-904f9eea3dc8",
   "metadata": {
    "execution": {
     "iopub.execute_input": "2023-01-02T08:16:09.877617Z",
     "iopub.status.busy": "2023-01-02T08:16:09.877249Z",
     "iopub.status.idle": "2023-01-02T08:16:09.902009Z",
     "shell.execute_reply": "2023-01-02T08:16:09.901067Z",
     "shell.execute_reply.started": "2023-01-02T08:16:09.877584Z"
    }
   },
   "outputs": [],
   "source": [
    "input_ids = encoded_review['input_ids'].to(device)\n",
    "attention_mask = encoded_review['attention_mask'].to(device)\n",
    "output = model(input_ids, attention_mask)\n",
    "_, prediction = torch.max(output, dim=1)"
   ]
  },
  {
   "cell_type": "code",
   "execution_count": 87,
   "id": "64c72733-d2dd-4f10-aae8-7620a5250395",
   "metadata": {
    "execution": {
     "iopub.execute_input": "2023-01-02T08:16:17.110911Z",
     "iopub.status.busy": "2023-01-02T08:16:17.110169Z",
     "iopub.status.idle": "2023-01-02T08:16:17.119032Z",
     "shell.execute_reply": "2023-01-02T08:16:17.117858Z",
     "shell.execute_reply.started": "2023-01-02T08:16:17.110871Z"
    }
   },
   "outputs": [
    {
     "data": {
      "text/plain": [
       "tensor([0], device='cuda:0')"
      ]
     },
     "execution_count": 87,
     "metadata": {},
     "output_type": "execute_result"
    }
   ],
   "source": [
    "prediction"
   ]
  },
  {
   "cell_type": "code",
   "execution_count": 88,
   "id": "3e4fccae-df09-4b84-bece-e9fbf11099cd",
   "metadata": {
    "execution": {
     "iopub.execute_input": "2023-01-02T08:17:03.346958Z",
     "iopub.status.busy": "2023-01-02T08:17:03.346586Z",
     "iopub.status.idle": "2023-01-02T08:17:03.354088Z",
     "shell.execute_reply": "2023-01-02T08:17:03.353097Z",
     "shell.execute_reply.started": "2023-01-02T08:17:03.346924Z"
    }
   },
   "outputs": [
    {
     "data": {
      "text/plain": [
       "'positive'"
      ]
     },
     "execution_count": 88,
     "metadata": {},
     "output_type": "execute_result"
    }
   ],
   "source": [
    "class_names[prediction]"
   ]
  },
  {
   "cell_type": "code",
   "execution_count": 102,
   "id": "bcde979c-8af6-4c11-8865-ce3d7610b8a9",
   "metadata": {
    "execution": {
     "iopub.execute_input": "2023-01-02T09:47:24.794838Z",
     "iopub.status.busy": "2023-01-02T09:47:24.794417Z",
     "iopub.status.idle": "2023-01-02T09:47:24.800807Z",
     "shell.execute_reply": "2023-01-02T09:47:24.799857Z",
     "shell.execute_reply.started": "2023-01-02T09:47:24.794805Z"
    }
   },
   "outputs": [],
   "source": [
    "import os\n",
    "os.makedirs(\"folder\")"
   ]
  },
  {
   "cell_type": "code",
   "execution_count": null,
   "id": "e9918624-838a-42b2-8575-72753eb88a93",
   "metadata": {},
   "outputs": [],
   "source": [
    "import transformers\n",
    "from transformers import BertModel, BertTokenizer, AdamW, get_linear_schedule_with_warmup\n",
    "import torch"
   ]
  },
  {
   "cell_type": "code",
   "execution_count": 8,
   "id": "e2028f92-b35a-4b19-bd44-7f8658314d8a",
   "metadata": {
    "execution": {
     "iopub.execute_input": "2023-01-02T13:58:43.479906Z",
     "iopub.status.busy": "2023-01-02T13:58:43.479143Z",
     "iopub.status.idle": "2023-01-02T13:58:43.545632Z",
     "shell.execute_reply": "2023-01-02T13:58:43.544624Z",
     "shell.execute_reply.started": "2023-01-02T13:58:43.479860Z"
    }
   },
   "outputs": [],
   "source": [
    "device = torch.device(\"cuda:0\" if torch.cuda.is_available() else \"cpu\")"
   ]
  },
  {
   "cell_type": "code",
   "execution_count": 14,
   "id": "18940131-fc6d-4d42-be2c-9322b8770986",
   "metadata": {
    "execution": {
     "iopub.execute_input": "2023-01-02T14:02:27.610086Z",
     "iopub.status.busy": "2023-01-02T14:02:27.609231Z",
     "iopub.status.idle": "2023-01-02T14:02:43.472136Z",
     "shell.execute_reply": "2023-01-02T14:02:43.470944Z",
     "shell.execute_reply.started": "2023-01-02T14:02:27.610047Z"
    }
   },
   "outputs": [
    {
     "data": {
      "application/vnd.jupyter.widget-view+json": {
       "model_id": "1fb1802a4aed44d2aeb36711b150f956",
       "version_major": 2,
       "version_minor": 0
      },
      "text/plain": [
       "Downloading:   0%|          | 0.00/570 [00:00<?, ?B/s]"
      ]
     },
     "metadata": {},
     "output_type": "display_data"
    },
    {
     "data": {
      "application/vnd.jupyter.widget-view+json": {
       "model_id": "253733f21c354d73b06549dcd4af95f8",
       "version_major": 2,
       "version_minor": 0
      },
      "text/plain": [
       "Downloading:   0%|          | 0.00/416M [00:00<?, ?B/s]"
      ]
     },
     "metadata": {},
     "output_type": "display_data"
    },
    {
     "name": "stderr",
     "output_type": "stream",
     "text": [
      "Some weights of the model checkpoint at bert-base-cased were not used when initializing BertModel: ['cls.predictions.bias', 'cls.predictions.transform.dense.bias', 'cls.predictions.transform.LayerNorm.bias', 'cls.seq_relationship.weight', 'cls.predictions.transform.LayerNorm.weight', 'cls.predictions.transform.dense.weight', 'cls.seq_relationship.bias', 'cls.predictions.decoder.weight']\n",
      "- This IS expected if you are initializing BertModel from the checkpoint of a model trained on another task or with another architecture (e.g. initializing a BertForSequenceClassification model from a BertForPreTraining model).\n",
      "- This IS NOT expected if you are initializing BertModel from the checkpoint of a model that you expect to be exactly identical (initializing a BertForSequenceClassification model from a BertForSequenceClassification model).\n"
     ]
    }
   ],
   "source": [
    "model = SentimentClassifier(len(class_names))\n",
    "model = model.to(device)"
   ]
  },
  {
   "cell_type": "code",
   "execution_count": 16,
   "id": "989ad9ae-20ad-4082-bfd7-9f8ac7458d7e",
   "metadata": {
    "execution": {
     "iopub.execute_input": "2023-01-02T14:04:56.684292Z",
     "iopub.status.busy": "2023-01-02T14:04:56.683897Z",
     "iopub.status.idle": "2023-01-02T14:04:56.696334Z",
     "shell.execute_reply": "2023-01-02T14:04:56.695048Z",
     "shell.execute_reply.started": "2023-01-02T14:04:56.684259Z"
    }
   },
   "outputs": [
    {
     "name": "stderr",
     "output_type": "stream",
     "text": [
      "/opt/conda/lib/python3.7/site-packages/transformers/optimization.py:310: FutureWarning: This implementation of AdamW is deprecated and will be removed in a future version. Use the PyTorch implementation torch.optim.AdamW instead, or set `no_deprecation_warning=True` to disable this warning\n",
      "  FutureWarning,\n"
     ]
    }
   ],
   "source": [
    "optimizer = AdamW(model.parameters(), lr=2e-5, correct_bias=False)"
   ]
  },
  {
   "cell_type": "code",
   "execution_count": 17,
   "id": "9e8297ba-7d16-4379-8b30-363dfb15f21e",
   "metadata": {
    "execution": {
     "iopub.execute_input": "2023-01-02T14:04:58.193663Z",
     "iopub.status.busy": "2023-01-02T14:04:58.193289Z",
     "iopub.status.idle": "2023-01-02T14:04:59.725772Z",
     "shell.execute_reply": "2023-01-02T14:04:59.724803Z",
     "shell.execute_reply.started": "2023-01-02T14:04:58.193631Z"
    }
   },
   "outputs": [],
   "source": [
    "checkpoint = torch.load('/kaggle/input/bert-model/bert_model_.pth', map_location='cpu')\n",
    "model.load_state_dict(checkpoint['model_state_dict'])\n",
    "optimizer.load_state_dict(checkpoint['optimizer_state_dict'])"
   ]
  },
  {
   "cell_type": "code",
   "execution_count": 27,
   "id": "42beadf6-9295-4a1c-b28d-e1e652782eb2",
   "metadata": {
    "execution": {
     "iopub.execute_input": "2023-01-02T14:08:04.105583Z",
     "iopub.status.busy": "2023-01-02T14:08:04.104861Z",
     "iopub.status.idle": "2023-01-02T14:08:06.440114Z",
     "shell.execute_reply": "2023-01-02T14:08:06.439150Z",
     "shell.execute_reply.started": "2023-01-02T14:08:04.105545Z"
    }
   },
   "outputs": [],
   "source": [
    "tokenizer = BertTokenizer.from_pretrained(PRE_TRAINED_MODEL_NAME)"
   ]
  },
  {
   "cell_type": "code",
   "execution_count": 26,
   "id": "7d498b30-d485-4147-a338-e32c27d6f05f",
   "metadata": {
    "execution": {
     "iopub.execute_input": "2023-01-02T14:08:03.221445Z",
     "iopub.status.busy": "2023-01-02T14:08:03.220856Z",
     "iopub.status.idle": "2023-01-02T14:08:03.225927Z",
     "shell.execute_reply": "2023-01-02T14:08:03.224996Z",
     "shell.execute_reply.started": "2023-01-02T14:08:03.221395Z"
    }
   },
   "outputs": [],
   "source": [
    "review_text = \"I hate completing my todos! worst app ever!!!\""
   ]
  },
  {
   "cell_type": "code",
   "execution_count": 28,
   "id": "85cad917-912a-47e6-9b4c-01e81671109c",
   "metadata": {
    "execution": {
     "iopub.execute_input": "2023-01-02T14:08:45.277216Z",
     "iopub.status.busy": "2023-01-02T14:08:45.276832Z",
     "iopub.status.idle": "2023-01-02T14:08:45.284757Z",
     "shell.execute_reply": "2023-01-02T14:08:45.283746Z",
     "shell.execute_reply.started": "2023-01-02T14:08:45.277169Z"
    }
   },
   "outputs": [
    {
     "name": "stderr",
     "output_type": "stream",
     "text": [
      "Truncation was not explicitly activated but `max_length` is provided a specific value, please use `truncation=True` to explicitly truncate examples to max length. Defaulting to 'longest_first' truncation strategy. If you encode pairs of sequences (GLUE-style) with the tokenizer you can select this strategy more precisely by providing a specific strategy to `truncation`.\n"
     ]
    }
   ],
   "source": [
    "encoded_review = tokenizer.encode_plus(\n",
    "  review_text,\n",
    "  max_length=512,\n",
    "  add_special_tokens=True,\n",
    "  return_token_type_ids=False,\n",
    "  pad_to_max_length=True,\n",
    "  return_attention_mask=True,\n",
    "  return_tensors='pt',\n",
    ")"
   ]
  },
  {
   "cell_type": "code",
   "execution_count": 29,
   "id": "ce718f98-1620-44b6-9ea5-df9abd20bb4a",
   "metadata": {
    "execution": {
     "iopub.execute_input": "2023-01-02T14:08:46.107895Z",
     "iopub.status.busy": "2023-01-02T14:08:46.107554Z",
     "iopub.status.idle": "2023-01-02T14:08:46.134312Z",
     "shell.execute_reply": "2023-01-02T14:08:46.133436Z",
     "shell.execute_reply.started": "2023-01-02T14:08:46.107866Z"
    }
   },
   "outputs": [],
   "source": [
    "input_ids = encoded_review['input_ids'].to(device)\n",
    "attention_mask = encoded_review['attention_mask'].to(device)\n",
    "output = model(input_ids, attention_mask)\n",
    "_, prediction = torch.max(output, dim=1)"
   ]
  },
  {
   "cell_type": "code",
   "execution_count": 30,
   "id": "7f99d9a4-1e9b-4c24-8922-57427a2ef9db",
   "metadata": {
    "execution": {
     "iopub.execute_input": "2023-01-02T14:08:47.178912Z",
     "iopub.status.busy": "2023-01-02T14:08:47.178566Z",
     "iopub.status.idle": "2023-01-02T14:08:47.186289Z",
     "shell.execute_reply": "2023-01-02T14:08:47.185266Z",
     "shell.execute_reply.started": "2023-01-02T14:08:47.178882Z"
    }
   },
   "outputs": [
    {
     "data": {
      "text/plain": [
       "'negative'"
      ]
     },
     "execution_count": 30,
     "metadata": {},
     "output_type": "execute_result"
    }
   ],
   "source": [
    "class_names[prediction]"
   ]
  },
  {
   "cell_type": "markdown",
   "id": "3b4552b1",
   "metadata": {},
   "source": [
    "<a class=\"anchor\" id=\"section_3_2\"></a>\n",
    "<div style=\"border: 1px solid RGB(119, 150, 203);\" >\n",
    "    <h3 style=\"margin: auto; padding: 20px; color: RGB(119, 150, 203); \">3.2. Modèle d'extraction</h3>\n",
    "</div>"
   ]
  },
  {
   "cell_type": "markdown",
   "id": "6619481f",
   "metadata": {},
   "source": [
    "<a class=\"anchor\" id=\"section_3_2_1\"></a>\n",
    "<div style=\"border: 1px dashed RGB(119, 150, 203);\" >\n",
    "    <h3 style=\"margin: auto; padding: 20px; color: RGB(119, 150, 203); \">3.2.1. Named Entity Recognition (NER)</h3>\n",
    "</div>"
   ]
  },
  {
   "cell_type": "markdown",
   "id": "449de203-18a2-48e7-9566-4897bf02a791",
   "metadata": {},
   "source": [
    "Le **NER** ou reconnaissance de noms propres en français, est une tâche de traitement du langage naturel qui consiste à détecter et à catégoriser les noms propres dans un texte. Les noms propres peuvent inclure des personnes, des organisations, des lieux, des événements et d'autres types de concepts spécifiques à un domaine. L'objectif du NER est de permettre à une machine de comprendre et de traiter les informations contenues dans un texte de manière plus précise et plus efficace."
   ]
  },
  {
   "cell_type": "markdown",
   "id": "d179a05d-a95e-4b28-acaf-5d6dc7810a69",
   "metadata": {},
   "source": [
    "<a class=\"anchor\"></a>\n",
    "<div style=\"border: 1px RGB(119, 150, 203);\" >\n",
    "    <h3 style=\"margin: auto; padding: 20px; color: RGB(119, 150, 203); \"> Première méthode de NER</h3>\n",
    "</div>"
   ]
  },
  {
   "cell_type": "markdown",
   "id": "7a2ea9d3",
   "metadata": {},
   "source": [
    "Dans cette partie on s'intèresse à détecter les entités présentes dans un commentaire à travers la structure syntaxique de la phrase. On essaye dans un premier temps de détecter les differents sujets existant dans un avis et après nous explorons tous les différents noms"
   ]
  },
  {
   "cell_type": "code",
   "execution_count": 1,
   "id": "405c79a7",
   "metadata": {},
   "outputs": [],
   "source": [
    "import pandas as pd\n",
    "reviews = pd.read_excel('../data/reviews_google.xlsx')"
   ]
  },
  {
   "cell_type": "markdown",
   "id": "8a8df13b",
   "metadata": {},
   "source": [
    "example of a review"
   ]
  },
  {
   "cell_type": "code",
   "execution_count": 2,
   "id": "22bc881f",
   "metadata": {},
   "outputs": [
    {
     "data": {
      "text/plain": [
       "'this hotel has the smallest room, and we have been to other ibis brand hotels across the globe. check in and out were efficient. staffs were average. breakfast was the same during our 5-day stay. room was regularly cleaned and towels were replaced. location was outstanding! there were lots of restaurants nearby, as well as stores. metro was helpful in getting around paris. we will stay again here soon!'"
      ]
     },
     "execution_count": 2,
     "metadata": {},
     "output_type": "execute_result"
    }
   ],
   "source": [
    "reviews.review.iloc[0]"
   ]
  },
  {
   "cell_type": "code",
   "execution_count": 3,
   "id": "25a59e1d",
   "metadata": {},
   "outputs": [],
   "source": [
    "import spacy\n",
    "# # Initialisation du modèle de traitement du langage naturel\n",
    "nlp = spacy.load(\"en_core_web_sm\")\n",
    "\n",
    "def detect_subjects(review):\n",
    "    \"\"\"\n",
    "    Cette fonction a pour objectif de détecter les sujets d'un avis. Pour ce faire,\n",
    "    elle utilise un modèle de traitement du langage naturel pour analyser la structure\n",
    "    syntaxique de l'avis et extraire les mots qui sont des sujets de phrases. Elle exclut également\n",
    "    les mots qui sont des stop words (mots courants qui n'ont pas de signification spécifique. \n",
    "    Enfin, elle renvoie la liste des sujets détectés.\n",
    "    \n",
    "    :param review: L'avis à analyser, sous forme de chaîne de caractères.\n",
    "    :type review: str\n",
    "    :return: La liste des noms détectés dans l'avis.\n",
    "    \"\"\"\n",
    "    #Analyse de l'avis à l'aide du modèle de traitement du langage naturel\n",
    "    doc = nlp(review)\n",
    "    # on définit les stop words\n",
    "    stopping_words = [\"a\", \"an\", \"and\", \"are\", \"as\", \"at\", \"be\", \"by\", \"for\", \"from\", \"has\", \"he\", \"in\",\n",
    "                      \"is\", \"it\", \"its\", \"of\", \"on\", \"that\", \"the\", \"to\", \"was\", \"were\", \"will\", \"with\"]\n",
    "    subjects = []\n",
    "    # Pour chaque phrase de l'avis\n",
    "    for sent in doc.sents:\n",
    "        # Filtrage des tokens (mots) pour exclure les stop words\n",
    "        filtered_tokens = [token for token in sent if not token.is_stop]\n",
    "        # Pour chaque token restant\n",
    "        for token in filtered_tokens:\n",
    "            # Si le token est un sujet de phrase\n",
    "            if token.dep_ == \"nsubj\":\n",
    "                # Ajout du token à la liste des sujets\n",
    "                subjects.append(token.text)\n",
    "    return subjects\n",
    "\n"
   ]
  },
  {
   "cell_type": "code",
   "execution_count": 4,
   "id": "5e937caf",
   "metadata": {},
   "outputs": [],
   "source": [
    "def detect_nouns(review):\n",
    "    \"\"\"\n",
    "    Cette fonction prend en entrée un avis sous forme de chaîne de caractères et renvoie une liste de noms détectés dans un avis.\n",
    "    \n",
    "    Pour détecter les noms, elle utilise un modèle de traitement du langage naturel pour analyser chaque mot de l'avis\n",
    "    et vérifier s'il s'agit d'un nom. Elle exclut également les mots qui sont des stop words.\n",
    "    \n",
    "    :param review: L'avis à analyser, sous forme de chaîne de caractères.\n",
    "    :type review: str\n",
    "    :return: La liste des noms détectés dans l'avis.\n",
    "    \"\"\"\n",
    "    # Analyse de l'avis à l'aide du modèle de traitement du langage naturel\n",
    "\n",
    "    doc = nlp(review)\n",
    "    # Définition des stop words\n",
    "    stopping_words = [\"a\", \"an\", \"and\", \"are\", \"as\", \"at\", \"be\", \"by\", \"for\", \"from\", \"has\", \"he\", \"in\",\n",
    "                      \"is\", \"it\", \"its\", \"of\", \"on\", \"that\", \"the\", \"to\", \"was\", \"were\", \"will\", \"with\"]\n",
    "    subjects = []\n",
    "    # Pour chaque mot de l'avis\n",
    "    for token in doc:\n",
    "        # Si le mot n'est pas un stop word et qu'il s'agit d'un nom\n",
    "        if not token.is_stop and token.pos_== \"NOUN\":\n",
    "            # Ajout du mot à la liste des noms\n",
    "            subjects.append(token.text)\n",
    "    # Renvoi de la liste des noms\n",
    "    return subjects"
   ]
  },
  {
   "cell_type": "markdown",
   "id": "ee1b5800",
   "metadata": {},
   "source": [
    "On applique les fonctions a notre base de données."
   ]
  },
  {
   "cell_type": "code",
   "execution_count": 5,
   "id": "1d02a3f9",
   "metadata": {},
   "outputs": [],
   "source": [
    "df=reviews.copy()\n",
    "df[\"subjects\"] = df[\"review\"].apply(detect_subjects)\n",
    "df[\"subjects\"]=df[\"subjects\"].apply(lambda x: [s for s in x if s not in[\"hotel\",\"value\"] ])"
   ]
  },
  {
   "cell_type": "code",
   "execution_count": 6,
   "id": "95047221",
   "metadata": {},
   "outputs": [],
   "source": [
    "df[\"nouns\"] = df[\"review\"].apply(detect_nouns)\n",
    "#df[\"subjects\"]=df[\"subjects\"].apply(lambda x: [s for s in x if s not in[\"hotel\",\"value\"] ])"
   ]
  },
  {
   "cell_type": "markdown",
   "id": "83da1338",
   "metadata": {},
   "source": [
    "exemple:"
   ]
  },
  {
   "cell_type": "code",
   "execution_count": 7,
   "id": "405d810f",
   "metadata": {},
   "outputs": [
    {
     "name": "stdout",
     "output_type": "stream",
     "text": [
      "fantastic position, close to the metro, from where all places are attainable. buy a five day metro ticket, saves the hassle of paying each time. clean rooms, helpful staff, modern facilities, wifi, breakfast is about €10 a-day. meats, cheese, cold breakfast as you say. no kettles in the rooms, for those who are not from europe. i would easy stay here again, location is everything, and a good price. valve for money, it has to be 10/10.\n",
      "['places', 'rooms', 'breakfast', 'location']\n",
      "['position', 'places', 'day', 'ticket', 'hassle', 'time', 'rooms', 'staff', 'facilities', 'wifi', 'breakfast', 'day', 'meats', 'cheese', 'breakfast', 'kettles', 'rooms', 'location', 'price', 'money']\n"
     ]
    }
   ],
   "source": [
    "i=177\n",
    "rv=df.review.iloc[i]\n",
    "sbj=detect_subjects(rv)\n",
    "sbj2=detect_nouns(rv)\n",
    "#determine_sentiment(rv, sbj)\n",
    "print(rv)\n",
    "print(sbj)\n",
    "print(sbj2)"
   ]
  },
  {
   "cell_type": "code",
   "execution_count": null,
   "id": "87e33680",
   "metadata": {},
   "outputs": [
    {
     "ename": "NameError",
     "evalue": "name 'df' is not defined",
     "output_type": "error",
     "traceback": [
      "\u001b[0;31m---------------------------------------------------------------------------\u001b[0m",
      "\u001b[0;31mNameError\u001b[0m                                 Traceback (most recent call last)",
      "\u001b[0;32m/var/folders/90/vqb3rdq13s3f4wzmlxs9tjrw0000gn/T/ipykernel_1008/223627333.py\u001b[0m in \u001b[0;36m<module>\u001b[0;34m\u001b[0m\n\u001b[0;32m----> 1\u001b[0;31m \u001b[0mdf\u001b[0m\u001b[0;34m.\u001b[0m\u001b[0mhead\u001b[0m\u001b[0;34m(\u001b[0m\u001b[0;36m5\u001b[0m\u001b[0;34m)\u001b[0m\u001b[0;34m\u001b[0m\u001b[0;34m\u001b[0m\u001b[0m\n\u001b[0m",
      "\u001b[0;31mNameError\u001b[0m: name 'df' is not defined"
     ]
    }
   ],
   "source": [
    "df.head(5)"
   ]
  },
  {
   "cell_type": "markdown",
   "id": "ba09f1e9",
   "metadata": {},
   "source": [
    "\"Les deux fonctions detect_subjects et detect_nouns ont pour objectif d'extraire des informations utiles d'un avis de voyage, respectivement les sujets et les noms mentionnés dans l'avis.\n",
    "\n",
    "La fonction **detect_subjects** a l'avantage de ne renvoyer que les sujets de phrases, ce qui permet de cibler précisément les éléments sur lesquels l'avis porte. Cependant, elle peut manquer certains noms importants qui ne sont pas des sujets de phrases (par exemple, \"metro\" dans l'avis d'exemple).\n",
    "\n",
    "La fonction **detect_nouns**, quant à elle, a l'avantage de capturer tous les noms mentionnés dans l'avis, ce qui peut être utile pour avoir une vue d'ensemble des éléments mentionnés. Cependant, elle peut renvoyer des noms qui ne sont pas vraiment pertinents (par exemple, \"hassle\" dans l'avis d'exemple) et qui peuvent polluer les résultats."
   ]
  },
  {
   "cell_type": "markdown",
   "id": "d51413b6",
   "metadata": {},
   "source": [
    "Dans le contexte de notre projet, nous avons choisi d'utiliser la fonction detect_nouns pour extraire les informations de l'avis de voyage car nous souhaitons avoir une vue d'ensemble des éléments mentionnés dans l'avis, et non seulement les sujets de phrases. En effet, nous sommes intéressés par tous les noms qui sont mentionnés dans l'avis, qu'ils soient ou non des sujets de phrases, car ils peuvent nous fournir des informations précieuses sur les points forts et les points faibles de l'établissement mentionné dans l'avis. De plus, bien que la fonction detect_nouns puisse renvoyer des noms qui ne sont pas pertinents, nous pouvons utiliser un filtrage ultérieur pour éliminer ces noms et ne conserver que ceux qui sont réellement pertinents.\""
   ]
  },
  {
   "cell_type": "code",
   "execution_count": 9,
   "id": "f828d1cb",
   "metadata": {},
   "outputs": [],
   "source": [
    "# on peut éliminer les commentaires trop long.\n",
    "df['len']=df.subjects.apply(lambda x: len(x))\n",
    "df=df.drop(df[df['len'] > 8].index)\n"
   ]
  },
  {
   "cell_type": "markdown",
   "id": "d980dbf4-fce2-4444-b68f-2482b94cf8f6",
   "metadata": {},
   "source": [
    "#### Aperçu des résultats"
   ]
  },
  {
   "cell_type": "code",
   "execution_count": 10,
   "id": "6cb2feba",
   "metadata": {},
   "outputs": [],
   "source": [
    "import pandas as pd\n",
    "from collections import Counter\n",
    "def count_words(words):\n",
    "    # Use the Counter class to count the number of occurrences of each word\n",
    "    count = Counter(words)\n",
    "    return count\n",
    "\n",
    "# Use the apply() method to apply the count_words() function to each row of the 'words' column\n",
    "df['word_count'] = df['subjects'].apply(count_words)\n"
   ]
  },
  {
   "cell_type": "code",
   "execution_count": 11,
   "id": "075665fb",
   "metadata": {},
   "outputs": [
    {
     "data": {
      "text/html": [
       "<div>\n",
       "<style scoped>\n",
       "    .dataframe tbody tr th:only-of-type {\n",
       "        vertical-align: middle;\n",
       "    }\n",
       "\n",
       "    .dataframe tbody tr th {\n",
       "        vertical-align: top;\n",
       "    }\n",
       "\n",
       "    .dataframe thead th {\n",
       "        text-align: right;\n",
       "    }\n",
       "</style>\n",
       "<table border=\"1\" class=\"dataframe\">\n",
       "  <thead>\n",
       "    <tr style=\"text-align: right;\">\n",
       "      <th></th>\n",
       "      <th>lenn</th>\n",
       "    </tr>\n",
       "  </thead>\n",
       "  <tbody>\n",
       "    <tr>\n",
       "      <th>staff</th>\n",
       "      <td>2773</td>\n",
       "    </tr>\n",
       "    <tr>\n",
       "      <th>room</th>\n",
       "      <td>2663</td>\n",
       "    </tr>\n",
       "    <tr>\n",
       "      <th>location</th>\n",
       "      <td>1795</td>\n",
       "    </tr>\n",
       "    <tr>\n",
       "      <th>rooms</th>\n",
       "      <td>1665</td>\n",
       "    </tr>\n",
       "    <tr>\n",
       "      <th>breakfast</th>\n",
       "      <td>986</td>\n",
       "    </tr>\n",
       "    <tr>\n",
       "      <th>...</th>\n",
       "      <td>...</td>\n",
       "    </tr>\n",
       "    <tr>\n",
       "      <th>elevator</th>\n",
       "      <td>56</td>\n",
       "    </tr>\n",
       "    <tr>\n",
       "      <th>downside</th>\n",
       "      <td>54</td>\n",
       "    </tr>\n",
       "    <tr>\n",
       "      <th>water</th>\n",
       "      <td>52</td>\n",
       "    </tr>\n",
       "    <tr>\n",
       "      <th>apartments</th>\n",
       "      <td>52</td>\n",
       "    </tr>\n",
       "    <tr>\n",
       "      <th>access</th>\n",
       "      <td>51</td>\n",
       "    </tr>\n",
       "  </tbody>\n",
       "</table>\n",
       "<p>65 rows × 1 columns</p>\n",
       "</div>"
      ],
      "text/plain": [
       "            lenn\n",
       "staff       2773\n",
       "room        2663\n",
       "location    1795\n",
       "rooms       1665\n",
       "breakfast    986\n",
       "...          ...\n",
       "elevator      56\n",
       "downside      54\n",
       "water         52\n",
       "apartments    52\n",
       "access        51\n",
       "\n",
       "[65 rows x 1 columns]"
      ]
     },
     "execution_count": 11,
     "metadata": {},
     "output_type": "execute_result"
    }
   ],
   "source": [
    "result = []\n",
    "\n",
    "# Use the extend() method to add each list to the result list\n",
    "for row in df.subjects:\n",
    "    result.extend(row)\n",
    "count = Counter(result)\n",
    "aa=pd.DataFrame(count.values(),count.keys())\n",
    "aa.columns=['lenn']\n",
    "aa=aa.sort_values(by='lenn')\n",
    "aa=aa[::-1]\n",
    "aa.loc[aa.lenn>50]"
   ]
  },
  {
   "cell_type": "markdown",
   "id": "8797dfd7",
   "metadata": {},
   "source": [
    "Il est intéressant de noter que certains mots ont un très grand nombre d'occurrences dans la base de données d'avis de voyage, tels que \"staff\" (2773 occurrences), \"room\" (2663 occurrences) et \"location\" (1795 occurrences). Cela peut être dû au fait que ces mots sont souvent utilisés par les voyageurs pour décrire les établissements hôteliers qu'ils ont visités, et sont donc très présents dans les avis.\n",
    "\n",
    "Il est possible d'améliorer les résultats en utilisant une technique de filtrage des mots qui permet d'éliminer les mots les moins fréquents et de ne conserver que ceux qui sont les plus pertinents pour l'analyse. Par exemple, on pourrait définir un seuil de fréquence au-dessus duquel un mot est considéré comme pertinent et en dessous duquel il est ignoré. Cela permettrait de ne pas surcharger les résultats avec des mots peu fréquents qui n'apportent pas d'informations significatives.\""
   ]
  },
  {
   "cell_type": "markdown",
   "id": "69868df9-9c74-43a1-a33a-31146903ca02",
   "metadata": {},
   "source": [
    "#### Partie analyse de sentiment"
   ]
  },
  {
   "cell_type": "markdown",
   "id": "df669513-3b80-4872-bfdd-7c2dd381c42e",
   "metadata": {},
   "source": [
    "Dans un premier temps nous avons mis en place un modèle de reconnaissance des entités nommées (NER) qui nous permet de détecter les différents champs mentionnés dans les avis de voyage (par exemple, \"restaurant\", \"personnel\", etc.).\n",
    "\n",
    "Dans cette deuxième partie, nous allons utiliser ces champs pour tenter de deviner le sentiment exprimé par l'utilisateur à leur sujet. Pour cela, nous allons utiliser des techniques d'analyse de sentiment qui nous permettront de classer chaque champ selon qu'il est positif, négatif ou neutre.\n",
    "\n",
    "Cette étape de notre projet est cruciale car elle nous permettra de mieux comprendre ce que les utilisateurs aiment et n'aiment pas dans les établissements hôteliers qu'ils ont visités, et ainsi d'améliorer l'expérience de voyage des utilisateurs à l'avenir."
   ]
  },
  {
   "cell_type": "code",
   "execution_count": 12,
   "id": "8634bb5b-da59-4fe1-96de-6bfc8739e8aa",
   "metadata": {},
   "outputs": [],
   "source": [
    "import spacy\n",
    "\n",
    "nlp = spacy.load(\"en_core_web_sm\")\n",
    "\n",
    "def determine_sentiment(review, subjects):\n",
    "    \"\"\"Cette fonction prend en entrée un avis de voyage sous forme de chaîne de caractères et une liste de sujets, et renvoie un dictionnaire associant à chaque sujet sa valeur de sentiment.\n",
    "    \n",
    "    Pour déterminer le sentiment d'un sujet, la fonction utilise un modèle de traitement du langage naturel pour analyser chaque mot de l'avis et vérifier s'il s'agit d'un adjectif décrivant le sujet. Si l'adjectif est positif (par exemple, \"fantastique\", \"excellent\"), le sentiment du sujet est augmenté de 1, et s'il est négatif (par exemple, \"déplorable\", \"horrible\"), il est diminué de 1. Le sentiment d'un sujet est donc un nombre compris entre -1 et 1 qui reflète l'opinion de l'utilisateur à son sujet.\n",
    "    \n",
    "    :param review: L'avis de voyage à analyser, sous forme de chaîne de caractères.\n",
    "    :type review: str\n",
    "    :param subjects: La liste des sujets à analyser.\n",
    "    \n",
    "    \"\"\"\n",
    "    # Chargement du modèle de traitement du langage naturel\n",
    "    doc = nlp(review)\n",
    "    sentiments = {}\n",
    "    # Pour chaque sujet\n",
    "    for subject in subjects:\n",
    "        # Initialisation du sentiment du sujet à 0\n",
    "        sentiment = 0\n",
    "        for token in doc:\n",
    "            # Si le mot est le sujet en cours d'analyse\n",
    "            if token.text == subject:\n",
    "                # Pour chaque mot enfant du sujet (c'est-à-dire, les mots qui décrivent le sujet)\n",
    "                for child in token.children:\n",
    "                    # Si le mot enfant est un adjectif\n",
    "                    if child.pos_ == \"ADJ\":\n",
    "                        \n",
    "                        # Si l'adjectif est positif\n",
    "                        if child.text in [\"amazing\", \"awesome\", \"brilliant\", \"excellent\", \"fantastic\",\n",
    "                                          \"great\", \"incredible\", \"outstanding\", \"phenomenal\", \"superb\",\n",
    "                                          \"terrific\", \"wonderful\",\"efficient\",\"helpful\",\"efficient\",\"outstading\"]:\n",
    "                            sentiment += 1\n",
    "                        # Si l'adjectif est négatif\n",
    "                        elif child.text in [\"awful\", \"bad\", \"dreadful\", \"horrible\", \"terrible\",\n",
    "                                            \"atrocious\", \"deplorable\", \"disgusting\", \"horrendous\",\n",
    "                                            \"lamentable\", \"poor\", \"unacceptable\", \"unsatisfactory\",]:\n",
    "                            sentiment -= 1\n",
    "        sentiments[subject] = sentiment\n",
    "    return sentiments\n",
    "\n"
   ]
  },
  {
   "cell_type": "code",
   "execution_count": 13,
   "id": "2974f2c8-91cd-4e9f-8436-474a995fd47a",
   "metadata": {},
   "outputs": [
    {
     "data": {
      "text/plain": [
       "'fantastic position, close to the metro, from where all places are attainable. buy a five day metro ticket, saves the hassle of paying each time. clean rooms, helpful staff, modern facilities, wifi, breakfast is about €10 a-day. meats, cheese, cold breakfast as you say. no kettles in the rooms, for those who are not from europe. i would easy stay here again, location is everything, and a good price. valve for money, it has to be 10/10.'"
      ]
     },
     "execution_count": 13,
     "metadata": {},
     "output_type": "execute_result"
    }
   ],
   "source": [
    "rv"
   ]
  },
  {
   "cell_type": "code",
   "execution_count": 14,
   "id": "56a4c892-0b98-4f28-8f71-409886befa31",
   "metadata": {},
   "outputs": [
    {
     "data": {
      "text/plain": [
       "{'position': 1,\n",
       " 'places': 0,\n",
       " 'day': 0,\n",
       " 'ticket': 0,\n",
       " 'hassle': 0,\n",
       " 'time': 0,\n",
       " 'rooms': 0,\n",
       " 'staff': 1,\n",
       " 'facilities': 0,\n",
       " 'wifi': 0,\n",
       " 'breakfast': 0,\n",
       " 'meats': 0,\n",
       " 'cheese': 0,\n",
       " 'kettles': 0,\n",
       " 'location': 0,\n",
       " 'price': 0,\n",
       " 'money': 0}"
      ]
     },
     "execution_count": 14,
     "metadata": {},
     "output_type": "execute_result"
    }
   ],
   "source": [
    "determine_sentiment(rv, sbj2)"
   ]
  },
  {
   "cell_type": "markdown",
   "id": "81f52aa9-6adc-4b77-aa72-cb0d855ad53f",
   "metadata": {},
   "source": [
    "\"La fonction determine_sentiment a présenté de nombreuses limites dans sa capacité à déterminer les sentiments des utilisateurs de manière précise et fiable. L'une des principales raisons de cette limite est que la fonction ne peut pas détecter correctement les avis positifs et négatifs en raison des nuances présentes dans les avis.\n",
    "\n",
    "Par exemple, un avis qui semble globalement positif peut contenir des éléments négatifs tels que des critiques ou des regrets, qui ne sont pas pris en compte par la fonction. De même, un avis qui semble globalement négatif peut contenir des éléments positifs tels que des louanges ou des remerciements, qui sont ignorés par la fonction.\n",
    "\n",
    "Cela signifie que la fonction ne peut pas toujours donner un sentiment précis et véritable pour un sujet, ce qui limite grandement son utilité."
   ]
  },
  {
   "cell_type": "markdown",
   "id": "fcf2b8c9-7618-4af0-a370-868bf2b15762",
   "metadata": {},
   "source": [
    "#### Sentiment  Analysis avec Vader"
   ]
  },
  {
   "cell_type": "markdown",
   "id": "9cfc2827-a879-42c1-af65-cd285e2f1eb0",
   "metadata": {},
   "source": [
    "Nous avons décidé de tester une méthode plus sophistiquée pour obtenir les sentiments des utilisateurs à partir de leurs avis de voyage. étant donné que nous n'avions pas suffisamment de données pour entraîner notre propre modèle de traitement du langage naturel, nous avons opté pour l'utilisation de l'analyseur de sentiments de VADER.\n",
    "\n",
    "L'analyseur de sentiments de VADER est un outil pré-entraîné qui permet de détecter les sentiments positifs, négatifs et neutres dans du texte en utilisant une combinaison de lexiques et de règles de traitement du langage naturel. Nous espérons que cet outil nous permettra d'obtenir des résultats plus précis et fiables en matière de détermination des sentiments des utilisateurs."
   ]
  },
  {
   "cell_type": "code",
   "execution_count": 15,
   "id": "4ff47e01-0701-4774-9888-420f4ccd08a9",
   "metadata": {},
   "outputs": [
    {
     "name": "stderr",
     "output_type": "stream",
     "text": [
      "[nltk_data] Downloading package vader_lexicon to\n",
      "[nltk_data]     C:\\Users\\moghazali\\AppData\\Roaming\\nltk_data...\n",
      "[nltk_data]   Package vader_lexicon is already up-to-date!\n"
     ]
    },
    {
     "data": {
      "text/plain": [
       "True"
      ]
     },
     "execution_count": 15,
     "metadata": {},
     "output_type": "execute_result"
    }
   ],
   "source": [
    "import nltk\n",
    "nltk.download('vader_lexicon')"
   ]
  },
  {
   "cell_type": "markdown",
   "id": "ede6f293-3974-42c0-9589-c57c1a52c05d",
   "metadata": {},
   "source": [
    "Pour analyser les sentiments des utilisateurs sur chaque sujet détecté, nous devons d'abord diviser l'avis en phrases plus petites en utilisant des signes de ponctuation ou des mots-clés tels que \"mais\", \"toutefois\", etc. Cela nous permettra de mieux cibler chaque opinion exprimée par l'utilisateur et d'obtenir des résultats plus précis et fiables.\n",
    "\n",
    "Ensuite, nous devrons analyser chaque phrase séparément pour déterminer le sentiment de l'utilisateur à l'égard du sujet en question. Cependant, nous ne devrons conserver que les phrases qui contiennent les entités que nous avons détectées dans la première partie du projet, car seules ces phrases sont pertinentes pour notre analyse.\n",
    "\n",
    "En utilisant cette approche, nous espérons pouvoir obtenir une vue plus précise et détaillée des sentiments des utilisateurs envers chaque sujet détecté.\""
   ]
  },
  {
   "cell_type": "code",
   "execution_count": 16,
   "id": "d88b7b24-594d-4e08-bd9f-d48174b1a220",
   "metadata": {},
   "outputs": [],
   "source": [
    "import numpy as np\n",
    "import re\n",
    "from nltk.sentiment.vader import SentimentIntensityAnalyzer\n",
    "\n",
    "nlp = spacy.load('en_core_web_sm')\n",
    "\n",
    "\n",
    "def Sentiment(text : str,words) :\n",
    "    \"\"\"\n",
    "    param text : le review chaîne de caractère\n",
    "    param words : liste des noms ou des sujets généré par les fonctins précédentes\n",
    "    \"\"\"\n",
    "    # Conversion de la chaîne de caractères en minuscule\n",
    "    text = text.lower()\n",
    "    # Division de la chaîne de caractères en phrases plus petites en utilisant des signes de ponctuation et des mots-clés\n",
    "    text = re.split(r'[\\.!?;,]| but | whereas | yet | although | though | still | furthermore | moreover | even though | on the other hand | in spite of ', text)\n",
    "    \n",
    "    # Initialisation d'une liste vide pour stocker les tokens\n",
    "    list_token = []\n",
    "    model = SentimentIntensityAnalyzer()\n",
    "    # Initialisation d'une liste vide pour stocker les tuples (entité, sentiment)\n",
    "    aa=[]\n",
    "    #Parcours de chaque phrase\n",
    "    for phrase in text :\n",
    "        # Vérification si l'une des entités est présente dans la phrase\n",
    "        if any(word in phrase for word in words):\n",
    "            # Détermination du sentiment de l'utilisateur à l'égard de l'entité grâce à l'analyseur de sentiments de VADER\n",
    "            sentiment = model.polarity_scores(phrase).get(\"compound\")\n",
    "            # Recherche de l'entité dans la phrase\n",
    "            for word in words:\n",
    "                if word in phrase:\n",
    "                    # # Entité trouvée dans la phrase, on la stocke dans la variable found_word\n",
    "                    found_word = word\n",
    "                    break\n",
    "            # Ajout du tuple (entité, sentiment) à la liste\n",
    "            aa.append((found_word,sentiment))\n",
    "    # Renvoi de la liste des tuples (entité, sentiment)\n",
    "    return aa \n",
    " \n"
   ]
  },
  {
   "cell_type": "code",
   "execution_count": 17,
   "id": "4abd4d1a-a219-4b49-8700-a72a35cac48d",
   "metadata": {},
   "outputs": [],
   "source": [
    "df['sentiment']=df.apply(lambda row: Sentiment( row['review'], row['nouns']), axis=1)"
   ]
  },
  {
   "cell_type": "code",
   "execution_count": 18,
   "id": "04a6d1d0-ae92-4700-a09e-2c0254853972",
   "metadata": {},
   "outputs": [
    {
     "data": {
      "text/html": [
       "<div>\n",
       "<style scoped>\n",
       "    .dataframe tbody tr th:only-of-type {\n",
       "        vertical-align: middle;\n",
       "    }\n",
       "\n",
       "    .dataframe tbody tr th {\n",
       "        vertical-align: top;\n",
       "    }\n",
       "\n",
       "    .dataframe thead th {\n",
       "        text-align: right;\n",
       "    }\n",
       "</style>\n",
       "<table border=\"1\" class=\"dataframe\">\n",
       "  <thead>\n",
       "    <tr style=\"text-align: right;\">\n",
       "      <th></th>\n",
       "      <th>index</th>\n",
       "      <th>title</th>\n",
       "      <th>review</th>\n",
       "      <th>rate</th>\n",
       "      <th>trip_type</th>\n",
       "      <th>date</th>\n",
       "      <th>subjects</th>\n",
       "      <th>nouns</th>\n",
       "      <th>len</th>\n",
       "      <th>word_count</th>\n",
       "      <th>sentiment</th>\n",
       "    </tr>\n",
       "  </thead>\n",
       "  <tbody>\n",
       "    <tr>\n",
       "      <th>0</th>\n",
       "      <td>0</td>\n",
       "      <td>small room but okey</td>\n",
       "      <td>this hotel has the smallest room, and we have ...</td>\n",
       "      <td>4</td>\n",
       "      <td>traveled as a couple</td>\n",
       "      <td>2022-11-01</td>\n",
       "      <td>[check, staffs, breakfast, location, metro]</td>\n",
       "      <td>[hotel, room, brand, hotels, globe, staffs, br...</td>\n",
       "      <td>5</td>\n",
       "      <td>{'check': 1, 'staffs': 1, 'breakfast': 1, 'loc...</td>\n",
       "      <td>[(hotel, 0.0), (hotel, 0.0), (staffs, 0.0), (b...</td>\n",
       "    </tr>\n",
       "    <tr>\n",
       "      <th>1</th>\n",
       "      <td>1</td>\n",
       "      <td>great location, great staff</td>\n",
       "      <td>great location and simple but clean ammenities...</td>\n",
       "      <td>5</td>\n",
       "      <td>traveled on business</td>\n",
       "      <td>2022-10-01</td>\n",
       "      <td>[staff]</td>\n",
       "      <td>[location, ammenities, value, money, stars, st...</td>\n",
       "      <td>1</td>\n",
       "      <td>{'staff': 1}</td>\n",
       "      <td>[(location, 0.6249), (ammenities, 0.4019), (va...</td>\n",
       "    </tr>\n",
       "    <tr>\n",
       "      <th>2</th>\n",
       "      <td>2</td>\n",
       "      <td>dont stay in this hotel unless you would like ...</td>\n",
       "      <td>don't stay in this hotel unless you would like...</td>\n",
       "      <td>1</td>\n",
       "      <td>NaN</td>\n",
       "      <td>2022-10-01</td>\n",
       "      <td>[reservation, staff, room, staff]</td>\n",
       "      <td>[hotel, cancellation, email, day, check, room,...</td>\n",
       "      <td>4</td>\n",
       "      <td>{'reservation': 1, 'staff': 2, 'room': 1}</td>\n",
       "      <td>[(hotel, 0.3612), (room, 0.0), (flight, 0.0), ...</td>\n",
       "    </tr>\n",
       "    <tr>\n",
       "      <th>3</th>\n",
       "      <td>3</td>\n",
       "      <td>waste of money</td>\n",
       "      <td>not worth it. better rooms available for this ...</td>\n",
       "      <td>1</td>\n",
       "      <td>NaN</td>\n",
       "      <td>2022-09-01</td>\n",
       "      <td>[rooms, location, 20min, staff]</td>\n",
       "      <td>[rooms, price, rooms, bathrooms, location, wal...</td>\n",
       "      <td>4</td>\n",
       "      <td>{'rooms': 1, 'location': 1, '20min': 1, 'staff...</td>\n",
       "      <td>[(rooms, 0.4404), (rooms, 0.0), (location, 0.4...</td>\n",
       "    </tr>\n",
       "    <tr>\n",
       "      <th>4</th>\n",
       "      <td>4</td>\n",
       "      <td>pre-autorisation money has not been refunded</td>\n",
       "      <td>ibis paris tour eiffel cambronne charged my de...</td>\n",
       "      <td>3</td>\n",
       "      <td>traveled as a couple</td>\n",
       "      <td>2022-10-01</td>\n",
       "      <td>[cambronne, money]</td>\n",
       "      <td>[eiffel, cambronne, debit, account, eur, pre, ...</td>\n",
       "      <td>2</td>\n",
       "      <td>{'cambronne': 1, 'money': 1}</td>\n",
       "      <td>[(eiffel, -0.2023), (eur, 0.0), (pre, -0.2023)...</td>\n",
       "    </tr>\n",
       "    <tr>\n",
       "      <th>...</th>\n",
       "      <td>...</td>\n",
       "      <td>...</td>\n",
       "      <td>...</td>\n",
       "      <td>...</td>\n",
       "      <td>...</td>\n",
       "      <td>...</td>\n",
       "      <td>...</td>\n",
       "      <td>...</td>\n",
       "      <td>...</td>\n",
       "      <td>...</td>\n",
       "      <td>...</td>\n",
       "    </tr>\n",
       "    <tr>\n",
       "      <th>8564</th>\n",
       "      <td>907</td>\n",
       "      <td>just papering over the cracks!</td>\n",
       "      <td>just got back from 3 nights in paris\\none nigh...</td>\n",
       "      <td>3</td>\n",
       "      <td>traveled on business</td>\n",
       "      <td>2010-01-01</td>\n",
       "      <td>[location, areas, lounge, rooms, staff]</td>\n",
       "      <td>[nights, night, star, nights, hotel, location,...</td>\n",
       "      <td>5</td>\n",
       "      <td>{'location': 1, 'areas': 1, 'lounge': 1, 'room...</td>\n",
       "      <td>[(nights, 0.0), (nights, 0.2006), (b, 0.9186),...</td>\n",
       "    </tr>\n",
       "    <tr>\n",
       "      <th>8565</th>\n",
       "      <td>908</td>\n",
       "      <td>perfect</td>\n",
       "      <td>our stay was perfect. the location was amazing...</td>\n",
       "      <td>5</td>\n",
       "      <td>traveled as a couple</td>\n",
       "      <td>2008-08-01</td>\n",
       "      <td>[stay, location, room]</td>\n",
       "      <td>[stay, location, stones, room, view]</td>\n",
       "      <td>3</td>\n",
       "      <td>{'stay': 1, 'location': 1, 'room': 1}</td>\n",
       "      <td>[(stay, 0.5719), (location, 0.5859), (stones, ...</td>\n",
       "    </tr>\n",
       "    <tr>\n",
       "      <th>8566</th>\n",
       "      <td>909</td>\n",
       "      <td>very nice hotel</td>\n",
       "      <td>we decided on this hotel in paris for location...</td>\n",
       "      <td>4</td>\n",
       "      <td>traveled with family</td>\n",
       "      <td>2009-05-01</td>\n",
       "      <td>[employees, service, bathrooms, fi, signal, br...</td>\n",
       "      <td>[hotel, location, view, count, location, rate,...</td>\n",
       "      <td>7</td>\n",
       "      <td>{'employees': 1, 'service': 1, 'bathrooms': 1,...</td>\n",
       "      <td>[(hotel, 0.0), (count, 0.3724), (location, 0.0...</td>\n",
       "    </tr>\n",
       "    <tr>\n",
       "      <th>8567</th>\n",
       "      <td>910</td>\n",
       "      <td>ideally situated</td>\n",
       "      <td>very small hotel but ideally situated with bre...</td>\n",
       "      <td>4</td>\n",
       "      <td>traveled as a couple</td>\n",
       "      <td>2008-07-01</td>\n",
       "      <td>[rooms, hallways, room, staff, breakfast, croi...</td>\n",
       "      <td>[hotel, views, river, room, boutique, hotels, ...</td>\n",
       "      <td>7</td>\n",
       "      <td>{'rooms': 1, 'hallways': 1, 'room': 1, 'staff'...</td>\n",
       "      <td>[(hotel, 0.0), (views, 0.7003), (hotel, 0.3612...</td>\n",
       "    </tr>\n",
       "    <tr>\n",
       "      <th>8568</th>\n",
       "      <td>911</td>\n",
       "      <td>just a great place to stay!</td>\n",
       "      <td>just came back from vacation to paris. hotel l...</td>\n",
       "      <td>5</td>\n",
       "      <td>traveled as a couple</td>\n",
       "      <td>2009-04-01</td>\n",
       "      <td>[dame, location, staff, windows, restaurants, ...</td>\n",
       "      <td>[vacation, location, staff, night, rooms, stre...</td>\n",
       "      <td>6</td>\n",
       "      <td>{'dame': 1, 'location': 1, 'staff': 1, 'window...</td>\n",
       "      <td>[(vacation, 0.0), (location, 0.4767), (staff, ...</td>\n",
       "    </tr>\n",
       "  </tbody>\n",
       "</table>\n",
       "<p>7640 rows × 11 columns</p>\n",
       "</div>"
      ],
      "text/plain": [
       "      index                                              title  \\\n",
       "0         0                                small room but okey   \n",
       "1         1                        great location, great staff   \n",
       "2         2  dont stay in this hotel unless you would like ...   \n",
       "3         3                                     waste of money   \n",
       "4         4       pre-autorisation money has not been refunded   \n",
       "...     ...                                                ...   \n",
       "8564    907                     just papering over the cracks!   \n",
       "8565    908                                            perfect   \n",
       "8566    909                                    very nice hotel   \n",
       "8567    910                                   ideally situated   \n",
       "8568    911                        just a great place to stay!   \n",
       "\n",
       "                                                 review  rate  \\\n",
       "0     this hotel has the smallest room, and we have ...     4   \n",
       "1     great location and simple but clean ammenities...     5   \n",
       "2     don't stay in this hotel unless you would like...     1   \n",
       "3     not worth it. better rooms available for this ...     1   \n",
       "4     ibis paris tour eiffel cambronne charged my de...     3   \n",
       "...                                                 ...   ...   \n",
       "8564  just got back from 3 nights in paris\\none nigh...     3   \n",
       "8565  our stay was perfect. the location was amazing...     5   \n",
       "8566  we decided on this hotel in paris for location...     4   \n",
       "8567  very small hotel but ideally situated with bre...     4   \n",
       "8568  just came back from vacation to paris. hotel l...     5   \n",
       "\n",
       "                 trip_type       date  \\\n",
       "0     traveled as a couple 2022-11-01   \n",
       "1     traveled on business 2022-10-01   \n",
       "2                      NaN 2022-10-01   \n",
       "3                      NaN 2022-09-01   \n",
       "4     traveled as a couple 2022-10-01   \n",
       "...                    ...        ...   \n",
       "8564  traveled on business 2010-01-01   \n",
       "8565  traveled as a couple 2008-08-01   \n",
       "8566  traveled with family 2009-05-01   \n",
       "8567  traveled as a couple 2008-07-01   \n",
       "8568  traveled as a couple 2009-04-01   \n",
       "\n",
       "                                               subjects  \\\n",
       "0           [check, staffs, breakfast, location, metro]   \n",
       "1                                               [staff]   \n",
       "2                     [reservation, staff, room, staff]   \n",
       "3                       [rooms, location, 20min, staff]   \n",
       "4                                    [cambronne, money]   \n",
       "...                                                 ...   \n",
       "8564            [location, areas, lounge, rooms, staff]   \n",
       "8565                             [stay, location, room]   \n",
       "8566  [employees, service, bathrooms, fi, signal, br...   \n",
       "8567  [rooms, hallways, room, staff, breakfast, croi...   \n",
       "8568  [dame, location, staff, windows, restaurants, ...   \n",
       "\n",
       "                                                  nouns  len  \\\n",
       "0     [hotel, room, brand, hotels, globe, staffs, br...    5   \n",
       "1     [location, ammenities, value, money, stars, st...    1   \n",
       "2     [hotel, cancellation, email, day, check, room,...    4   \n",
       "3     [rooms, price, rooms, bathrooms, location, wal...    4   \n",
       "4     [eiffel, cambronne, debit, account, eur, pre, ...    2   \n",
       "...                                                 ...  ...   \n",
       "8564  [nights, night, star, nights, hotel, location,...    5   \n",
       "8565               [stay, location, stones, room, view]    3   \n",
       "8566  [hotel, location, view, count, location, rate,...    7   \n",
       "8567  [hotel, views, river, room, boutique, hotels, ...    7   \n",
       "8568  [vacation, location, staff, night, rooms, stre...    6   \n",
       "\n",
       "                                             word_count  \\\n",
       "0     {'check': 1, 'staffs': 1, 'breakfast': 1, 'loc...   \n",
       "1                                          {'staff': 1}   \n",
       "2             {'reservation': 1, 'staff': 2, 'room': 1}   \n",
       "3     {'rooms': 1, 'location': 1, '20min': 1, 'staff...   \n",
       "4                          {'cambronne': 1, 'money': 1}   \n",
       "...                                                 ...   \n",
       "8564  {'location': 1, 'areas': 1, 'lounge': 1, 'room...   \n",
       "8565              {'stay': 1, 'location': 1, 'room': 1}   \n",
       "8566  {'employees': 1, 'service': 1, 'bathrooms': 1,...   \n",
       "8567  {'rooms': 1, 'hallways': 1, 'room': 1, 'staff'...   \n",
       "8568  {'dame': 1, 'location': 1, 'staff': 1, 'window...   \n",
       "\n",
       "                                              sentiment  \n",
       "0     [(hotel, 0.0), (hotel, 0.0), (staffs, 0.0), (b...  \n",
       "1     [(location, 0.6249), (ammenities, 0.4019), (va...  \n",
       "2     [(hotel, 0.3612), (room, 0.0), (flight, 0.0), ...  \n",
       "3     [(rooms, 0.4404), (rooms, 0.0), (location, 0.4...  \n",
       "4     [(eiffel, -0.2023), (eur, 0.0), (pre, -0.2023)...  \n",
       "...                                                 ...  \n",
       "8564  [(nights, 0.0), (nights, 0.2006), (b, 0.9186),...  \n",
       "8565  [(stay, 0.5719), (location, 0.5859), (stones, ...  \n",
       "8566  [(hotel, 0.0), (count, 0.3724), (location, 0.0...  \n",
       "8567  [(hotel, 0.0), (views, 0.7003), (hotel, 0.3612...  \n",
       "8568  [(vacation, 0.0), (location, 0.4767), (staff, ...  \n",
       "\n",
       "[7640 rows x 11 columns]"
      ]
     },
     "execution_count": 18,
     "metadata": {},
     "output_type": "execute_result"
    }
   ],
   "source": [
    "df"
   ]
  },
  {
   "cell_type": "markdown",
   "id": "f6c4fa4f-833a-4719-8b9a-e0dda7a8b8c2",
   "metadata": {},
   "source": [
    "exemple"
   ]
  },
  {
   "cell_type": "code",
   "execution_count": 19,
   "id": "aeaf3018-7a00-4153-98c2-964f4a411248",
   "metadata": {},
   "outputs": [
    {
     "data": {
      "text/plain": [
       "[('rooms', 0.296),\n",
       " ('hotel', 0.7269),\n",
       " ('areas', 0.0),\n",
       " ('areas', 0.34),\n",
       " ('area', 0.2023),\n",
       " ('downside', -0.25),\n",
       " ('floor', -0.34),\n",
       " ('lift', 0.0),\n",
       " ('renovation', -0.2944)]"
      ]
     },
     "execution_count": 19,
     "metadata": {},
     "output_type": "execute_result"
    }
   ],
   "source": [
    "df.sentiment.iloc[94]"
   ]
  },
  {
   "cell_type": "markdown",
   "id": "533ee9cf-992e-4184-8833-1611afbc967e",
   "metadata": {},
   "source": [
    "Cette fonction peut être utile pour obtenir une vue d'ensemble des sentiments de l'utilisateur et comprendre comment il a perçu différents aspects de l'hôtel. En utilisant cette fonction, nous pouvons avoir une idée de la manière dont les différentes entités sont perçues par les utilisateurs et identifier les points forts et les points faibles de l'hôtel. Cela peut nous aider à améliorer l'expérience des clients et à offrir un service de meilleure qualité.\n",
    "\n",
    "Cependant, il convient de noter que cette approche n'est pas parfaite et peut parfois ne pas être en mesure de détecter les nuances ou l'ironie présentes dans l'avis, en particulier si le sujet est complexe ou ambigu. Pour améliorer les résultats de cette fonction, il serait utile d'utiliser un modèle de transformer BERT (Bidirectional Encoder Representations from Transformers) pour l'analyse de sentiments et la détection des entités. BERT est un modèle de traitement du langage naturel performant qui a été entraîné sur de vastes quantités de données et est connu pour ses performances exceptionnelles dans la reconnaissance des entités et la détermination de leur relation avec le reste du texte. En utilisant BERT, nous pourrions obtenir une meilleure précision dans la détection des sentiments de l'utilisateur et des entités dans les avis. Cela nous permettrait d'améliorer l'expérience des clients et d'offrir un service de meilleure qualité."
   ]
  },
  {
   "cell_type": "markdown",
   "id": "1523ff0d",
   "metadata": {},
   "source": [
    "<a class=\"anchor\" id=\"section_3_2_2\"></a>\n",
    "<div style=\"border: 1px dashed RGB(119, 150, 203);\" >\n",
    "    <h3 style=\"margin: auto; padding: 20px; color: RGB(119, 150, 203); \">3.2.2. Aspect Based Sentiment Analysis (ABSA)</h3>\n",
    "</div>"
   ]
  },
  {
   "cell_type": "markdown",
   "id": "087454aa",
   "metadata": {},
   "source": [
    "Le modèle **ABSA** est un modèle de traitement du langage naturel qui permet d'extraire les opinions et les sentiments d'un texte en se concentrant sur des aspects spécifiques. Le modèle ABSA analyse donc non seulement les sentiments exprimés dans un texte, mais également sur quel aspect précis du sujet ces sentiments portent. Par exemple, dans notre cas ABSA permet d'analyser les commentaires d'hôtels et permet de déterminer si un commentaire est positif, négatif ou neutre, et peut également fournir des informations sur les aspects de l'hôtel qui sont le plus souvent mentionnés dans les commentaires (par exemple, le confort de la chambre, la qualité de l'alimentation, le service à la clientèle, etc.). Ce modèle peut être utile pour les hôtels qui souhaitent comprendre ce que les clients apprécient ou non de leur établissement et améliorer leur offre en conséquence."
   ]
  },
  {
   "cell_type": "markdown",
   "id": "5a6ab78f",
   "metadata": {},
   "source": [
    "<a class=\"anchor\"></a>\n",
    "<div style=\"border: 1px RGB(119, 150, 203);\" >\n",
    "    <h3 style=\"margin: auto; padding: 20px; color: RGB(119, 150, 203); \"> Data pre-processing</h3>\n",
    "</div>"
   ]
  },
  {
   "cell_type": "markdown",
   "id": "b2b40391",
   "metadata": {},
   "source": [
    "#### Import des librairies et data"
   ]
  },
  {
   "cell_type": "code",
   "execution_count": 1,
   "id": "f50fb239",
   "metadata": {},
   "outputs": [],
   "source": [
    "# pip install pyspellchecker"
   ]
  },
  {
   "cell_type": "code",
   "execution_count": 2,
   "id": "173ee37c",
   "metadata": {
    "tags": []
   },
   "outputs": [],
   "source": [
    "# pip install nltk"
   ]
  },
  {
   "cell_type": "code",
   "execution_count": 3,
   "id": "0108375e",
   "metadata": {},
   "outputs": [
    {
     "name": "stderr",
     "output_type": "stream",
     "text": [
      "[nltk_data] Downloading package stopwords to\n",
      "[nltk_data]     /Users/claire/nltk_data...\n",
      "[nltk_data]   Package stopwords is already up-to-date!\n"
     ]
    },
    {
     "data": {
      "text/plain": [
       "True"
      ]
     },
     "execution_count": 3,
     "metadata": {},
     "output_type": "execute_result"
    }
   ],
   "source": [
    "import pandas as pd\n",
    "from datetime import datetime\n",
    "import re\n",
    "import string\n",
    "from spellchecker import SpellChecker\n",
    "import time\n",
    "from nltk.corpus import stopwords\n",
    "import nltk\n",
    "nltk.download('stopwords')"
   ]
  },
  {
   "cell_type": "markdown",
   "id": "bd0974f5",
   "metadata": {},
   "source": [
    "#### Data cleaning"
   ]
  },
  {
   "cell_type": "code",
   "execution_count": 4,
   "id": "f5cb4fd3",
   "metadata": {},
   "outputs": [],
   "source": [
    "reviews = pd.read_excel('/Users/claire/Documents/Documents/STUDIES/6. M2 TIDE/Semestre 9/Algorithmique et Python/Projet/reviews.xlsx')"
   ]
  },
  {
   "cell_type": "code",
   "execution_count": 5,
   "id": "1cd7a4e3",
   "metadata": {},
   "outputs": [],
   "source": [
    "# Put the dataframe in lowercase in order to standardize my data.\n",
    "reviews=reviews.applymap(lambda s:s.lower() if type(s) == str else s)"
   ]
  },
  {
   "cell_type": "code",
   "execution_count": 6,
   "id": "a01cf585",
   "metadata": {},
   "outputs": [],
   "source": [
    "# Convert object to date\n",
    "reviews[\"date\"] =  pd.to_datetime(reviews[\"date\"], format='%B %Y')"
   ]
  },
  {
   "cell_type": "code",
   "execution_count": 7,
   "id": "d35b3f4a",
   "metadata": {},
   "outputs": [],
   "source": [
    "# Export to excel\n",
    "reviews.to_excel(r'/Users/claire/Documents/Documents/STUDIES/6. M2 TIDE/Semestre 9/Algorithmique et Python/Projet/reviews_google.xlsx',index=False)"
   ]
  },
  {
   "cell_type": "code",
   "execution_count": 8,
   "id": "6020873f",
   "metadata": {},
   "outputs": [],
   "source": [
    "reviews_all = pd.read_excel('/Users/claire/Documents/Documents/STUDIES/6. M2 TIDE/Semestre 9/Algorithmique et Python/Projet/reviews_google.xlsx')"
   ]
  },
  {
   "cell_type": "code",
   "execution_count": 10,
   "id": "df1ba720",
   "metadata": {},
   "outputs": [
    {
     "data": {
      "text/html": [
       "<div>\n",
       "<style scoped>\n",
       "    .dataframe tbody tr th:only-of-type {\n",
       "        vertical-align: middle;\n",
       "    }\n",
       "\n",
       "    .dataframe tbody tr th {\n",
       "        vertical-align: top;\n",
       "    }\n",
       "\n",
       "    .dataframe thead th {\n",
       "        text-align: right;\n",
       "    }\n",
       "</style>\n",
       "<table border=\"1\" class=\"dataframe\">\n",
       "  <thead>\n",
       "    <tr style=\"text-align: right;\">\n",
       "      <th></th>\n",
       "      <th>index</th>\n",
       "      <th>title</th>\n",
       "      <th>review</th>\n",
       "      <th>rate</th>\n",
       "      <th>trip_type</th>\n",
       "      <th>date</th>\n",
       "    </tr>\n",
       "  </thead>\n",
       "  <tbody>\n",
       "    <tr>\n",
       "      <th>0</th>\n",
       "      <td>0</td>\n",
       "      <td>small room but okey</td>\n",
       "      <td>this hotel has the smallest room, and we have ...</td>\n",
       "      <td>4</td>\n",
       "      <td>traveled as a couple</td>\n",
       "      <td>2022-11-01</td>\n",
       "    </tr>\n",
       "    <tr>\n",
       "      <th>1</th>\n",
       "      <td>1</td>\n",
       "      <td>great location, great staff</td>\n",
       "      <td>great location and simple but clean ammenities...</td>\n",
       "      <td>5</td>\n",
       "      <td>traveled on business</td>\n",
       "      <td>2022-10-01</td>\n",
       "    </tr>\n",
       "    <tr>\n",
       "      <th>2</th>\n",
       "      <td>2</td>\n",
       "      <td>dont stay in this hotel unless you would like ...</td>\n",
       "      <td>don't stay in this hotel unless you would like...</td>\n",
       "      <td>1</td>\n",
       "      <td>NaN</td>\n",
       "      <td>2022-10-01</td>\n",
       "    </tr>\n",
       "    <tr>\n",
       "      <th>3</th>\n",
       "      <td>3</td>\n",
       "      <td>waste of money</td>\n",
       "      <td>not worth it. better rooms available for this ...</td>\n",
       "      <td>1</td>\n",
       "      <td>NaN</td>\n",
       "      <td>2022-09-01</td>\n",
       "    </tr>\n",
       "    <tr>\n",
       "      <th>4</th>\n",
       "      <td>4</td>\n",
       "      <td>pre-autorisation money has not been refunded</td>\n",
       "      <td>ibis paris tour eiffel cambronne charged my de...</td>\n",
       "      <td>3</td>\n",
       "      <td>traveled as a couple</td>\n",
       "      <td>2022-10-01</td>\n",
       "    </tr>\n",
       "  </tbody>\n",
       "</table>\n",
       "</div>"
      ],
      "text/plain": [
       "   index                                              title  \\\n",
       "0      0                                small room but okey   \n",
       "1      1                        great location, great staff   \n",
       "2      2  dont stay in this hotel unless you would like ...   \n",
       "3      3                                     waste of money   \n",
       "4      4       pre-autorisation money has not been refunded   \n",
       "\n",
       "                                              review  rate  \\\n",
       "0  this hotel has the smallest room, and we have ...     4   \n",
       "1  great location and simple but clean ammenities...     5   \n",
       "2  don't stay in this hotel unless you would like...     1   \n",
       "3  not worth it. better rooms available for this ...     1   \n",
       "4  ibis paris tour eiffel cambronne charged my de...     3   \n",
       "\n",
       "              trip_type       date  \n",
       "0  traveled as a couple 2022-11-01  \n",
       "1  traveled on business 2022-10-01  \n",
       "2                   NaN 2022-10-01  \n",
       "3                   NaN 2022-09-01  \n",
       "4  traveled as a couple 2022-10-01  "
      ]
     },
     "execution_count": 10,
     "metadata": {},
     "output_type": "execute_result"
    }
   ],
   "source": [
    "reviews_all.head(5)"
   ]
  },
  {
   "cell_type": "code",
   "execution_count": 11,
   "id": "0321bcf0",
   "metadata": {},
   "outputs": [],
   "source": [
    "reviews = reviews_all.assign(cleaned_reviews=reviews['review'])"
   ]
  },
  {
   "cell_type": "code",
   "execution_count": 13,
   "id": "f7137305",
   "metadata": {},
   "outputs": [],
   "source": [
    "# Object to string\n",
    "reviews['cleaned_reviews']=reviews['cleaned_reviews'].astype('string')\n",
    "# Traitement NaN\n",
    "reviews['cleaned_reviews'] = reviews[['cleaned_reviews']].fillna(\".\")"
   ]
  },
  {
   "cell_type": "code",
   "execution_count": 14,
   "id": "40ca70de",
   "metadata": {
    "tags": []
   },
   "outputs": [],
   "source": [
    "# Fonction de nettoyage\n",
    "def clean_nlp_text(df, columns):\n",
    "    spellchecker = SpellChecker() \n",
    "    start_time = time.time()  # Get the current time in seconds\n",
    "    stop_words = set(stopwords.words('english'))  # Create a set of English stop words\n",
    "    \n",
    "    for column in columns:\n",
    "        # Lowercase the text\n",
    "        df[column] = df[column].str.lower()\n",
    "        \n",
    "        # Remove punctuation\n",
    "        df[column] = df[column].str.replace(r'[^\\w\\s]', '')\n",
    "        \n",
    "        # Remove numbers\n",
    "        df[column] = df[column].str.replace(r'\\d+', '')\n",
    "        \n",
    "        # Remove extra whitespace\n",
    "        df[column] = df[column].str.replace(r'\\s+', ' ')\n",
    "        \n",
    "        # Remove leading and trailing whitespace\n",
    "        df[column] = df[column].str.strip()\n",
    "        \n",
    "        # Correct spelling errors\n",
    "        for index, row in df.iterrows():\n",
    "            text = row[column]\n",
    "            misspelled_words = spellchecker.unknown(text.split())\n",
    "            for word in misspelled_words:\n",
    "                correction = spellchecker.correction(word)\n",
    "                if correction is not None:\n",
    "                    df.at[index, column] = text.replace(word, correction)\n",
    "                else:\n",
    "                    df.at[index, column] = text.replace(word, word)\n",
    "\n",
    "        # Remove stop words\n",
    "        df[column] = df[column].apply(lambda x: ' '.join([word for word in x.split() if word not in stop_words]))\n",
    "    \n",
    "    elapsed_time = time.time() - start_time  # Calculate elapsed time in seconds\n",
    "    print(f'Time elapsed: {elapsed_time:.2f} seconds')  # Print elapsed time in seconds\n",
    "    \n",
    "    return df"
   ]
  },
  {
   "cell_type": "code",
   "execution_count": null,
   "id": "28e88a28",
   "metadata": {},
   "outputs": [],
   "source": [
    "cleaned_reviews = clean_nlp_text(reviews, ['cleaned_reviews'])"
   ]
  },
  {
   "cell_type": "code",
   "execution_count": null,
   "id": "231bc36b",
   "metadata": {},
   "outputs": [],
   "source": [
    "cleaned_reviews"
   ]
  },
  {
   "cell_type": "code",
   "execution_count": null,
   "id": "e4921588",
   "metadata": {},
   "outputs": [],
   "source": [
    "cleaned_reviews.to_excel('/content/reviews_cleaned.xlsx')"
   ]
  },
  {
   "cell_type": "markdown",
   "id": "3906ae30-6090-48a7-a171-09456e581879",
   "metadata": {},
   "source": [
    "<a class=\"anchor\"></a>\n",
    "<div style=\"border: 1px RGB(119, 150, 203);\" >\n",
    "    <h3 style=\"margin: auto; padding: 20px; color: RGB(119, 150, 203); \"> Modèle ABSA</h3>\n",
    "</div>"
   ]
  },
  {
   "cell_type": "code",
   "execution_count": null,
   "id": "41f5ac1f-5bb7-40de-a970-f369ae28f0a6",
   "metadata": {},
   "outputs": [],
   "source": [
    "import pandas as pd\n",
    "import numpy as np\n",
    "import matplotlib.pyplot as plt\n",
    "import seaborn as sns\n",
    "import os\n",
    "from tqdm.notebook import tqdm\n",
    "import nltk\n",
    "from nltk.sentiment import SentimentIntensityAnalyzer\n",
    "from tqdm.notebook import tqdm\n",
    "plt.style.use('ggplot')\n",
    "import warnings\n",
    "warnings.filterwarnings('ignore')"
   ]
  },
  {
   "cell_type": "code",
   "execution_count": 3,
   "id": "017fcdd4-e557-44ad-b7dc-43fa0781a282",
   "metadata": {},
   "outputs": [],
   "source": [
    "def get_type(x):\n",
    "    try:\n",
    "        return x.split(' ')[-1]\n",
    "    except:\n",
    "        return 'NAN'"
   ]
  },
  {
   "cell_type": "code",
   "execution_count": 4,
   "id": "0f313ad4-7804-452b-a973-b6ba21c22c98",
   "metadata": {},
   "outputs": [],
   "source": [
    "# os.chdir('Downloads')\n",
    "df = pd.read_excel('/Users/claire/Documents/Documents/STUDIES/6. M2 TIDE/Semestre 9/Algorithmique et Python/Projet/reviews_google.xlsx').drop('index', axis=1)\n",
    "df['type'] = df['trip_type'].apply(lambda x: get_type(x))\n",
    "df = df.drop('trip_type', axis=1)"
   ]
  },
  {
   "cell_type": "code",
   "execution_count": 5,
   "id": "826c6970-3c08-4670-889e-820c13cd1e36",
   "metadata": {},
   "outputs": [
    {
     "data": {
      "text/html": [
       "<div>\n",
       "<style scoped>\n",
       "    .dataframe tbody tr th:only-of-type {\n",
       "        vertical-align: middle;\n",
       "    }\n",
       "\n",
       "    .dataframe tbody tr th {\n",
       "        vertical-align: top;\n",
       "    }\n",
       "\n",
       "    .dataframe thead th {\n",
       "        text-align: right;\n",
       "    }\n",
       "</style>\n",
       "<table border=\"1\" class=\"dataframe\">\n",
       "  <thead>\n",
       "    <tr style=\"text-align: right;\">\n",
       "      <th></th>\n",
       "      <th>title</th>\n",
       "      <th>review</th>\n",
       "      <th>rate</th>\n",
       "      <th>date</th>\n",
       "      <th>type</th>\n",
       "    </tr>\n",
       "  </thead>\n",
       "  <tbody>\n",
       "    <tr>\n",
       "      <th>0</th>\n",
       "      <td>small room but okey</td>\n",
       "      <td>this hotel has the smallest room, and we have ...</td>\n",
       "      <td>4</td>\n",
       "      <td>2022-11-01</td>\n",
       "      <td>couple</td>\n",
       "    </tr>\n",
       "    <tr>\n",
       "      <th>1</th>\n",
       "      <td>great location, great staff</td>\n",
       "      <td>great location and simple but clean ammenities...</td>\n",
       "      <td>5</td>\n",
       "      <td>2022-10-01</td>\n",
       "      <td>business</td>\n",
       "    </tr>\n",
       "    <tr>\n",
       "      <th>2</th>\n",
       "      <td>dont stay in this hotel unless you would like ...</td>\n",
       "      <td>don't stay in this hotel unless you would like...</td>\n",
       "      <td>1</td>\n",
       "      <td>2022-10-01</td>\n",
       "      <td>NAN</td>\n",
       "    </tr>\n",
       "    <tr>\n",
       "      <th>3</th>\n",
       "      <td>waste of money</td>\n",
       "      <td>not worth it. better rooms available for this ...</td>\n",
       "      <td>1</td>\n",
       "      <td>2022-09-01</td>\n",
       "      <td>NAN</td>\n",
       "    </tr>\n",
       "    <tr>\n",
       "      <th>4</th>\n",
       "      <td>pre-autorisation money has not been refunded</td>\n",
       "      <td>ibis paris tour eiffel cambronne charged my de...</td>\n",
       "      <td>3</td>\n",
       "      <td>2022-10-01</td>\n",
       "      <td>couple</td>\n",
       "    </tr>\n",
       "  </tbody>\n",
       "</table>\n",
       "</div>"
      ],
      "text/plain": [
       "                                               title  \\\n",
       "0                                small room but okey   \n",
       "1                        great location, great staff   \n",
       "2  dont stay in this hotel unless you would like ...   \n",
       "3                                     waste of money   \n",
       "4       pre-autorisation money has not been refunded   \n",
       "\n",
       "                                              review  rate       date  \\\n",
       "0  this hotel has the smallest room, and we have ...     4 2022-11-01   \n",
       "1  great location and simple but clean ammenities...     5 2022-10-01   \n",
       "2  don't stay in this hotel unless you would like...     1 2022-10-01   \n",
       "3  not worth it. better rooms available for this ...     1 2022-09-01   \n",
       "4  ibis paris tour eiffel cambronne charged my de...     3 2022-10-01   \n",
       "\n",
       "       type  \n",
       "0    couple  \n",
       "1  business  \n",
       "2       NAN  \n",
       "3       NAN  \n",
       "4    couple  "
      ]
     },
     "execution_count": 5,
     "metadata": {},
     "output_type": "execute_result"
    }
   ],
   "source": [
    "df.head()"
   ]
  },
  {
   "cell_type": "code",
   "execution_count": 6,
   "id": "cca68599-78b2-4d83-8230-be40d5506382",
   "metadata": {},
   "outputs": [
    {
     "name": "stdout",
     "output_type": "stream",
     "text": [
      "Requirement already satisfied: pyabsa in /Users/claire/opt/anaconda3/envs/env_uni/lib/python3.9/site-packages (2.0.22)\n",
      "Requirement already satisfied: autocuda>=0.14 in /Users/claire/opt/anaconda3/envs/env_uni/lib/python3.9/site-packages (from pyabsa) (0.14)\n",
      "Requirement already satisfied: spacy in /Users/claire/opt/anaconda3/envs/env_uni/lib/python3.9/site-packages (from pyabsa) (3.4.4)\n",
      "Requirement already satisfied: update-checker in /Users/claire/opt/anaconda3/envs/env_uni/lib/python3.9/site-packages (from pyabsa) (0.18.0)\n",
      "Requirement already satisfied: pandas in /Users/claire/opt/anaconda3/envs/env_uni/lib/python3.9/site-packages (from pyabsa) (1.4.4)\n",
      "Requirement already satisfied: typing-extensions in /Users/claire/opt/anaconda3/envs/env_uni/lib/python3.9/site-packages (from pyabsa) (4.3.0)\n",
      "Requirement already satisfied: tqdm in /Users/claire/opt/anaconda3/envs/env_uni/lib/python3.9/site-packages (from pyabsa) (4.64.1)\n",
      "Requirement already satisfied: gitpython in /Users/claire/opt/anaconda3/envs/env_uni/lib/python3.9/site-packages (from pyabsa) (3.1.30)\n",
      "Requirement already satisfied: termcolor in /Users/claire/opt/anaconda3/envs/env_uni/lib/python3.9/site-packages (from pyabsa) (2.1.1)\n",
      "Requirement already satisfied: metric-visualizer>=0.6.6 in /Users/claire/opt/anaconda3/envs/env_uni/lib/python3.9/site-packages (from pyabsa) (0.6.6)\n",
      "Requirement already satisfied: networkx in /Users/claire/opt/anaconda3/envs/env_uni/lib/python3.9/site-packages (from pyabsa) (2.8.4)\n",
      "Requirement already satisfied: sentencepiece in /Users/claire/opt/anaconda3/envs/env_uni/lib/python3.9/site-packages (from pyabsa) (0.1.97)\n",
      "Requirement already satisfied: torch>=1.0.0 in /Users/claire/opt/anaconda3/envs/env_uni/lib/python3.9/site-packages (from pyabsa) (1.13.1)\n",
      "Requirement already satisfied: protobuf<4.0.0 in /Users/claire/opt/anaconda3/envs/env_uni/lib/python3.9/site-packages (from pyabsa) (3.20.3)\n",
      "Requirement already satisfied: boostaug>=2.3.0 in /Users/claire/opt/anaconda3/envs/env_uni/lib/python3.9/site-packages (from pyabsa) (2.3.0)\n",
      "Requirement already satisfied: findfile>=1.7.10 in /Users/claire/opt/anaconda3/envs/env_uni/lib/python3.9/site-packages (from pyabsa) (1.7.10)\n",
      "Requirement already satisfied: seqeval in /Users/claire/opt/anaconda3/envs/env_uni/lib/python3.9/site-packages (from pyabsa) (1.2.2)\n",
      "Requirement already satisfied: transformers>=4.18.0 in /Users/claire/opt/anaconda3/envs/env_uni/lib/python3.9/site-packages (from pyabsa) (4.25.1)\n",
      "Requirement already satisfied: pytorch-warmup in /Users/claire/opt/anaconda3/envs/env_uni/lib/python3.9/site-packages (from pyabsa) (0.1.1)\n",
      "Requirement already satisfied: scipy in /Users/claire/opt/anaconda3/envs/env_uni/lib/python3.9/site-packages (from metric-visualizer>=0.6.6->pyabsa) (1.9.1)\n",
      "Requirement already satisfied: numpy in /Users/claire/opt/anaconda3/envs/env_uni/lib/python3.9/site-packages (from metric-visualizer>=0.6.6->pyabsa) (1.21.5)\n",
      "Requirement already satisfied: matplotlib<3.6.0 in /Users/claire/opt/anaconda3/envs/env_uni/lib/python3.9/site-packages (from metric-visualizer>=0.6.6->pyabsa) (3.5.2)\n",
      "Requirement already satisfied: natsort in /Users/claire/opt/anaconda3/envs/env_uni/lib/python3.9/site-packages (from metric-visualizer>=0.6.6->pyabsa) (7.1.1)\n",
      "Requirement already satisfied: tabulate in /Users/claire/opt/anaconda3/envs/env_uni/lib/python3.9/site-packages (from metric-visualizer>=0.6.6->pyabsa) (0.8.10)\n",
      "Requirement already satisfied: click in /Users/claire/opt/anaconda3/envs/env_uni/lib/python3.9/site-packages (from metric-visualizer>=0.6.6->pyabsa) (8.0.4)\n",
      "Requirement already satisfied: tikzplotlib in /Users/claire/opt/anaconda3/envs/env_uni/lib/python3.9/site-packages (from metric-visualizer>=0.6.6->pyabsa) (0.10.1)\n",
      "Requirement already satisfied: filelock in /Users/claire/opt/anaconda3/envs/env_uni/lib/python3.9/site-packages (from transformers>=4.18.0->pyabsa) (3.6.0)\n",
      "Requirement already satisfied: tokenizers!=0.11.3,<0.14,>=0.11.1 in /Users/claire/opt/anaconda3/envs/env_uni/lib/python3.9/site-packages (from transformers>=4.18.0->pyabsa) (0.13.2)\n",
      "Requirement already satisfied: huggingface-hub<1.0,>=0.10.0 in /Users/claire/opt/anaconda3/envs/env_uni/lib/python3.9/site-packages (from transformers>=4.18.0->pyabsa) (0.11.1)\n",
      "Requirement already satisfied: pyyaml>=5.1 in /Users/claire/opt/anaconda3/envs/env_uni/lib/python3.9/site-packages (from transformers>=4.18.0->pyabsa) (6.0)\n",
      "Requirement already satisfied: packaging>=20.0 in /Users/claire/opt/anaconda3/envs/env_uni/lib/python3.9/site-packages (from transformers>=4.18.0->pyabsa) (21.3)\n",
      "Requirement already satisfied: regex!=2019.12.17 in /Users/claire/opt/anaconda3/envs/env_uni/lib/python3.9/site-packages (from transformers>=4.18.0->pyabsa) (2022.7.9)\n",
      "Requirement already satisfied: requests in /Users/claire/opt/anaconda3/envs/env_uni/lib/python3.9/site-packages (from transformers>=4.18.0->pyabsa) (2.28.1)\n",
      "Requirement already satisfied: gitdb<5,>=4.0.1 in /Users/claire/opt/anaconda3/envs/env_uni/lib/python3.9/site-packages (from gitpython->pyabsa) (4.0.10)\n",
      "Requirement already satisfied: python-dateutil>=2.8.1 in /Users/claire/opt/anaconda3/envs/env_uni/lib/python3.9/site-packages (from pandas->pyabsa) (2.8.2)\n",
      "Requirement already satisfied: pytz>=2020.1 in /Users/claire/opt/anaconda3/envs/env_uni/lib/python3.9/site-packages (from pandas->pyabsa) (2022.1)\n",
      "Requirement already satisfied: scikit-learn>=0.21.3 in /Users/claire/opt/anaconda3/envs/env_uni/lib/python3.9/site-packages (from seqeval->pyabsa) (1.0.2)\n",
      "Requirement already satisfied: wasabi<1.1.0,>=0.9.1 in /Users/claire/opt/anaconda3/envs/env_uni/lib/python3.9/site-packages (from spacy->pyabsa) (0.10.1)\n",
      "Requirement already satisfied: smart-open<7.0.0,>=5.2.1 in /Users/claire/opt/anaconda3/envs/env_uni/lib/python3.9/site-packages (from spacy->pyabsa) (5.2.1)\n",
      "Requirement already satisfied: typer<0.8.0,>=0.3.0 in /Users/claire/opt/anaconda3/envs/env_uni/lib/python3.9/site-packages (from spacy->pyabsa) (0.7.0)\n",
      "Requirement already satisfied: spacy-legacy<3.1.0,>=3.0.10 in /Users/claire/opt/anaconda3/envs/env_uni/lib/python3.9/site-packages (from spacy->pyabsa) (3.0.11)\n",
      "Requirement already satisfied: pydantic!=1.8,!=1.8.1,<1.11.0,>=1.7.4 in /Users/claire/opt/anaconda3/envs/env_uni/lib/python3.9/site-packages (from spacy->pyabsa) (1.10.3)\n",
      "Requirement already satisfied: jinja2 in /Users/claire/opt/anaconda3/envs/env_uni/lib/python3.9/site-packages (from spacy->pyabsa) (2.11.3)\n",
      "Requirement already satisfied: langcodes<4.0.0,>=3.2.0 in /Users/claire/opt/anaconda3/envs/env_uni/lib/python3.9/site-packages (from spacy->pyabsa) (3.3.0)\n",
      "Requirement already satisfied: catalogue<2.1.0,>=2.0.6 in /Users/claire/opt/anaconda3/envs/env_uni/lib/python3.9/site-packages (from spacy->pyabsa) (2.0.8)\n",
      "Requirement already satisfied: thinc<8.2.0,>=8.1.0 in /Users/claire/opt/anaconda3/envs/env_uni/lib/python3.9/site-packages (from spacy->pyabsa) (8.1.6)\n",
      "Requirement already satisfied: cymem<2.1.0,>=2.0.2 in /Users/claire/opt/anaconda3/envs/env_uni/lib/python3.9/site-packages (from spacy->pyabsa) (2.0.7)\n",
      "Requirement already satisfied: setuptools in /Users/claire/opt/anaconda3/envs/env_uni/lib/python3.9/site-packages (from spacy->pyabsa) (63.4.1)\n",
      "Requirement already satisfied: spacy-loggers<2.0.0,>=1.0.0 in /Users/claire/opt/anaconda3/envs/env_uni/lib/python3.9/site-packages (from spacy->pyabsa) (1.0.4)\n",
      "Requirement already satisfied: pathy>=0.3.5 in /Users/claire/opt/anaconda3/envs/env_uni/lib/python3.9/site-packages (from spacy->pyabsa) (0.10.1)\n",
      "Requirement already satisfied: murmurhash<1.1.0,>=0.28.0 in /Users/claire/opt/anaconda3/envs/env_uni/lib/python3.9/site-packages (from spacy->pyabsa) (1.0.9)\n",
      "Requirement already satisfied: srsly<3.0.0,>=2.4.3 in /Users/claire/opt/anaconda3/envs/env_uni/lib/python3.9/site-packages (from spacy->pyabsa) (2.4.5)\n",
      "Requirement already satisfied: preshed<3.1.0,>=3.0.2 in /Users/claire/opt/anaconda3/envs/env_uni/lib/python3.9/site-packages (from spacy->pyabsa) (3.0.8)\n",
      "Requirement already satisfied: smmap<6,>=3.0.1 in /Users/claire/opt/anaconda3/envs/env_uni/lib/python3.9/site-packages (from gitdb<5,>=4.0.1->gitpython->pyabsa) (5.0.0)\n",
      "Requirement already satisfied: cycler>=0.10 in /Users/claire/opt/anaconda3/envs/env_uni/lib/python3.9/site-packages (from matplotlib<3.6.0->metric-visualizer>=0.6.6->pyabsa) (0.11.0)\n",
      "Requirement already satisfied: kiwisolver>=1.0.1 in /Users/claire/opt/anaconda3/envs/env_uni/lib/python3.9/site-packages (from matplotlib<3.6.0->metric-visualizer>=0.6.6->pyabsa) (1.4.2)\n",
      "Requirement already satisfied: fonttools>=4.22.0 in /Users/claire/opt/anaconda3/envs/env_uni/lib/python3.9/site-packages (from matplotlib<3.6.0->metric-visualizer>=0.6.6->pyabsa) (4.25.0)\n",
      "Requirement already satisfied: pillow>=6.2.0 in /Users/claire/opt/anaconda3/envs/env_uni/lib/python3.9/site-packages (from matplotlib<3.6.0->metric-visualizer>=0.6.6->pyabsa) (9.2.0)\n",
      "Requirement already satisfied: pyparsing>=2.2.1 in /Users/claire/opt/anaconda3/envs/env_uni/lib/python3.9/site-packages (from matplotlib<3.6.0->metric-visualizer>=0.6.6->pyabsa) (3.0.9)\n",
      "Requirement already satisfied: six>=1.5 in /Users/claire/opt/anaconda3/envs/env_uni/lib/python3.9/site-packages (from python-dateutil>=2.8.1->pandas->pyabsa) (1.16.0)\n",
      "Requirement already satisfied: idna<4,>=2.5 in /Users/claire/opt/anaconda3/envs/env_uni/lib/python3.9/site-packages (from requests->transformers>=4.18.0->pyabsa) (3.3)\n",
      "Requirement already satisfied: certifi>=2017.4.17 in /Users/claire/opt/anaconda3/envs/env_uni/lib/python3.9/site-packages (from requests->transformers>=4.18.0->pyabsa) (2022.12.7)\n",
      "Requirement already satisfied: charset-normalizer<3,>=2 in /Users/claire/opt/anaconda3/envs/env_uni/lib/python3.9/site-packages (from requests->transformers>=4.18.0->pyabsa) (2.0.4)\n",
      "Requirement already satisfied: urllib3<1.27,>=1.21.1 in /Users/claire/opt/anaconda3/envs/env_uni/lib/python3.9/site-packages (from requests->transformers>=4.18.0->pyabsa) (1.26.11)\n",
      "Requirement already satisfied: joblib>=0.11 in /Users/claire/opt/anaconda3/envs/env_uni/lib/python3.9/site-packages (from scikit-learn>=0.21.3->seqeval->pyabsa) (1.1.0)\n",
      "Requirement already satisfied: threadpoolctl>=2.0.0 in /Users/claire/opt/anaconda3/envs/env_uni/lib/python3.9/site-packages (from scikit-learn>=0.21.3->seqeval->pyabsa) (2.2.0)\n",
      "Requirement already satisfied: confection<1.0.0,>=0.0.1 in /Users/claire/opt/anaconda3/envs/env_uni/lib/python3.9/site-packages (from thinc<8.2.0,>=8.1.0->spacy->pyabsa) (0.0.3)\n",
      "Requirement already satisfied: blis<0.8.0,>=0.7.8 in /Users/claire/opt/anaconda3/envs/env_uni/lib/python3.9/site-packages (from thinc<8.2.0,>=8.1.0->spacy->pyabsa) (0.7.9)\n",
      "Requirement already satisfied: MarkupSafe>=0.23 in /Users/claire/opt/anaconda3/envs/env_uni/lib/python3.9/site-packages (from jinja2->spacy->pyabsa) (2.0.1)\n",
      "Requirement already satisfied: webcolors in /Users/claire/opt/anaconda3/envs/env_uni/lib/python3.9/site-packages (from tikzplotlib->metric-visualizer>=0.6.6->pyabsa) (1.12)\n",
      "Note: you may need to restart the kernel to use updated packages.\n"
     ]
    }
   ],
   "source": [
    "pip install pyabsa"
   ]
  },
  {
   "cell_type": "code",
   "execution_count": 7,
   "id": "3c47c8e7-4b2d-4527-955f-27be2598c0a8",
   "metadata": {},
   "outputs": [
    {
     "name": "stdout",
     "output_type": "stream",
     "text": [
      "No CUDA GPU found in your device\n"
     ]
    },
    {
     "name": "stderr",
     "output_type": "stream",
     "text": [
      "/Users/claire/opt/anaconda3/envs/env_uni/lib/python3.9/site-packages/fontTools/misc/py23.py:11: DeprecationWarning: The py23 module has been deprecated and will be removed in a future release. Please update your code.\n",
      "  warnings.warn(\n"
     ]
    },
    {
     "name": "stdout",
     "output_type": "stream",
     "text": [
      "[2022-12-30 10:59:43] (2.0.22) PyABSA(2.0.22): There are some known issues with compatibility when migrating from v1.x versions to v2.x versions.\n",
      "If you find any problems in v2.x, please downgrade to v1.16.27 (or earlier versions) and raise an issue on GitHub.\n"
     ]
    }
   ],
   "source": [
    "from pyabsa import ATEPCCheckpointManager"
   ]
  },
  {
   "cell_type": "code",
   "execution_count": null,
   "id": "b970ad49-ab9f-4d6e-8fb5-3958dc80151c",
   "metadata": {},
   "outputs": [
    {
     "name": "stderr",
     "output_type": "stream",
     "text": [
      "/Users/claire/opt/anaconda3/envs/env_uni/lib/python3.9/multiprocessing/pool.py:265: ResourceWarning: unclosed running multiprocessing pool <multiprocessing.pool.Pool state=RUN pool_size=1>\n",
      "  _warn(f\"unclosed running multiprocessing pool {self!r}\",\n",
      "ResourceWarning: Enable tracemalloc to get the object allocation traceback\n"
     ]
    },
    {
     "name": "stdout",
     "output_type": "stream",
     "text": [
      "[2022-12-30 10:59:43] (2.0.22) ********** Available ATEPC model checkpoints for Version:2.0.22 (this version) **********\n",
      "[2022-12-30 10:59:43] (2.0.22) Downloading checkpoint:english \n",
      "[2022-12-30 10:59:43] (2.0.22) Notice: The pretrained model are used for testing, it is recommended to train the model on your own custom datasets\n"
     ]
    },
    {
     "name": "stderr",
     "output_type": "stream",
     "text": [
      "Downloading checkpoint: 579MB [08:02,  1.20MB/s]                         "
     ]
    },
    {
     "name": "stdout",
     "output_type": "stream",
     "text": [
      "[2022-12-30 11:07:47] (2.0.22) Find zipped checkpoint: ./checkpoints/ATEPC_ENGLISH_CHECKPOINT/fast_lcf_atepc_English_cdw_apcacc_82.36_apcf1_81.89_atef1_75.43.zip, unzipping\n"
     ]
    },
    {
     "name": "stderr",
     "output_type": "stream",
     "text": [
      "\n"
     ]
    },
    {
     "name": "stdout",
     "output_type": "stream",
     "text": [
      "[2022-12-30 11:07:57] (2.0.22) Done.\n",
      "[2022-12-30 11:07:57] (2.0.22) If the auto-downloading failed, please download it via browser: https://huggingface.co/spaces/yangheng/PyABSA/resolve/main/checkpoints/English/ATEPC/fast_lcf_atepc_English_cdw_apcacc_82.36_apcf1_81.89_atef1_75.43.zip \n",
      "[2022-12-30 11:07:57] (2.0.22) Load aspect extractor from ./checkpoints/ATEPC_ENGLISH_CHECKPOINT/fast_lcf_atepc_English_cdw_apcacc_82.36_apcf1_81.89_atef1_75.43\n",
      "[2022-12-30 11:07:57] (2.0.22) config: ./checkpoints/ATEPC_ENGLISH_CHECKPOINT/fast_lcf_atepc_English_cdw_apcacc_82.36_apcf1_81.89_atef1_75.43/fast_lcf_atepc.config\n",
      "[2022-12-30 11:07:57] (2.0.22) state_dict: ./checkpoints/ATEPC_ENGLISH_CHECKPOINT/fast_lcf_atepc_English_cdw_apcacc_82.36_apcf1_81.89_atef1_75.43/fast_lcf_atepc.state_dict\n",
      "[2022-12-30 11:07:57] (2.0.22) model: None\n",
      "[2022-12-30 11:07:57] (2.0.22) tokenizer: ./checkpoints/ATEPC_ENGLISH_CHECKPOINT/fast_lcf_atepc_English_cdw_apcacc_82.36_apcf1_81.89_atef1_75.43/fast_lcf_atepc.tokenizer\n",
      "[2022-12-30 11:07:57] (2.0.22) Set Model Device: cpu\n",
      "[2022-12-30 11:07:57] (2.0.22) Device Name: Unknown\n"
     ]
    },
    {
     "data": {
      "application/vnd.jupyter.widget-view+json": {
       "model_id": "6ccce1472d214caa83eb3d4f00ede78d",
       "version_major": 2,
       "version_minor": 0
      },
      "text/plain": [
       "Downloading:   0%|          | 0.00/579 [00:00<?, ?B/s]"
      ]
     },
     "metadata": {},
     "output_type": "display_data"
    },
    {
     "data": {
      "application/vnd.jupyter.widget-view+json": {
       "model_id": "acaa05a974af44f08749f452f0d48836",
       "version_major": 2,
       "version_minor": 0
      },
      "text/plain": [
       "Downloading:   0%|          | 0.00/371M [00:00<?, ?B/s]"
      ]
     },
     "metadata": {},
     "output_type": "display_data"
    },
    {
     "name": "stderr",
     "output_type": "stream",
     "text": [
      "Some weights of the model checkpoint at microsoft/deberta-v3-base were not used when initializing DebertaV2Model: ['lm_predictions.lm_head.dense.bias', 'lm_predictions.lm_head.LayerNorm.bias', 'mask_predictions.classifier.weight', 'mask_predictions.dense.weight', 'lm_predictions.lm_head.LayerNorm.weight', 'mask_predictions.LayerNorm.weight', 'mask_predictions.dense.bias', 'mask_predictions.classifier.bias', 'lm_predictions.lm_head.dense.weight', 'lm_predictions.lm_head.bias', 'mask_predictions.LayerNorm.bias']\n",
      "- This IS expected if you are initializing DebertaV2Model from the checkpoint of a model trained on another task or with another architecture (e.g. initializing a BertForSequenceClassification model from a BertForPreTraining model).\n",
      "- This IS NOT expected if you are initializing DebertaV2Model from the checkpoint of a model that you expect to be exactly identical (initializing a BertForSequenceClassification model from a BertForSequenceClassification model).\n"
     ]
    }
   ],
   "source": [
    "aspect_extractor = ATEPCCheckpointManager.get_aspect_extractor(checkpoint='english')"
   ]
  },
  {
   "cell_type": "code",
   "execution_count": null,
   "id": "db0b0eb2-0d03-46b3-9c0b-d6e7b9dc9594",
   "metadata": {},
   "outputs": [],
   "source": [
    "def get_absa(text):\n",
    "    atepc_result = aspect_extractor.extract_aspect(inference_source=text, pred_sentiment=True, save_result=False,\n",
    "    print_result=False)\n",
    "    return [{x:y for x,y in zip(atepc_result[i]['aspect'], atepc_result[i]['sentiment'])} for i in range(len(text))]"
   ]
  },
  {
   "cell_type": "code",
   "execution_count": null,
   "id": "4b49b741-f6f8-4dd6-8406-444368e19b25",
   "metadata": {},
   "outputs": [],
   "source": [
    "atepc_result = get_absa(df['review'].values.tolist())"
   ]
  },
  {
   "cell_type": "code",
   "execution_count": null,
   "id": "aa4925e5-fe07-4ec0-99e8-8d8f4973054e",
   "metadata": {},
   "outputs": [],
   "source": [
    "atepc_result"
   ]
  },
  {
   "cell_type": "markdown",
   "id": "7fe661ad",
   "metadata": {},
   "source": [
    "<a class=\"anchor\" id=\"chapter4\"></a>\n",
    "<div style=\"background-color: RGB(119, 150, 203);\" >\n",
    "<h2 style=\"margin: auto; padding: 20px; color:#fff; \">Chapitre 4 : Forces et faiblesses des différents modèles</h2>\n",
    "</div>"
   ]
  },
  {
   "cell_type": "markdown",
   "id": "8f37259d",
   "metadata": {},
   "source": [
    "<a class=\"anchor\" id=\"section_4_1\"></a>\n",
    "<div style=\"border: 1px solid RGB(119, 150, 203);\" >\n",
    "    <h3 style=\"margin: auto; padding: 20px; color: RGB(119, 150, 203); \">4.1. Analyse comparative des modèles d'analyse de sentiment</h3>\n",
    "</div>"
   ]
  },
  {
   "cell_type": "markdown",
   "id": "1502f3bc",
   "metadata": {},
   "source": [
    "Les points forts de la **régression logistique** pour l'analyse de sentiments :\n",
    "\n",
    "- Elle est simple à mettre en œuvre et facile à comprendre.\n",
    "- Elle donne une interprétation probabiliste des résultats, ce qui peut être utile pour comprendre comment les différentes variables explicatives affectent la probabilité de l'événement cible.\n",
    "\n",
    "Ces points faibles :\n",
    "\n",
    "- Elle ne peut être utilisée que pour des problèmes de classification binaire. Pour prédire plusieurs classes, on doit utiliser une autre technique de classification comme les arbres de décision ou les machines à vecteurs de support.\n",
    "- Elle peut avoir du mal à gérer les variables qui sont fortement corrélées entre elles.\n",
    "- Elle suppose que les variables explicatives sont indépendantes les unes des autres, ce qui peut ne pas être le cas dans la réalité."
   ]
  },
  {
   "cell_type": "markdown",
   "id": "0b12b538",
   "metadata": {},
   "source": [
    "Les points forts du modèle **LSTM** :\n",
    "\n",
    "- Il peut prendre en compte les contextes à long terme, ce qui est important pour l'analyse de sentiments car les mots peuvent avoir différentes significations en fonction de leur contexte.\n",
    "- Il peut être entraîné sur de grandes quantités de données, ce qui est utile pour l'analyse de sentiments car il est généralement nécessaire d'avoir beaucoup de données pour obtenir de bons résultats.\n",
    "- Il peut être utilisé pour des tâches de classification à plusieurs classes, comme l'analyse de sentiments qui peut être divisée en catégories de sentiments positifs, négatifs et neutres.\n",
    "\n",
    "Les points faibles du LSTM :\n",
    "\n",
    "- Il est complexe et peut être difficile à mettre en œuvre et à comprendre.\n",
    "- Il peut être coûteux en termes de temps de calcul et de mémoire, ce qui peut être un problème lorsque l'on a un grand nombre de données à traiter.\n",
    "- Il peut être difficile à entraîner et à optimiser, car il y a de nombreux hyperparamètres à ajuster."
   ]
  },
  {
   "cell_type": "markdown",
   "id": "3399b9b8",
   "metadata": {},
   "source": [
    "Les points forts du modèle **BERT**:\n",
    "\n",
    "- Il a été pré-entraîné sur un grand corpus de textes, ce qui lui permet de capturer de nombreuses caractéristiques du langage naturel et de fournir de bonnes performances pour de nombreuses tâches de traitement du langage naturel.\n",
    "- Il peut prendre en compte le contexte à la fois avant et après un mot, ce qui est important pour l'analyse de sentiments car les mots peuvent avoir différentes significations en fonction de leur contexte.\n",
    "- Il peut être utilisé pour des tâches de classification à plusieurs classes, comme l'analyse de sentiments qui peut être divisée en catégories de sentiments positifs, négatifs et neutres.\n",
    "\n",
    "Les points négatifs du BERT :\n",
    "\n",
    "- Il peut être coûteux en termes de temps de calcul et de mémoire.\n",
    "- Il peut être difficile à utiliser par manque de solides connaissances en traitement du langage naturel et en réseaux de neurones.\n",
    "- Il peut être difficile à interpréter, car il est basé sur un réseau de neurones profond et complexe."
   ]
  },
  {
   "cell_type": "markdown",
   "id": "312b4657",
   "metadata": {},
   "source": [
    "<a class=\"anchor\" id=\"section_4_2\"></a>\n",
    "<div style=\"border: 1px solid RGB(119, 150, 203);\" >\n",
    "    <h3 style=\"margin: auto; padding: 20px; color: RGB(119, 150, 203); \">4.2. Comparaison des différents algorithmes d'extraction de données</h3>\n",
    "</div>"
   ]
  },
  {
   "cell_type": "markdown",
   "id": "82feadbd",
   "metadata": {},
   "source": [
    "Les points forts du modèle **NER** :\n",
    "\n",
    "- Précision : les modèles NER modernes sont capables de détecter avec une grande précision les entités nommées dans un texte, qu'il s'agisse de personnes, de lieux, de dates ou de concepts.\n",
    "- Vitesse : les modèles NER sont généralement rapides à exécuter et peuvent traiter rapidement de grandes quantités de texte.\n",
    "- Facilité d'utilisation : il existe de nombreux outils et bibliothèques logicielles qui facilitent l'utilisation de modèles NER, rendant ceux-ci accessibles aux utilisateurs sans connaissances en programmation ou en apprentissage automatique.\n",
    "\n",
    "Les points faibles du modèle NER sont :\n",
    "\n",
    "- Dépendance de la qualité des données : comme tous les modèles d'apprentissage automatique, les modèles NER sont sensibles à la qualité des données d'entraînement. Si les données sont bruitées ou de mauvaise qualité, cela peut affecter négativement les performances du modèle.\n",
    "- Faiblesse face aux contextes inhabituels : les modèles NER peuvent avoir du mal à gérer des contextes inhabituels ou des textes très spécialisés, qui peuvent contenir des termes ou des phrases inhabituels qui peuvent être difficiles à interpréter.\n",
    "- Limites du langage naturel : les modèles NER ont des difficultés à traiter le langage naturel, qui est souvent ambigu et peut contenir des erreurs de grammaire ou de syntaxe. Cela peut limiter l'efficacité de ces modèles dans certaines situations."
   ]
  },
  {
   "cell_type": "markdown",
   "id": "2de78d26",
   "metadata": {},
   "source": [
    "Les points forts du modèle **ABSA** sont :\n",
    "\n",
    "- Il permet d'extraire des informations précises sur les aspects sur lesquels portent les opinions et les sentiments exprimés dans un texte. Comme par exemple, identifier les points forts et les points faibles de l'hôtel selon les avis des clients ce qui peut être utile pour prendre des décisions commerciales.\n",
    "- Peut être utilisé pour détecter les tendances au fil du temps et suivre l'évolution de la satisfaction des clients.\n",
    "- Permet de hiérarchiser les aspects les plus appréciés ou décriés par les clients.\n",
    "- Peut être utilisé pour comparer les avis d'un hôtel à ceux de ses concurrents et ainsi évaluer sa performance par rapport à la concurrence.\n",
    "\n",
    "Les points faibles du modèle ABSA sont :\n",
    "\n",
    "- Il peut être difficile à entraîner, en particulier si les données d'entraînement sont limitées ou de mauvaise qualité.\n",
    "- Les modèles d'analyse de sentiment sont souvent sujets à des erreurs d'interprétation, en particulier lorsqu'ils sont utilisés sur des textes courts et subjectifs tels que les avis d'hôtels.\n",
    "- Il peut être sensible aux variations de langage et de style, ce qui peut rendre difficile son utilisation dans des contextes multilingues ou avec des textes provenant de sources diverses.\n",
    "- Les avis d'hôtels peuvent être très variés et couvrir de nombreux aspects différents de l'hôtel, ce qui peut rendre difficile l'extraction de l'opinion générale exprimée."
   ]
  },
  {
   "cell_type": "markdown",
   "id": "ae33ca2d",
   "metadata": {},
   "source": [
    "<a class=\"anchor\" id=\"chapter5\"></a>\n",
    "<div style=\"background-color: RGB(119, 150, 203);\" >\n",
    "<h2 style=\"margin: auto; padding: 20px; color:#fff; \">Chapitre 5 : Analyse statistique des avis d'hôtels : ce que les clients apprécient et ce qui peut être amélioré</h2>\n",
    "</div>"
   ]
  },
  {
   "cell_type": "markdown",
   "id": "d661879f",
   "metadata": {},
   "source": [
    "<a class=\"anchor\" id=\"section_5_1\"></a>\n",
    "<div style=\"border: 1px solid RGB(119, 150, 203);\" >\n",
    "    <h3 style=\"margin: auto; padding: 20px; color: RGB(119, 150, 203); \">5.1. Analyse quantitative</h3>\n",
    "</div>"
   ]
  },
  {
   "cell_type": "markdown",
   "id": "457e0456",
   "metadata": {},
   "source": [
    "<a class=\"anchor\" id=\"section_5_2\"></a>\n",
    "<div style=\"border: 1px solid RGB(119, 150, 203);\" >\n",
    "    <h3 style=\"margin: auto; padding: 20px; color: RGB(119, 150, 203); \">5.2. Analyse qualitative</h3>\n",
    "</div>"
   ]
  },
  {
   "cell_type": "markdown",
   "id": "30d6086d",
   "metadata": {},
   "source": [
    "<a class=\"anchor\" id=\"chapter6\"></a>\n",
    "<div style=\"background-color: RGB(119, 150, 203);\" >\n",
    "<h2 style=\"margin: auto; padding: 20px; color:#fff; \">Chapitre 6 : Déploiement</h2>\n",
    "</div>"
   ]
  },
  {
   "cell_type": "markdown",
   "id": "b53739f0",
   "metadata": {},
   "source": [
    "<a class=\"anchor\" id=\"chapter7\"></a>\n",
    "<div style=\"background-color: RGB(119, 150, 203);\" >\n",
    "<h2 style=\"margin: auto; padding: 20px; color:#fff; \">Chapitre 7 : Conclusion</h2>\n",
    "</div>"
   ]
  },
  {
   "cell_type": "markdown",
   "id": "bb7ea73f",
   "metadata": {},
   "source": []
  },
  {
   "cell_type": "markdown",
   "id": "e7e68961",
   "metadata": {},
   "source": []
  },
  {
   "cell_type": "markdown",
   "id": "8a0c5629",
   "metadata": {},
   "source": []
  }
 ],
 "metadata": {
  "kernelspec": {
   "display_name": "Python 3 (ipykernel)",
   "language": "python",
   "name": "python3"
  },
  "language_info": {
   "codemirror_mode": {
    "name": "ipython",
    "version": 3
   },
   "file_extension": ".py",
   "mimetype": "text/x-python",
   "name": "python",
   "nbconvert_exporter": "python",
   "pygments_lexer": "ipython3",
   "version": "3.9.13"
  }
 },
 "nbformat": 4,
 "nbformat_minor": 5
}
