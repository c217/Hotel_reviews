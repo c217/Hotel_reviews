{
 "cells": [
  {
   "cell_type": "code",
   "execution_count": 1,
   "id": "9c7097c1",
   "metadata": {},
   "outputs": [],
   "source": [
    "import pandas as pd\n",
    "import nltk\n",
    "import re"
   ]
  },
  {
   "cell_type": "code",
   "execution_count": null,
   "id": "2b82a99f",
   "metadata": {},
   "outputs": [],
   "source": [
    "#nltk.download('stopwords')\n",
    "stop = stopwords.words('english')"
   ]
  },
  {
   "cell_type": "code",
   "execution_count": null,
   "id": "d16bb6b1",
   "metadata": {},
   "outputs": [],
   "source": [
    "df = pd.read_excel('reviews_target.xlsx')"
   ]
  },
  {
   "cell_type": "code",
   "execution_count": null,
   "id": "c864d968",
   "metadata": {},
   "outputs": [],
   "source": [
    "df['review'] = df['review'].apply(lambda x: \" \".join([token for token in re.sub('[^A-Za-z0-9\\s]','', x).strip().split() if token not in stop]))"
   ]
  },
  {
   "cell_type": "code",
   "execution_count": null,
   "id": "0d05e4e7",
   "metadata": {},
   "outputs": [],
   "source": [
    "import tensorflow as tf\n",
    "l_model = tf.keras.models.load_model('model.h5')"
   ]
  },
  {
   "cell_type": "code",
   "execution_count": null,
   "id": "6e3f8a53",
   "metadata": {},
   "outputs": [],
   "source": [
    "import pickle\n",
    "with open('tokenizer.pickle', 'rb') as handle:\n",
    "    tokenizer = pickle.load(handle)"
   ]
  },
  {
   "cell_type": "code",
   "execution_count": null,
   "id": "c8c9b7d0",
   "metadata": {},
   "outputs": [],
   "source": [
    "df['lstm_pred'] = df['review'].apply(lambda x:  l_model.predict(pad_sequences(tokenizer.texts_to_sequences([x]), maxlen=300))[0][0])"
   ]
  },
  {
   "cell_type": "code",
   "execution_count": null,
   "id": "02ddb105",
   "metadata": {},
   "outputs": [],
   "source": [
    "df.to_excel('reviews_lstm.xlsx', index=False)"
   ]
  }
 ],
 "metadata": {
  "kernelspec": {
   "display_name": "Python 3 (ipykernel)",
   "language": "python",
   "name": "python3"
  },
  "language_info": {
   "codemirror_mode": {
    "name": "ipython",
    "version": 3
   },
   "file_extension": ".py",
   "mimetype": "text/x-python",
   "name": "python",
   "nbconvert_exporter": "python",
   "pygments_lexer": "ipython3",
   "version": "3.9.13"
  }
 },
 "nbformat": 4,
 "nbformat_minor": 5
}
