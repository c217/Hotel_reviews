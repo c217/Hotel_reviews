{
 "cells": [
  {
   "cell_type": "code",
   "execution_count": 1,
   "metadata": {
    "_cell_guid": "b1076dfc-b9ad-4769-8c92-a6c4dae69d19",
    "_uuid": "8f2839f25d086af736a60e9eeb907d3b93b6e0e5",
    "execution": {
     "iopub.execute_input": "2023-01-01T23:06:52.587758Z",
     "iopub.status.busy": "2023-01-01T23:06:52.587047Z",
     "iopub.status.idle": "2023-01-01T23:06:52.610926Z",
     "shell.execute_reply": "2023-01-01T23:06:52.609901Z",
     "shell.execute_reply.started": "2023-01-01T23:06:52.587670Z"
    }
   },
   "outputs": [
    {
     "name": "stdout",
     "output_type": "stream",
     "text": [
      "/kaggle/input/515k-hotel-reviews-data-in-europe/Hotel_Reviews.csv\n"
     ]
    }
   ],
   "source": [
    "import os\n",
    "for dirname, _, filenames in os.walk('/kaggle/input'):\n",
    "    for filename in filenames:\n",
    "        print(os.path.join(dirname, filename))"
   ]
  },
  {
   "cell_type": "code",
   "execution_count": 2,
   "metadata": {
    "execution": {
     "iopub.execute_input": "2023-01-02T12:36:34.314098Z",
     "iopub.status.busy": "2023-01-02T12:36:34.313161Z",
     "iopub.status.idle": "2023-01-02T12:36:40.218906Z",
     "shell.execute_reply": "2023-01-02T12:36:40.217964Z",
     "shell.execute_reply.started": "2023-01-02T12:36:34.314061Z"
    }
   },
   "outputs": [],
   "source": [
    "import pandas as pd\n",
    "import numpy as np\n",
    "import matplotlib.pyplot as plt\n",
    "import seaborn as sns\n",
    "import re\n",
    "import os\n",
    "from tqdm.notebook import tqdm\n",
    "import nltk\n",
    "from sklearn.model_selection import train_test_split\n",
    "from keras.preprocessing.text import Tokenizer\n",
    "from keras.preprocessing.sequence import pad_sequences\n",
    "from keras.models import Sequential\n",
    "from keras.layers import Activation, Dense, Dropout, Embedding, Flatten, Conv1D, MaxPooling1D, LSTM\n",
    "from keras import utils\n",
    "from keras.callbacks import ReduceLROnPlateau, EarlyStopping\n",
    "plt.style.use('ggplot')\n",
    "import warnings\n",
    "warnings.filterwarnings('ignore')\n",
    "import nltk\n",
    "from nltk.corpus import stopwords\n",
    "from nltk.stem import SnowballStemmer\n",
    "import gensim"
   ]
  },
  {
   "cell_type": "code",
   "execution_count": 3,
   "metadata": {
    "execution": {
     "iopub.execute_input": "2023-01-02T12:36:40.222775Z",
     "iopub.status.busy": "2023-01-02T12:36:40.221730Z",
     "iopub.status.idle": "2023-01-02T12:36:40.376114Z",
     "shell.execute_reply": "2023-01-02T12:36:40.374908Z",
     "shell.execute_reply.started": "2023-01-02T12:36:40.222735Z"
    }
   },
   "outputs": [
    {
     "name": "stderr",
     "output_type": "stream",
     "text": [
      "[nltk_data] Downloading package stopwords to /usr/share/nltk_data...\n",
      "[nltk_data]   Package stopwords is already up-to-date!\n"
     ]
    },
    {
     "data": {
      "text/plain": [
       "True"
      ]
     },
     "execution_count": 3,
     "metadata": {},
     "output_type": "execute_result"
    }
   ],
   "source": [
    "nltk.download('stopwords')"
   ]
  },
  {
   "cell_type": "code",
   "execution_count": 4,
   "metadata": {
    "execution": {
     "iopub.execute_input": "2023-01-02T12:36:40.377859Z",
     "iopub.status.busy": "2023-01-02T12:36:40.377418Z",
     "iopub.status.idle": "2023-01-02T12:36:40.387250Z",
     "shell.execute_reply": "2023-01-02T12:36:40.386051Z",
     "shell.execute_reply.started": "2023-01-02T12:36:40.377819Z"
    }
   },
   "outputs": [],
   "source": [
    "stop = stopwords.words('english')\n",
    "stem = SnowballStemmer('english')"
   ]
  },
  {
   "cell_type": "code",
   "execution_count": 5,
   "metadata": {
    "execution": {
     "iopub.execute_input": "2023-01-02T12:36:40.391192Z",
     "iopub.status.busy": "2023-01-02T12:36:40.390931Z",
     "iopub.status.idle": "2023-01-02T12:36:46.418924Z",
     "shell.execute_reply": "2023-01-02T12:36:46.417918Z",
     "shell.execute_reply.started": "2023-01-02T12:36:40.391167Z"
    }
   },
   "outputs": [],
   "source": [
    "predf = pd.read_csv('/kaggle/input/515k-hotel-reviews-data-in-europe/Hotel_Reviews.csv')"
   ]
  },
  {
   "cell_type": "code",
   "execution_count": 6,
   "metadata": {
    "execution": {
     "iopub.execute_input": "2023-01-02T12:36:46.422723Z",
     "iopub.status.busy": "2023-01-02T12:36:46.421984Z",
     "iopub.status.idle": "2023-01-02T12:36:46.586936Z",
     "shell.execute_reply": "2023-01-02T12:36:46.585966Z",
     "shell.execute_reply.started": "2023-01-02T12:36:46.422683Z"
    }
   },
   "outputs": [],
   "source": [
    "predf['review'] = predf[\"Negative_Review\"] + predf[\"Positive_Review\"]\n",
    "predf['target'] = 1*(predf[\"Reviewer_Score\"]>5)"
   ]
  },
  {
   "cell_type": "code",
   "execution_count": 7,
   "metadata": {
    "execution": {
     "iopub.execute_input": "2023-01-02T12:36:46.589040Z",
     "iopub.status.busy": "2023-01-02T12:36:46.588641Z",
     "iopub.status.idle": "2023-01-02T12:37:25.791603Z",
     "shell.execute_reply": "2023-01-02T12:37:25.790511Z",
     "shell.execute_reply.started": "2023-01-02T12:36:46.589002Z"
    }
   },
   "outputs": [],
   "source": [
    "predf['review'] = predf['review'].apply(lambda x: \" \".join([token for token in re.sub('[^A-Za-z0-9\\s]','', x).strip().split() if token not in stop]))"
   ]
  },
  {
   "cell_type": "code",
   "execution_count": 8,
   "metadata": {
    "execution": {
     "iopub.execute_input": "2023-01-02T12:37:25.794815Z",
     "iopub.status.busy": "2023-01-02T12:37:25.794419Z",
     "iopub.status.idle": "2023-01-02T12:37:30.148622Z",
     "shell.execute_reply": "2023-01-02T12:37:30.147576Z",
     "shell.execute_reply.started": "2023-01-02T12:37:25.794778Z"
    }
   },
   "outputs": [],
   "source": [
    "reviews = [rev.split() for rev in predf.review]\n",
    "w2v = gensim.models.word2vec.Word2Vec(vector_size=300, window=7, min_count=10, workers=8)\n",
    "w2v.build_vocab(reviews)"
   ]
  },
  {
   "cell_type": "code",
   "execution_count": 9,
   "metadata": {
    "execution": {
     "iopub.execute_input": "2023-01-02T12:37:30.150870Z",
     "iopub.status.busy": "2023-01-02T12:37:30.150463Z",
     "iopub.status.idle": "2023-01-02T12:37:30.156867Z",
     "shell.execute_reply": "2023-01-02T12:37:30.155176Z",
     "shell.execute_reply.started": "2023-01-02T12:37:30.150829Z"
    }
   },
   "outputs": [],
   "source": [
    "import logging\n",
    "logging.basicConfig(format='%(asctime)s : %(levelname)s : %(message)s', level=logging.INFO)"
   ]
  },
  {
   "cell_type": "code",
   "execution_count": 10,
   "metadata": {
    "execution": {
     "iopub.execute_input": "2023-01-02T12:37:30.159274Z",
     "iopub.status.busy": "2023-01-02T12:37:30.158935Z",
     "iopub.status.idle": "2023-01-02T12:47:44.121993Z",
     "shell.execute_reply": "2023-01-02T12:47:44.121119Z",
     "shell.execute_reply.started": "2023-01-02T12:37:30.159198Z"
    }
   },
   "outputs": [
    {
     "data": {
      "text/plain": [
       "(283489242, 343242720)"
      ]
     },
     "execution_count": 10,
     "metadata": {},
     "output_type": "execute_result"
    }
   ],
   "source": [
    "w2v.train(reviews, total_examples=len(reviews), epochs=32)"
   ]
  },
  {
   "cell_type": "code",
   "execution_count": 11,
   "metadata": {
    "execution": {
     "iopub.execute_input": "2023-01-02T12:47:44.125339Z",
     "iopub.status.busy": "2023-01-02T12:47:44.123470Z",
     "iopub.status.idle": "2023-01-02T12:47:44.694617Z",
     "shell.execute_reply": "2023-01-02T12:47:44.693526Z",
     "shell.execute_reply.started": "2023-01-02T12:47:44.125309Z"
    }
   },
   "outputs": [],
   "source": [
    "train, test = train_test_split(predf, test_size=0.3, random_state=42)"
   ]
  },
  {
   "cell_type": "code",
   "execution_count": 12,
   "metadata": {
    "execution": {
     "iopub.execute_input": "2023-01-02T12:47:44.696281Z",
     "iopub.status.busy": "2023-01-02T12:47:44.695896Z",
     "iopub.status.idle": "2023-01-02T12:47:53.211096Z",
     "shell.execute_reply": "2023-01-02T12:47:53.210242Z",
     "shell.execute_reply.started": "2023-01-02T12:47:44.696247Z"
    }
   },
   "outputs": [
    {
     "name": "stdout",
     "output_type": "stream",
     "text": [
      "Total words 69486\n"
     ]
    }
   ],
   "source": [
    "tokenizer = Tokenizer()\n",
    "tokenizer.fit_on_texts(train.review)\n",
    "vocab_size = len(tokenizer.word_index) + 1\n",
    "print(\"Total words\", vocab_size)"
   ]
  },
  {
   "cell_type": "code",
   "execution_count": 13,
   "metadata": {
    "execution": {
     "iopub.execute_input": "2023-01-02T12:47:53.216204Z",
     "iopub.status.busy": "2023-01-02T12:47:53.215666Z",
     "iopub.status.idle": "2023-01-02T12:48:04.753181Z",
     "shell.execute_reply": "2023-01-02T12:48:04.752198Z",
     "shell.execute_reply.started": "2023-01-02T12:47:53.216166Z"
    }
   },
   "outputs": [],
   "source": [
    "rev_train = pad_sequences(tokenizer.texts_to_sequences(train.review), maxlen=300)\n",
    "rev_test = pad_sequences(tokenizer.texts_to_sequences(test.review), maxlen=300)"
   ]
  },
  {
   "cell_type": "code",
   "execution_count": 14,
   "metadata": {
    "execution": {
     "iopub.execute_input": "2023-01-02T12:48:04.757997Z",
     "iopub.status.busy": "2023-01-02T12:48:04.757697Z",
     "iopub.status.idle": "2023-01-02T12:48:04.762481Z",
     "shell.execute_reply": "2023-01-02T12:48:04.761418Z",
     "shell.execute_reply.started": "2023-01-02T12:48:04.757971Z"
    }
   },
   "outputs": [],
   "source": [
    "sent_train = train.target\n",
    "sent_test = test.target"
   ]
  },
  {
   "cell_type": "code",
   "execution_count": 15,
   "metadata": {
    "execution": {
     "iopub.execute_input": "2023-01-02T12:48:04.764633Z",
     "iopub.status.busy": "2023-01-02T12:48:04.763984Z",
     "iopub.status.idle": "2023-01-02T12:48:04.916786Z",
     "shell.execute_reply": "2023-01-02T12:48:04.915855Z",
     "shell.execute_reply.started": "2023-01-02T12:48:04.764599Z"
    }
   },
   "outputs": [],
   "source": [
    "embedding_matrix = np.zeros((vocab_size, 300))\n",
    "for word, i in tokenizer.word_index.items():\n",
    "  if word in w2v.wv:\n",
    "    embedding_matrix[i] = w2v.wv[word]\n",
    "embedding_layer = Embedding(vocab_size, 300, weights=[embedding_matrix], input_length=300, trainable=False)"
   ]
  },
  {
   "cell_type": "code",
   "execution_count": 16,
   "metadata": {
    "execution": {
     "iopub.execute_input": "2023-01-02T12:48:04.918555Z",
     "iopub.status.busy": "2023-01-02T12:48:04.918201Z",
     "iopub.status.idle": "2023-01-02T12:48:07.970194Z",
     "shell.execute_reply": "2023-01-02T12:48:07.969173Z",
     "shell.execute_reply.started": "2023-01-02T12:48:04.918521Z"
    }
   },
   "outputs": [
    {
     "name": "stderr",
     "output_type": "stream",
     "text": [
      "2023-01-02 12:48:04.987563: I tensorflow/stream_executor/cuda/cuda_gpu_executor.cc:937] successful NUMA node read from SysFS had negative value (-1), but there must be at least one NUMA node, so returning NUMA node zero\n",
      "2023-01-02 12:48:05.113597: I tensorflow/stream_executor/cuda/cuda_gpu_executor.cc:937] successful NUMA node read from SysFS had negative value (-1), but there must be at least one NUMA node, so returning NUMA node zero\n",
      "2023-01-02 12:48:05.114370: I tensorflow/stream_executor/cuda/cuda_gpu_executor.cc:937] successful NUMA node read from SysFS had negative value (-1), but there must be at least one NUMA node, so returning NUMA node zero\n",
      "2023-01-02 12:48:05.116630: I tensorflow/core/platform/cpu_feature_guard.cc:142] This TensorFlow binary is optimized with oneAPI Deep Neural Network Library (oneDNN) to use the following CPU instructions in performance-critical operations:  AVX2 AVX512F FMA\n",
      "To enable them in other operations, rebuild TensorFlow with the appropriate compiler flags.\n",
      "2023-01-02 12:48:05.116982: I tensorflow/stream_executor/cuda/cuda_gpu_executor.cc:937] successful NUMA node read from SysFS had negative value (-1), but there must be at least one NUMA node, so returning NUMA node zero\n",
      "2023-01-02 12:48:05.118033: I tensorflow/stream_executor/cuda/cuda_gpu_executor.cc:937] successful NUMA node read from SysFS had negative value (-1), but there must be at least one NUMA node, so returning NUMA node zero\n",
      "2023-01-02 12:48:05.119045: I tensorflow/stream_executor/cuda/cuda_gpu_executor.cc:937] successful NUMA node read from SysFS had negative value (-1), but there must be at least one NUMA node, so returning NUMA node zero\n",
      "2023-01-02 12:48:07.274810: I tensorflow/stream_executor/cuda/cuda_gpu_executor.cc:937] successful NUMA node read from SysFS had negative value (-1), but there must be at least one NUMA node, so returning NUMA node zero\n",
      "2023-01-02 12:48:07.275679: I tensorflow/stream_executor/cuda/cuda_gpu_executor.cc:937] successful NUMA node read from SysFS had negative value (-1), but there must be at least one NUMA node, so returning NUMA node zero\n",
      "2023-01-02 12:48:07.276349: I tensorflow/stream_executor/cuda/cuda_gpu_executor.cc:937] successful NUMA node read from SysFS had negative value (-1), but there must be at least one NUMA node, so returning NUMA node zero\n",
      "2023-01-02 12:48:07.276952: I tensorflow/core/common_runtime/gpu/gpu_device.cc:1510] Created device /job:localhost/replica:0/task:0/device:GPU:0 with 15401 MB memory:  -> device: 0, name: Tesla P100-PCIE-16GB, pci bus id: 0000:00:04.0, compute capability: 6.0\n"
     ]
    },
    {
     "name": "stdout",
     "output_type": "stream",
     "text": [
      "Model: \"sequential\"\n",
      "_________________________________________________________________\n",
      "Layer (type)                 Output Shape              Param #   \n",
      "=================================================================\n",
      "embedding (Embedding)        (None, 300, 300)          20845800  \n",
      "_________________________________________________________________\n",
      "dropout (Dropout)            (None, 300, 300)          0         \n",
      "_________________________________________________________________\n",
      "lstm (LSTM)                  (None, 100)               160400    \n",
      "_________________________________________________________________\n",
      "dense (Dense)                (None, 1)                 101       \n",
      "=================================================================\n",
      "Total params: 21,006,301\n",
      "Trainable params: 160,501\n",
      "Non-trainable params: 20,845,800\n",
      "_________________________________________________________________\n"
     ]
    }
   ],
   "source": [
    "model = Sequential()\n",
    "model.add(embedding_layer)\n",
    "model.add(Dropout(0.5))\n",
    "model.add(LSTM(100, dropout=0.2, recurrent_dropout=0.2))\n",
    "model.add(Dense(1, activation='sigmoid'))\n",
    "\n",
    "model.summary()"
   ]
  },
  {
   "cell_type": "code",
   "execution_count": 17,
   "metadata": {
    "execution": {
     "iopub.execute_input": "2023-01-02T12:48:07.972168Z",
     "iopub.status.busy": "2023-01-02T12:48:07.971795Z",
     "iopub.status.idle": "2023-01-02T12:48:07.985145Z",
     "shell.execute_reply": "2023-01-02T12:48:07.984139Z",
     "shell.execute_reply.started": "2023-01-02T12:48:07.972132Z"
    }
   },
   "outputs": [],
   "source": [
    "model.compile(loss='binary_crossentropy',\n",
    "              optimizer=\"adam\",\n",
    "              metrics=['accuracy'])"
   ]
  },
  {
   "cell_type": "code",
   "execution_count": 18,
   "metadata": {
    "execution": {
     "iopub.execute_input": "2023-01-02T12:48:07.988350Z",
     "iopub.status.busy": "2023-01-02T12:48:07.988059Z",
     "iopub.status.idle": "2023-01-02T12:48:07.992895Z",
     "shell.execute_reply": "2023-01-02T12:48:07.991799Z",
     "shell.execute_reply.started": "2023-01-02T12:48:07.988325Z"
    }
   },
   "outputs": [],
   "source": [
    "callbacks = [ ReduceLROnPlateau(monitor='val_loss', patience=5, cooldown=0),\n",
    "              EarlyStopping(monitor='val_accuracy', min_delta=1e-4, patience=5)]"
   ]
  },
  {
   "cell_type": "code",
   "execution_count": 19,
   "metadata": {
    "execution": {
     "iopub.execute_input": "2023-01-02T12:48:07.994725Z",
     "iopub.status.busy": "2023-01-02T12:48:07.994269Z",
     "iopub.status.idle": "2023-01-02T14:13:09.547884Z",
     "shell.execute_reply": "2023-01-02T14:13:09.547007Z",
     "shell.execute_reply.started": "2023-01-02T12:48:07.994691Z"
    }
   },
   "outputs": [
    {
     "name": "stderr",
     "output_type": "stream",
     "text": [
      "2023-01-02 12:48:08.388492: I tensorflow/compiler/mlir/mlir_graph_optimization_pass.cc:185] None of the MLIR Optimization Passes are enabled (registered 2)\n"
     ]
    },
    {
     "name": "stdout",
     "output_type": "stream",
     "text": [
      "Epoch 1/32\n",
      "318/318 [==============================] - 370s 1s/step - loss: 0.1692 - accuracy: 0.9407 - val_loss: 0.1418 - val_accuracy: 0.9508\n",
      "Epoch 2/32\n",
      "318/318 [==============================] - 358s 1s/step - loss: 0.1363 - accuracy: 0.9496 - val_loss: 0.1337 - val_accuracy: 0.9515\n",
      "Epoch 3/32\n",
      "318/318 [==============================] - 363s 1s/step - loss: 0.1320 - accuracy: 0.9503 - val_loss: 0.1298 - val_accuracy: 0.9511\n",
      "Epoch 4/32\n",
      "318/318 [==============================] - 365s 1s/step - loss: 0.1425 - accuracy: 0.9467 - val_loss: 0.1312 - val_accuracy: 0.9511\n",
      "Epoch 5/32\n",
      "318/318 [==============================] - 365s 1s/step - loss: 0.1304 - accuracy: 0.9508 - val_loss: 0.1313 - val_accuracy: 0.9516\n",
      "Epoch 6/32\n",
      "318/318 [==============================] - 363s 1s/step - loss: 0.1281 - accuracy: 0.9517 - val_loss: 0.1303 - val_accuracy: 0.9523\n",
      "Epoch 7/32\n",
      "318/318 [==============================] - 364s 1s/step - loss: 0.1270 - accuracy: 0.9520 - val_loss: 0.1306 - val_accuracy: 0.9524\n",
      "Epoch 8/32\n",
      "318/318 [==============================] - 363s 1s/step - loss: 0.1257 - accuracy: 0.9526 - val_loss: 0.1301 - val_accuracy: 0.9522\n",
      "Epoch 9/32\n",
      "318/318 [==============================] - 364s 1s/step - loss: 0.1244 - accuracy: 0.9528 - val_loss: 0.1291 - val_accuracy: 0.9525\n",
      "Epoch 10/32\n",
      "318/318 [==============================] - 365s 1s/step - loss: 0.1239 - accuracy: 0.9531 - val_loss: 0.1284 - val_accuracy: 0.9524\n",
      "Epoch 11/32\n",
      "318/318 [==============================] - 363s 1s/step - loss: 0.1241 - accuracy: 0.9530 - val_loss: 0.1288 - val_accuracy: 0.9526\n",
      "Epoch 12/32\n",
      "318/318 [==============================] - 365s 1s/step - loss: 0.1235 - accuracy: 0.9532 - val_loss: 0.1286 - val_accuracy: 0.9524\n",
      "Epoch 13/32\n",
      "318/318 [==============================] - 365s 1s/step - loss: 0.1235 - accuracy: 0.9531 - val_loss: 0.1284 - val_accuracy: 0.9524\n",
      "Epoch 14/32\n",
      "318/318 [==============================] - 366s 1s/step - loss: 0.1226 - accuracy: 0.9535 - val_loss: 0.1289 - val_accuracy: 0.9524\n",
      "CPU times: user 1h 59min 1s, sys: 16min 10s, total: 2h 15min 11s\n",
      "Wall time: 1h 25min 1s\n"
     ]
    }
   ],
   "source": [
    "%%time\n",
    "history = model.fit(rev_train, sent_train,\n",
    "                    batch_size=1024,\n",
    "                    epochs=32,\n",
    "                    validation_split=0.1,\n",
    "                    verbose=1,\n",
    "                    callbacks=callbacks)"
   ]
  },
  {
   "cell_type": "code",
   "execution_count": 20,
   "metadata": {
    "execution": {
     "iopub.execute_input": "2023-01-02T14:13:09.549845Z",
     "iopub.status.busy": "2023-01-02T14:13:09.549499Z",
     "iopub.status.idle": "2023-01-02T14:13:21.738460Z",
     "shell.execute_reply": "2023-01-02T14:13:21.737393Z",
     "shell.execute_reply.started": "2023-01-02T14:13:09.549810Z"
    }
   },
   "outputs": [
    {
     "name": "stdout",
     "output_type": "stream",
     "text": [
      "152/152 [==============================] - 12s 79ms/step - loss: 0.1264 - accuracy: 0.9529\n",
      "\n",
      "ACCURACY: 0.9528767466545105\n",
      "LOSS: 0.12642861902713776\n",
      "CPU times: user 10.9 s, sys: 573 ms, total: 11.5 s\n",
      "Wall time: 12.2 s\n"
     ]
    }
   ],
   "source": [
    "%%time\n",
    "score = model.evaluate(rev_test, sent_test, batch_size=1024)\n",
    "print()\n",
    "print(\"ACCURACY:\",score[1])\n",
    "print(\"LOSS:\",score[0])"
   ]
  },
  {
   "cell_type": "code",
   "execution_count": 21,
   "metadata": {
    "execution": {
     "iopub.execute_input": "2023-01-02T14:13:21.740300Z",
     "iopub.status.busy": "2023-01-02T14:13:21.739837Z",
     "iopub.status.idle": "2023-01-02T14:13:21.746938Z",
     "shell.execute_reply": "2023-01-02T14:13:21.745877Z",
     "shell.execute_reply.started": "2023-01-02T14:13:21.740263Z"
    }
   },
   "outputs": [],
   "source": [
    "def predict(text):\n",
    "    # Tokenize text\n",
    "    x_test = pad_sequences(tokenizer.texts_to_sequences([text]), maxlen=300)\n",
    "    # Predict\n",
    "    score = model.predict([x_test])[0]\n",
    "    return float(score)"
   ]
  },
  {
   "cell_type": "code",
   "execution_count": 22,
   "metadata": {
    "execution": {
     "iopub.execute_input": "2023-01-02T14:13:21.749264Z",
     "iopub.status.busy": "2023-01-02T14:13:21.748433Z",
     "iopub.status.idle": "2023-01-02T14:18:44.405013Z",
     "shell.execute_reply": "2023-01-02T14:18:44.404148Z",
     "shell.execute_reply.started": "2023-01-02T14:13:21.749227Z"
    }
   },
   "outputs": [
    {
     "data": {
      "image/png": "[encoded data removed]",
      "text/plain": [
       "<Figure size 1080x720 with 1 Axes>"
      ]
     },
     "metadata": {},
     "output_type": "display_data"
    }
   ],
   "source": [
    "from sklearn.metrics import roc_curve, auc, roc_auc_score\n",
    "import matplotlib.pyplot as plt\n",
    "\n",
    "sent_pred = model.predict(rev_test)\n",
    "fpr, tpr, thresholds = roc_curve(sent_test, sent_pred, pos_label = 1)\n",
    "\n",
    "roc_auc = auc(fpr, tpr)\n",
    "\n",
    "plt.figure(1, figsize = (15, 10))\n",
    "lw = 2\n",
    "plt.plot(fpr, tpr, color='darkorange',\n",
    "         lw=lw, label='ROC curve (area = %0.2f)' % roc_auc)\n",
    "plt.plot([0, 1], [0, 1], lw=lw, linestyle='--')\n",
    "plt.xlim([0.0, 1.0])\n",
    "plt.ylim([0.0, 1.0])\n",
    "plt.xlabel('False Positive Rate')\n",
    "plt.ylabel('True Positive Rate')\n",
    "plt.title('Receiver operating characteristic example')\n",
    "plt.legend(loc=\"lower right\")\n",
    "plt.show()"
   ]
  },
  {
   "cell_type": "code",
   "execution_count": 27,
   "metadata": {
    "execution": {
     "iopub.execute_input": "2023-01-02T14:20:21.476711Z",
     "iopub.status.busy": "2023-01-02T14:20:21.476341Z",
     "iopub.status.idle": "2023-01-02T14:20:21.986800Z",
     "shell.execute_reply": "2023-01-02T14:20:21.985442Z",
     "shell.execute_reply.started": "2023-01-02T14:20:21.476680Z"
    }
   },
   "outputs": [
    {
     "data": {
      "text/plain": [
       "Text(0.5, 1.0, '2-class Precision-Recall curve: AP=0.59')"
      ]
     },
     "execution_count": 27,
     "metadata": {},
     "output_type": "execute_result"
    },
    {
     "data": {
      "image/png": "[encoded data removed]",
      "text/plain": [
       "<Figure size 1080x720 with 1 Axes>"
      ]
     },
     "metadata": {},
     "output_type": "display_data"
    }
   ],
   "source": [
    "from sklearn.metrics import average_precision_score, precision_recall_curve\n",
    "\n",
    "average_precision = average_precision_score(1-sent_test, 1-sent_pred)\n",
    "\n",
    "precision, recall, _ = precision_recall_curve(1-sent_test, 1-sent_pred)\n",
    "\n",
    "# In matplotlib < 1.5, plt.fill_between does not have a 'step' argument\n",
    "step_kwargs = ({'step': 'post'})\n",
    "\n",
    "plt.figure(1, figsize = (15, 10))\n",
    "plt.step(recall, precision, color='b', alpha=0.2,\n",
    "         where='post')\n",
    "plt.fill_between(recall, precision, alpha=0.2, color='b', **step_kwargs)\n",
    "\n",
    "plt.xlabel('Recall')\n",
    "plt.ylabel('Precision')\n",
    "plt.ylim([0.0, 1.05])\n",
    "plt.xlim([0.0, 1.0])\n",
    "plt.title('2-class Precision-Recall curve: AP={0:0.2f}'.format(average_precision))"
   ]
  },
  {
   "cell_type": "code",
   "execution_count": 35,
   "metadata": {
    "execution": {
     "iopub.execute_input": "2023-01-02T14:47:21.234183Z",
     "iopub.status.busy": "2023-01-02T14:47:21.233523Z",
     "iopub.status.idle": "2023-01-02T14:47:21.434116Z",
     "shell.execute_reply": "2023-01-02T14:47:21.433140Z",
     "shell.execute_reply.started": "2023-01-02T14:47:21.234145Z"
    }
   },
   "outputs": [],
   "source": [
    "model.save('model.h5')"
   ]
  },
  {
   "cell_type": "code",
   "execution_count": 38,
   "metadata": {
    "execution": {
     "iopub.execute_input": "2023-01-02T14:53:36.000523Z",
     "iopub.status.busy": "2023-01-02T14:53:35.999542Z",
     "iopub.status.idle": "2023-01-02T14:53:36.065313Z",
     "shell.execute_reply": "2023-01-02T14:53:36.064408Z",
     "shell.execute_reply.started": "2023-01-02T14:53:36.000479Z"
    }
   },
   "outputs": [],
   "source": [
    "with open('tokenizer.pickle', 'wb') as handle:\n",
    "    pickle.dump(tokenizer, handle, protocol=pickle.HIGHEST_PROTOCOL)"
   ]
  },
  {
   "cell_type": "code",
   "execution_count": null,
   "metadata": {},
   "outputs": [],
   "source": []
  }
 ],
 "metadata": {
  "kernelspec": {
   "display_name": "Python 3 (ipykernel)",
   "language": "python",
   "name": "python3"
  },
  "language_info": {
   "codemirror_mode": {
    "name": "ipython",
    "version": 3
   },
   "file_extension": ".py",
   "mimetype": "text/x-python",
   "name": "python",
   "nbconvert_exporter": "python",
   "pygments_lexer": "ipython3",
   "version": "3.9.13"
  }
 },
 "nbformat": 4,
 "nbformat_minor": 4
}
