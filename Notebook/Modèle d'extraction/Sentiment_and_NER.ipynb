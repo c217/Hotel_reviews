{
 "cells": [
  {
   "cell_type": "code",
   "execution_count": 1,
   "id": "529149fc",
   "metadata": {},
   "outputs": [],
   "source": [
    "#La base de données reviews_google.xlsx sera la base d'apprentissage\n",
    "import pandas as pd\n",
    "path = 'C:\\\\Users\\\\Pénichon\\\\Desktop\\\\M2_TIDE\\\\TIDE_S1\\\\Algo_python\\\\Projet_NLP\\\\NLP_project\\\\data\\\\'\n",
    "df = pd.read_excel(path + 'reviews_google.xlsx').drop('index', axis=1)\n",
    "\n",
    "\n",
    "\n",
    "#Je créer des list de mots pour chaque catégories (bedroom, bathroom, service, location, restaurant, price).\n",
    "#La création de catégorie nous aidera à labéliser les mots pour l'apprentissage du modèle de NER\n",
    "\"\"\"\n",
    "Types of list:\n",
    "-bedroom\n",
    "-bathroom\n",
    "-service\n",
    "-hotel location\n",
    "-hotel restaurant\n",
    "-hotel price\n",
    "\"\"\"\n",
    "\n",
    "bedroom_list = [ \"bedroom\", \"bed\",    \"pillow\",    \"blanket\",    \"sheet\",    \"comforter\",    \"bedspread\",    \"mattress\",    \n",
    "                       \"headboard\",    \"nightstand\",    \"lamp\",    \"alarm clock\",    \"telephone\",    \"television\",   \n",
    "                       \"remote control\",    \"dresser\",    \"bedroom mirror\",    \"drawers\",    \"shelves\",    \"wardrobe\",    \n",
    "                       \"hangers\",    \"desk\",    \"chair\",    \"couch\",    \"coffee table\",    \"table lamp\",    \"area rug\",    \n",
    "                       \"wall art\",    \"window\",    \"curtains\", \"blinds\",    \"door\",    \"door handle\",    \"door lock\",  \n",
    "                       \"key card\",    \"air conditioning unit\", \"heater\",    \"fan\",    \"outlet\",    \"power strip\",    \n",
    "                       \"light switch\",    \"smoke detector\",    \"fire extinguisher\",    \"emergency exit\",    \n",
    "                       \"luggage rack\",    \"iron\",    \"ironing board\",    \n",
    "                       \"mini bar\",    \"refrigerator\",    \"safe\",    \n",
    "                       \"towels\",    \"amenities tray\", \"rooms\"]\n",
    "\n",
    "bathroom_list = [    \"sink\",    \"faucet\",    \"mirror\",    \"soap\",    \"towel\",    \"shampoo\",    \"conditioner\",    \n",
    "                        \"razor\",    \"toothbrush\",    \"toothpaste\",    \"floss\",    \"mouthwash\",    \"toilet\",    \n",
    "                        \"toilet brush\",    \"toilet paper\",    \"shower\",    \"shower curtain\",    \"showerhead\",    \n",
    "                        \"bathtub\",    \"bathmat\",    \"scale\",    \"trash can\",    \"waste basket\",    \"hand dryer\",    \n",
    "                        \"vent\",    \"bathroom light switch\",    \"bathroom outlet\",    \"towel rack\",    \"medicine cabinet\", \n",
    "                        \"bathroom shelves\",    \"hooks\",    \"curtain rod\",    \"bathroom window\",    \"curtain\",   \"mechanical ventilation system\",\n",
    "                        \"CMV\", \"controlled mechanical ventilation\",\n",
    "                        \"air freshener\",    \"plunger\",    \"drain\",    \"water heater\",    \"hot water tap\",    \n",
    "                        \"cold water tap\",    \"hairdryer\",    \"lotion\",    \"bathrobe\",    \"slippers\",    \"tissue box\", \n",
    "                        \"sewing kit\",    \"laundry bag\",    \"makeup mirror\",    \"q-tips\",   \n",
    "                        \"cotton balls\",  \"towel warmer\", \"bathroom\"]\n",
    "\n",
    "service_list = [\"front desk\",    \"concierge\",    \"valet\",    \"bellhop\",    \"lobby\",    \"reception\",    \"check-in\", \n",
    "                \"check-out\", \"check\" ,   \"room service\",    \"housekeeping\",    \"maid service\",    \"laundry service\",    \"dry cleaning\",\n",
    "                \"room service menu\",    \"wake-up call\",    \"do not disturb sign\",    \"amenities\",    \"toiletries\",    \n",
    "                \"minibar\",    \"coffee maker\",   \"phone\",    \"services\", \n",
    "                \"WiFi\",    \"internet\",    \"electrical outlets\",    \"air conditioning\",    \"heating\",   \n",
    "                \"safety deposit box\",    \"luggage storage\",    \"luggage assistance\",    \"tour desk\",    \"ticketing\",    \n",
    "                \"shuttle service\",    \"car rental\",    \"taxi service\",    \"fitness center\",    \"gym\",    \"pool\",    \"spa\",   \n",
    "                \"sauna\",    \"steam room\",    \"hot tub\",    \"massage\",    \"beauty salon\",    \"lounge\",    \n",
    "                \"restaurant\",    \"room service\",       \"brunch\",    \"cocktails\", \n",
    "                \"coffee\",    \"snacks\",    \"appetizers\",    \"entrees\",    \"desserts\",  \"banquet\",    \n",
    "                \"meeting room\",    \"conference room\",    \"business center\",    \"photocopying\",    \"fax\",    \"printing\",\n",
    "                \"secretarial services\", \"staff\"]\n",
    "\n",
    "location_list = [    \"city\",    \"town\",    \"village\",    \"neighborhood\",    \"downtown\",    \"suburb\",    \"rural\",    \n",
    "                 \"beach\",    \"mountain\",    \"lake\",    \"river\",    \"ocean\",    \"coast\",    \"island\",    \"desert\",    \n",
    "                 \"jungle\",    \"savannah\",    \"tundra\",    \"tropical\",    \"temperate\",    \"arid\",    \"humid\",    \n",
    "                 \"monsoon\",    \"landmark\",    \"attraction\",    \"museum\",    \"zoo\",    \"aquarium\",    \"theme park\",    \n",
    "                 \"amusement park\",    \"water park\",    \"ski resort\",    \"golf course\",    \"tennis court\",    \n",
    "                 \"swimming pool\",    \"casino\",    \"nightclub\",   \"location\", \n",
    "                 \"cafe\",   \"bakery\",    \"grocery store\",    \"shopping mall\",    \"boutique\",    \n",
    "                 \"department store\",    \"pharmacy\",    \"hospital\",    \"clinic\",    \"dentist\",    \"doctor\",    \n",
    "                 \"veterinarian\",    \"police station\",    \"fire station\",    \"post office\",    \"library\",    \"school\",\n",
    "                 \"university\",    \"college\",    \"church\",    \"synagogue\",    \"mosque\",    \"temple\",    \"monastery\",   \n",
    "                 \"convent\",    \"garden\",    \"park\",    \"forest\",    \"nature reserve\",    \"wildlife reserve\",    \n",
    "                 \"conservancy\",    \"national park\",    \"state park\",    \"regional park\",    \"municipal park\",    \n",
    "                 \"beach\",    \"marina\",    \"harbor\",    \"dock\",    \"pier\",    \"wharf\",    \"port\",    \"airport\",   \n",
    "                 \"train station\",    \"bus station\",    \"subway station\",    \"taxi stand\"    \n",
    "                 \"gas station\",    \"auto repair\",    \"parking lot\",    \"parking garage\", \"restaurants near\", \"metro\", \"view\"]\n",
    "\n",
    "restaurant_list = [    \"menu\",    \"appetizer\",    \"entree\",    \"dessert\",    \"beverage\",    \"special dish\", \"special menu\",   \"breakfast\", \n",
    "                   \"lunch\",    \"dinner\",    \"buffet\",    \"a la carte\",    \"table\",    \"chairs\",    \"booth\",    \"napkin\",\n",
    "                   \"silverware\",    \"glass\",    \"plate\",    \"bowl\",    \"cup\",    \"saucer\",    \"coffee pot\",    \"teapot\",\n",
    "                   \"serving tray\",    \"pitcher\",    \"carafe\",    \"water glass\",    \"wine glass\",    \"champagne glass\", \n",
    "                   \"highchair\",    \"booster seat\",    \"stroller\",    \"host stand\",    \"waitstaff\",    \"server\",    \n",
    "                   \"bartender\",    \"chef\",    \"sous chef\",    \"cook\",    \"dishwasher\",    \"manager\",    \"reservation\",\n",
    "                   \"waitlist\",    \"restaurant bill\",    \"restaurant check\",    \"tip\",    \"credit card\",    \"cash\",    \"receipt\",    \"takeout\",\n",
    "                   \"delivery\",    \"outdoor seating\",    \"bar\",    \"liquor\",    \"beer\",    \"wine\",    \"cocktail\",    \n",
    "                   \"non-alcoholic\",    \"happy hour\",    \"entertainment\",    \"music\",    \"live performance\",\n",
    "                   \"decor\",    \"lighting\",    \"artwork\",    \"view\",    \"atmosphere\",    \"ambiance\",    \"patio\",    \n",
    "                   \"terrace\", \"restaurant\"]\n",
    "\n",
    "price_list = [    \"rate\",    \"price\",    \"cost\",    \"fee\",    \"charge\", \"special price\",    \"tariff\",    \"bill\",    \"total\",    \n",
    "                     \"discount\",    \"deal\",    \"promotion\",    \"coupon\",    \"voucher\",    \"rebate\",    \"refund\",\n",
    "                     \"tax\",    \"service charge\",    \"gratuity\",    \"deposit\",    \"prepayment\",    \"booking fee\",    \n",
    "                     \"cancellation fee\",    \"late fee\",    \"no-show fee\",    \"early check-in fee\",    \"late check-out fee\", \n",
    "                     \"room service fee\",    \"minibar fee\",    \"pet fee\",    \"extra person fee\",    \"breakfast fee\",    \n",
    "                     \"parking fee\",    \"resort fee\",    \"amenity fee\"]\n"
   ]
  },
  {
   "cell_type": "code",
   "execution_count": 2,
   "id": "b65d81c6",
   "metadata": {
    "scrolled": true
   },
   "outputs": [
    {
     "data": {
      "text/html": [
       "<div>\n",
       "<style scoped>\n",
       "    .dataframe tbody tr th:only-of-type {\n",
       "        vertical-align: middle;\n",
       "    }\n",
       "\n",
       "    .dataframe tbody tr th {\n",
       "        vertical-align: top;\n",
       "    }\n",
       "\n",
       "    .dataframe thead th {\n",
       "        text-align: right;\n",
       "    }\n",
       "</style>\n",
       "<table border=\"1\" class=\"dataframe\">\n",
       "  <thead>\n",
       "    <tr style=\"text-align: right;\">\n",
       "      <th></th>\n",
       "      <th>title</th>\n",
       "      <th>review</th>\n",
       "      <th>rate</th>\n",
       "      <th>trip_type</th>\n",
       "      <th>date</th>\n",
       "    </tr>\n",
       "  </thead>\n",
       "  <tbody>\n",
       "    <tr>\n",
       "      <th>0</th>\n",
       "      <td>small room but okey</td>\n",
       "      <td>this hotel has the smallest room, and we have ...</td>\n",
       "      <td>4</td>\n",
       "      <td>traveled as a couple</td>\n",
       "      <td>2022-11-01</td>\n",
       "    </tr>\n",
       "    <tr>\n",
       "      <th>1</th>\n",
       "      <td>great location, great staff</td>\n",
       "      <td>great location and simple but clean ammenities...</td>\n",
       "      <td>5</td>\n",
       "      <td>traveled on business</td>\n",
       "      <td>2022-10-01</td>\n",
       "    </tr>\n",
       "    <tr>\n",
       "      <th>2</th>\n",
       "      <td>dont stay in this hotel unless you would like ...</td>\n",
       "      <td>don't stay in this hotel unless you would like...</td>\n",
       "      <td>1</td>\n",
       "      <td>NaN</td>\n",
       "      <td>2022-10-01</td>\n",
       "    </tr>\n",
       "    <tr>\n",
       "      <th>3</th>\n",
       "      <td>waste of money</td>\n",
       "      <td>not worth it. better rooms available for this ...</td>\n",
       "      <td>1</td>\n",
       "      <td>NaN</td>\n",
       "      <td>2022-09-01</td>\n",
       "    </tr>\n",
       "    <tr>\n",
       "      <th>4</th>\n",
       "      <td>pre-autorisation money has not been refunded</td>\n",
       "      <td>ibis paris tour eiffel cambronne charged my de...</td>\n",
       "      <td>3</td>\n",
       "      <td>traveled as a couple</td>\n",
       "      <td>2022-10-01</td>\n",
       "    </tr>\n",
       "    <tr>\n",
       "      <th>5</th>\n",
       "      <td>good location but strongly not recommended to ...</td>\n",
       "      <td>good location access to public transportation ...</td>\n",
       "      <td>3</td>\n",
       "      <td>traveled with family</td>\n",
       "      <td>2022-10-01</td>\n",
       "    </tr>\n",
       "    <tr>\n",
       "      <th>6</th>\n",
       "      <td>small room with eiffel towerview - air conditi...</td>\n",
       "      <td>good:\\n- location, comfortable to walk in nigh...</td>\n",
       "      <td>3</td>\n",
       "      <td>NaN</td>\n",
       "      <td>2022-09-01</td>\n",
       "    </tr>\n",
       "    <tr>\n",
       "      <th>7</th>\n",
       "      <td>meeting my daughter in paris from cape town</td>\n",
       "      <td>beautiful hotel. excellent location. the parki...</td>\n",
       "      <td>5</td>\n",
       "      <td>NaN</td>\n",
       "      <td>2022-09-01</td>\n",
       "    </tr>\n",
       "    <tr>\n",
       "      <th>8</th>\n",
       "      <td>good location but air conditioning didn't work...</td>\n",
       "      <td>we stayed 2 nights at this hotel in mid-septem...</td>\n",
       "      <td>3</td>\n",
       "      <td>NaN</td>\n",
       "      <td>2022-09-01</td>\n",
       "    </tr>\n",
       "    <tr>\n",
       "      <th>9</th>\n",
       "      <td>reasonable price and great location</td>\n",
       "      <td>great location. hotel very clean and has good ...</td>\n",
       "      <td>5</td>\n",
       "      <td>traveled with friends</td>\n",
       "      <td>2022-08-01</td>\n",
       "    </tr>\n",
       "    <tr>\n",
       "      <th>10</th>\n",
       "      <td>bad service</td>\n",
       "      <td>my stay in paris was very pleasant but not tha...</td>\n",
       "      <td>2</td>\n",
       "      <td>NaN</td>\n",
       "      <td>NaT</td>\n",
       "    </tr>\n",
       "    <tr>\n",
       "      <th>11</th>\n",
       "      <td>okay stay</td>\n",
       "      <td>our stay at this hotel was pleasant enough.. i...</td>\n",
       "      <td>3</td>\n",
       "      <td>traveled as a couple</td>\n",
       "      <td>2022-09-01</td>\n",
       "    </tr>\n",
       "    <tr>\n",
       "      <th>12</th>\n",
       "      <td>pleasant stay</td>\n",
       "      <td>it was a pleasant stay, they were super friend...</td>\n",
       "      <td>4</td>\n",
       "      <td>traveled with family</td>\n",
       "      <td>2022-09-01</td>\n",
       "    </tr>\n",
       "    <tr>\n",
       "      <th>13</th>\n",
       "      <td>could be better at this rate</td>\n",
       "      <td>on the plus side: they are implementing enviro...</td>\n",
       "      <td>3</td>\n",
       "      <td>traveled on business</td>\n",
       "      <td>2022-08-01</td>\n",
       "    </tr>\n",
       "    <tr>\n",
       "      <th>14</th>\n",
       "      <td>despite reviews, i thought it was great!</td>\n",
       "      <td>after reading some reviews online, i was a bit...</td>\n",
       "      <td>4</td>\n",
       "      <td>traveled with family</td>\n",
       "      <td>2022-08-01</td>\n",
       "    </tr>\n",
       "    <tr>\n",
       "      <th>15</th>\n",
       "      <td>perfect location, but lacking hotel amenities.</td>\n",
       "      <td>this reservation was based off location, price...</td>\n",
       "      <td>3</td>\n",
       "      <td>traveled as a couple</td>\n",
       "      <td>2022-08-01</td>\n",
       "    </tr>\n",
       "    <tr>\n",
       "      <th>16</th>\n",
       "      <td>great location, great restaurants nearby</td>\n",
       "      <td>we stayed 5 days in the hotel. the hotel's amb...</td>\n",
       "      <td>4</td>\n",
       "      <td>traveled as a couple</td>\n",
       "      <td>2022-08-01</td>\n",
       "    </tr>\n",
       "    <tr>\n",
       "      <th>17</th>\n",
       "      <td>bed bugs</td>\n",
       "      <td>at first i genuinely liked this place. it has ...</td>\n",
       "      <td>1</td>\n",
       "      <td>traveled as a couple</td>\n",
       "      <td>2022-08-01</td>\n",
       "    </tr>\n",
       "    <tr>\n",
       "      <th>18</th>\n",
       "      <td>not the best stay..</td>\n",
       "      <td>nice location, close to the eiffel tower and t...</td>\n",
       "      <td>2</td>\n",
       "      <td>NaN</td>\n",
       "      <td>2022-07-01</td>\n",
       "    </tr>\n",
       "    <tr>\n",
       "      <th>19</th>\n",
       "      <td>avoid this hotel</td>\n",
       "      <td>we stayed here for 4 nights and the room was r...</td>\n",
       "      <td>1</td>\n",
       "      <td>traveled as a couple</td>\n",
       "      <td>2022-08-01</td>\n",
       "    </tr>\n",
       "  </tbody>\n",
       "</table>\n",
       "</div>"
      ],
      "text/plain": [
       "                                                title  \\\n",
       "0                                 small room but okey   \n",
       "1                         great location, great staff   \n",
       "2   dont stay in this hotel unless you would like ...   \n",
       "3                                      waste of money   \n",
       "4        pre-autorisation money has not been refunded   \n",
       "5   good location but strongly not recommended to ...   \n",
       "6   small room with eiffel towerview - air conditi...   \n",
       "7         meeting my daughter in paris from cape town   \n",
       "8   good location but air conditioning didn't work...   \n",
       "9                 reasonable price and great location   \n",
       "10                                        bad service   \n",
       "11                                          okay stay   \n",
       "12                                      pleasant stay   \n",
       "13                       could be better at this rate   \n",
       "14           despite reviews, i thought it was great!   \n",
       "15     perfect location, but lacking hotel amenities.   \n",
       "16           great location, great restaurants nearby   \n",
       "17                                           bed bugs   \n",
       "18                                not the best stay..   \n",
       "19                                   avoid this hotel   \n",
       "\n",
       "                                               review  rate  \\\n",
       "0   this hotel has the smallest room, and we have ...     4   \n",
       "1   great location and simple but clean ammenities...     5   \n",
       "2   don't stay in this hotel unless you would like...     1   \n",
       "3   not worth it. better rooms available for this ...     1   \n",
       "4   ibis paris tour eiffel cambronne charged my de...     3   \n",
       "5   good location access to public transportation ...     3   \n",
       "6   good:\\n- location, comfortable to walk in nigh...     3   \n",
       "7   beautiful hotel. excellent location. the parki...     5   \n",
       "8   we stayed 2 nights at this hotel in mid-septem...     3   \n",
       "9   great location. hotel very clean and has good ...     5   \n",
       "10  my stay in paris was very pleasant but not tha...     2   \n",
       "11  our stay at this hotel was pleasant enough.. i...     3   \n",
       "12  it was a pleasant stay, they were super friend...     4   \n",
       "13  on the plus side: they are implementing enviro...     3   \n",
       "14  after reading some reviews online, i was a bit...     4   \n",
       "15  this reservation was based off location, price...     3   \n",
       "16  we stayed 5 days in the hotel. the hotel's amb...     4   \n",
       "17  at first i genuinely liked this place. it has ...     1   \n",
       "18  nice location, close to the eiffel tower and t...     2   \n",
       "19  we stayed here for 4 nights and the room was r...     1   \n",
       "\n",
       "                trip_type       date  \n",
       "0    traveled as a couple 2022-11-01  \n",
       "1    traveled on business 2022-10-01  \n",
       "2                     NaN 2022-10-01  \n",
       "3                     NaN 2022-09-01  \n",
       "4    traveled as a couple 2022-10-01  \n",
       "5    traveled with family 2022-10-01  \n",
       "6                     NaN 2022-09-01  \n",
       "7                     NaN 2022-09-01  \n",
       "8                     NaN 2022-09-01  \n",
       "9   traveled with friends 2022-08-01  \n",
       "10                    NaN        NaT  \n",
       "11   traveled as a couple 2022-09-01  \n",
       "12   traveled with family 2022-09-01  \n",
       "13   traveled on business 2022-08-01  \n",
       "14   traveled with family 2022-08-01  \n",
       "15   traveled as a couple 2022-08-01  \n",
       "16   traveled as a couple 2022-08-01  \n",
       "17   traveled as a couple 2022-08-01  \n",
       "18                    NaN 2022-07-01  \n",
       "19   traveled as a couple 2022-08-01  "
      ]
     },
     "execution_count": 2,
     "metadata": {},
     "output_type": "execute_result"
    }
   ],
   "source": [
    "#On va appliquer seulment sur les 5 premiere observations\n",
    "df2 = df.iloc[:20,:]\n",
    "df2"
   ]
  },
  {
   "cell_type": "markdown",
   "id": "68e54954",
   "metadata": {},
   "source": [
    "# 3 méthodes pour modéliser les points forts et faibles :"
   ]
  },
  {
   "cell_type": "raw",
   "id": "426bbf0c",
   "metadata": {},
   "source": [
    "#1/Modeling sentiment with BERT :\n",
    "\n",
    "#Modeling :\n",
    "big_list = bedroom_list + bathroom_list + service_list  + restaurant_list + location_list + price_list\n",
    "\n",
    "#list of point fort and point faible : \n",
    "import numpy as np\n",
    "import re\n",
    "\n",
    "\n",
    "#Modeling with BERT :\n",
    "from transformers import AutoTokenizer\n",
    "from transformers import AutoModelForSequenceClassification\n",
    "from scipy.special import softmax\n",
    "\n",
    "\n",
    "def fort_faible(text : str) :\n",
    "    text = text.lower() #la chaîne de caractères est convertie en minuscule\n",
    "    #on séprare en différentes phrases en utilisant une expression régulière\n",
    "    text = re.split(r'[\\.!?;,]| but | whereas | yet | althought | though | still | furthermore | moreover | even though | on the other hand | in spite of ', text)\n",
    "    list_token = [] \n",
    "    \n",
    "    #un tokenizer et un modèle de classification de séquences de tweets pré-entraîné sont chargés\n",
    "    name = f\"cardiffnlp/twitter-roberta-base-sentiment\"\n",
    "    tokenizer = AutoTokenizer.from_pretrained(name)\n",
    "    model = AutoModelForSequenceClassification.from_pretrained(name)\n",
    "    \n",
    "    \n",
    "    for phrase in text :\n",
    "        #Pour chaque phrase dans la liste de phrases, le tokenizer est utilisé pour tokenizer la phrase\n",
    "        tkn = tokenizer(phrase, return_tensors='pt')\n",
    "        #Le modèle est ensuite utilisé pour classifier la phrase\n",
    "        out = model(**tkn)\n",
    "        #Le résultat de la classification est transformé en nombre\n",
    "        out = out[0][0].detach().numpy()\n",
    "        #et normalisé avec softmax\n",
    "        out = softmax(out)\n",
    "        \n",
    "        #Si la valeur maximale du résultat de la classification est la troisième\n",
    "        if out.max() == out[2] :\n",
    "            #alors pour chaque token dans la liste big_list, si le token est présent dans la phrase (phrase.find(token) != -1), il est ajouté à la liste de tokens\n",
    "            for token in big_list :\n",
    "                if phrase.find(token) != -1 :\n",
    "                    list_token.append(token)    \n",
    "    \n",
    "    #Enfin, la fonction renvoie la liste de tokens\n",
    "    return list_token  \n",
    " \n",
    "df2['fort'] = df2['review'].apply(fort_faible)\n",
    "#df['fort'] = df['review'].apply(fort_faible)\n",
    "\n",
    "\n",
    "\n",
    "#idem que fort_faible\n",
    "def fort_faible2(text : list) :\n",
    "    text = text.lower()\n",
    "    text = re.split(r'[\\.!?;,]| but | whereas | yet | althought | though | still | furthermore | moreover | even though | on the other hand | in spite of ', text)\n",
    "    list_token = []\n",
    "    \n",
    "    name = f\"cardiffnlp/twitter-roberta-base-sentiment\"\n",
    "    tokenizer = AutoTokenizer.from_pretrained(name)\n",
    "    model = AutoModelForSequenceClassification.from_pretrained(name)\n",
    "    \n",
    "    for phrase in text :\n",
    "        tkn = tokenizer(phrase, return_tensors='pt')\n",
    "        out = model(**tkn)\n",
    "        out = out[0][0].detach().numpy()\n",
    "        out = softmax(out)\n",
    "        \n",
    "        if out.max() == out[0] :\n",
    "            for token in big_list :\n",
    "                if phrase.find(token) != -1 :\n",
    "                    list_token.append(token)               \n",
    "    return list_token\n",
    "\n",
    "df2['faible'] = df2['review'].apply(fort_faible2)\n",
    "#df['faible'] = df['review'].apply(fort_faible2)\n"
   ]
  },
  {
   "cell_type": "raw",
   "id": "f51c296b",
   "metadata": {},
   "source": [
    "#2/modeling sentiment with VADER :\n",
    "\n",
    "#Modeling :\n",
    "big_list = bedroom_list + bathroom_list + service_list  + restaurant_list + location_list + price_list\n",
    "\n",
    "#list of point fort and point faible : \n",
    "import numpy as np\n",
    "import re\n",
    "\n",
    "#modeling with VADER :\n",
    "from nltk.sentiment.vader import SentimentIntensityAnalyzer\n",
    "#model = SentimentIntensityAnalyzer()\n",
    "#model.polarity_scores(\"\\n\\nroom with tower eiffel view is one of our dream\").get(\"compound\")\n",
    "\n",
    "\n",
    "\n",
    "def fort_faible(text : str) :\n",
    "    text = text.lower()\n",
    "    text = re.split(r'[\\.!?;,]| but | whereas | yet | althought | though | still | furthermore | moreover | even though | on the other hand | in spite of ', text)\n",
    "    list_token = []\n",
    "    \n",
    "    model = SentimentIntensityAnalyzer()\n",
    "    \n",
    "    for phrase in text :\n",
    "        score = model.polarity_scores(phrase).get(\"compound\")\n",
    "        \n",
    "        if score > 0.3 :\n",
    "            for token in big_list :\n",
    "                if phrase.find(token) != -1 :\n",
    "                    list_token.append(token)      \n",
    "    return list_token  \n",
    " \n",
    "df2['fort2'] = df2['review'].apply(fort_faible)\n",
    "#df['fort'] = df['review'].apply(fort_faible)\n",
    "\n",
    "\n",
    "\n",
    "\n",
    "\n",
    "def fort_faible2(text : list) :\n",
    "    text = text.lower()\n",
    "    text = re.split(r'[\\.!?;,]| but | whereas | yet | althought | though | still | furthermore | moreover | even though | on the other hand | in spite of ', text)\n",
    "    list_token = []\n",
    "    \n",
    "    model = SentimentIntensityAnalyzer()\n",
    "\n",
    "    for phrase in text :\n",
    "        score = model.polarity_scores(phrase).get(\"compound\")\n",
    "        \n",
    "        if score < -0.3 :\n",
    "            for token in big_list :\n",
    "                if phrase.find(token) != -1 :\n",
    "                    list_token.append(token)               \n",
    "    return list_token\n",
    "\n",
    "df2['faible2'] = df2['review'].apply(fort_faible2)\n",
    "#df['faible'] = df['review'].apply(fort_faible2)"
   ]
  },
  {
   "cell_type": "markdown",
   "id": "1120168b",
   "metadata": {},
   "source": [
    "# La méthode utilisée"
   ]
  },
  {
   "cell_type": "code",
   "execution_count": 3,
   "id": "869d2db2",
   "metadata": {},
   "outputs": [],
   "source": [
    "import os\n",
    "os.environ[\"KMP_DUPLICATE_LIB_OK\"]=\"TRUE\""
   ]
  },
  {
   "cell_type": "code",
   "execution_count": 4,
   "id": "aff81229",
   "metadata": {},
   "outputs": [],
   "source": [
    "#!pip install onnx"
   ]
  },
  {
   "cell_type": "code",
   "execution_count": 5,
   "id": "927c06ce",
   "metadata": {},
   "outputs": [],
   "source": [
    "#!pip install onnxruntime"
   ]
  },
  {
   "cell_type": "code",
   "execution_count": 6,
   "id": "f486e818",
   "metadata": {},
   "outputs": [
    {
     "name": "stderr",
     "output_type": "stream",
     "text": [
      "D:\\anaconda\\lib\\site-packages\\scipy\\__init__.py:146: UserWarning: A NumPy version >=1.16.5 and <1.23.0 is required for this version of SciPy (detected version 1.24.1\n",
      "  warnings.warn(f\"A NumPy version >={np_minversion} and <{np_maxversion}\"\n"
     ]
    }
   ],
   "source": [
    "#importation du modèle d'analyse de sentiment BERT\n",
    "from transformers import BertTokenizer\n",
    "import torch\n",
    "import onnx\n",
    "import onnxruntime as ort\n",
    "\n",
    "class_names = ['positive','negative', 'neutral']\n",
    "PRE_TRAINED_MODEL_NAME = 'bert-base-cased'\n",
    "tokenizer = BertTokenizer.from_pretrained(PRE_TRAINED_MODEL_NAME)\n"
   ]
  },
  {
   "cell_type": "code",
   "execution_count": 7,
   "id": "eaa3b899",
   "metadata": {},
   "outputs": [],
   "source": [
    "ort_sess = ort.InferenceSession('C:\\\\Users\\\\Pénichon\\\\Desktop\\\\M2_TIDE\\\\TIDE_S1\\\\Algo_python\\\\Projet_NLP\\\\Project_NLP_perso\\\\Git_push\\\\sentiment_BERT\\\\torch-model.onnx')\n"
   ]
  },
  {
   "cell_type": "code",
   "execution_count": 8,
   "id": "508eb757",
   "metadata": {},
   "outputs": [],
   "source": [
    "def infer_onnx_model(review_text__):\n",
    "    encoded_review = tokenizer.encode_plus(\n",
    "                              review_text__,\n",
    "                              max_length=512,\n",
    "                              add_special_tokens=True,\n",
    "                              return_token_type_ids=False,\n",
    "                              pad_to_max_length=True,\n",
    "                              return_attention_mask=True,\n",
    "                              return_tensors='pt',\n",
    "                            )\n",
    "    outputs = ort_sess.run(None, {'input_ids': encoded_review['input_ids'].cpu().detach().numpy(),\n",
    "                              'attention_mask':encoded_review['attention_mask'].cpu().detach().numpy()})\n",
    "    outputs = torch.from_numpy(outputs[0])\n",
    "    _, prediction = torch.max(outputs, dim=1)\n",
    "    return class_names[prediction]"
   ]
  },
  {
   "cell_type": "code",
   "execution_count": 9,
   "id": "ff3d1201",
   "metadata": {},
   "outputs": [
    {
     "name": "stderr",
     "output_type": "stream",
     "text": [
      "Truncation was not explicitly activated but `max_length` is provided a specific value, please use `truncation=True` to explicitly truncate examples to max length. Defaulting to 'longest_first' truncation strategy. If you encode pairs of sequences (GLUE-style) with the tokenizer you can select this strategy more precisely by providing a specific strategy to `truncation`.\n",
      "D:\\anaconda\\lib\\site-packages\\transformers\\tokenization_utils_base.py:2336: FutureWarning: The `pad_to_max_length` argument is deprecated and will be removed in a future version, use `padding=True` or `padding='longest'` to pad to the longest sequence in the batch, or use `padding='max_length'` to pad to a max length. In this case, you can give a specific length with `max_length` (e.g. `max_length=45`) or leave max_length to None to pad to the maximal input size of the model (e.g. 512 for Bert).\n",
      "  warnings.warn(\n"
     ]
    },
    {
     "data": {
      "application/vnd.jupyter.widget-view+json": {
       "model_id": "c5d79a17f99c45a1ad2e469b0c8e2726",
       "version_major": 2,
       "version_minor": 0
      },
      "text/plain": [
       "  0%|          | 0/1 [00:00<?, ?it/s]"
      ]
     },
     "metadata": {},
     "output_type": "display_data"
    },
    {
     "data": {
      "application/vnd.jupyter.widget-view+json": {
       "model_id": "5ae76ef82d624c609467b61a2e146d4f",
       "version_major": 2,
       "version_minor": 0
      },
      "text/plain": [
       "Running Prediction:   0%|          | 0/1 [00:00<?, ?it/s]"
      ]
     },
     "metadata": {},
     "output_type": "display_data"
    },
    {
     "data": {
      "application/vnd.jupyter.widget-view+json": {
       "model_id": "74cad6f565f04d768835a75c67f8db38",
       "version_major": 2,
       "version_minor": 0
      },
      "text/plain": [
       "  0%|          | 0/1 [00:00<?, ?it/s]"
      ]
     },
     "metadata": {},
     "output_type": "display_data"
    },
    {
     "data": {
      "application/vnd.jupyter.widget-view+json": {
       "model_id": "da15a7262af34cc2a6932171165a0911",
       "version_major": 2,
       "version_minor": 0
      },
      "text/plain": [
       "Running Prediction:   0%|          | 0/1 [00:00<?, ?it/s]"
      ]
     },
     "metadata": {},
     "output_type": "display_data"
    },
    {
     "data": {
      "application/vnd.jupyter.widget-view+json": {
       "model_id": "8eeb6cabd81d4c7a98fa4ea102dbbe14",
       "version_major": 2,
       "version_minor": 0
      },
      "text/plain": [
       "  0%|          | 0/1 [00:00<?, ?it/s]"
      ]
     },
     "metadata": {},
     "output_type": "display_data"
    },
    {
     "data": {
      "application/vnd.jupyter.widget-view+json": {
       "model_id": "a017b993d9bc4863b7dcda5010d514b6",
       "version_major": 2,
       "version_minor": 0
      },
      "text/plain": [
       "Running Prediction:   0%|          | 0/1 [00:00<?, ?it/s]"
      ]
     },
     "metadata": {},
     "output_type": "display_data"
    },
    {
     "data": {
      "application/vnd.jupyter.widget-view+json": {
       "model_id": "865ba22d0b7c49cf8a307a2a5cc472bc",
       "version_major": 2,
       "version_minor": 0
      },
      "text/plain": [
       "  0%|          | 0/1 [00:00<?, ?it/s]"
      ]
     },
     "metadata": {},
     "output_type": "display_data"
    },
    {
     "data": {
      "application/vnd.jupyter.widget-view+json": {
       "model_id": "332a6a52b02a4197bfda46152430c9c6",
       "version_major": 2,
       "version_minor": 0
      },
      "text/plain": [
       "Running Prediction:   0%|          | 0/1 [00:00<?, ?it/s]"
      ]
     },
     "metadata": {},
     "output_type": "display_data"
    },
    {
     "data": {
      "application/vnd.jupyter.widget-view+json": {
       "model_id": "f5eccedc2cbb46be94fccb8b95bb3015",
       "version_major": 2,
       "version_minor": 0
      },
      "text/plain": [
       "  0%|          | 0/1 [00:00<?, ?it/s]"
      ]
     },
     "metadata": {},
     "output_type": "display_data"
    },
    {
     "data": {
      "application/vnd.jupyter.widget-view+json": {
       "model_id": "8b25f6544a4149ff9d79a5839eb2c551",
       "version_major": 2,
       "version_minor": 0
      },
      "text/plain": [
       "Running Prediction:   0%|          | 0/1 [00:00<?, ?it/s]"
      ]
     },
     "metadata": {},
     "output_type": "display_data"
    },
    {
     "data": {
      "application/vnd.jupyter.widget-view+json": {
       "model_id": "242ea326da3847de8fd034bab80ddab7",
       "version_major": 2,
       "version_minor": 0
      },
      "text/plain": [
       "  0%|          | 0/1 [00:00<?, ?it/s]"
      ]
     },
     "metadata": {},
     "output_type": "display_data"
    },
    {
     "data": {
      "application/vnd.jupyter.widget-view+json": {
       "model_id": "99a915005f7b484f846c895d366cd052",
       "version_major": 2,
       "version_minor": 0
      },
      "text/plain": [
       "Running Prediction:   0%|          | 0/1 [00:00<?, ?it/s]"
      ]
     },
     "metadata": {},
     "output_type": "display_data"
    },
    {
     "data": {
      "application/vnd.jupyter.widget-view+json": {
       "model_id": "442e6a94f19f4f24917694aa575574e9",
       "version_major": 2,
       "version_minor": 0
      },
      "text/plain": [
       "  0%|          | 0/1 [00:00<?, ?it/s]"
      ]
     },
     "metadata": {},
     "output_type": "display_data"
    },
    {
     "data": {
      "application/vnd.jupyter.widget-view+json": {
       "model_id": "6ae8bdd08b86434d8f8f8a941b2d7371",
       "version_major": 2,
       "version_minor": 0
      },
      "text/plain": [
       "Running Prediction:   0%|          | 0/1 [00:00<?, ?it/s]"
      ]
     },
     "metadata": {},
     "output_type": "display_data"
    },
    {
     "data": {
      "application/vnd.jupyter.widget-view+json": {
       "model_id": "ed94ae8253e645b5917d8bfa2b250fa7",
       "version_major": 2,
       "version_minor": 0
      },
      "text/plain": [
       "  0%|          | 0/1 [00:00<?, ?it/s]"
      ]
     },
     "metadata": {},
     "output_type": "display_data"
    },
    {
     "data": {
      "application/vnd.jupyter.widget-view+json": {
       "model_id": "16d4cb131b194ec2a0b1f5c1a3015b96",
       "version_major": 2,
       "version_minor": 0
      },
      "text/plain": [
       "Running Prediction:   0%|          | 0/1 [00:00<?, ?it/s]"
      ]
     },
     "metadata": {},
     "output_type": "display_data"
    },
    {
     "data": {
      "application/vnd.jupyter.widget-view+json": {
       "model_id": "97308f8acdc84f6a9ab11e272bcf78ee",
       "version_major": 2,
       "version_minor": 0
      },
      "text/plain": [
       "  0%|          | 0/1 [00:00<?, ?it/s]"
      ]
     },
     "metadata": {},
     "output_type": "display_data"
    },
    {
     "data": {
      "application/vnd.jupyter.widget-view+json": {
       "model_id": "7f9f3621d2ef44bb8d1cf9fb61110e92",
       "version_major": 2,
       "version_minor": 0
      },
      "text/plain": [
       "Running Prediction:   0%|          | 0/1 [00:00<?, ?it/s]"
      ]
     },
     "metadata": {},
     "output_type": "display_data"
    },
    {
     "data": {
      "application/vnd.jupyter.widget-view+json": {
       "model_id": "7d9cabd558d940e49c222a3e58f798ed",
       "version_major": 2,
       "version_minor": 0
      },
      "text/plain": [
       "  0%|          | 0/1 [00:00<?, ?it/s]"
      ]
     },
     "metadata": {},
     "output_type": "display_data"
    },
    {
     "data": {
      "application/vnd.jupyter.widget-view+json": {
       "model_id": "5fa50ba363ea4271bb3ed5a50beb5acb",
       "version_major": 2,
       "version_minor": 0
      },
      "text/plain": [
       "Running Prediction:   0%|          | 0/1 [00:00<?, ?it/s]"
      ]
     },
     "metadata": {},
     "output_type": "display_data"
    },
    {
     "data": {
      "application/vnd.jupyter.widget-view+json": {
       "model_id": "ce0de1582d544ffaa03ff65685cf2e24",
       "version_major": 2,
       "version_minor": 0
      },
      "text/plain": [
       "  0%|          | 0/1 [00:00<?, ?it/s]"
      ]
     },
     "metadata": {},
     "output_type": "display_data"
    },
    {
     "data": {
      "application/vnd.jupyter.widget-view+json": {
       "model_id": "e31155bc67b14832aac1818d8de7c165",
       "version_major": 2,
       "version_minor": 0
      },
      "text/plain": [
       "Running Prediction:   0%|          | 0/1 [00:00<?, ?it/s]"
      ]
     },
     "metadata": {},
     "output_type": "display_data"
    },
    {
     "data": {
      "application/vnd.jupyter.widget-view+json": {
       "model_id": "c708a068ca4447d5bdfd614a52d7fd69",
       "version_major": 2,
       "version_minor": 0
      },
      "text/plain": [
       "  0%|          | 0/1 [00:00<?, ?it/s]"
      ]
     },
     "metadata": {},
     "output_type": "display_data"
    },
    {
     "data": {
      "application/vnd.jupyter.widget-view+json": {
       "model_id": "c2fdf354afa44ee48fe62a5aaa480e42",
       "version_major": 2,
       "version_minor": 0
      },
      "text/plain": [
       "Running Prediction:   0%|          | 0/1 [00:00<?, ?it/s]"
      ]
     },
     "metadata": {},
     "output_type": "display_data"
    },
    {
     "data": {
      "application/vnd.jupyter.widget-view+json": {
       "model_id": "bb77d3757f8e4de6b75d98f831d94db2",
       "version_major": 2,
       "version_minor": 0
      },
      "text/plain": [
       "  0%|          | 0/1 [00:00<?, ?it/s]"
      ]
     },
     "metadata": {},
     "output_type": "display_data"
    },
    {
     "data": {
      "application/vnd.jupyter.widget-view+json": {
       "model_id": "d2b69a15a51d4547beebb274e79b208b",
       "version_major": 2,
       "version_minor": 0
      },
      "text/plain": [
       "Running Prediction:   0%|          | 0/1 [00:00<?, ?it/s]"
      ]
     },
     "metadata": {},
     "output_type": "display_data"
    },
    {
     "data": {
      "application/vnd.jupyter.widget-view+json": {
       "model_id": "45f9fb00b544473298295a8249ea9698",
       "version_major": 2,
       "version_minor": 0
      },
      "text/plain": [
       "  0%|          | 0/1 [00:00<?, ?it/s]"
      ]
     },
     "metadata": {},
     "output_type": "display_data"
    },
    {
     "data": {
      "application/vnd.jupyter.widget-view+json": {
       "model_id": "9e606b73965b4ab08c7eddb9b0dbf412",
       "version_major": 2,
       "version_minor": 0
      },
      "text/plain": [
       "Running Prediction:   0%|          | 0/1 [00:00<?, ?it/s]"
      ]
     },
     "metadata": {},
     "output_type": "display_data"
    },
    {
     "data": {
      "application/vnd.jupyter.widget-view+json": {
       "model_id": "c60b55776fad4ae5900d5635948b2560",
       "version_major": 2,
       "version_minor": 0
      },
      "text/plain": [
       "  0%|          | 0/1 [00:00<?, ?it/s]"
      ]
     },
     "metadata": {},
     "output_type": "display_data"
    },
    {
     "data": {
      "application/vnd.jupyter.widget-view+json": {
       "model_id": "620df2de4b2a47ce9416c1599c41aef0",
       "version_major": 2,
       "version_minor": 0
      },
      "text/plain": [
       "Running Prediction:   0%|          | 0/1 [00:00<?, ?it/s]"
      ]
     },
     "metadata": {},
     "output_type": "display_data"
    },
    {
     "data": {
      "application/vnd.jupyter.widget-view+json": {
       "model_id": "14aea737c1ec481e95c7b48a7f96b11e",
       "version_major": 2,
       "version_minor": 0
      },
      "text/plain": [
       "  0%|          | 0/1 [00:00<?, ?it/s]"
      ]
     },
     "metadata": {},
     "output_type": "display_data"
    },
    {
     "data": {
      "application/vnd.jupyter.widget-view+json": {
       "model_id": "5be01cc2ed74400f99b24e21e7dfffcf",
       "version_major": 2,
       "version_minor": 0
      },
      "text/plain": [
       "Running Prediction:   0%|          | 0/1 [00:00<?, ?it/s]"
      ]
     },
     "metadata": {},
     "output_type": "display_data"
    },
    {
     "data": {
      "application/vnd.jupyter.widget-view+json": {
       "model_id": "0e6d03adf42a46a883a96d9517a3758f",
       "version_major": 2,
       "version_minor": 0
      },
      "text/plain": [
       "  0%|          | 0/1 [00:00<?, ?it/s]"
      ]
     },
     "metadata": {},
     "output_type": "display_data"
    },
    {
     "data": {
      "application/vnd.jupyter.widget-view+json": {
       "model_id": "ee31c0d920664c97b506dd746e101e4f",
       "version_major": 2,
       "version_minor": 0
      },
      "text/plain": [
       "Running Prediction:   0%|          | 0/1 [00:00<?, ?it/s]"
      ]
     },
     "metadata": {},
     "output_type": "display_data"
    },
    {
     "data": {
      "application/vnd.jupyter.widget-view+json": {
       "model_id": "6ece17f450d84ba9a5c65ac09e421909",
       "version_major": 2,
       "version_minor": 0
      },
      "text/plain": [
       "  0%|          | 0/1 [00:00<?, ?it/s]"
      ]
     },
     "metadata": {},
     "output_type": "display_data"
    },
    {
     "data": {
      "application/vnd.jupyter.widget-view+json": {
       "model_id": "84b6f7302f3d4304ac7326618bb3b4e1",
       "version_major": 2,
       "version_minor": 0
      },
      "text/plain": [
       "Running Prediction:   0%|          | 0/1 [00:00<?, ?it/s]"
      ]
     },
     "metadata": {},
     "output_type": "display_data"
    },
    {
     "data": {
      "application/vnd.jupyter.widget-view+json": {
       "model_id": "0b3578fce4034459ab453fdbb9d5c64d",
       "version_major": 2,
       "version_minor": 0
      },
      "text/plain": [
       "  0%|          | 0/1 [00:00<?, ?it/s]"
      ]
     },
     "metadata": {},
     "output_type": "display_data"
    },
    {
     "data": {
      "application/vnd.jupyter.widget-view+json": {
       "model_id": "5e4ff69a192e4ee6a48c6257bb577d1d",
       "version_major": 2,
       "version_minor": 0
      },
      "text/plain": [
       "Running Prediction:   0%|          | 0/1 [00:00<?, ?it/s]"
      ]
     },
     "metadata": {},
     "output_type": "display_data"
    },
    {
     "data": {
      "application/vnd.jupyter.widget-view+json": {
       "model_id": "cd7d8d0b13fa463b9a428c5e905a774d",
       "version_major": 2,
       "version_minor": 0
      },
      "text/plain": [
       "  0%|          | 0/1 [00:00<?, ?it/s]"
      ]
     },
     "metadata": {},
     "output_type": "display_data"
    },
    {
     "data": {
      "application/vnd.jupyter.widget-view+json": {
       "model_id": "d0ed8ccce0ec4db0b06dedf216e5249b",
       "version_major": 2,
       "version_minor": 0
      },
      "text/plain": [
       "Running Prediction:   0%|          | 0/1 [00:00<?, ?it/s]"
      ]
     },
     "metadata": {},
     "output_type": "display_data"
    },
    {
     "data": {
      "application/vnd.jupyter.widget-view+json": {
       "model_id": "e85e4dc62e7e4e4ca5685a230f60f98e",
       "version_major": 2,
       "version_minor": 0
      },
      "text/plain": [
       "  0%|          | 0/1 [00:00<?, ?it/s]"
      ]
     },
     "metadata": {},
     "output_type": "display_data"
    },
    {
     "data": {
      "application/vnd.jupyter.widget-view+json": {
       "model_id": "31b651ff57af439a892dd9dd95e1148d",
       "version_major": 2,
       "version_minor": 0
      },
      "text/plain": [
       "Running Prediction:   0%|          | 0/1 [00:00<?, ?it/s]"
      ]
     },
     "metadata": {},
     "output_type": "display_data"
    },
    {
     "data": {
      "application/vnd.jupyter.widget-view+json": {
       "model_id": "9983298c1bb849de9c58bbe77f3beeb5",
       "version_major": 2,
       "version_minor": 0
      },
      "text/plain": [
       "  0%|          | 0/1 [00:00<?, ?it/s]"
      ]
     },
     "metadata": {},
     "output_type": "display_data"
    },
    {
     "data": {
      "application/vnd.jupyter.widget-view+json": {
       "model_id": "49119b94e74049c9b8522a649796d92a",
       "version_major": 2,
       "version_minor": 0
      },
      "text/plain": [
       "Running Prediction:   0%|          | 0/1 [00:00<?, ?it/s]"
      ]
     },
     "metadata": {},
     "output_type": "display_data"
    },
    {
     "data": {
      "application/vnd.jupyter.widget-view+json": {
       "model_id": "e47e6fde965a439698af7d76984254e2",
       "version_major": 2,
       "version_minor": 0
      },
      "text/plain": [
       "  0%|          | 0/1 [00:00<?, ?it/s]"
      ]
     },
     "metadata": {},
     "output_type": "display_data"
    },
    {
     "data": {
      "application/vnd.jupyter.widget-view+json": {
       "model_id": "fd18c1740ee04168b460329a9891474b",
       "version_major": 2,
       "version_minor": 0
      },
      "text/plain": [
       "Running Prediction:   0%|          | 0/1 [00:00<?, ?it/s]"
      ]
     },
     "metadata": {},
     "output_type": "display_data"
    },
    {
     "data": {
      "application/vnd.jupyter.widget-view+json": {
       "model_id": "4b44abfbb1de4541ac9821fdf645a6f2",
       "version_major": 2,
       "version_minor": 0
      },
      "text/plain": [
       "  0%|          | 0/1 [00:00<?, ?it/s]"
      ]
     },
     "metadata": {},
     "output_type": "display_data"
    },
    {
     "data": {
      "application/vnd.jupyter.widget-view+json": {
       "model_id": "cdb0d05b91d04d67ae578b4e576925f8",
       "version_major": 2,
       "version_minor": 0
      },
      "text/plain": [
       "Running Prediction:   0%|          | 0/1 [00:00<?, ?it/s]"
      ]
     },
     "metadata": {},
     "output_type": "display_data"
    },
    {
     "data": {
      "application/vnd.jupyter.widget-view+json": {
       "model_id": "a1c374eb159b488984e3763c6b0f5395",
       "version_major": 2,
       "version_minor": 0
      },
      "text/plain": [
       "  0%|          | 0/1 [00:00<?, ?it/s]"
      ]
     },
     "metadata": {},
     "output_type": "display_data"
    },
    {
     "data": {
      "application/vnd.jupyter.widget-view+json": {
       "model_id": "9885796fe919419a98402e6691e1efe0",
       "version_major": 2,
       "version_minor": 0
      },
      "text/plain": [
       "Running Prediction:   0%|          | 0/1 [00:00<?, ?it/s]"
      ]
     },
     "metadata": {},
     "output_type": "display_data"
    },
    {
     "data": {
      "application/vnd.jupyter.widget-view+json": {
       "model_id": "ca3eea63c5db4266a40db171c3449fa3",
       "version_major": 2,
       "version_minor": 0
      },
      "text/plain": [
       "  0%|          | 0/1 [00:00<?, ?it/s]"
      ]
     },
     "metadata": {},
     "output_type": "display_data"
    },
    {
     "data": {
      "application/vnd.jupyter.widget-view+json": {
       "model_id": "de58e1ddfbf3452c9fa66b4d418367f0",
       "version_major": 2,
       "version_minor": 0
      },
      "text/plain": [
       "Running Prediction:   0%|          | 0/1 [00:00<?, ?it/s]"
      ]
     },
     "metadata": {},
     "output_type": "display_data"
    },
    {
     "data": {
      "application/vnd.jupyter.widget-view+json": {
       "model_id": "bdeeb32168e5430595136e38b1e17919",
       "version_major": 2,
       "version_minor": 0
      },
      "text/plain": [
       "  0%|          | 0/1 [00:00<?, ?it/s]"
      ]
     },
     "metadata": {},
     "output_type": "display_data"
    },
    {
     "data": {
      "application/vnd.jupyter.widget-view+json": {
       "model_id": "3d6c4f3a9b7b48d2b7ccd3982d11af4f",
       "version_major": 2,
       "version_minor": 0
      },
      "text/plain": [
       "Running Prediction:   0%|          | 0/1 [00:00<?, ?it/s]"
      ]
     },
     "metadata": {},
     "output_type": "display_data"
    },
    {
     "data": {
      "application/vnd.jupyter.widget-view+json": {
       "model_id": "2f13444d8a36499599f9326c94448e3b",
       "version_major": 2,
       "version_minor": 0
      },
      "text/plain": [
       "  0%|          | 0/1 [00:00<?, ?it/s]"
      ]
     },
     "metadata": {},
     "output_type": "display_data"
    },
    {
     "data": {
      "application/vnd.jupyter.widget-view+json": {
       "model_id": "4da0f16eda0d4abf8ad38e029be37436",
       "version_major": 2,
       "version_minor": 0
      },
      "text/plain": [
       "Running Prediction:   0%|          | 0/1 [00:00<?, ?it/s]"
      ]
     },
     "metadata": {},
     "output_type": "display_data"
    },
    {
     "data": {
      "application/vnd.jupyter.widget-view+json": {
       "model_id": "7d2ea7acd3194ac3a6113cecff829366",
       "version_major": 2,
       "version_minor": 0
      },
      "text/plain": [
       "  0%|          | 0/1 [00:00<?, ?it/s]"
      ]
     },
     "metadata": {},
     "output_type": "display_data"
    },
    {
     "data": {
      "application/vnd.jupyter.widget-view+json": {
       "model_id": "bd78ab366bdd4530aab8b5a5686185fb",
       "version_major": 2,
       "version_minor": 0
      },
      "text/plain": [
       "Running Prediction:   0%|          | 0/1 [00:00<?, ?it/s]"
      ]
     },
     "metadata": {},
     "output_type": "display_data"
    },
    {
     "data": {
      "application/vnd.jupyter.widget-view+json": {
       "model_id": "22de413dad4140a7857f53638358a7ab",
       "version_major": 2,
       "version_minor": 0
      },
      "text/plain": [
       "  0%|          | 0/1 [00:00<?, ?it/s]"
      ]
     },
     "metadata": {},
     "output_type": "display_data"
    },
    {
     "data": {
      "application/vnd.jupyter.widget-view+json": {
       "model_id": "f491820f23ed4453af39c455e1b9158a",
       "version_major": 2,
       "version_minor": 0
      },
      "text/plain": [
       "Running Prediction:   0%|          | 0/1 [00:00<?, ?it/s]"
      ]
     },
     "metadata": {},
     "output_type": "display_data"
    },
    {
     "data": {
      "application/vnd.jupyter.widget-view+json": {
       "model_id": "560a26cddcb5482e919ca95d7e9e0244",
       "version_major": 2,
       "version_minor": 0
      },
      "text/plain": [
       "  0%|          | 0/1 [00:00<?, ?it/s]"
      ]
     },
     "metadata": {},
     "output_type": "display_data"
    },
    {
     "data": {
      "application/vnd.jupyter.widget-view+json": {
       "model_id": "366a5299522949a5b4b16097d2e2c8ef",
       "version_major": 2,
       "version_minor": 0
      },
      "text/plain": [
       "Running Prediction:   0%|          | 0/1 [00:00<?, ?it/s]"
      ]
     },
     "metadata": {},
     "output_type": "display_data"
    },
    {
     "data": {
      "application/vnd.jupyter.widget-view+json": {
       "model_id": "9f382073a1d24ab7a930a75065e4114b",
       "version_major": 2,
       "version_minor": 0
      },
      "text/plain": [
       "  0%|          | 0/1 [00:00<?, ?it/s]"
      ]
     },
     "metadata": {},
     "output_type": "display_data"
    },
    {
     "data": {
      "application/vnd.jupyter.widget-view+json": {
       "model_id": "5e7bb42d52ac4dd3b5a747a11988f131",
       "version_major": 2,
       "version_minor": 0
      },
      "text/plain": [
       "Running Prediction:   0%|          | 0/1 [00:00<?, ?it/s]"
      ]
     },
     "metadata": {},
     "output_type": "display_data"
    },
    {
     "data": {
      "application/vnd.jupyter.widget-view+json": {
       "model_id": "eedf0ccdd90c436389d628a6beeabd90",
       "version_major": 2,
       "version_minor": 0
      },
      "text/plain": [
       "  0%|          | 0/1 [00:00<?, ?it/s]"
      ]
     },
     "metadata": {},
     "output_type": "display_data"
    },
    {
     "data": {
      "application/vnd.jupyter.widget-view+json": {
       "model_id": "5866397ffad4458fa50e26f3db6a33cb",
       "version_major": 2,
       "version_minor": 0
      },
      "text/plain": [
       "Running Prediction:   0%|          | 0/1 [00:00<?, ?it/s]"
      ]
     },
     "metadata": {},
     "output_type": "display_data"
    },
    {
     "data": {
      "application/vnd.jupyter.widget-view+json": {
       "model_id": "7ccf7a3a593748e58162d4267db263c9",
       "version_major": 2,
       "version_minor": 0
      },
      "text/plain": [
       "  0%|          | 0/1 [00:00<?, ?it/s]"
      ]
     },
     "metadata": {},
     "output_type": "display_data"
    },
    {
     "data": {
      "application/vnd.jupyter.widget-view+json": {
       "model_id": "631c51734fff4ef4ba5e2f1317c08f97",
       "version_major": 2,
       "version_minor": 0
      },
      "text/plain": [
       "Running Prediction:   0%|          | 0/1 [00:00<?, ?it/s]"
      ]
     },
     "metadata": {},
     "output_type": "display_data"
    },
    {
     "data": {
      "application/vnd.jupyter.widget-view+json": {
       "model_id": "e347502606b446a29b2fdccc93e7d236",
       "version_major": 2,
       "version_minor": 0
      },
      "text/plain": [
       "  0%|          | 0/1 [00:00<?, ?it/s]"
      ]
     },
     "metadata": {},
     "output_type": "display_data"
    },
    {
     "data": {
      "application/vnd.jupyter.widget-view+json": {
       "model_id": "63c9da29e4e84a339b9a2a294e3140ad",
       "version_major": 2,
       "version_minor": 0
      },
      "text/plain": [
       "Running Prediction:   0%|          | 0/1 [00:00<?, ?it/s]"
      ]
     },
     "metadata": {},
     "output_type": "display_data"
    },
    {
     "data": {
      "application/vnd.jupyter.widget-view+json": {
       "model_id": "34e12f8ba5444ced99b69802359999d5",
       "version_major": 2,
       "version_minor": 0
      },
      "text/plain": [
       "  0%|          | 0/1 [00:00<?, ?it/s]"
      ]
     },
     "metadata": {},
     "output_type": "display_data"
    },
    {
     "data": {
      "application/vnd.jupyter.widget-view+json": {
       "model_id": "87b1ecda579c4b1cb1d1da03f9997bd2",
       "version_major": 2,
       "version_minor": 0
      },
      "text/plain": [
       "Running Prediction:   0%|          | 0/1 [00:00<?, ?it/s]"
      ]
     },
     "metadata": {},
     "output_type": "display_data"
    },
    {
     "data": {
      "application/vnd.jupyter.widget-view+json": {
       "model_id": "d2b7e062259c480e99085bce4308ad74",
       "version_major": 2,
       "version_minor": 0
      },
      "text/plain": [
       "  0%|          | 0/1 [00:00<?, ?it/s]"
      ]
     },
     "metadata": {},
     "output_type": "display_data"
    },
    {
     "data": {
      "application/vnd.jupyter.widget-view+json": {
       "model_id": "cc2df6a22440454389c4b553720d247e",
       "version_major": 2,
       "version_minor": 0
      },
      "text/plain": [
       "Running Prediction:   0%|          | 0/1 [00:00<?, ?it/s]"
      ]
     },
     "metadata": {},
     "output_type": "display_data"
    },
    {
     "data": {
      "application/vnd.jupyter.widget-view+json": {
       "model_id": "77ae9780f80a4560be3862b5cf3e8e77",
       "version_major": 2,
       "version_minor": 0
      },
      "text/plain": [
       "  0%|          | 0/1 [00:00<?, ?it/s]"
      ]
     },
     "metadata": {},
     "output_type": "display_data"
    },
    {
     "data": {
      "application/vnd.jupyter.widget-view+json": {
       "model_id": "0623d170c3664a5bbafd8521faa6c048",
       "version_major": 2,
       "version_minor": 0
      },
      "text/plain": [
       "Running Prediction:   0%|          | 0/1 [00:00<?, ?it/s]"
      ]
     },
     "metadata": {},
     "output_type": "display_data"
    },
    {
     "data": {
      "application/vnd.jupyter.widget-view+json": {
       "model_id": "80d06d51808e4d3aa993ed48f411a7c9",
       "version_major": 2,
       "version_minor": 0
      },
      "text/plain": [
       "  0%|          | 0/1 [00:00<?, ?it/s]"
      ]
     },
     "metadata": {},
     "output_type": "display_data"
    },
    {
     "data": {
      "application/vnd.jupyter.widget-view+json": {
       "model_id": "bab43f84bec84c9db612c5eefaea0092",
       "version_major": 2,
       "version_minor": 0
      },
      "text/plain": [
       "Running Prediction:   0%|          | 0/1 [00:00<?, ?it/s]"
      ]
     },
     "metadata": {},
     "output_type": "display_data"
    },
    {
     "data": {
      "application/vnd.jupyter.widget-view+json": {
       "model_id": "88a37d06217a499d96ff57bdf7857dad",
       "version_major": 2,
       "version_minor": 0
      },
      "text/plain": [
       "  0%|          | 0/1 [00:00<?, ?it/s]"
      ]
     },
     "metadata": {},
     "output_type": "display_data"
    },
    {
     "data": {
      "application/vnd.jupyter.widget-view+json": {
       "model_id": "65257c4dbe2648b3bdda4aed38ee50b0",
       "version_major": 2,
       "version_minor": 0
      },
      "text/plain": [
       "Running Prediction:   0%|          | 0/1 [00:00<?, ?it/s]"
      ]
     },
     "metadata": {},
     "output_type": "display_data"
    },
    {
     "data": {
      "application/vnd.jupyter.widget-view+json": {
       "model_id": "c3aa399432ea4380b94b3be12681c14b",
       "version_major": 2,
       "version_minor": 0
      },
      "text/plain": [
       "  0%|          | 0/1 [00:00<?, ?it/s]"
      ]
     },
     "metadata": {},
     "output_type": "display_data"
    },
    {
     "data": {
      "application/vnd.jupyter.widget-view+json": {
       "model_id": "1d50744b61304b0393d5c080e6330dc6",
       "version_major": 2,
       "version_minor": 0
      },
      "text/plain": [
       "Running Prediction:   0%|          | 0/1 [00:00<?, ?it/s]"
      ]
     },
     "metadata": {},
     "output_type": "display_data"
    },
    {
     "data": {
      "application/vnd.jupyter.widget-view+json": {
       "model_id": "1aba83a911fe4d1aa6462e8e584f9d53",
       "version_major": 2,
       "version_minor": 0
      },
      "text/plain": [
       "  0%|          | 0/1 [00:00<?, ?it/s]"
      ]
     },
     "metadata": {},
     "output_type": "display_data"
    },
    {
     "data": {
      "application/vnd.jupyter.widget-view+json": {
       "model_id": "f22466e7c3d7403bbb6172774bc45c53",
       "version_major": 2,
       "version_minor": 0
      },
      "text/plain": [
       "Running Prediction:   0%|          | 0/1 [00:00<?, ?it/s]"
      ]
     },
     "metadata": {},
     "output_type": "display_data"
    },
    {
     "data": {
      "application/vnd.jupyter.widget-view+json": {
       "model_id": "3778ec0f02dc41d8914cdeac1626922c",
       "version_major": 2,
       "version_minor": 0
      },
      "text/plain": [
       "  0%|          | 0/1 [00:00<?, ?it/s]"
      ]
     },
     "metadata": {},
     "output_type": "display_data"
    },
    {
     "data": {
      "application/vnd.jupyter.widget-view+json": {
       "model_id": "120ec158fd144f7b8e848af5cf97a5ee",
       "version_major": 2,
       "version_minor": 0
      },
      "text/plain": [
       "Running Prediction:   0%|          | 0/1 [00:00<?, ?it/s]"
      ]
     },
     "metadata": {},
     "output_type": "display_data"
    },
    {
     "data": {
      "application/vnd.jupyter.widget-view+json": {
       "model_id": "47b76df4fa644acd8e5b34f882d32a9a",
       "version_major": 2,
       "version_minor": 0
      },
      "text/plain": [
       "  0%|          | 0/1 [00:00<?, ?it/s]"
      ]
     },
     "metadata": {},
     "output_type": "display_data"
    },
    {
     "data": {
      "application/vnd.jupyter.widget-view+json": {
       "model_id": "b12083c5536d4bc7ae32f1fdb2f8ce32",
       "version_major": 2,
       "version_minor": 0
      },
      "text/plain": [
       "Running Prediction:   0%|          | 0/1 [00:00<?, ?it/s]"
      ]
     },
     "metadata": {},
     "output_type": "display_data"
    },
    {
     "data": {
      "application/vnd.jupyter.widget-view+json": {
       "model_id": "143744d4eaad4250af268ad850be7b33",
       "version_major": 2,
       "version_minor": 0
      },
      "text/plain": [
       "  0%|          | 0/1 [00:00<?, ?it/s]"
      ]
     },
     "metadata": {},
     "output_type": "display_data"
    },
    {
     "data": {
      "application/vnd.jupyter.widget-view+json": {
       "model_id": "f519783c0bd448bcbbeb5ee50e4e6b9a",
       "version_major": 2,
       "version_minor": 0
      },
      "text/plain": [
       "Running Prediction:   0%|          | 0/1 [00:00<?, ?it/s]"
      ]
     },
     "metadata": {},
     "output_type": "display_data"
    },
    {
     "data": {
      "application/vnd.jupyter.widget-view+json": {
       "model_id": "539173f095124007829876d70b0a541a",
       "version_major": 2,
       "version_minor": 0
      },
      "text/plain": [
       "  0%|          | 0/1 [00:00<?, ?it/s]"
      ]
     },
     "metadata": {},
     "output_type": "display_data"
    },
    {
     "data": {
      "application/vnd.jupyter.widget-view+json": {
       "model_id": "f0ebb52f83564137abe5d6e6505528e4",
       "version_major": 2,
       "version_minor": 0
      },
      "text/plain": [
       "Running Prediction:   0%|          | 0/1 [00:00<?, ?it/s]"
      ]
     },
     "metadata": {},
     "output_type": "display_data"
    },
    {
     "data": {
      "application/vnd.jupyter.widget-view+json": {
       "model_id": "e32839fdfb02403d9a789c8d941d8808",
       "version_major": 2,
       "version_minor": 0
      },
      "text/plain": [
       "  0%|          | 0/1 [00:00<?, ?it/s]"
      ]
     },
     "metadata": {},
     "output_type": "display_data"
    },
    {
     "data": {
      "application/vnd.jupyter.widget-view+json": {
       "model_id": "a1bf2dc8048c41a1bf8a6c1761806a1b",
       "version_major": 2,
       "version_minor": 0
      },
      "text/plain": [
       "Running Prediction:   0%|          | 0/1 [00:00<?, ?it/s]"
      ]
     },
     "metadata": {},
     "output_type": "display_data"
    },
    {
     "data": {
      "application/vnd.jupyter.widget-view+json": {
       "model_id": "201c9982eb1540a58f396dd4ed315948",
       "version_major": 2,
       "version_minor": 0
      },
      "text/plain": [
       "  0%|          | 0/1 [00:00<?, ?it/s]"
      ]
     },
     "metadata": {},
     "output_type": "display_data"
    },
    {
     "data": {
      "application/vnd.jupyter.widget-view+json": {
       "model_id": "3d6e357956204bce86c9657e12ae1e0a",
       "version_major": 2,
       "version_minor": 0
      },
      "text/plain": [
       "Running Prediction:   0%|          | 0/1 [00:00<?, ?it/s]"
      ]
     },
     "metadata": {},
     "output_type": "display_data"
    },
    {
     "data": {
      "application/vnd.jupyter.widget-view+json": {
       "model_id": "37f52d8a47b346a1bf357b87b0461438",
       "version_major": 2,
       "version_minor": 0
      },
      "text/plain": [
       "  0%|          | 0/1 [00:00<?, ?it/s]"
      ]
     },
     "metadata": {},
     "output_type": "display_data"
    },
    {
     "data": {
      "application/vnd.jupyter.widget-view+json": {
       "model_id": "c32c5fea4cee4a1a889cfe559e8baf6f",
       "version_major": 2,
       "version_minor": 0
      },
      "text/plain": [
       "Running Prediction:   0%|          | 0/1 [00:00<?, ?it/s]"
      ]
     },
     "metadata": {},
     "output_type": "display_data"
    },
    {
     "data": {
      "application/vnd.jupyter.widget-view+json": {
       "model_id": "dcf0bbce255f4c519ad3da027bf839d2",
       "version_major": 2,
       "version_minor": 0
      },
      "text/plain": [
       "  0%|          | 0/1 [00:00<?, ?it/s]"
      ]
     },
     "metadata": {},
     "output_type": "display_data"
    },
    {
     "data": {
      "application/vnd.jupyter.widget-view+json": {
       "model_id": "d2cdddc0117a43289562bf1cf8a49f09",
       "version_major": 2,
       "version_minor": 0
      },
      "text/plain": [
       "Running Prediction:   0%|          | 0/1 [00:00<?, ?it/s]"
      ]
     },
     "metadata": {},
     "output_type": "display_data"
    },
    {
     "data": {
      "application/vnd.jupyter.widget-view+json": {
       "model_id": "4147e7ac2ef74cdaa7927f9a7d8b7c17",
       "version_major": 2,
       "version_minor": 0
      },
      "text/plain": [
       "  0%|          | 0/1 [00:00<?, ?it/s]"
      ]
     },
     "metadata": {},
     "output_type": "display_data"
    },
    {
     "data": {
      "application/vnd.jupyter.widget-view+json": {
       "model_id": "0d2e27ebb6824904897e50305a994bcc",
       "version_major": 2,
       "version_minor": 0
      },
      "text/plain": [
       "Running Prediction:   0%|          | 0/1 [00:00<?, ?it/s]"
      ]
     },
     "metadata": {},
     "output_type": "display_data"
    },
    {
     "data": {
      "application/vnd.jupyter.widget-view+json": {
       "model_id": "0605a3e67f10437f9e5cbb669251e801",
       "version_major": 2,
       "version_minor": 0
      },
      "text/plain": [
       "  0%|          | 0/1 [00:00<?, ?it/s]"
      ]
     },
     "metadata": {},
     "output_type": "display_data"
    },
    {
     "data": {
      "application/vnd.jupyter.widget-view+json": {
       "model_id": "4ab6eb8facd744679b2b81edee7cfbfa",
       "version_major": 2,
       "version_minor": 0
      },
      "text/plain": [
       "Running Prediction:   0%|          | 0/1 [00:00<?, ?it/s]"
      ]
     },
     "metadata": {},
     "output_type": "display_data"
    },
    {
     "data": {
      "application/vnd.jupyter.widget-view+json": {
       "model_id": "6d9bde18aea64c8b884d478ca10d0e4c",
       "version_major": 2,
       "version_minor": 0
      },
      "text/plain": [
       "  0%|          | 0/1 [00:00<?, ?it/s]"
      ]
     },
     "metadata": {},
     "output_type": "display_data"
    },
    {
     "data": {
      "application/vnd.jupyter.widget-view+json": {
       "model_id": "11aab67fcc8b4b3883331c11a40bb66f",
       "version_major": 2,
       "version_minor": 0
      },
      "text/plain": [
       "Running Prediction:   0%|          | 0/1 [00:00<?, ?it/s]"
      ]
     },
     "metadata": {},
     "output_type": "display_data"
    },
    {
     "data": {
      "application/vnd.jupyter.widget-view+json": {
       "model_id": "0ace10b3542e454a96ecef27ab55170e",
       "version_major": 2,
       "version_minor": 0
      },
      "text/plain": [
       "  0%|          | 0/1 [00:00<?, ?it/s]"
      ]
     },
     "metadata": {},
     "output_type": "display_data"
    },
    {
     "data": {
      "application/vnd.jupyter.widget-view+json": {
       "model_id": "93f31bd275c049c19b0791a93656765b",
       "version_major": 2,
       "version_minor": 0
      },
      "text/plain": [
       "Running Prediction:   0%|          | 0/1 [00:00<?, ?it/s]"
      ]
     },
     "metadata": {},
     "output_type": "display_data"
    },
    {
     "data": {
      "application/vnd.jupyter.widget-view+json": {
       "model_id": "10c9ccde268d40c799ed116289624bdd",
       "version_major": 2,
       "version_minor": 0
      },
      "text/plain": [
       "  0%|          | 0/1 [00:00<?, ?it/s]"
      ]
     },
     "metadata": {},
     "output_type": "display_data"
    },
    {
     "data": {
      "application/vnd.jupyter.widget-view+json": {
       "model_id": "42adbb6b0ca240a093a800eff6f6ca61",
       "version_major": 2,
       "version_minor": 0
      },
      "text/plain": [
       "Running Prediction:   0%|          | 0/1 [00:00<?, ?it/s]"
      ]
     },
     "metadata": {},
     "output_type": "display_data"
    },
    {
     "data": {
      "application/vnd.jupyter.widget-view+json": {
       "model_id": "f6d1a9473f7b46b8b5e24579bffd479e",
       "version_major": 2,
       "version_minor": 0
      },
      "text/plain": [
       "  0%|          | 0/1 [00:00<?, ?it/s]"
      ]
     },
     "metadata": {},
     "output_type": "display_data"
    },
    {
     "data": {
      "application/vnd.jupyter.widget-view+json": {
       "model_id": "dec57a45a9254796b975bde4102fcc56",
       "version_major": 2,
       "version_minor": 0
      },
      "text/plain": [
       "Running Prediction:   0%|          | 0/1 [00:00<?, ?it/s]"
      ]
     },
     "metadata": {},
     "output_type": "display_data"
    },
    {
     "data": {
      "application/vnd.jupyter.widget-view+json": {
       "model_id": "815a54e0cd384b2db8827a18ef0ea27c",
       "version_major": 2,
       "version_minor": 0
      },
      "text/plain": [
       "  0%|          | 0/1 [00:00<?, ?it/s]"
      ]
     },
     "metadata": {},
     "output_type": "display_data"
    },
    {
     "data": {
      "application/vnd.jupyter.widget-view+json": {
       "model_id": "394f5ca2f7a54bcc9a0e42f479b912ec",
       "version_major": 2,
       "version_minor": 0
      },
      "text/plain": [
       "Running Prediction:   0%|          | 0/1 [00:00<?, ?it/s]"
      ]
     },
     "metadata": {},
     "output_type": "display_data"
    },
    {
     "data": {
      "application/vnd.jupyter.widget-view+json": {
       "model_id": "866a25b65b64490980915c00041d1b72",
       "version_major": 2,
       "version_minor": 0
      },
      "text/plain": [
       "  0%|          | 0/1 [00:00<?, ?it/s]"
      ]
     },
     "metadata": {},
     "output_type": "display_data"
    },
    {
     "data": {
      "application/vnd.jupyter.widget-view+json": {
       "model_id": "29d6efde133e4159bffd1a824984e4c2",
       "version_major": 2,
       "version_minor": 0
      },
      "text/plain": [
       "Running Prediction:   0%|          | 0/1 [00:00<?, ?it/s]"
      ]
     },
     "metadata": {},
     "output_type": "display_data"
    },
    {
     "data": {
      "application/vnd.jupyter.widget-view+json": {
       "model_id": "ee3e958ff55940f08cc4d14c6adfe1dc",
       "version_major": 2,
       "version_minor": 0
      },
      "text/plain": [
       "  0%|          | 0/1 [00:00<?, ?it/s]"
      ]
     },
     "metadata": {},
     "output_type": "display_data"
    },
    {
     "data": {
      "application/vnd.jupyter.widget-view+json": {
       "model_id": "3560410801c943e489ce0d6de9721514",
       "version_major": 2,
       "version_minor": 0
      },
      "text/plain": [
       "Running Prediction:   0%|          | 0/1 [00:00<?, ?it/s]"
      ]
     },
     "metadata": {},
     "output_type": "display_data"
    },
    {
     "data": {
      "application/vnd.jupyter.widget-view+json": {
       "model_id": "781cf5a2e61d46908300e945dbd35252",
       "version_major": 2,
       "version_minor": 0
      },
      "text/plain": [
       "  0%|          | 0/1 [00:00<?, ?it/s]"
      ]
     },
     "metadata": {},
     "output_type": "display_data"
    },
    {
     "data": {
      "application/vnd.jupyter.widget-view+json": {
       "model_id": "e019a2c549674b85b42276ea08f1bf2e",
       "version_major": 2,
       "version_minor": 0
      },
      "text/plain": [
       "Running Prediction:   0%|          | 0/1 [00:00<?, ?it/s]"
      ]
     },
     "metadata": {},
     "output_type": "display_data"
    },
    {
     "data": {
      "application/vnd.jupyter.widget-view+json": {
       "model_id": "c674a4811ec542888e98fd653d2b20b2",
       "version_major": 2,
       "version_minor": 0
      },
      "text/plain": [
       "  0%|          | 0/1 [00:00<?, ?it/s]"
      ]
     },
     "metadata": {},
     "output_type": "display_data"
    },
    {
     "data": {
      "application/vnd.jupyter.widget-view+json": {
       "model_id": "d64425c85b454499a68d8af7a5ba92db",
       "version_major": 2,
       "version_minor": 0
      },
      "text/plain": [
       "Running Prediction:   0%|          | 0/1 [00:00<?, ?it/s]"
      ]
     },
     "metadata": {},
     "output_type": "display_data"
    },
    {
     "data": {
      "application/vnd.jupyter.widget-view+json": {
       "model_id": "2b3f3e4d22f9461194a8fd9ac409b0a3",
       "version_major": 2,
       "version_minor": 0
      },
      "text/plain": [
       "  0%|          | 0/1 [00:00<?, ?it/s]"
      ]
     },
     "metadata": {},
     "output_type": "display_data"
    },
    {
     "data": {
      "application/vnd.jupyter.widget-view+json": {
       "model_id": "e3d95ec0936e4e38aadcbdf42254d621",
       "version_major": 2,
       "version_minor": 0
      },
      "text/plain": [
       "Running Prediction:   0%|          | 0/1 [00:00<?, ?it/s]"
      ]
     },
     "metadata": {},
     "output_type": "display_data"
    },
    {
     "data": {
      "application/vnd.jupyter.widget-view+json": {
       "model_id": "4aeb2e18a3ad45a183794c65c1e26655",
       "version_major": 2,
       "version_minor": 0
      },
      "text/plain": [
       "  0%|          | 0/1 [00:00<?, ?it/s]"
      ]
     },
     "metadata": {},
     "output_type": "display_data"
    },
    {
     "data": {
      "application/vnd.jupyter.widget-view+json": {
       "model_id": "b623b810d7fa4b2fa2242116d125a67f",
       "version_major": 2,
       "version_minor": 0
      },
      "text/plain": [
       "Running Prediction:   0%|          | 0/1 [00:00<?, ?it/s]"
      ]
     },
     "metadata": {},
     "output_type": "display_data"
    },
    {
     "data": {
      "application/vnd.jupyter.widget-view+json": {
       "model_id": "1c10d5751d8c43baab8b53f8a785712c",
       "version_major": 2,
       "version_minor": 0
      },
      "text/plain": [
       "  0%|          | 0/1 [00:00<?, ?it/s]"
      ]
     },
     "metadata": {},
     "output_type": "display_data"
    },
    {
     "data": {
      "application/vnd.jupyter.widget-view+json": {
       "model_id": "fdba6bcafe2c45c6a2c5733c2af6a3b7",
       "version_major": 2,
       "version_minor": 0
      },
      "text/plain": [
       "Running Prediction:   0%|          | 0/1 [00:00<?, ?it/s]"
      ]
     },
     "metadata": {},
     "output_type": "display_data"
    },
    {
     "data": {
      "application/vnd.jupyter.widget-view+json": {
       "model_id": "bfcd15889f064349ae07c4cd03e32fa1",
       "version_major": 2,
       "version_minor": 0
      },
      "text/plain": [
       "  0%|          | 0/1 [00:00<?, ?it/s]"
      ]
     },
     "metadata": {},
     "output_type": "display_data"
    },
    {
     "data": {
      "application/vnd.jupyter.widget-view+json": {
       "model_id": "57141fe6099e4f4f94b8cee0c84abde2",
       "version_major": 2,
       "version_minor": 0
      },
      "text/plain": [
       "Running Prediction:   0%|          | 0/1 [00:00<?, ?it/s]"
      ]
     },
     "metadata": {},
     "output_type": "display_data"
    },
    {
     "data": {
      "application/vnd.jupyter.widget-view+json": {
       "model_id": "78cc02011b5b4ef7a911e2d850578237",
       "version_major": 2,
       "version_minor": 0
      },
      "text/plain": [
       "  0%|          | 0/1 [00:00<?, ?it/s]"
      ]
     },
     "metadata": {},
     "output_type": "display_data"
    },
    {
     "data": {
      "application/vnd.jupyter.widget-view+json": {
       "model_id": "acd3f837618b4652b4e23c1d0db17c91",
       "version_major": 2,
       "version_minor": 0
      },
      "text/plain": [
       "Running Prediction:   0%|          | 0/1 [00:00<?, ?it/s]"
      ]
     },
     "metadata": {},
     "output_type": "display_data"
    },
    {
     "data": {
      "application/vnd.jupyter.widget-view+json": {
       "model_id": "51b0c78dd63a4a8097f9698aa361baee",
       "version_major": 2,
       "version_minor": 0
      },
      "text/plain": [
       "  0%|          | 0/1 [00:00<?, ?it/s]"
      ]
     },
     "metadata": {},
     "output_type": "display_data"
    },
    {
     "data": {
      "application/vnd.jupyter.widget-view+json": {
       "model_id": "17855b26a7c84440924e9add208177d2",
       "version_major": 2,
       "version_minor": 0
      },
      "text/plain": [
       "Running Prediction:   0%|          | 0/1 [00:00<?, ?it/s]"
      ]
     },
     "metadata": {},
     "output_type": "display_data"
    },
    {
     "data": {
      "application/vnd.jupyter.widget-view+json": {
       "model_id": "7484ab9bd6204595bf24aefe9e6176ee",
       "version_major": 2,
       "version_minor": 0
      },
      "text/plain": [
       "  0%|          | 0/1 [00:00<?, ?it/s]"
      ]
     },
     "metadata": {},
     "output_type": "display_data"
    },
    {
     "data": {
      "application/vnd.jupyter.widget-view+json": {
       "model_id": "5baa3b156daf4a1c9caf906c6e8c7360",
       "version_major": 2,
       "version_minor": 0
      },
      "text/plain": [
       "Running Prediction:   0%|          | 0/1 [00:00<?, ?it/s]"
      ]
     },
     "metadata": {},
     "output_type": "display_data"
    },
    {
     "data": {
      "application/vnd.jupyter.widget-view+json": {
       "model_id": "85c53e08b3ca4d98a1f6e2a4f4451be8",
       "version_major": 2,
       "version_minor": 0
      },
      "text/plain": [
       "  0%|          | 0/1 [00:00<?, ?it/s]"
      ]
     },
     "metadata": {},
     "output_type": "display_data"
    },
    {
     "data": {
      "application/vnd.jupyter.widget-view+json": {
       "model_id": "6fe5d590f6754a999080ca6eb8a85167",
       "version_major": 2,
       "version_minor": 0
      },
      "text/plain": [
       "Running Prediction:   0%|          | 0/1 [00:00<?, ?it/s]"
      ]
     },
     "metadata": {},
     "output_type": "display_data"
    },
    {
     "data": {
      "application/vnd.jupyter.widget-view+json": {
       "model_id": "ef8080353a6f4f83b92a09ccf50f580d",
       "version_major": 2,
       "version_minor": 0
      },
      "text/plain": [
       "  0%|          | 0/1 [00:00<?, ?it/s]"
      ]
     },
     "metadata": {},
     "output_type": "display_data"
    },
    {
     "data": {
      "application/vnd.jupyter.widget-view+json": {
       "model_id": "549f5f41e5464fd989aff463e6f979c3",
       "version_major": 2,
       "version_minor": 0
      },
      "text/plain": [
       "Running Prediction:   0%|          | 0/1 [00:00<?, ?it/s]"
      ]
     },
     "metadata": {},
     "output_type": "display_data"
    },
    {
     "data": {
      "application/vnd.jupyter.widget-view+json": {
       "model_id": "cdad727ef2d544979399b8424f3fdb80",
       "version_major": 2,
       "version_minor": 0
      },
      "text/plain": [
       "  0%|          | 0/1 [00:00<?, ?it/s]"
      ]
     },
     "metadata": {},
     "output_type": "display_data"
    },
    {
     "data": {
      "application/vnd.jupyter.widget-view+json": {
       "model_id": "c7e806ff525b4b4bb52fcb70b59860e3",
       "version_major": 2,
       "version_minor": 0
      },
      "text/plain": [
       "Running Prediction:   0%|          | 0/1 [00:00<?, ?it/s]"
      ]
     },
     "metadata": {},
     "output_type": "display_data"
    },
    {
     "data": {
      "application/vnd.jupyter.widget-view+json": {
       "model_id": "c22252fb45d64ebcba7671128ac6de8b",
       "version_major": 2,
       "version_minor": 0
      },
      "text/plain": [
       "  0%|          | 0/1 [00:00<?, ?it/s]"
      ]
     },
     "metadata": {},
     "output_type": "display_data"
    },
    {
     "data": {
      "application/vnd.jupyter.widget-view+json": {
       "model_id": "c140b00f1f7b496c9c7cc59a1842f624",
       "version_major": 2,
       "version_minor": 0
      },
      "text/plain": [
       "Running Prediction:   0%|          | 0/1 [00:00<?, ?it/s]"
      ]
     },
     "metadata": {},
     "output_type": "display_data"
    },
    {
     "data": {
      "application/vnd.jupyter.widget-view+json": {
       "model_id": "4bed35a23dd444789a90f1b6ac318f23",
       "version_major": 2,
       "version_minor": 0
      },
      "text/plain": [
       "  0%|          | 0/1 [00:00<?, ?it/s]"
      ]
     },
     "metadata": {},
     "output_type": "display_data"
    },
    {
     "data": {
      "application/vnd.jupyter.widget-view+json": {
       "model_id": "7856bebfb31b41e187f5f16737ecbd7b",
       "version_major": 2,
       "version_minor": 0
      },
      "text/plain": [
       "Running Prediction:   0%|          | 0/1 [00:00<?, ?it/s]"
      ]
     },
     "metadata": {},
     "output_type": "display_data"
    },
    {
     "data": {
      "application/vnd.jupyter.widget-view+json": {
       "model_id": "7d69d7211ec9471882cd0691a3f93881",
       "version_major": 2,
       "version_minor": 0
      },
      "text/plain": [
       "  0%|          | 0/1 [00:00<?, ?it/s]"
      ]
     },
     "metadata": {},
     "output_type": "display_data"
    },
    {
     "data": {
      "application/vnd.jupyter.widget-view+json": {
       "model_id": "c7160607e5214093b704f2d2d697db07",
       "version_major": 2,
       "version_minor": 0
      },
      "text/plain": [
       "Running Prediction:   0%|          | 0/1 [00:00<?, ?it/s]"
      ]
     },
     "metadata": {},
     "output_type": "display_data"
    },
    {
     "data": {
      "application/vnd.jupyter.widget-view+json": {
       "model_id": "e6c348d28e80422cb21b49d3a1617a24",
       "version_major": 2,
       "version_minor": 0
      },
      "text/plain": [
       "  0%|          | 0/1 [00:00<?, ?it/s]"
      ]
     },
     "metadata": {},
     "output_type": "display_data"
    },
    {
     "data": {
      "application/vnd.jupyter.widget-view+json": {
       "model_id": "021769fc8e2f4e90a877cbb66e35a21d",
       "version_major": 2,
       "version_minor": 0
      },
      "text/plain": [
       "Running Prediction:   0%|          | 0/1 [00:00<?, ?it/s]"
      ]
     },
     "metadata": {},
     "output_type": "display_data"
    },
    {
     "data": {
      "application/vnd.jupyter.widget-view+json": {
       "model_id": "6ba9f4ee4c6b4aca90ea351380a91cc8",
       "version_major": 2,
       "version_minor": 0
      },
      "text/plain": [
       "  0%|          | 0/1 [00:00<?, ?it/s]"
      ]
     },
     "metadata": {},
     "output_type": "display_data"
    },
    {
     "data": {
      "application/vnd.jupyter.widget-view+json": {
       "model_id": "9b118c48e64643918fbd22e53812a3e6",
       "version_major": 2,
       "version_minor": 0
      },
      "text/plain": [
       "Running Prediction:   0%|          | 0/1 [00:00<?, ?it/s]"
      ]
     },
     "metadata": {},
     "output_type": "display_data"
    },
    {
     "data": {
      "application/vnd.jupyter.widget-view+json": {
       "model_id": "64ec1dd23ba04242ac37e1320f751fce",
       "version_major": 2,
       "version_minor": 0
      },
      "text/plain": [
       "  0%|          | 0/1 [00:00<?, ?it/s]"
      ]
     },
     "metadata": {},
     "output_type": "display_data"
    },
    {
     "data": {
      "application/vnd.jupyter.widget-view+json": {
       "model_id": "c10c73d483264500b69844737994608d",
       "version_major": 2,
       "version_minor": 0
      },
      "text/plain": [
       "Running Prediction:   0%|          | 0/1 [00:00<?, ?it/s]"
      ]
     },
     "metadata": {},
     "output_type": "display_data"
    },
    {
     "data": {
      "application/vnd.jupyter.widget-view+json": {
       "model_id": "a824f363631147f287911f7b63453d59",
       "version_major": 2,
       "version_minor": 0
      },
      "text/plain": [
       "  0%|          | 0/1 [00:00<?, ?it/s]"
      ]
     },
     "metadata": {},
     "output_type": "display_data"
    },
    {
     "data": {
      "application/vnd.jupyter.widget-view+json": {
       "model_id": "003019182cb041e2b6a3cce0d233c8b2",
       "version_major": 2,
       "version_minor": 0
      },
      "text/plain": [
       "Running Prediction:   0%|          | 0/1 [00:00<?, ?it/s]"
      ]
     },
     "metadata": {},
     "output_type": "display_data"
    },
    {
     "data": {
      "application/vnd.jupyter.widget-view+json": {
       "model_id": "8eb0b8e023494b1f887b7d5d441079ae",
       "version_major": 2,
       "version_minor": 0
      },
      "text/plain": [
       "  0%|          | 0/1 [00:00<?, ?it/s]"
      ]
     },
     "metadata": {},
     "output_type": "display_data"
    },
    {
     "data": {
      "application/vnd.jupyter.widget-view+json": {
       "model_id": "8bd1f70037ba4dd6adf08c0b81940b9f",
       "version_major": 2,
       "version_minor": 0
      },
      "text/plain": [
       "Running Prediction:   0%|          | 0/1 [00:00<?, ?it/s]"
      ]
     },
     "metadata": {},
     "output_type": "display_data"
    },
    {
     "data": {
      "application/vnd.jupyter.widget-view+json": {
       "model_id": "3c74a425bb734bd7b71f3c9bb81d5a94",
       "version_major": 2,
       "version_minor": 0
      },
      "text/plain": [
       "  0%|          | 0/1 [00:00<?, ?it/s]"
      ]
     },
     "metadata": {},
     "output_type": "display_data"
    },
    {
     "data": {
      "application/vnd.jupyter.widget-view+json": {
       "model_id": "8980d836665d42b7a42f4bb5f9d6057f",
       "version_major": 2,
       "version_minor": 0
      },
      "text/plain": [
       "Running Prediction:   0%|          | 0/1 [00:00<?, ?it/s]"
      ]
     },
     "metadata": {},
     "output_type": "display_data"
    },
    {
     "data": {
      "application/vnd.jupyter.widget-view+json": {
       "model_id": "da4c8ca27ec945d8923c882596e9a8fc",
       "version_major": 2,
       "version_minor": 0
      },
      "text/plain": [
       "  0%|          | 0/1 [00:00<?, ?it/s]"
      ]
     },
     "metadata": {},
     "output_type": "display_data"
    },
    {
     "data": {
      "application/vnd.jupyter.widget-view+json": {
       "model_id": "71ea5c4fd8224fb7893a4bf60e328197",
       "version_major": 2,
       "version_minor": 0
      },
      "text/plain": [
       "Running Prediction:   0%|          | 0/1 [00:00<?, ?it/s]"
      ]
     },
     "metadata": {},
     "output_type": "display_data"
    },
    {
     "data": {
      "application/vnd.jupyter.widget-view+json": {
       "model_id": "da1aad70b2d94e7f986d26a06d1d5995",
       "version_major": 2,
       "version_minor": 0
      },
      "text/plain": [
       "  0%|          | 0/1 [00:00<?, ?it/s]"
      ]
     },
     "metadata": {},
     "output_type": "display_data"
    },
    {
     "data": {
      "application/vnd.jupyter.widget-view+json": {
       "model_id": "64b75af7778b46d683eb270bcc4ffb8c",
       "version_major": 2,
       "version_minor": 0
      },
      "text/plain": [
       "Running Prediction:   0%|          | 0/1 [00:00<?, ?it/s]"
      ]
     },
     "metadata": {},
     "output_type": "display_data"
    },
    {
     "data": {
      "application/vnd.jupyter.widget-view+json": {
       "model_id": "e1e359a8ad274b0997d280cc6349f30f",
       "version_major": 2,
       "version_minor": 0
      },
      "text/plain": [
       "  0%|          | 0/1 [00:00<?, ?it/s]"
      ]
     },
     "metadata": {},
     "output_type": "display_data"
    },
    {
     "data": {
      "application/vnd.jupyter.widget-view+json": {
       "model_id": "58607e12f88c4fa297b37d1778088dbd",
       "version_major": 2,
       "version_minor": 0
      },
      "text/plain": [
       "Running Prediction:   0%|          | 0/1 [00:00<?, ?it/s]"
      ]
     },
     "metadata": {},
     "output_type": "display_data"
    },
    {
     "data": {
      "application/vnd.jupyter.widget-view+json": {
       "model_id": "2b411c4c7e474dc192a9f9fa4fe90b48",
       "version_major": 2,
       "version_minor": 0
      },
      "text/plain": [
       "  0%|          | 0/1 [00:00<?, ?it/s]"
      ]
     },
     "metadata": {},
     "output_type": "display_data"
    },
    {
     "data": {
      "application/vnd.jupyter.widget-view+json": {
       "model_id": "152b9c5ff0d64746878289290a7ea83a",
       "version_major": 2,
       "version_minor": 0
      },
      "text/plain": [
       "Running Prediction:   0%|          | 0/1 [00:00<?, ?it/s]"
      ]
     },
     "metadata": {},
     "output_type": "display_data"
    },
    {
     "data": {
      "application/vnd.jupyter.widget-view+json": {
       "model_id": "ab5254c693b74790a6f402f79f0c829d",
       "version_major": 2,
       "version_minor": 0
      },
      "text/plain": [
       "  0%|          | 0/1 [00:00<?, ?it/s]"
      ]
     },
     "metadata": {},
     "output_type": "display_data"
    },
    {
     "data": {
      "application/vnd.jupyter.widget-view+json": {
       "model_id": "bdda32d7c5aa4d6ab5ffb521cea16af9",
       "version_major": 2,
       "version_minor": 0
      },
      "text/plain": [
       "Running Prediction:   0%|          | 0/1 [00:00<?, ?it/s]"
      ]
     },
     "metadata": {},
     "output_type": "display_data"
    },
    {
     "data": {
      "application/vnd.jupyter.widget-view+json": {
       "model_id": "cfcba5fe31314040ba499ab67a61f740",
       "version_major": 2,
       "version_minor": 0
      },
      "text/plain": [
       "  0%|          | 0/1 [00:00<?, ?it/s]"
      ]
     },
     "metadata": {},
     "output_type": "display_data"
    },
    {
     "data": {
      "application/vnd.jupyter.widget-view+json": {
       "model_id": "42ee1538b068489a9f0998c066e11e57",
       "version_major": 2,
       "version_minor": 0
      },
      "text/plain": [
       "Running Prediction:   0%|          | 0/1 [00:00<?, ?it/s]"
      ]
     },
     "metadata": {},
     "output_type": "display_data"
    },
    {
     "data": {
      "application/vnd.jupyter.widget-view+json": {
       "model_id": "831c3b3abbb9456f9efd9c39f119586c",
       "version_major": 2,
       "version_minor": 0
      },
      "text/plain": [
       "  0%|          | 0/1 [00:00<?, ?it/s]"
      ]
     },
     "metadata": {},
     "output_type": "display_data"
    },
    {
     "data": {
      "application/vnd.jupyter.widget-view+json": {
       "model_id": "eca9e93817ad45438bfcc76b721dc17a",
       "version_major": 2,
       "version_minor": 0
      },
      "text/plain": [
       "Running Prediction:   0%|          | 0/1 [00:00<?, ?it/s]"
      ]
     },
     "metadata": {},
     "output_type": "display_data"
    },
    {
     "data": {
      "application/vnd.jupyter.widget-view+json": {
       "model_id": "78021f9e5e684735beddd9d3c0946aab",
       "version_major": 2,
       "version_minor": 0
      },
      "text/plain": [
       "  0%|          | 0/1 [00:00<?, ?it/s]"
      ]
     },
     "metadata": {},
     "output_type": "display_data"
    },
    {
     "data": {
      "application/vnd.jupyter.widget-view+json": {
       "model_id": "7c72a0d6ad224c269eab640af7516a19",
       "version_major": 2,
       "version_minor": 0
      },
      "text/plain": [
       "Running Prediction:   0%|          | 0/1 [00:00<?, ?it/s]"
      ]
     },
     "metadata": {},
     "output_type": "display_data"
    },
    {
     "data": {
      "application/vnd.jupyter.widget-view+json": {
       "model_id": "b9fbb677efe64e4bbc861a4e5e522cd2",
       "version_major": 2,
       "version_minor": 0
      },
      "text/plain": [
       "  0%|          | 0/1 [00:00<?, ?it/s]"
      ]
     },
     "metadata": {},
     "output_type": "display_data"
    },
    {
     "data": {
      "application/vnd.jupyter.widget-view+json": {
       "model_id": "cf05eafe2ed7482e9b3b809f9ef5fa14",
       "version_major": 2,
       "version_minor": 0
      },
      "text/plain": [
       "Running Prediction:   0%|          | 0/1 [00:00<?, ?it/s]"
      ]
     },
     "metadata": {},
     "output_type": "display_data"
    },
    {
     "data": {
      "application/vnd.jupyter.widget-view+json": {
       "model_id": "817665155b7d475bb5bb1e1c032ded70",
       "version_major": 2,
       "version_minor": 0
      },
      "text/plain": [
       "  0%|          | 0/1 [00:00<?, ?it/s]"
      ]
     },
     "metadata": {},
     "output_type": "display_data"
    },
    {
     "data": {
      "application/vnd.jupyter.widget-view+json": {
       "model_id": "9959a12c83034f41b56e23adb3cb5133",
       "version_major": 2,
       "version_minor": 0
      },
      "text/plain": [
       "Running Prediction:   0%|          | 0/1 [00:00<?, ?it/s]"
      ]
     },
     "metadata": {},
     "output_type": "display_data"
    },
    {
     "data": {
      "application/vnd.jupyter.widget-view+json": {
       "model_id": "fb98dd9ca71740e2b67fab03c42ae7c2",
       "version_major": 2,
       "version_minor": 0
      },
      "text/plain": [
       "  0%|          | 0/1 [00:00<?, ?it/s]"
      ]
     },
     "metadata": {},
     "output_type": "display_data"
    },
    {
     "data": {
      "application/vnd.jupyter.widget-view+json": {
       "model_id": "3931ee7d027c4b98a183857884824d57",
       "version_major": 2,
       "version_minor": 0
      },
      "text/plain": [
       "Running Prediction:   0%|          | 0/1 [00:00<?, ?it/s]"
      ]
     },
     "metadata": {},
     "output_type": "display_data"
    },
    {
     "data": {
      "application/vnd.jupyter.widget-view+json": {
       "model_id": "3ce886e08f054618af00705643cee471",
       "version_major": 2,
       "version_minor": 0
      },
      "text/plain": [
       "  0%|          | 0/1 [00:00<?, ?it/s]"
      ]
     },
     "metadata": {},
     "output_type": "display_data"
    },
    {
     "data": {
      "application/vnd.jupyter.widget-view+json": {
       "model_id": "209faff000ba4ea6adaade5f103babed",
       "version_major": 2,
       "version_minor": 0
      },
      "text/plain": [
       "Running Prediction:   0%|          | 0/1 [00:00<?, ?it/s]"
      ]
     },
     "metadata": {},
     "output_type": "display_data"
    },
    {
     "data": {
      "application/vnd.jupyter.widget-view+json": {
       "model_id": "7fc8d3e0cf4c479584fe072863eca923",
       "version_major": 2,
       "version_minor": 0
      },
      "text/plain": [
       "  0%|          | 0/1 [00:00<?, ?it/s]"
      ]
     },
     "metadata": {},
     "output_type": "display_data"
    },
    {
     "data": {
      "application/vnd.jupyter.widget-view+json": {
       "model_id": "432797daba9a4ad1938e9d319a282556",
       "version_major": 2,
       "version_minor": 0
      },
      "text/plain": [
       "Running Prediction:   0%|          | 0/1 [00:00<?, ?it/s]"
      ]
     },
     "metadata": {},
     "output_type": "display_data"
    },
    {
     "data": {
      "application/vnd.jupyter.widget-view+json": {
       "model_id": "48e79aaf0467444c974758e74f45f203",
       "version_major": 2,
       "version_minor": 0
      },
      "text/plain": [
       "  0%|          | 0/1 [00:00<?, ?it/s]"
      ]
     },
     "metadata": {},
     "output_type": "display_data"
    },
    {
     "data": {
      "application/vnd.jupyter.widget-view+json": {
       "model_id": "3c866ad9c5bc456c823d14bef4818c89",
       "version_major": 2,
       "version_minor": 0
      },
      "text/plain": [
       "Running Prediction:   0%|          | 0/1 [00:00<?, ?it/s]"
      ]
     },
     "metadata": {},
     "output_type": "display_data"
    },
    {
     "data": {
      "application/vnd.jupyter.widget-view+json": {
       "model_id": "b640b76dd2ae4568b081a63902903be2",
       "version_major": 2,
       "version_minor": 0
      },
      "text/plain": [
       "  0%|          | 0/1 [00:00<?, ?it/s]"
      ]
     },
     "metadata": {},
     "output_type": "display_data"
    },
    {
     "data": {
      "application/vnd.jupyter.widget-view+json": {
       "model_id": "9d91cac721684debb0c455a35b3bcc76",
       "version_major": 2,
       "version_minor": 0
      },
      "text/plain": [
       "Running Prediction:   0%|          | 0/1 [00:00<?, ?it/s]"
      ]
     },
     "metadata": {},
     "output_type": "display_data"
    },
    {
     "data": {
      "application/vnd.jupyter.widget-view+json": {
       "model_id": "2e1a6fd6ece94bf2a3dc1311ff2a70bc",
       "version_major": 2,
       "version_minor": 0
      },
      "text/plain": [
       "  0%|          | 0/1 [00:00<?, ?it/s]"
      ]
     },
     "metadata": {},
     "output_type": "display_data"
    },
    {
     "data": {
      "application/vnd.jupyter.widget-view+json": {
       "model_id": "a7e3446e8f2b409ca49e9cacf7423a23",
       "version_major": 2,
       "version_minor": 0
      },
      "text/plain": [
       "Running Prediction:   0%|          | 0/1 [00:00<?, ?it/s]"
      ]
     },
     "metadata": {},
     "output_type": "display_data"
    },
    {
     "data": {
      "application/vnd.jupyter.widget-view+json": {
       "model_id": "bb4d07015a5347d4a6634291d6c512cc",
       "version_major": 2,
       "version_minor": 0
      },
      "text/plain": [
       "  0%|          | 0/1 [00:00<?, ?it/s]"
      ]
     },
     "metadata": {},
     "output_type": "display_data"
    },
    {
     "data": {
      "application/vnd.jupyter.widget-view+json": {
       "model_id": "9cee4f6e93a543988d7a96fbee96bbdd",
       "version_major": 2,
       "version_minor": 0
      },
      "text/plain": [
       "Running Prediction:   0%|          | 0/1 [00:00<?, ?it/s]"
      ]
     },
     "metadata": {},
     "output_type": "display_data"
    },
    {
     "data": {
      "application/vnd.jupyter.widget-view+json": {
       "model_id": "3a6f5f1e1a704e3ba0806267d386bf15",
       "version_major": 2,
       "version_minor": 0
      },
      "text/plain": [
       "  0%|          | 0/1 [00:00<?, ?it/s]"
      ]
     },
     "metadata": {},
     "output_type": "display_data"
    },
    {
     "data": {
      "application/vnd.jupyter.widget-view+json": {
       "model_id": "cc238dd086f24305b4ad953348a27b49",
       "version_major": 2,
       "version_minor": 0
      },
      "text/plain": [
       "Running Prediction:   0%|          | 0/1 [00:00<?, ?it/s]"
      ]
     },
     "metadata": {},
     "output_type": "display_data"
    },
    {
     "data": {
      "application/vnd.jupyter.widget-view+json": {
       "model_id": "167db62fd360470c950c818d44cba2d7",
       "version_major": 2,
       "version_minor": 0
      },
      "text/plain": [
       "  0%|          | 0/1 [00:00<?, ?it/s]"
      ]
     },
     "metadata": {},
     "output_type": "display_data"
    },
    {
     "data": {
      "application/vnd.jupyter.widget-view+json": {
       "model_id": "a360a78e9a984bed8ae50e19a8b2567f",
       "version_major": 2,
       "version_minor": 0
      },
      "text/plain": [
       "Running Prediction:   0%|          | 0/1 [00:00<?, ?it/s]"
      ]
     },
     "metadata": {},
     "output_type": "display_data"
    },
    {
     "data": {
      "application/vnd.jupyter.widget-view+json": {
       "model_id": "2b015c73610f4bf8ae954ac0de4e0f94",
       "version_major": 2,
       "version_minor": 0
      },
      "text/plain": [
       "  0%|          | 0/1 [00:00<?, ?it/s]"
      ]
     },
     "metadata": {},
     "output_type": "display_data"
    },
    {
     "data": {
      "application/vnd.jupyter.widget-view+json": {
       "model_id": "5cd06826df4e40d8b75d7fd0aadadabc",
       "version_major": 2,
       "version_minor": 0
      },
      "text/plain": [
       "Running Prediction:   0%|          | 0/1 [00:00<?, ?it/s]"
      ]
     },
     "metadata": {},
     "output_type": "display_data"
    },
    {
     "data": {
      "application/vnd.jupyter.widget-view+json": {
       "model_id": "f4760fd2100e405b801b88c924d05339",
       "version_major": 2,
       "version_minor": 0
      },
      "text/plain": [
       "  0%|          | 0/1 [00:00<?, ?it/s]"
      ]
     },
     "metadata": {},
     "output_type": "display_data"
    },
    {
     "data": {
      "application/vnd.jupyter.widget-view+json": {
       "model_id": "194a04bc9abe49b2bb49269b11d7679d",
       "version_major": 2,
       "version_minor": 0
      },
      "text/plain": [
       "Running Prediction:   0%|          | 0/1 [00:00<?, ?it/s]"
      ]
     },
     "metadata": {},
     "output_type": "display_data"
    },
    {
     "data": {
      "application/vnd.jupyter.widget-view+json": {
       "model_id": "3206d311d7f44eccab0416710293e046",
       "version_major": 2,
       "version_minor": 0
      },
      "text/plain": [
       "  0%|          | 0/1 [00:00<?, ?it/s]"
      ]
     },
     "metadata": {},
     "output_type": "display_data"
    },
    {
     "data": {
      "application/vnd.jupyter.widget-view+json": {
       "model_id": "30689d61822641f3a440073fa6712b96",
       "version_major": 2,
       "version_minor": 0
      },
      "text/plain": [
       "Running Prediction:   0%|          | 0/1 [00:00<?, ?it/s]"
      ]
     },
     "metadata": {},
     "output_type": "display_data"
    },
    {
     "data": {
      "application/vnd.jupyter.widget-view+json": {
       "model_id": "5a3bc1030f27422bbc977b2c6f4b5844",
       "version_major": 2,
       "version_minor": 0
      },
      "text/plain": [
       "  0%|          | 0/1 [00:00<?, ?it/s]"
      ]
     },
     "metadata": {},
     "output_type": "display_data"
    },
    {
     "data": {
      "application/vnd.jupyter.widget-view+json": {
       "model_id": "f5bff5ef734443a88e154a520fffa2e6",
       "version_major": 2,
       "version_minor": 0
      },
      "text/plain": [
       "Running Prediction:   0%|          | 0/1 [00:00<?, ?it/s]"
      ]
     },
     "metadata": {},
     "output_type": "display_data"
    },
    {
     "data": {
      "application/vnd.jupyter.widget-view+json": {
       "model_id": "29cfdcc8740242da9323ad07e1e6bb99",
       "version_major": 2,
       "version_minor": 0
      },
      "text/plain": [
       "  0%|          | 0/1 [00:00<?, ?it/s]"
      ]
     },
     "metadata": {},
     "output_type": "display_data"
    },
    {
     "data": {
      "application/vnd.jupyter.widget-view+json": {
       "model_id": "97d36b003eb04d9198445cb211b7f308",
       "version_major": 2,
       "version_minor": 0
      },
      "text/plain": [
       "Running Prediction:   0%|          | 0/1 [00:00<?, ?it/s]"
      ]
     },
     "metadata": {},
     "output_type": "display_data"
    },
    {
     "name": "stderr",
     "output_type": "stream",
     "text": [
      "C:\\Users\\Pénichon\\AppData\\Local\\Temp\\ipykernel_16220\\331961479.py:46: SettingWithCopyWarning: \n",
      "A value is trying to be set on a copy of a slice from a DataFrame.\n",
      "Try using .loc[row_indexer,col_indexer] = value instead\n",
      "\n",
      "See the caveats in the documentation: https://pandas.pydata.org/pandas-docs/stable/user_guide/indexing.html#returning-a-view-versus-a-copy\n",
      "  df2['fort'] = df2['review'].apply(fort_faible)\n",
      "D:\\anaconda\\lib\\site-packages\\transformers\\tokenization_utils_base.py:2336: FutureWarning: The `pad_to_max_length` argument is deprecated and will be removed in a future version, use `padding=True` or `padding='longest'` to pad to the longest sequence in the batch, or use `padding='max_length'` to pad to a max length. In this case, you can give a specific length with `max_length` (e.g. `max_length=45`) or leave max_length to None to pad to the maximal input size of the model (e.g. 512 for Bert).\n",
      "  warnings.warn(\n"
     ]
    },
    {
     "data": {
      "application/vnd.jupyter.widget-view+json": {
       "model_id": "571cc7f2a1194ce1b91a61b8670207be",
       "version_major": 2,
       "version_minor": 0
      },
      "text/plain": [
       "  0%|          | 0/1 [00:00<?, ?it/s]"
      ]
     },
     "metadata": {},
     "output_type": "display_data"
    },
    {
     "data": {
      "application/vnd.jupyter.widget-view+json": {
       "model_id": "58f282c75a37411288d323b10d2e1efc",
       "version_major": 2,
       "version_minor": 0
      },
      "text/plain": [
       "Running Prediction:   0%|          | 0/1 [00:00<?, ?it/s]"
      ]
     },
     "metadata": {},
     "output_type": "display_data"
    },
    {
     "data": {
      "application/vnd.jupyter.widget-view+json": {
       "model_id": "dfdbf55d54d84cf7b98d60626bc77508",
       "version_major": 2,
       "version_minor": 0
      },
      "text/plain": [
       "  0%|          | 0/1 [00:00<?, ?it/s]"
      ]
     },
     "metadata": {},
     "output_type": "display_data"
    },
    {
     "data": {
      "application/vnd.jupyter.widget-view+json": {
       "model_id": "82a95a7155834eeb9ca623893ad75bed",
       "version_major": 2,
       "version_minor": 0
      },
      "text/plain": [
       "Running Prediction:   0%|          | 0/1 [00:00<?, ?it/s]"
      ]
     },
     "metadata": {},
     "output_type": "display_data"
    },
    {
     "data": {
      "application/vnd.jupyter.widget-view+json": {
       "model_id": "e208c56c964c4463b4b0a8e31cab25c5",
       "version_major": 2,
       "version_minor": 0
      },
      "text/plain": [
       "  0%|          | 0/1 [00:00<?, ?it/s]"
      ]
     },
     "metadata": {},
     "output_type": "display_data"
    },
    {
     "data": {
      "application/vnd.jupyter.widget-view+json": {
       "model_id": "5e35169dc8fc4b0ca8cf204e538c3c15",
       "version_major": 2,
       "version_minor": 0
      },
      "text/plain": [
       "Running Prediction:   0%|          | 0/1 [00:00<?, ?it/s]"
      ]
     },
     "metadata": {},
     "output_type": "display_data"
    },
    {
     "data": {
      "application/vnd.jupyter.widget-view+json": {
       "model_id": "c454eef44b384047a68035f4437ae2ad",
       "version_major": 2,
       "version_minor": 0
      },
      "text/plain": [
       "  0%|          | 0/1 [00:00<?, ?it/s]"
      ]
     },
     "metadata": {},
     "output_type": "display_data"
    },
    {
     "data": {
      "application/vnd.jupyter.widget-view+json": {
       "model_id": "315d10e9d81e4a25958e4fb59bb7250c",
       "version_major": 2,
       "version_minor": 0
      },
      "text/plain": [
       "Running Prediction:   0%|          | 0/1 [00:00<?, ?it/s]"
      ]
     },
     "metadata": {},
     "output_type": "display_data"
    },
    {
     "data": {
      "application/vnd.jupyter.widget-view+json": {
       "model_id": "68ab33ab33094e25886bd081d4453417",
       "version_major": 2,
       "version_minor": 0
      },
      "text/plain": [
       "  0%|          | 0/1 [00:00<?, ?it/s]"
      ]
     },
     "metadata": {},
     "output_type": "display_data"
    },
    {
     "data": {
      "application/vnd.jupyter.widget-view+json": {
       "model_id": "8b392eb33a0b4fb6a4d4ecbecab1dd5d",
       "version_major": 2,
       "version_minor": 0
      },
      "text/plain": [
       "Running Prediction:   0%|          | 0/1 [00:00<?, ?it/s]"
      ]
     },
     "metadata": {},
     "output_type": "display_data"
    },
    {
     "data": {
      "application/vnd.jupyter.widget-view+json": {
       "model_id": "407ec0ac82fa4f069bf0282018a720ef",
       "version_major": 2,
       "version_minor": 0
      },
      "text/plain": [
       "  0%|          | 0/1 [00:00<?, ?it/s]"
      ]
     },
     "metadata": {},
     "output_type": "display_data"
    },
    {
     "data": {
      "application/vnd.jupyter.widget-view+json": {
       "model_id": "2ea7a17adefd410aaf47f75fa8c6ce89",
       "version_major": 2,
       "version_minor": 0
      },
      "text/plain": [
       "Running Prediction:   0%|          | 0/1 [00:00<?, ?it/s]"
      ]
     },
     "metadata": {},
     "output_type": "display_data"
    },
    {
     "data": {
      "application/vnd.jupyter.widget-view+json": {
       "model_id": "4edc69ee62f047719b33b068a9dc50fb",
       "version_major": 2,
       "version_minor": 0
      },
      "text/plain": [
       "  0%|          | 0/1 [00:00<?, ?it/s]"
      ]
     },
     "metadata": {},
     "output_type": "display_data"
    },
    {
     "data": {
      "application/vnd.jupyter.widget-view+json": {
       "model_id": "a698a98a4ea54e06a9d3d6626a6c328a",
       "version_major": 2,
       "version_minor": 0
      },
      "text/plain": [
       "Running Prediction:   0%|          | 0/1 [00:00<?, ?it/s]"
      ]
     },
     "metadata": {},
     "output_type": "display_data"
    },
    {
     "data": {
      "application/vnd.jupyter.widget-view+json": {
       "model_id": "9c42b53b3d6a4483865ac912b0b4fe07",
       "version_major": 2,
       "version_minor": 0
      },
      "text/plain": [
       "  0%|          | 0/1 [00:00<?, ?it/s]"
      ]
     },
     "metadata": {},
     "output_type": "display_data"
    },
    {
     "data": {
      "application/vnd.jupyter.widget-view+json": {
       "model_id": "680ac161083440d3830f1779195ec3b6",
       "version_major": 2,
       "version_minor": 0
      },
      "text/plain": [
       "Running Prediction:   0%|          | 0/1 [00:00<?, ?it/s]"
      ]
     },
     "metadata": {},
     "output_type": "display_data"
    },
    {
     "data": {
      "application/vnd.jupyter.widget-view+json": {
       "model_id": "93b037dea6e14de1a97d17c1fd7027ba",
       "version_major": 2,
       "version_minor": 0
      },
      "text/plain": [
       "  0%|          | 0/1 [00:00<?, ?it/s]"
      ]
     },
     "metadata": {},
     "output_type": "display_data"
    },
    {
     "data": {
      "application/vnd.jupyter.widget-view+json": {
       "model_id": "3aa684d9b03c4d59adb5c6030dbf380d",
       "version_major": 2,
       "version_minor": 0
      },
      "text/plain": [
       "Running Prediction:   0%|          | 0/1 [00:00<?, ?it/s]"
      ]
     },
     "metadata": {},
     "output_type": "display_data"
    },
    {
     "data": {
      "application/vnd.jupyter.widget-view+json": {
       "model_id": "b0916a20dd37461197f6663926217479",
       "version_major": 2,
       "version_minor": 0
      },
      "text/plain": [
       "  0%|          | 0/1 [00:00<?, ?it/s]"
      ]
     },
     "metadata": {},
     "output_type": "display_data"
    },
    {
     "data": {
      "application/vnd.jupyter.widget-view+json": {
       "model_id": "fa777ea8a4b94d8686c4b0c0fce05c5b",
       "version_major": 2,
       "version_minor": 0
      },
      "text/plain": [
       "Running Prediction:   0%|          | 0/1 [00:00<?, ?it/s]"
      ]
     },
     "metadata": {},
     "output_type": "display_data"
    },
    {
     "data": {
      "application/vnd.jupyter.widget-view+json": {
       "model_id": "ec2aeba888744bb7989ac3fb615a2e63",
       "version_major": 2,
       "version_minor": 0
      },
      "text/plain": [
       "  0%|          | 0/1 [00:00<?, ?it/s]"
      ]
     },
     "metadata": {},
     "output_type": "display_data"
    },
    {
     "data": {
      "application/vnd.jupyter.widget-view+json": {
       "model_id": "c287515046884553b153623d7543b1bc",
       "version_major": 2,
       "version_minor": 0
      },
      "text/plain": [
       "Running Prediction:   0%|          | 0/1 [00:00<?, ?it/s]"
      ]
     },
     "metadata": {},
     "output_type": "display_data"
    },
    {
     "data": {
      "application/vnd.jupyter.widget-view+json": {
       "model_id": "0f94842932f64ab08c5489d679993a77",
       "version_major": 2,
       "version_minor": 0
      },
      "text/plain": [
       "  0%|          | 0/1 [00:00<?, ?it/s]"
      ]
     },
     "metadata": {},
     "output_type": "display_data"
    },
    {
     "data": {
      "application/vnd.jupyter.widget-view+json": {
       "model_id": "5e039eb4c37e4282b2c0f82446c13fcb",
       "version_major": 2,
       "version_minor": 0
      },
      "text/plain": [
       "Running Prediction:   0%|          | 0/1 [00:00<?, ?it/s]"
      ]
     },
     "metadata": {},
     "output_type": "display_data"
    },
    {
     "data": {
      "application/vnd.jupyter.widget-view+json": {
       "model_id": "4440af490aeb4763a2ac1b77ce40d114",
       "version_major": 2,
       "version_minor": 0
      },
      "text/plain": [
       "  0%|          | 0/1 [00:00<?, ?it/s]"
      ]
     },
     "metadata": {},
     "output_type": "display_data"
    },
    {
     "data": {
      "application/vnd.jupyter.widget-view+json": {
       "model_id": "ed565f878d78482c9bead1bbddd4d440",
       "version_major": 2,
       "version_minor": 0
      },
      "text/plain": [
       "Running Prediction:   0%|          | 0/1 [00:00<?, ?it/s]"
      ]
     },
     "metadata": {},
     "output_type": "display_data"
    },
    {
     "data": {
      "application/vnd.jupyter.widget-view+json": {
       "model_id": "dd4d7ae01f11491badc9407e003dbb09",
       "version_major": 2,
       "version_minor": 0
      },
      "text/plain": [
       "  0%|          | 0/1 [00:00<?, ?it/s]"
      ]
     },
     "metadata": {},
     "output_type": "display_data"
    },
    {
     "data": {
      "application/vnd.jupyter.widget-view+json": {
       "model_id": "9a09fb3605d0491d8f94a85a31d51d6f",
       "version_major": 2,
       "version_minor": 0
      },
      "text/plain": [
       "Running Prediction:   0%|          | 0/1 [00:00<?, ?it/s]"
      ]
     },
     "metadata": {},
     "output_type": "display_data"
    },
    {
     "data": {
      "application/vnd.jupyter.widget-view+json": {
       "model_id": "8b2b0f88a7c14b4ea8b260c2f495766c",
       "version_major": 2,
       "version_minor": 0
      },
      "text/plain": [
       "  0%|          | 0/1 [00:00<?, ?it/s]"
      ]
     },
     "metadata": {},
     "output_type": "display_data"
    },
    {
     "data": {
      "application/vnd.jupyter.widget-view+json": {
       "model_id": "fa0b3d1d89674b70b5c47087521e8f8d",
       "version_major": 2,
       "version_minor": 0
      },
      "text/plain": [
       "Running Prediction:   0%|          | 0/1 [00:00<?, ?it/s]"
      ]
     },
     "metadata": {},
     "output_type": "display_data"
    },
    {
     "data": {
      "application/vnd.jupyter.widget-view+json": {
       "model_id": "c5529bb0c4fd4d89bc4086c69e1c5bdf",
       "version_major": 2,
       "version_minor": 0
      },
      "text/plain": [
       "  0%|          | 0/1 [00:00<?, ?it/s]"
      ]
     },
     "metadata": {},
     "output_type": "display_data"
    },
    {
     "data": {
      "application/vnd.jupyter.widget-view+json": {
       "model_id": "fd89b59d9ead443a9d307347774ad9cc",
       "version_major": 2,
       "version_minor": 0
      },
      "text/plain": [
       "Running Prediction:   0%|          | 0/1 [00:00<?, ?it/s]"
      ]
     },
     "metadata": {},
     "output_type": "display_data"
    },
    {
     "data": {
      "application/vnd.jupyter.widget-view+json": {
       "model_id": "d04ed5f21fd54d1d9148cbd3f4ded21a",
       "version_major": 2,
       "version_minor": 0
      },
      "text/plain": [
       "  0%|          | 0/1 [00:00<?, ?it/s]"
      ]
     },
     "metadata": {},
     "output_type": "display_data"
    },
    {
     "data": {
      "application/vnd.jupyter.widget-view+json": {
       "model_id": "c2cde0c0d9b24f61880293eba2eae618",
       "version_major": 2,
       "version_minor": 0
      },
      "text/plain": [
       "Running Prediction:   0%|          | 0/1 [00:00<?, ?it/s]"
      ]
     },
     "metadata": {},
     "output_type": "display_data"
    },
    {
     "data": {
      "application/vnd.jupyter.widget-view+json": {
       "model_id": "caf0d3249ba0434f9c2810185e318cc7",
       "version_major": 2,
       "version_minor": 0
      },
      "text/plain": [
       "  0%|          | 0/1 [00:00<?, ?it/s]"
      ]
     },
     "metadata": {},
     "output_type": "display_data"
    },
    {
     "data": {
      "application/vnd.jupyter.widget-view+json": {
       "model_id": "abb95758a0214b989e0d4770d20db9e3",
       "version_major": 2,
       "version_minor": 0
      },
      "text/plain": [
       "Running Prediction:   0%|          | 0/1 [00:00<?, ?it/s]"
      ]
     },
     "metadata": {},
     "output_type": "display_data"
    },
    {
     "data": {
      "application/vnd.jupyter.widget-view+json": {
       "model_id": "c4cd9e69b6324ca8b590720174883590",
       "version_major": 2,
       "version_minor": 0
      },
      "text/plain": [
       "  0%|          | 0/1 [00:00<?, ?it/s]"
      ]
     },
     "metadata": {},
     "output_type": "display_data"
    },
    {
     "data": {
      "application/vnd.jupyter.widget-view+json": {
       "model_id": "a25ac6d55597482086d78edf219d956f",
       "version_major": 2,
       "version_minor": 0
      },
      "text/plain": [
       "Running Prediction:   0%|          | 0/1 [00:00<?, ?it/s]"
      ]
     },
     "metadata": {},
     "output_type": "display_data"
    },
    {
     "data": {
      "application/vnd.jupyter.widget-view+json": {
       "model_id": "aa1646fbd5ce4aafad9b370083c93b51",
       "version_major": 2,
       "version_minor": 0
      },
      "text/plain": [
       "  0%|          | 0/1 [00:00<?, ?it/s]"
      ]
     },
     "metadata": {},
     "output_type": "display_data"
    },
    {
     "data": {
      "application/vnd.jupyter.widget-view+json": {
       "model_id": "d3b2eedec1974b57863ee033e7251795",
       "version_major": 2,
       "version_minor": 0
      },
      "text/plain": [
       "Running Prediction:   0%|          | 0/1 [00:00<?, ?it/s]"
      ]
     },
     "metadata": {},
     "output_type": "display_data"
    },
    {
     "data": {
      "application/vnd.jupyter.widget-view+json": {
       "model_id": "bced0ba13aa043e0a4f0c808f4c2bf4b",
       "version_major": 2,
       "version_minor": 0
      },
      "text/plain": [
       "  0%|          | 0/1 [00:00<?, ?it/s]"
      ]
     },
     "metadata": {},
     "output_type": "display_data"
    },
    {
     "data": {
      "application/vnd.jupyter.widget-view+json": {
       "model_id": "7c8d12471c744aff85b875c0c46dd619",
       "version_major": 2,
       "version_minor": 0
      },
      "text/plain": [
       "Running Prediction:   0%|          | 0/1 [00:00<?, ?it/s]"
      ]
     },
     "metadata": {},
     "output_type": "display_data"
    },
    {
     "data": {
      "application/vnd.jupyter.widget-view+json": {
       "model_id": "4a59a330d5f54fa1950727a49074d76d",
       "version_major": 2,
       "version_minor": 0
      },
      "text/plain": [
       "  0%|          | 0/1 [00:00<?, ?it/s]"
      ]
     },
     "metadata": {},
     "output_type": "display_data"
    },
    {
     "data": {
      "application/vnd.jupyter.widget-view+json": {
       "model_id": "4039be80ffcf4ceebe78973cc87cd729",
       "version_major": 2,
       "version_minor": 0
      },
      "text/plain": [
       "Running Prediction:   0%|          | 0/1 [00:00<?, ?it/s]"
      ]
     },
     "metadata": {},
     "output_type": "display_data"
    },
    {
     "data": {
      "application/vnd.jupyter.widget-view+json": {
       "model_id": "7d9a1acb73074fe8852baa748244f9ee",
       "version_major": 2,
       "version_minor": 0
      },
      "text/plain": [
       "  0%|          | 0/1 [00:00<?, ?it/s]"
      ]
     },
     "metadata": {},
     "output_type": "display_data"
    },
    {
     "data": {
      "application/vnd.jupyter.widget-view+json": {
       "model_id": "50900ee0ec874150855ffd73e3af05eb",
       "version_major": 2,
       "version_minor": 0
      },
      "text/plain": [
       "Running Prediction:   0%|          | 0/1 [00:00<?, ?it/s]"
      ]
     },
     "metadata": {},
     "output_type": "display_data"
    },
    {
     "data": {
      "application/vnd.jupyter.widget-view+json": {
       "model_id": "1991f049b414435ca1dbceb8d7d6b6bc",
       "version_major": 2,
       "version_minor": 0
      },
      "text/plain": [
       "  0%|          | 0/1 [00:00<?, ?it/s]"
      ]
     },
     "metadata": {},
     "output_type": "display_data"
    },
    {
     "data": {
      "application/vnd.jupyter.widget-view+json": {
       "model_id": "31239681c03d45e1bc856382eed0b7d1",
       "version_major": 2,
       "version_minor": 0
      },
      "text/plain": [
       "Running Prediction:   0%|          | 0/1 [00:00<?, ?it/s]"
      ]
     },
     "metadata": {},
     "output_type": "display_data"
    },
    {
     "data": {
      "application/vnd.jupyter.widget-view+json": {
       "model_id": "941a2bcefe7b403a8f15ce1f198dbb72",
       "version_major": 2,
       "version_minor": 0
      },
      "text/plain": [
       "  0%|          | 0/1 [00:00<?, ?it/s]"
      ]
     },
     "metadata": {},
     "output_type": "display_data"
    },
    {
     "data": {
      "application/vnd.jupyter.widget-view+json": {
       "model_id": "0a875c5963eb441187a3cc6af5e7e84d",
       "version_major": 2,
       "version_minor": 0
      },
      "text/plain": [
       "Running Prediction:   0%|          | 0/1 [00:00<?, ?it/s]"
      ]
     },
     "metadata": {},
     "output_type": "display_data"
    },
    {
     "data": {
      "application/vnd.jupyter.widget-view+json": {
       "model_id": "87f9ac1091ee4f67acc74f2cd9d9e175",
       "version_major": 2,
       "version_minor": 0
      },
      "text/plain": [
       "  0%|          | 0/1 [00:00<?, ?it/s]"
      ]
     },
     "metadata": {},
     "output_type": "display_data"
    },
    {
     "data": {
      "application/vnd.jupyter.widget-view+json": {
       "model_id": "86170002ac484c8581308b4241a081ef",
       "version_major": 2,
       "version_minor": 0
      },
      "text/plain": [
       "Running Prediction:   0%|          | 0/1 [00:00<?, ?it/s]"
      ]
     },
     "metadata": {},
     "output_type": "display_data"
    },
    {
     "data": {
      "application/vnd.jupyter.widget-view+json": {
       "model_id": "35dc049a294e49adb8040820a13c256e",
       "version_major": 2,
       "version_minor": 0
      },
      "text/plain": [
       "  0%|          | 0/1 [00:00<?, ?it/s]"
      ]
     },
     "metadata": {},
     "output_type": "display_data"
    },
    {
     "data": {
      "application/vnd.jupyter.widget-view+json": {
       "model_id": "75bc700a74394ccc964b8fb2d5377563",
       "version_major": 2,
       "version_minor": 0
      },
      "text/plain": [
       "Running Prediction:   0%|          | 0/1 [00:00<?, ?it/s]"
      ]
     },
     "metadata": {},
     "output_type": "display_data"
    },
    {
     "data": {
      "application/vnd.jupyter.widget-view+json": {
       "model_id": "bcb1d02191f0445fb87a98b29bd5c8c7",
       "version_major": 2,
       "version_minor": 0
      },
      "text/plain": [
       "  0%|          | 0/1 [00:00<?, ?it/s]"
      ]
     },
     "metadata": {},
     "output_type": "display_data"
    },
    {
     "data": {
      "application/vnd.jupyter.widget-view+json": {
       "model_id": "d4ca5c5210c04ef89f6b1a4c6f3d9b6d",
       "version_major": 2,
       "version_minor": 0
      },
      "text/plain": [
       "Running Prediction:   0%|          | 0/1 [00:00<?, ?it/s]"
      ]
     },
     "metadata": {},
     "output_type": "display_data"
    },
    {
     "data": {
      "application/vnd.jupyter.widget-view+json": {
       "model_id": "cd48968ed51f44aea802a0a20a10fa67",
       "version_major": 2,
       "version_minor": 0
      },
      "text/plain": [
       "  0%|          | 0/1 [00:00<?, ?it/s]"
      ]
     },
     "metadata": {},
     "output_type": "display_data"
    },
    {
     "data": {
      "application/vnd.jupyter.widget-view+json": {
       "model_id": "9764864941744a0aa0bd9b828a8bea8b",
       "version_major": 2,
       "version_minor": 0
      },
      "text/plain": [
       "Running Prediction:   0%|          | 0/1 [00:00<?, ?it/s]"
      ]
     },
     "metadata": {},
     "output_type": "display_data"
    },
    {
     "data": {
      "application/vnd.jupyter.widget-view+json": {
       "model_id": "f322f486159c415d985441ac72243399",
       "version_major": 2,
       "version_minor": 0
      },
      "text/plain": [
       "  0%|          | 0/1 [00:00<?, ?it/s]"
      ]
     },
     "metadata": {},
     "output_type": "display_data"
    },
    {
     "data": {
      "application/vnd.jupyter.widget-view+json": {
       "model_id": "cf2ced937ea24d65818d21ecc73a156e",
       "version_major": 2,
       "version_minor": 0
      },
      "text/plain": [
       "Running Prediction:   0%|          | 0/1 [00:00<?, ?it/s]"
      ]
     },
     "metadata": {},
     "output_type": "display_data"
    },
    {
     "data": {
      "application/vnd.jupyter.widget-view+json": {
       "model_id": "788535086ab34073a8fe5ee24b1bb5ce",
       "version_major": 2,
       "version_minor": 0
      },
      "text/plain": [
       "  0%|          | 0/1 [00:00<?, ?it/s]"
      ]
     },
     "metadata": {},
     "output_type": "display_data"
    },
    {
     "data": {
      "application/vnd.jupyter.widget-view+json": {
       "model_id": "2470dd29e9cd49e484969089acea1405",
       "version_major": 2,
       "version_minor": 0
      },
      "text/plain": [
       "Running Prediction:   0%|          | 0/1 [00:00<?, ?it/s]"
      ]
     },
     "metadata": {},
     "output_type": "display_data"
    },
    {
     "data": {
      "application/vnd.jupyter.widget-view+json": {
       "model_id": "fddc5b4ca31f40d297b34275b448efef",
       "version_major": 2,
       "version_minor": 0
      },
      "text/plain": [
       "  0%|          | 0/1 [00:00<?, ?it/s]"
      ]
     },
     "metadata": {},
     "output_type": "display_data"
    },
    {
     "data": {
      "application/vnd.jupyter.widget-view+json": {
       "model_id": "8ed1fd0d40c14132b0044e6cd4c03615",
       "version_major": 2,
       "version_minor": 0
      },
      "text/plain": [
       "Running Prediction:   0%|          | 0/1 [00:00<?, ?it/s]"
      ]
     },
     "metadata": {},
     "output_type": "display_data"
    },
    {
     "data": {
      "application/vnd.jupyter.widget-view+json": {
       "model_id": "3a81aedbddb5418995e5d68e143d18cd",
       "version_major": 2,
       "version_minor": 0
      },
      "text/plain": [
       "  0%|          | 0/1 [00:00<?, ?it/s]"
      ]
     },
     "metadata": {},
     "output_type": "display_data"
    },
    {
     "data": {
      "application/vnd.jupyter.widget-view+json": {
       "model_id": "c06ca16c89574506ad1c0055062a57db",
       "version_major": 2,
       "version_minor": 0
      },
      "text/plain": [
       "Running Prediction:   0%|          | 0/1 [00:00<?, ?it/s]"
      ]
     },
     "metadata": {},
     "output_type": "display_data"
    },
    {
     "data": {
      "application/vnd.jupyter.widget-view+json": {
       "model_id": "58f4af250fd946279182e93b02a14e46",
       "version_major": 2,
       "version_minor": 0
      },
      "text/plain": [
       "  0%|          | 0/1 [00:00<?, ?it/s]"
      ]
     },
     "metadata": {},
     "output_type": "display_data"
    },
    {
     "data": {
      "application/vnd.jupyter.widget-view+json": {
       "model_id": "aeccafd322c946c7a2d89fbce9e3cf36",
       "version_major": 2,
       "version_minor": 0
      },
      "text/plain": [
       "Running Prediction:   0%|          | 0/1 [00:00<?, ?it/s]"
      ]
     },
     "metadata": {},
     "output_type": "display_data"
    },
    {
     "data": {
      "application/vnd.jupyter.widget-view+json": {
       "model_id": "d58252b3d8b0463da89a2bde2c26154b",
       "version_major": 2,
       "version_minor": 0
      },
      "text/plain": [
       "  0%|          | 0/1 [00:00<?, ?it/s]"
      ]
     },
     "metadata": {},
     "output_type": "display_data"
    },
    {
     "data": {
      "application/vnd.jupyter.widget-view+json": {
       "model_id": "332ba7bd6a4b4d28b3cc09bb9999b0e5",
       "version_major": 2,
       "version_minor": 0
      },
      "text/plain": [
       "Running Prediction:   0%|          | 0/1 [00:00<?, ?it/s]"
      ]
     },
     "metadata": {},
     "output_type": "display_data"
    },
    {
     "data": {
      "application/vnd.jupyter.widget-view+json": {
       "model_id": "438adb9ae40045ae9dd15947a929591e",
       "version_major": 2,
       "version_minor": 0
      },
      "text/plain": [
       "  0%|          | 0/1 [00:00<?, ?it/s]"
      ]
     },
     "metadata": {},
     "output_type": "display_data"
    },
    {
     "data": {
      "application/vnd.jupyter.widget-view+json": {
       "model_id": "c1abc9c9b57248e799ada0f2f29e3485",
       "version_major": 2,
       "version_minor": 0
      },
      "text/plain": [
       "Running Prediction:   0%|          | 0/1 [00:00<?, ?it/s]"
      ]
     },
     "metadata": {},
     "output_type": "display_data"
    },
    {
     "data": {
      "application/vnd.jupyter.widget-view+json": {
       "model_id": "f0b616bf75a944e7b48e5d83bdc11aee",
       "version_major": 2,
       "version_minor": 0
      },
      "text/plain": [
       "  0%|          | 0/1 [00:00<?, ?it/s]"
      ]
     },
     "metadata": {},
     "output_type": "display_data"
    },
    {
     "data": {
      "application/vnd.jupyter.widget-view+json": {
       "model_id": "ded95049a35a4fd5adff4cf9811b74cb",
       "version_major": 2,
       "version_minor": 0
      },
      "text/plain": [
       "Running Prediction:   0%|          | 0/1 [00:00<?, ?it/s]"
      ]
     },
     "metadata": {},
     "output_type": "display_data"
    },
    {
     "data": {
      "application/vnd.jupyter.widget-view+json": {
       "model_id": "83e5a52ac3ec44f2a362fd158a5229f1",
       "version_major": 2,
       "version_minor": 0
      },
      "text/plain": [
       "  0%|          | 0/1 [00:00<?, ?it/s]"
      ]
     },
     "metadata": {},
     "output_type": "display_data"
    },
    {
     "data": {
      "application/vnd.jupyter.widget-view+json": {
       "model_id": "62ffee01ecf247d4bfa9e461922e6ca9",
       "version_major": 2,
       "version_minor": 0
      },
      "text/plain": [
       "Running Prediction:   0%|          | 0/1 [00:00<?, ?it/s]"
      ]
     },
     "metadata": {},
     "output_type": "display_data"
    },
    {
     "data": {
      "application/vnd.jupyter.widget-view+json": {
       "model_id": "4341dd1d8c0642f38c8880f4ddfd0cf8",
       "version_major": 2,
       "version_minor": 0
      },
      "text/plain": [
       "  0%|          | 0/1 [00:00<?, ?it/s]"
      ]
     },
     "metadata": {},
     "output_type": "display_data"
    },
    {
     "data": {
      "application/vnd.jupyter.widget-view+json": {
       "model_id": "f3ba58c5cfaf415f84d781133c4071b9",
       "version_major": 2,
       "version_minor": 0
      },
      "text/plain": [
       "Running Prediction:   0%|          | 0/1 [00:00<?, ?it/s]"
      ]
     },
     "metadata": {},
     "output_type": "display_data"
    },
    {
     "data": {
      "application/vnd.jupyter.widget-view+json": {
       "model_id": "aee4186b7a83451ea00334b61f954f91",
       "version_major": 2,
       "version_minor": 0
      },
      "text/plain": [
       "  0%|          | 0/1 [00:00<?, ?it/s]"
      ]
     },
     "metadata": {},
     "output_type": "display_data"
    },
    {
     "data": {
      "application/vnd.jupyter.widget-view+json": {
       "model_id": "a47077d649204ad2805d243fd088bc25",
       "version_major": 2,
       "version_minor": 0
      },
      "text/plain": [
       "Running Prediction:   0%|          | 0/1 [00:00<?, ?it/s]"
      ]
     },
     "metadata": {},
     "output_type": "display_data"
    },
    {
     "data": {
      "application/vnd.jupyter.widget-view+json": {
       "model_id": "23300652e7874d79be8c7ab49f607004",
       "version_major": 2,
       "version_minor": 0
      },
      "text/plain": [
       "  0%|          | 0/1 [00:00<?, ?it/s]"
      ]
     },
     "metadata": {},
     "output_type": "display_data"
    },
    {
     "data": {
      "application/vnd.jupyter.widget-view+json": {
       "model_id": "8e88756480cd4879b3f515632397bb70",
       "version_major": 2,
       "version_minor": 0
      },
      "text/plain": [
       "Running Prediction:   0%|          | 0/1 [00:00<?, ?it/s]"
      ]
     },
     "metadata": {},
     "output_type": "display_data"
    },
    {
     "data": {
      "application/vnd.jupyter.widget-view+json": {
       "model_id": "238c0a4029094210893605e703b2293a",
       "version_major": 2,
       "version_minor": 0
      },
      "text/plain": [
       "  0%|          | 0/1 [00:00<?, ?it/s]"
      ]
     },
     "metadata": {},
     "output_type": "display_data"
    },
    {
     "data": {
      "application/vnd.jupyter.widget-view+json": {
       "model_id": "76f76196fadb4f849b6f9a465cc52ad5",
       "version_major": 2,
       "version_minor": 0
      },
      "text/plain": [
       "Running Prediction:   0%|          | 0/1 [00:00<?, ?it/s]"
      ]
     },
     "metadata": {},
     "output_type": "display_data"
    },
    {
     "data": {
      "application/vnd.jupyter.widget-view+json": {
       "model_id": "be12e283f09f4c4dbe9630dea312d5ea",
       "version_major": 2,
       "version_minor": 0
      },
      "text/plain": [
       "  0%|          | 0/1 [00:00<?, ?it/s]"
      ]
     },
     "metadata": {},
     "output_type": "display_data"
    },
    {
     "data": {
      "application/vnd.jupyter.widget-view+json": {
       "model_id": "e70d1c4649524f3fb05314241fed128f",
       "version_major": 2,
       "version_minor": 0
      },
      "text/plain": [
       "Running Prediction:   0%|          | 0/1 [00:00<?, ?it/s]"
      ]
     },
     "metadata": {},
     "output_type": "display_data"
    },
    {
     "data": {
      "application/vnd.jupyter.widget-view+json": {
       "model_id": "c92694ac381a4381826229726e8bd3ad",
       "version_major": 2,
       "version_minor": 0
      },
      "text/plain": [
       "  0%|          | 0/1 [00:00<?, ?it/s]"
      ]
     },
     "metadata": {},
     "output_type": "display_data"
    },
    {
     "data": {
      "application/vnd.jupyter.widget-view+json": {
       "model_id": "4be6187282fc4ef09cd8f50c197a3b16",
       "version_major": 2,
       "version_minor": 0
      },
      "text/plain": [
       "Running Prediction:   0%|          | 0/1 [00:00<?, ?it/s]"
      ]
     },
     "metadata": {},
     "output_type": "display_data"
    },
    {
     "data": {
      "application/vnd.jupyter.widget-view+json": {
       "model_id": "1d1b6365525144acb3a792d5fb7ae75c",
       "version_major": 2,
       "version_minor": 0
      },
      "text/plain": [
       "  0%|          | 0/1 [00:00<?, ?it/s]"
      ]
     },
     "metadata": {},
     "output_type": "display_data"
    },
    {
     "data": {
      "application/vnd.jupyter.widget-view+json": {
       "model_id": "8d6ac5f2cbca451094ba4b585eeb3d13",
       "version_major": 2,
       "version_minor": 0
      },
      "text/plain": [
       "Running Prediction:   0%|          | 0/1 [00:00<?, ?it/s]"
      ]
     },
     "metadata": {},
     "output_type": "display_data"
    },
    {
     "data": {
      "application/vnd.jupyter.widget-view+json": {
       "model_id": "9623608a39e348579883e9c6c3aed425",
       "version_major": 2,
       "version_minor": 0
      },
      "text/plain": [
       "  0%|          | 0/1 [00:00<?, ?it/s]"
      ]
     },
     "metadata": {},
     "output_type": "display_data"
    },
    {
     "data": {
      "application/vnd.jupyter.widget-view+json": {
       "model_id": "4b507a43b0074ebe9557e3532db15056",
       "version_major": 2,
       "version_minor": 0
      },
      "text/plain": [
       "Running Prediction:   0%|          | 0/1 [00:00<?, ?it/s]"
      ]
     },
     "metadata": {},
     "output_type": "display_data"
    },
    {
     "data": {
      "application/vnd.jupyter.widget-view+json": {
       "model_id": "0a53e11d5bd24df0a95fe9e3e27a5eef",
       "version_major": 2,
       "version_minor": 0
      },
      "text/plain": [
       "  0%|          | 0/1 [00:00<?, ?it/s]"
      ]
     },
     "metadata": {},
     "output_type": "display_data"
    },
    {
     "data": {
      "application/vnd.jupyter.widget-view+json": {
       "model_id": "e04515c142e345e28d085a72e15748d3",
       "version_major": 2,
       "version_minor": 0
      },
      "text/plain": [
       "Running Prediction:   0%|          | 0/1 [00:00<?, ?it/s]"
      ]
     },
     "metadata": {},
     "output_type": "display_data"
    },
    {
     "data": {
      "application/vnd.jupyter.widget-view+json": {
       "model_id": "73ace9f8519f44ce8c85eb6f6220054e",
       "version_major": 2,
       "version_minor": 0
      },
      "text/plain": [
       "  0%|          | 0/1 [00:01<?, ?it/s]"
      ]
     },
     "metadata": {},
     "output_type": "display_data"
    },
    {
     "data": {
      "application/vnd.jupyter.widget-view+json": {
       "model_id": "8a0a3e4f9fce4454a460666aa5932e3b",
       "version_major": 2,
       "version_minor": 0
      },
      "text/plain": [
       "Running Prediction:   0%|          | 0/1 [00:00<?, ?it/s]"
      ]
     },
     "metadata": {},
     "output_type": "display_data"
    },
    {
     "data": {
      "application/vnd.jupyter.widget-view+json": {
       "model_id": "e8af81d8bd4042ce88b458c084c18009",
       "version_major": 2,
       "version_minor": 0
      },
      "text/plain": [
       "  0%|          | 0/1 [00:00<?, ?it/s]"
      ]
     },
     "metadata": {},
     "output_type": "display_data"
    },
    {
     "data": {
      "application/vnd.jupyter.widget-view+json": {
       "model_id": "083c82f50b4f46c799247abd50ac043c",
       "version_major": 2,
       "version_minor": 0
      },
      "text/plain": [
       "Running Prediction:   0%|          | 0/1 [00:00<?, ?it/s]"
      ]
     },
     "metadata": {},
     "output_type": "display_data"
    },
    {
     "data": {
      "application/vnd.jupyter.widget-view+json": {
       "model_id": "be06f8c29f824b1792d37dc6fd179306",
       "version_major": 2,
       "version_minor": 0
      },
      "text/plain": [
       "  0%|          | 0/1 [00:00<?, ?it/s]"
      ]
     },
     "metadata": {},
     "output_type": "display_data"
    },
    {
     "data": {
      "application/vnd.jupyter.widget-view+json": {
       "model_id": "0a2e88f695304b1c9d90fd6abf2775d8",
       "version_major": 2,
       "version_minor": 0
      },
      "text/plain": [
       "Running Prediction:   0%|          | 0/1 [00:00<?, ?it/s]"
      ]
     },
     "metadata": {},
     "output_type": "display_data"
    },
    {
     "data": {
      "application/vnd.jupyter.widget-view+json": {
       "model_id": "bcdef14a8e74495e8f57c00d7720d4cf",
       "version_major": 2,
       "version_minor": 0
      },
      "text/plain": [
       "  0%|          | 0/1 [00:00<?, ?it/s]"
      ]
     },
     "metadata": {},
     "output_type": "display_data"
    },
    {
     "data": {
      "application/vnd.jupyter.widget-view+json": {
       "model_id": "4360484f051d448c81ef43ae571f9365",
       "version_major": 2,
       "version_minor": 0
      },
      "text/plain": [
       "Running Prediction:   0%|          | 0/1 [00:00<?, ?it/s]"
      ]
     },
     "metadata": {},
     "output_type": "display_data"
    },
    {
     "name": "stderr",
     "output_type": "stream",
     "text": [
      "C:\\Users\\Pénichon\\AppData\\Local\\Temp\\ipykernel_16220\\331961479.py:79: SettingWithCopyWarning: \n",
      "A value is trying to be set on a copy of a slice from a DataFrame.\n",
      "Try using .loc[row_indexer,col_indexer] = value instead\n",
      "\n",
      "See the caveats in the documentation: https://pandas.pydata.org/pandas-docs/stable/user_guide/indexing.html#returning-a-view-versus-a-copy\n",
      "  df2['faible'] = df2['review'].apply(fort_faible2)\n"
     ]
    }
   ],
   "source": [
    "#3/modeling with BERT (sentiment) and BERT(NER) :\n",
    "\n",
    "#list of point fort and point faible : \n",
    "import numpy as np\n",
    "import re\n",
    "\n",
    "\n",
    "#NER BERT :\n",
    "from simpletransformers.ner import NERModel,NERArgs\n",
    "from simpletransformers.ner import NERModel\n",
    "\n",
    "#le path pour charger le modèle\n",
    "path_BERT_NER ='C:\\\\Users\\\\Pénichon\\\\Desktop\\\\M2_TIDE\\\\TIDE_S1\\\\Algo_python\\\\Projet_NLP\\\\Project_NLP_perso\\\\Git_push\\\\NER_BERT\\\\NER_BERT_Model'\n",
    "model2 = NERModel(\"bert\", path_BERT_NER, use_cuda=False)\n",
    "\n",
    "#Ce code définit une fonction fort_faible() qui prend en argument une chaîne de caractères text et qui renvoie une liste de dictionnaires contenant des mots et leurs étiquettes de nommage d'entités.\n",
    "def fort_faible(text : str) :\n",
    "    text = text.lower() #la chaîne de caractères est convertie en minuscule\n",
    "    #on séprare en différentes phrases en utilisant une expression régulière\n",
    "    text = re.split(r'[\\.!?;,]| but | whereas | yet | althought | though | still | furthermore | moreover | even though | on the other hand | in spite of ', text)\n",
    "    #Ensuite, la fonction crée une liste vide appelée list_word qui sera utilisée pour stocker les mots et leurs étiquettes.\n",
    "    list_word = []\n",
    "    \n",
    "    #Pour chaque phrase dans text, la fonction calcule un score de sentiment en utilisant le modèle model et en appelant la méthode polarity_scores(). Si le score est supérieur à 0,3, la fonction crée un nouveau modèle appelé model2 qui sera utilisé pour détecter les entités nommées dans la phrase. La fonction utilise alors le modèle model2 pour prédire les entités nommées dans la phrase et stocke le résultat dans une variable pred.\n",
    "    for phrase in text :\n",
    "        score = infer_onnx_model(phrase) \n",
    "        \n",
    "        if score == 'positive' :\n",
    "            prediction, model_output = model2.predict([phrase])\n",
    "            pred = prediction\n",
    "            \n",
    "            #Enfin, la fonction itère sur chaque mot et étiquette dans pred et ajoute le mot et son étiquette à la liste list_word s'il n'est pas marqué comme \"O\", c'est-à-dire s'il n'est pas une entité nommée.\n",
    "            i=0\n",
    "            while i < len(pred[0]) :\n",
    "                word, label = pred[0][i].popitem()\n",
    "                word_label = {}\n",
    "                \n",
    "                if label != 'O':\n",
    "                    word_label[word] = label\n",
    "                    list_word.append(word_label) \n",
    "                i+=1\n",
    "                \n",
    "    #La fonction renvoie finalement list_word.           \n",
    "    return list_word \n",
    " \n",
    "df2['fort'] = df2['review'].apply(fort_faible)\n",
    "#df['fort'] = df['review'].apply(fort_faible)\n",
    "\n",
    "\n",
    "\n",
    "\n",
    "\n",
    "#Même commentaire que pour la fonction fort_faible, sauf que là on classe les points faibles\n",
    "def fort_faible2(text : list) :\n",
    "    text = text.lower()\n",
    "    text = re.split(r'[\\.!?;,]| but | whereas | yet | althought | though | still | furthermore | moreover | even though | on the other hand | in spite of ', text)\n",
    "    list_word = []\n",
    "    \n",
    "    for phrase in text :\n",
    "        score = infer_onnx_model(phrase) \n",
    "        \n",
    "        if score == 'negative' :\n",
    "            prediction, model_output = model2.predict([phrase])\n",
    "            pred = prediction\n",
    "            \n",
    "            i=0\n",
    "            while i < len(pred[0]) :\n",
    "                word, label = pred[0][i].popitem()\n",
    "                word_label = {}\n",
    "                    \n",
    "                if label != 'O':\n",
    "                    word_label[word] = label\n",
    "                    list_word.append(word_label) \n",
    "            \n",
    "                i+=1\n",
    "                \n",
    "    return list_word \n",
    "\n",
    "df2['faible'] = df2['review'].apply(fort_faible2)\n",
    "#df['faible'] = df['review'].apply(fort_faible2)"
   ]
  },
  {
   "cell_type": "code",
   "execution_count": 10,
   "id": "4bd2f8da",
   "metadata": {},
   "outputs": [
    {
     "data": {
      "text/html": [
       "<div>\n",
       "<style scoped>\n",
       "    .dataframe tbody tr th:only-of-type {\n",
       "        vertical-align: middle;\n",
       "    }\n",
       "\n",
       "    .dataframe tbody tr th {\n",
       "        vertical-align: top;\n",
       "    }\n",
       "\n",
       "    .dataframe thead th {\n",
       "        text-align: right;\n",
       "    }\n",
       "</style>\n",
       "<table border=\"1\" class=\"dataframe\">\n",
       "  <thead>\n",
       "    <tr style=\"text-align: right;\">\n",
       "      <th></th>\n",
       "      <th>title</th>\n",
       "      <th>review</th>\n",
       "      <th>rate</th>\n",
       "      <th>trip_type</th>\n",
       "      <th>date</th>\n",
       "      <th>fort</th>\n",
       "      <th>faible</th>\n",
       "    </tr>\n",
       "  </thead>\n",
       "  <tbody>\n",
       "    <tr>\n",
       "      <th>0</th>\n",
       "      <td>small room but okey</td>\n",
       "      <td>this hotel has the smallest room, and we have ...</td>\n",
       "      <td>4</td>\n",
       "      <td>traveled as a couple</td>\n",
       "      <td>2022-11-01</td>\n",
       "      <td>[{'check': 'service'}, {'location': 'location'...</td>\n",
       "      <td>[]</td>\n",
       "    </tr>\n",
       "    <tr>\n",
       "      <th>1</th>\n",
       "      <td>great location, great staff</td>\n",
       "      <td>great location and simple but clean ammenities...</td>\n",
       "      <td>5</td>\n",
       "      <td>traveled on business</td>\n",
       "      <td>2022-10-01</td>\n",
       "      <td>[{'location': 'location'}, {'staff': 'service'...</td>\n",
       "      <td>[]</td>\n",
       "    </tr>\n",
       "    <tr>\n",
       "      <th>2</th>\n",
       "      <td>dont stay in this hotel unless you would like ...</td>\n",
       "      <td>don't stay in this hotel unless you would like...</td>\n",
       "      <td>1</td>\n",
       "      <td>NaN</td>\n",
       "      <td>2022-10-01</td>\n",
       "      <td>[{'room': 'bedroom'}, {'view': 'location'}, {'...</td>\n",
       "      <td>[{'credit': 'restaurant'}, {'room': 'bedroom'}...</td>\n",
       "    </tr>\n",
       "    <tr>\n",
       "      <th>3</th>\n",
       "      <td>waste of money</td>\n",
       "      <td>not worth it. better rooms available for this ...</td>\n",
       "      <td>1</td>\n",
       "      <td>NaN</td>\n",
       "      <td>2022-09-01</td>\n",
       "      <td>[{'rooms': 'bedroom'}, {'price': 'price'}, {'l...</td>\n",
       "      <td>[{'front': 'bedroom'}, {'desk': 'bedroom'}, {'...</td>\n",
       "    </tr>\n",
       "    <tr>\n",
       "      <th>4</th>\n",
       "      <td>pre-autorisation money has not been refunded</td>\n",
       "      <td>ibis paris tour eiffel cambronne charged my de...</td>\n",
       "      <td>3</td>\n",
       "      <td>traveled as a couple</td>\n",
       "      <td>2022-10-01</td>\n",
       "      <td>[]</td>\n",
       "      <td>[]</td>\n",
       "    </tr>\n",
       "    <tr>\n",
       "      <th>5</th>\n",
       "      <td>good location but strongly not recommended to ...</td>\n",
       "      <td>good location access to public transportation ...</td>\n",
       "      <td>3</td>\n",
       "      <td>traveled with family</td>\n",
       "      <td>2022-10-01</td>\n",
       "      <td>[{'location': 'location'}, {'transportation': ...</td>\n",
       "      <td>[{'bed': 'bedroom'}, {'room': 'bedroom'}, {'te...</td>\n",
       "    </tr>\n",
       "    <tr>\n",
       "      <th>6</th>\n",
       "      <td>small room with eiffel towerview - air conditi...</td>\n",
       "      <td>good:\\n- location, comfortable to walk in nigh...</td>\n",
       "      <td>3</td>\n",
       "      <td>NaN</td>\n",
       "      <td>2022-09-01</td>\n",
       "      <td>[{'location': 'location'}, {'comfortable': 're...</td>\n",
       "      <td>[{'room': 'bedroom'}, {'bathroom': 'bedroom'},...</td>\n",
       "    </tr>\n",
       "    <tr>\n",
       "      <th>7</th>\n",
       "      <td>meeting my daughter in paris from cape town</td>\n",
       "      <td>beautiful hotel. excellent location. the parki...</td>\n",
       "      <td>5</td>\n",
       "      <td>NaN</td>\n",
       "      <td>2022-09-01</td>\n",
       "      <td>[{'location': 'location'}]</td>\n",
       "      <td>[]</td>\n",
       "    </tr>\n",
       "    <tr>\n",
       "      <th>8</th>\n",
       "      <td>good location but air conditioning didn't work...</td>\n",
       "      <td>we stayed 2 nights at this hotel in mid-septem...</td>\n",
       "      <td>3</td>\n",
       "      <td>NaN</td>\n",
       "      <td>2022-09-01</td>\n",
       "      <td>[{'room': 'bedroom'}, {'window': 'bedroom'}, {...</td>\n",
       "      <td>[{'front': 'bedroom'}, {'desk': 'bedroom'}, {'...</td>\n",
       "    </tr>\n",
       "    <tr>\n",
       "      <th>9</th>\n",
       "      <td>reasonable price and great location</td>\n",
       "      <td>great location. hotel very clean and has good ...</td>\n",
       "      <td>5</td>\n",
       "      <td>traveled with friends</td>\n",
       "      <td>2022-08-01</td>\n",
       "      <td>[{'location': 'location'}, {'rooms': 'bedroom'...</td>\n",
       "      <td>[]</td>\n",
       "    </tr>\n",
       "    <tr>\n",
       "      <th>10</th>\n",
       "      <td>bad service</td>\n",
       "      <td>my stay in paris was very pleasant but not tha...</td>\n",
       "      <td>2</td>\n",
       "      <td>NaN</td>\n",
       "      <td>NaT</td>\n",
       "      <td>[]</td>\n",
       "      <td>[{'staff': 'service'}, {'desk': 'bedroom'}, {'...</td>\n",
       "    </tr>\n",
       "    <tr>\n",
       "      <th>11</th>\n",
       "      <td>okay stay</td>\n",
       "      <td>our stay at this hotel was pleasant enough.. i...</td>\n",
       "      <td>3</td>\n",
       "      <td>traveled as a couple</td>\n",
       "      <td>2022-09-01</td>\n",
       "      <td>[{'restaurants': 'restaurant'}, {'rooms': 'bed...</td>\n",
       "      <td>[{'doors': 'bedroom'}, {'price': 'price'}]</td>\n",
       "    </tr>\n",
       "    <tr>\n",
       "      <th>12</th>\n",
       "      <td>pleasant stay</td>\n",
       "      <td>it was a pleasant stay, they were super friend...</td>\n",
       "      <td>4</td>\n",
       "      <td>traveled with family</td>\n",
       "      <td>2022-09-01</td>\n",
       "      <td>[{'reception': 'service'}, {'room': 'bedroom'}...</td>\n",
       "      <td>[]</td>\n",
       "    </tr>\n",
       "    <tr>\n",
       "      <th>13</th>\n",
       "      <td>could be better at this rate</td>\n",
       "      <td>on the plus side: they are implementing enviro...</td>\n",
       "      <td>3</td>\n",
       "      <td>traveled on business</td>\n",
       "      <td>2022-08-01</td>\n",
       "      <td>[{'environmentally': 'bedroom'}, {'towels': 'b...</td>\n",
       "      <td>[{'room': 'bedroom'}, {'room': 'bedroom'}, {'b...</td>\n",
       "    </tr>\n",
       "    <tr>\n",
       "      <th>14</th>\n",
       "      <td>despite reviews, i thought it was great!</td>\n",
       "      <td>after reading some reviews online, i was a bit...</td>\n",
       "      <td>4</td>\n",
       "      <td>traveled with family</td>\n",
       "      <td>2022-08-01</td>\n",
       "      <td>[{'room': 'bedroom'}, {'room': 'bedroom'}, {'s...</td>\n",
       "      <td>[{'reviews': 'location'}]</td>\n",
       "    </tr>\n",
       "    <tr>\n",
       "      <th>15</th>\n",
       "      <td>perfect location, but lacking hotel amenities.</td>\n",
       "      <td>this reservation was based off location, price...</td>\n",
       "      <td>3</td>\n",
       "      <td>traveled as a couple</td>\n",
       "      <td>2022-08-01</td>\n",
       "      <td>[{'metro': 'location'}, {'iron': 'bedroom'}]</td>\n",
       "      <td>[{'air': 'service'}, {'conditioning': 'service...</td>\n",
       "    </tr>\n",
       "    <tr>\n",
       "      <th>16</th>\n",
       "      <td>great location, great restaurants nearby</td>\n",
       "      <td>we stayed 5 days in the hotel. the hotel's amb...</td>\n",
       "      <td>4</td>\n",
       "      <td>traveled as a couple</td>\n",
       "      <td>2022-08-01</td>\n",
       "      <td>[{'location': 'location'}, {'restaurants': 're...</td>\n",
       "      <td>[]</td>\n",
       "    </tr>\n",
       "    <tr>\n",
       "      <th>17</th>\n",
       "      <td>bed bugs</td>\n",
       "      <td>at first i genuinely liked this place. it has ...</td>\n",
       "      <td>1</td>\n",
       "      <td>traveled as a couple</td>\n",
       "      <td>2022-08-01</td>\n",
       "      <td>[{'rooms': 'bedroom'}, {'location': 'location'...</td>\n",
       "      <td>[]</td>\n",
       "    </tr>\n",
       "    <tr>\n",
       "      <th>18</th>\n",
       "      <td>not the best stay..</td>\n",
       "      <td>nice location, close to the eiffel tower and t...</td>\n",
       "      <td>2</td>\n",
       "      <td>NaN</td>\n",
       "      <td>2022-07-01</td>\n",
       "      <td>[{'location': 'location'}, {'metro': 'location...</td>\n",
       "      <td>[{'beds': 'bedroom'}, {'disposable': 'restaura...</td>\n",
       "    </tr>\n",
       "    <tr>\n",
       "      <th>19</th>\n",
       "      <td>avoid this hotel</td>\n",
       "      <td>we stayed here for 4 nights and the room was r...</td>\n",
       "      <td>1</td>\n",
       "      <td>traveled as a couple</td>\n",
       "      <td>2022-08-01</td>\n",
       "      <td>[{'location': 'location'}, {'check': 'service'}]</td>\n",
       "      <td>[{'barely': 'restaurant'}, {'bathroom': 'bedro...</td>\n",
       "    </tr>\n",
       "  </tbody>\n",
       "</table>\n",
       "</div>"
      ],
      "text/plain": [
       "                                                title  \\\n",
       "0                                 small room but okey   \n",
       "1                         great location, great staff   \n",
       "2   dont stay in this hotel unless you would like ...   \n",
       "3                                      waste of money   \n",
       "4        pre-autorisation money has not been refunded   \n",
       "5   good location but strongly not recommended to ...   \n",
       "6   small room with eiffel towerview - air conditi...   \n",
       "7         meeting my daughter in paris from cape town   \n",
       "8   good location but air conditioning didn't work...   \n",
       "9                 reasonable price and great location   \n",
       "10                                        bad service   \n",
       "11                                          okay stay   \n",
       "12                                      pleasant stay   \n",
       "13                       could be better at this rate   \n",
       "14           despite reviews, i thought it was great!   \n",
       "15     perfect location, but lacking hotel amenities.   \n",
       "16           great location, great restaurants nearby   \n",
       "17                                           bed bugs   \n",
       "18                                not the best stay..   \n",
       "19                                   avoid this hotel   \n",
       "\n",
       "                                               review  rate  \\\n",
       "0   this hotel has the smallest room, and we have ...     4   \n",
       "1   great location and simple but clean ammenities...     5   \n",
       "2   don't stay in this hotel unless you would like...     1   \n",
       "3   not worth it. better rooms available for this ...     1   \n",
       "4   ibis paris tour eiffel cambronne charged my de...     3   \n",
       "5   good location access to public transportation ...     3   \n",
       "6   good:\\n- location, comfortable to walk in nigh...     3   \n",
       "7   beautiful hotel. excellent location. the parki...     5   \n",
       "8   we stayed 2 nights at this hotel in mid-septem...     3   \n",
       "9   great location. hotel very clean and has good ...     5   \n",
       "10  my stay in paris was very pleasant but not tha...     2   \n",
       "11  our stay at this hotel was pleasant enough.. i...     3   \n",
       "12  it was a pleasant stay, they were super friend...     4   \n",
       "13  on the plus side: they are implementing enviro...     3   \n",
       "14  after reading some reviews online, i was a bit...     4   \n",
       "15  this reservation was based off location, price...     3   \n",
       "16  we stayed 5 days in the hotel. the hotel's amb...     4   \n",
       "17  at first i genuinely liked this place. it has ...     1   \n",
       "18  nice location, close to the eiffel tower and t...     2   \n",
       "19  we stayed here for 4 nights and the room was r...     1   \n",
       "\n",
       "                trip_type       date  \\\n",
       "0    traveled as a couple 2022-11-01   \n",
       "1    traveled on business 2022-10-01   \n",
       "2                     NaN 2022-10-01   \n",
       "3                     NaN 2022-09-01   \n",
       "4    traveled as a couple 2022-10-01   \n",
       "5    traveled with family 2022-10-01   \n",
       "6                     NaN 2022-09-01   \n",
       "7                     NaN 2022-09-01   \n",
       "8                     NaN 2022-09-01   \n",
       "9   traveled with friends 2022-08-01   \n",
       "10                    NaN        NaT   \n",
       "11   traveled as a couple 2022-09-01   \n",
       "12   traveled with family 2022-09-01   \n",
       "13   traveled on business 2022-08-01   \n",
       "14   traveled with family 2022-08-01   \n",
       "15   traveled as a couple 2022-08-01   \n",
       "16   traveled as a couple 2022-08-01   \n",
       "17   traveled as a couple 2022-08-01   \n",
       "18                    NaN 2022-07-01   \n",
       "19   traveled as a couple 2022-08-01   \n",
       "\n",
       "                                                 fort  \\\n",
       "0   [{'check': 'service'}, {'location': 'location'...   \n",
       "1   [{'location': 'location'}, {'staff': 'service'...   \n",
       "2   [{'room': 'bedroom'}, {'view': 'location'}, {'...   \n",
       "3   [{'rooms': 'bedroom'}, {'price': 'price'}, {'l...   \n",
       "4                                                  []   \n",
       "5   [{'location': 'location'}, {'transportation': ...   \n",
       "6   [{'location': 'location'}, {'comfortable': 're...   \n",
       "7                          [{'location': 'location'}]   \n",
       "8   [{'room': 'bedroom'}, {'window': 'bedroom'}, {...   \n",
       "9   [{'location': 'location'}, {'rooms': 'bedroom'...   \n",
       "10                                                 []   \n",
       "11  [{'restaurants': 'restaurant'}, {'rooms': 'bed...   \n",
       "12  [{'reception': 'service'}, {'room': 'bedroom'}...   \n",
       "13  [{'environmentally': 'bedroom'}, {'towels': 'b...   \n",
       "14  [{'room': 'bedroom'}, {'room': 'bedroom'}, {'s...   \n",
       "15       [{'metro': 'location'}, {'iron': 'bedroom'}]   \n",
       "16  [{'location': 'location'}, {'restaurants': 're...   \n",
       "17  [{'rooms': 'bedroom'}, {'location': 'location'...   \n",
       "18  [{'location': 'location'}, {'metro': 'location...   \n",
       "19   [{'location': 'location'}, {'check': 'service'}]   \n",
       "\n",
       "                                               faible  \n",
       "0                                                  []  \n",
       "1                                                  []  \n",
       "2   [{'credit': 'restaurant'}, {'room': 'bedroom'}...  \n",
       "3   [{'front': 'bedroom'}, {'desk': 'bedroom'}, {'...  \n",
       "4                                                  []  \n",
       "5   [{'bed': 'bedroom'}, {'room': 'bedroom'}, {'te...  \n",
       "6   [{'room': 'bedroom'}, {'bathroom': 'bedroom'},...  \n",
       "7                                                  []  \n",
       "8   [{'front': 'bedroom'}, {'desk': 'bedroom'}, {'...  \n",
       "9                                                  []  \n",
       "10  [{'staff': 'service'}, {'desk': 'bedroom'}, {'...  \n",
       "11         [{'doors': 'bedroom'}, {'price': 'price'}]  \n",
       "12                                                 []  \n",
       "13  [{'room': 'bedroom'}, {'room': 'bedroom'}, {'b...  \n",
       "14                          [{'reviews': 'location'}]  \n",
       "15  [{'air': 'service'}, {'conditioning': 'service...  \n",
       "16                                                 []  \n",
       "17                                                 []  \n",
       "18  [{'beds': 'bedroom'}, {'disposable': 'restaura...  \n",
       "19  [{'barely': 'restaurant'}, {'bathroom': 'bedro...  "
      ]
     },
     "execution_count": 10,
     "metadata": {},
     "output_type": "execute_result"
    }
   ],
   "source": [
    "df2"
   ]
  },
  {
   "cell_type": "code",
   "execution_count": 11,
   "id": "9b513109",
   "metadata": {},
   "outputs": [
    {
     "name": "stderr",
     "output_type": "stream",
     "text": [
      "C:\\Users\\Pénichon\\AppData\\Local\\Temp\\ipykernel_16220\\740264218.py:40: SettingWithCopyWarning: \n",
      "A value is trying to be set on a copy of a slice from a DataFrame.\n",
      "Try using .loc[row_indexer,col_indexer] = value instead\n",
      "\n",
      "See the caveats in the documentation: https://pandas.pydata.org/pandas-docs/stable/user_guide/indexing.html#returning-a-view-versus-a-copy\n",
      "  df2['fort_score'] = df2['fort'].apply(group_point)\n",
      "C:\\Users\\Pénichon\\AppData\\Local\\Temp\\ipykernel_16220\\740264218.py:41: SettingWithCopyWarning: \n",
      "A value is trying to be set on a copy of a slice from a DataFrame.\n",
      "Try using .loc[row_indexer,col_indexer] = value instead\n",
      "\n",
      "See the caveats in the documentation: https://pandas.pydata.org/pandas-docs/stable/user_guide/indexing.html#returning-a-view-versus-a-copy\n",
      "  df2['faible_score'] = df2['faible'].apply(group_point)\n"
     ]
    }
   ],
   "source": [
    "#groupe(bedroom, restaurant, bathroom,...etc) of point fort and point faible score:\n",
    "\n",
    "def group_point(word_list): #e code définit une fonction group_point qui prend en entrée une liste de mots (word_list).\n",
    "    #La fonction initialise plusieurs variables à 0 (bedroom, bathroom, service, location, restaurant, price) qui serviront à compter le nombre d'occurrences de chaque mot dans la liste.\n",
    "    bedroom = 0\n",
    "    bathroom = 0\n",
    "    service = 0\n",
    "    location = 0\n",
    "    restaurant = 0\n",
    "    price = 0\n",
    "    \n",
    "    #La fonction définit également un dictionnaire vide (Dict_score) qui sera utilisé pour stocker le résultat final.\n",
    "    Dict_score = {}\n",
    "    \n",
    "    #Ensuite, la fonction itère sur chaque mot de la liste (for i in word_list) et utilise la fonction next() avec l'itérable \n",
    "    #iter(i) pour récupérer la première clé du dictionnaire i. Le label de chaque mot est alors récupéré en accédant à la valeur associée à cette clé \n",
    "    for i in word_list :\n",
    "        label = i[next(iter(i))]\n",
    "        #Ensuite, la fonction utilise une série d'instructions if-elif pour incrémenter le compteur associé à chaque mot (bedroom, bathroom, service, etc.) \n",
    "        #en fonction de sa catégorie (bedroom, bathroom, service, etc.).\n",
    "        if label == \"bedroom\" :\n",
    "            bedroom = bedroom + 1\n",
    "        elif label == \"bathroom\":\n",
    "            bathroom = bathroom + 1\n",
    "        elif label == \"service\":\n",
    "            service = service + 1\n",
    "        elif label == \"location\":\n",
    "            location = location + 1\n",
    "        elif label == \"restaurant\":\n",
    "            restaurant = restaurant + 1\n",
    "        elif label == \"price\":\n",
    "            price = price + 1\n",
    "    \n",
    "    #Enfin, la fonction utilise la méthode update() du dictionnaire Dict_score pour ajouter les compteurs de chaque mot dans le dictionnaire résultat.\n",
    "    Dict_score.update({\"bedroom\" : bedroom, \"bathroom\": bathroom, \"service\": service, \"location\": location, \"restaurant\": restaurant, \"price\": price}) \n",
    "    \n",
    "    #La fonction retourne ce dictionnaire en fin d'exécution.\n",
    "    return Dict_score  \n",
    "  \n",
    "df2['fort_score'] = df2['fort'].apply(group_point)\n",
    "df2['faible_score'] = df2['faible'].apply(group_point)"
   ]
  },
  {
   "cell_type": "code",
   "execution_count": 12,
   "id": "3b394815",
   "metadata": {},
   "outputs": [
    {
     "data": {
      "text/html": [
       "<div>\n",
       "<style scoped>\n",
       "    .dataframe tbody tr th:only-of-type {\n",
       "        vertical-align: middle;\n",
       "    }\n",
       "\n",
       "    .dataframe tbody tr th {\n",
       "        vertical-align: top;\n",
       "    }\n",
       "\n",
       "    .dataframe thead th {\n",
       "        text-align: right;\n",
       "    }\n",
       "</style>\n",
       "<table border=\"1\" class=\"dataframe\">\n",
       "  <thead>\n",
       "    <tr style=\"text-align: right;\">\n",
       "      <th></th>\n",
       "      <th>title</th>\n",
       "      <th>review</th>\n",
       "      <th>rate</th>\n",
       "      <th>trip_type</th>\n",
       "      <th>date</th>\n",
       "      <th>fort</th>\n",
       "      <th>faible</th>\n",
       "      <th>fort_score</th>\n",
       "      <th>faible_score</th>\n",
       "    </tr>\n",
       "  </thead>\n",
       "  <tbody>\n",
       "    <tr>\n",
       "      <th>0</th>\n",
       "      <td>small room but okey</td>\n",
       "      <td>this hotel has the smallest room, and we have ...</td>\n",
       "      <td>4</td>\n",
       "      <td>traveled as a couple</td>\n",
       "      <td>2022-11-01</td>\n",
       "      <td>[{'check': 'service'}, {'location': 'location'...</td>\n",
       "      <td>[]</td>\n",
       "      <td>{'bedroom': 0, 'bathroom': 0, 'service': 1, 'l...</td>\n",
       "      <td>{'bedroom': 0, 'bathroom': 0, 'service': 0, 'l...</td>\n",
       "    </tr>\n",
       "    <tr>\n",
       "      <th>1</th>\n",
       "      <td>great location, great staff</td>\n",
       "      <td>great location and simple but clean ammenities...</td>\n",
       "      <td>5</td>\n",
       "      <td>traveled on business</td>\n",
       "      <td>2022-10-01</td>\n",
       "      <td>[{'location': 'location'}, {'staff': 'service'...</td>\n",
       "      <td>[]</td>\n",
       "      <td>{'bedroom': 2, 'bathroom': 0, 'service': 1, 'l...</td>\n",
       "      <td>{'bedroom': 0, 'bathroom': 0, 'service': 0, 'l...</td>\n",
       "    </tr>\n",
       "    <tr>\n",
       "      <th>2</th>\n",
       "      <td>dont stay in this hotel unless you would like ...</td>\n",
       "      <td>don't stay in this hotel unless you would like...</td>\n",
       "      <td>1</td>\n",
       "      <td>NaN</td>\n",
       "      <td>2022-10-01</td>\n",
       "      <td>[{'room': 'bedroom'}, {'view': 'location'}, {'...</td>\n",
       "      <td>[{'credit': 'restaurant'}, {'room': 'bedroom'}...</td>\n",
       "      <td>{'bedroom': 2, 'bathroom': 0, 'service': 0, 'l...</td>\n",
       "      <td>{'bedroom': 2, 'bathroom': 0, 'service': 1, 'l...</td>\n",
       "    </tr>\n",
       "    <tr>\n",
       "      <th>3</th>\n",
       "      <td>waste of money</td>\n",
       "      <td>not worth it. better rooms available for this ...</td>\n",
       "      <td>1</td>\n",
       "      <td>NaN</td>\n",
       "      <td>2022-09-01</td>\n",
       "      <td>[{'rooms': 'bedroom'}, {'price': 'price'}, {'l...</td>\n",
       "      <td>[{'front': 'bedroom'}, {'desk': 'bedroom'}, {'...</td>\n",
       "      <td>{'bedroom': 1, 'bathroom': 0, 'service': 0, 'l...</td>\n",
       "      <td>{'bedroom': 2, 'bathroom': 0, 'service': 1, 'l...</td>\n",
       "    </tr>\n",
       "    <tr>\n",
       "      <th>4</th>\n",
       "      <td>pre-autorisation money has not been refunded</td>\n",
       "      <td>ibis paris tour eiffel cambronne charged my de...</td>\n",
       "      <td>3</td>\n",
       "      <td>traveled as a couple</td>\n",
       "      <td>2022-10-01</td>\n",
       "      <td>[]</td>\n",
       "      <td>[]</td>\n",
       "      <td>{'bedroom': 0, 'bathroom': 0, 'service': 0, 'l...</td>\n",
       "      <td>{'bedroom': 0, 'bathroom': 0, 'service': 0, 'l...</td>\n",
       "    </tr>\n",
       "    <tr>\n",
       "      <th>5</th>\n",
       "      <td>good location but strongly not recommended to ...</td>\n",
       "      <td>good location access to public transportation ...</td>\n",
       "      <td>3</td>\n",
       "      <td>traveled with family</td>\n",
       "      <td>2022-10-01</td>\n",
       "      <td>[{'location': 'location'}, {'transportation': ...</td>\n",
       "      <td>[{'bed': 'bedroom'}, {'room': 'bedroom'}, {'te...</td>\n",
       "      <td>{'bedroom': 0, 'bathroom': 0, 'service': 0, 'l...</td>\n",
       "      <td>{'bedroom': 4, 'bathroom': 0, 'service': 3, 'l...</td>\n",
       "    </tr>\n",
       "    <tr>\n",
       "      <th>6</th>\n",
       "      <td>small room with eiffel towerview - air conditi...</td>\n",
       "      <td>good:\\n- location, comfortable to walk in nigh...</td>\n",
       "      <td>3</td>\n",
       "      <td>NaN</td>\n",
       "      <td>2022-09-01</td>\n",
       "      <td>[{'location': 'location'}, {'comfortable': 're...</td>\n",
       "      <td>[{'room': 'bedroom'}, {'bathroom': 'bedroom'},...</td>\n",
       "      <td>{'bedroom': 2, 'bathroom': 0, 'service': 0, 'l...</td>\n",
       "      <td>{'bedroom': 3, 'bathroom': 0, 'service': 1, 'l...</td>\n",
       "    </tr>\n",
       "    <tr>\n",
       "      <th>7</th>\n",
       "      <td>meeting my daughter in paris from cape town</td>\n",
       "      <td>beautiful hotel. excellent location. the parki...</td>\n",
       "      <td>5</td>\n",
       "      <td>NaN</td>\n",
       "      <td>2022-09-01</td>\n",
       "      <td>[{'location': 'location'}]</td>\n",
       "      <td>[]</td>\n",
       "      <td>{'bedroom': 0, 'bathroom': 0, 'service': 0, 'l...</td>\n",
       "      <td>{'bedroom': 0, 'bathroom': 0, 'service': 0, 'l...</td>\n",
       "    </tr>\n",
       "    <tr>\n",
       "      <th>8</th>\n",
       "      <td>good location but air conditioning didn't work...</td>\n",
       "      <td>we stayed 2 nights at this hotel in mid-septem...</td>\n",
       "      <td>3</td>\n",
       "      <td>NaN</td>\n",
       "      <td>2022-09-01</td>\n",
       "      <td>[{'room': 'bedroom'}, {'window': 'bedroom'}, {...</td>\n",
       "      <td>[{'front': 'bedroom'}, {'desk': 'bedroom'}, {'...</td>\n",
       "      <td>{'bedroom': 5, 'bathroom': 1, 'service': 0, 'l...</td>\n",
       "      <td>{'bedroom': 3, 'bathroom': 0, 'service': 0, 'l...</td>\n",
       "    </tr>\n",
       "    <tr>\n",
       "      <th>9</th>\n",
       "      <td>reasonable price and great location</td>\n",
       "      <td>great location. hotel very clean and has good ...</td>\n",
       "      <td>5</td>\n",
       "      <td>traveled with friends</td>\n",
       "      <td>2022-08-01</td>\n",
       "      <td>[{'location': 'location'}, {'rooms': 'bedroom'...</td>\n",
       "      <td>[]</td>\n",
       "      <td>{'bedroom': 1, 'bathroom': 0, 'service': 0, 'l...</td>\n",
       "      <td>{'bedroom': 0, 'bathroom': 0, 'service': 0, 'l...</td>\n",
       "    </tr>\n",
       "    <tr>\n",
       "      <th>10</th>\n",
       "      <td>bad service</td>\n",
       "      <td>my stay in paris was very pleasant but not tha...</td>\n",
       "      <td>2</td>\n",
       "      <td>NaN</td>\n",
       "      <td>NaT</td>\n",
       "      <td>[]</td>\n",
       "      <td>[{'staff': 'service'}, {'desk': 'bedroom'}, {'...</td>\n",
       "      <td>{'bedroom': 0, 'bathroom': 0, 'service': 0, 'l...</td>\n",
       "      <td>{'bedroom': 2, 'bathroom': 2, 'service': 3, 'l...</td>\n",
       "    </tr>\n",
       "    <tr>\n",
       "      <th>11</th>\n",
       "      <td>okay stay</td>\n",
       "      <td>our stay at this hotel was pleasant enough.. i...</td>\n",
       "      <td>3</td>\n",
       "      <td>traveled as a couple</td>\n",
       "      <td>2022-09-01</td>\n",
       "      <td>[{'restaurants': 'restaurant'}, {'rooms': 'bed...</td>\n",
       "      <td>[{'doors': 'bedroom'}, {'price': 'price'}]</td>\n",
       "      <td>{'bedroom': 1, 'bathroom': 0, 'service': 1, 'l...</td>\n",
       "      <td>{'bedroom': 1, 'bathroom': 0, 'service': 0, 'l...</td>\n",
       "    </tr>\n",
       "    <tr>\n",
       "      <th>12</th>\n",
       "      <td>pleasant stay</td>\n",
       "      <td>it was a pleasant stay, they were super friend...</td>\n",
       "      <td>4</td>\n",
       "      <td>traveled with family</td>\n",
       "      <td>2022-09-01</td>\n",
       "      <td>[{'reception': 'service'}, {'room': 'bedroom'}...</td>\n",
       "      <td>[]</td>\n",
       "      <td>{'bedroom': 1, 'bathroom': 0, 'service': 1, 'l...</td>\n",
       "      <td>{'bedroom': 0, 'bathroom': 0, 'service': 0, 'l...</td>\n",
       "    </tr>\n",
       "    <tr>\n",
       "      <th>13</th>\n",
       "      <td>could be better at this rate</td>\n",
       "      <td>on the plus side: they are implementing enviro...</td>\n",
       "      <td>3</td>\n",
       "      <td>traveled on business</td>\n",
       "      <td>2022-08-01</td>\n",
       "      <td>[{'environmentally': 'bedroom'}, {'towels': 'b...</td>\n",
       "      <td>[{'room': 'bedroom'}, {'room': 'bedroom'}, {'b...</td>\n",
       "      <td>{'bedroom': 3, 'bathroom': 0, 'service': 0, 'l...</td>\n",
       "      <td>{'bedroom': 3, 'bathroom': 0, 'service': 0, 'l...</td>\n",
       "    </tr>\n",
       "    <tr>\n",
       "      <th>14</th>\n",
       "      <td>despite reviews, i thought it was great!</td>\n",
       "      <td>after reading some reviews online, i was a bit...</td>\n",
       "      <td>4</td>\n",
       "      <td>traveled with family</td>\n",
       "      <td>2022-08-01</td>\n",
       "      <td>[{'room': 'bedroom'}, {'room': 'bedroom'}, {'s...</td>\n",
       "      <td>[{'reviews': 'location'}]</td>\n",
       "      <td>{'bedroom': 3, 'bathroom': 0, 'service': 2, 'l...</td>\n",
       "      <td>{'bedroom': 0, 'bathroom': 0, 'service': 0, 'l...</td>\n",
       "    </tr>\n",
       "    <tr>\n",
       "      <th>15</th>\n",
       "      <td>perfect location, but lacking hotel amenities.</td>\n",
       "      <td>this reservation was based off location, price...</td>\n",
       "      <td>3</td>\n",
       "      <td>traveled as a couple</td>\n",
       "      <td>2022-08-01</td>\n",
       "      <td>[{'metro': 'location'}, {'iron': 'bedroom'}]</td>\n",
       "      <td>[{'air': 'service'}, {'conditioning': 'service...</td>\n",
       "      <td>{'bedroom': 1, 'bathroom': 0, 'service': 0, 'l...</td>\n",
       "      <td>{'bedroom': 0, 'bathroom': 0, 'service': 2, 'l...</td>\n",
       "    </tr>\n",
       "    <tr>\n",
       "      <th>16</th>\n",
       "      <td>great location, great restaurants nearby</td>\n",
       "      <td>we stayed 5 days in the hotel. the hotel's amb...</td>\n",
       "      <td>4</td>\n",
       "      <td>traveled as a couple</td>\n",
       "      <td>2022-08-01</td>\n",
       "      <td>[{'location': 'location'}, {'restaurants': 're...</td>\n",
       "      <td>[]</td>\n",
       "      <td>{'bedroom': 1, 'bathroom': 0, 'service': 1, 'l...</td>\n",
       "      <td>{'bedroom': 0, 'bathroom': 0, 'service': 0, 'l...</td>\n",
       "    </tr>\n",
       "    <tr>\n",
       "      <th>17</th>\n",
       "      <td>bed bugs</td>\n",
       "      <td>at first i genuinely liked this place. it has ...</td>\n",
       "      <td>1</td>\n",
       "      <td>traveled as a couple</td>\n",
       "      <td>2022-08-01</td>\n",
       "      <td>[{'rooms': 'bedroom'}, {'location': 'location'...</td>\n",
       "      <td>[]</td>\n",
       "      <td>{'bedroom': 1, 'bathroom': 0, 'service': 0, 'l...</td>\n",
       "      <td>{'bedroom': 0, 'bathroom': 0, 'service': 0, 'l...</td>\n",
       "    </tr>\n",
       "    <tr>\n",
       "      <th>18</th>\n",
       "      <td>not the best stay..</td>\n",
       "      <td>nice location, close to the eiffel tower and t...</td>\n",
       "      <td>2</td>\n",
       "      <td>NaN</td>\n",
       "      <td>2022-07-01</td>\n",
       "      <td>[{'location': 'location'}, {'metro': 'location...</td>\n",
       "      <td>[{'beds': 'bedroom'}, {'disposable': 'restaura...</td>\n",
       "      <td>{'bedroom': 1, 'bathroom': 0, 'service': 0, 'l...</td>\n",
       "      <td>{'bedroom': 6, 'bathroom': 0, 'service': 2, 'l...</td>\n",
       "    </tr>\n",
       "    <tr>\n",
       "      <th>19</th>\n",
       "      <td>avoid this hotel</td>\n",
       "      <td>we stayed here for 4 nights and the room was r...</td>\n",
       "      <td>1</td>\n",
       "      <td>traveled as a couple</td>\n",
       "      <td>2022-08-01</td>\n",
       "      <td>[{'location': 'location'}, {'check': 'service'}]</td>\n",
       "      <td>[{'barely': 'restaurant'}, {'bathroom': 'bedro...</td>\n",
       "      <td>{'bedroom': 0, 'bathroom': 0, 'service': 1, 'l...</td>\n",
       "      <td>{'bedroom': 2, 'bathroom': 0, 'service': 1, 'l...</td>\n",
       "    </tr>\n",
       "  </tbody>\n",
       "</table>\n",
       "</div>"
      ],
      "text/plain": [
       "                                                title  \\\n",
       "0                                 small room but okey   \n",
       "1                         great location, great staff   \n",
       "2   dont stay in this hotel unless you would like ...   \n",
       "3                                      waste of money   \n",
       "4        pre-autorisation money has not been refunded   \n",
       "5   good location but strongly not recommended to ...   \n",
       "6   small room with eiffel towerview - air conditi...   \n",
       "7         meeting my daughter in paris from cape town   \n",
       "8   good location but air conditioning didn't work...   \n",
       "9                 reasonable price and great location   \n",
       "10                                        bad service   \n",
       "11                                          okay stay   \n",
       "12                                      pleasant stay   \n",
       "13                       could be better at this rate   \n",
       "14           despite reviews, i thought it was great!   \n",
       "15     perfect location, but lacking hotel amenities.   \n",
       "16           great location, great restaurants nearby   \n",
       "17                                           bed bugs   \n",
       "18                                not the best stay..   \n",
       "19                                   avoid this hotel   \n",
       "\n",
       "                                               review  rate  \\\n",
       "0   this hotel has the smallest room, and we have ...     4   \n",
       "1   great location and simple but clean ammenities...     5   \n",
       "2   don't stay in this hotel unless you would like...     1   \n",
       "3   not worth it. better rooms available for this ...     1   \n",
       "4   ibis paris tour eiffel cambronne charged my de...     3   \n",
       "5   good location access to public transportation ...     3   \n",
       "6   good:\\n- location, comfortable to walk in nigh...     3   \n",
       "7   beautiful hotel. excellent location. the parki...     5   \n",
       "8   we stayed 2 nights at this hotel in mid-septem...     3   \n",
       "9   great location. hotel very clean and has good ...     5   \n",
       "10  my stay in paris was very pleasant but not tha...     2   \n",
       "11  our stay at this hotel was pleasant enough.. i...     3   \n",
       "12  it was a pleasant stay, they were super friend...     4   \n",
       "13  on the plus side: they are implementing enviro...     3   \n",
       "14  after reading some reviews online, i was a bit...     4   \n",
       "15  this reservation was based off location, price...     3   \n",
       "16  we stayed 5 days in the hotel. the hotel's amb...     4   \n",
       "17  at first i genuinely liked this place. it has ...     1   \n",
       "18  nice location, close to the eiffel tower and t...     2   \n",
       "19  we stayed here for 4 nights and the room was r...     1   \n",
       "\n",
       "                trip_type       date  \\\n",
       "0    traveled as a couple 2022-11-01   \n",
       "1    traveled on business 2022-10-01   \n",
       "2                     NaN 2022-10-01   \n",
       "3                     NaN 2022-09-01   \n",
       "4    traveled as a couple 2022-10-01   \n",
       "5    traveled with family 2022-10-01   \n",
       "6                     NaN 2022-09-01   \n",
       "7                     NaN 2022-09-01   \n",
       "8                     NaN 2022-09-01   \n",
       "9   traveled with friends 2022-08-01   \n",
       "10                    NaN        NaT   \n",
       "11   traveled as a couple 2022-09-01   \n",
       "12   traveled with family 2022-09-01   \n",
       "13   traveled on business 2022-08-01   \n",
       "14   traveled with family 2022-08-01   \n",
       "15   traveled as a couple 2022-08-01   \n",
       "16   traveled as a couple 2022-08-01   \n",
       "17   traveled as a couple 2022-08-01   \n",
       "18                    NaN 2022-07-01   \n",
       "19   traveled as a couple 2022-08-01   \n",
       "\n",
       "                                                 fort  \\\n",
       "0   [{'check': 'service'}, {'location': 'location'...   \n",
       "1   [{'location': 'location'}, {'staff': 'service'...   \n",
       "2   [{'room': 'bedroom'}, {'view': 'location'}, {'...   \n",
       "3   [{'rooms': 'bedroom'}, {'price': 'price'}, {'l...   \n",
       "4                                                  []   \n",
       "5   [{'location': 'location'}, {'transportation': ...   \n",
       "6   [{'location': 'location'}, {'comfortable': 're...   \n",
       "7                          [{'location': 'location'}]   \n",
       "8   [{'room': 'bedroom'}, {'window': 'bedroom'}, {...   \n",
       "9   [{'location': 'location'}, {'rooms': 'bedroom'...   \n",
       "10                                                 []   \n",
       "11  [{'restaurants': 'restaurant'}, {'rooms': 'bed...   \n",
       "12  [{'reception': 'service'}, {'room': 'bedroom'}...   \n",
       "13  [{'environmentally': 'bedroom'}, {'towels': 'b...   \n",
       "14  [{'room': 'bedroom'}, {'room': 'bedroom'}, {'s...   \n",
       "15       [{'metro': 'location'}, {'iron': 'bedroom'}]   \n",
       "16  [{'location': 'location'}, {'restaurants': 're...   \n",
       "17  [{'rooms': 'bedroom'}, {'location': 'location'...   \n",
       "18  [{'location': 'location'}, {'metro': 'location...   \n",
       "19   [{'location': 'location'}, {'check': 'service'}]   \n",
       "\n",
       "                                               faible  \\\n",
       "0                                                  []   \n",
       "1                                                  []   \n",
       "2   [{'credit': 'restaurant'}, {'room': 'bedroom'}...   \n",
       "3   [{'front': 'bedroom'}, {'desk': 'bedroom'}, {'...   \n",
       "4                                                  []   \n",
       "5   [{'bed': 'bedroom'}, {'room': 'bedroom'}, {'te...   \n",
       "6   [{'room': 'bedroom'}, {'bathroom': 'bedroom'},...   \n",
       "7                                                  []   \n",
       "8   [{'front': 'bedroom'}, {'desk': 'bedroom'}, {'...   \n",
       "9                                                  []   \n",
       "10  [{'staff': 'service'}, {'desk': 'bedroom'}, {'...   \n",
       "11         [{'doors': 'bedroom'}, {'price': 'price'}]   \n",
       "12                                                 []   \n",
       "13  [{'room': 'bedroom'}, {'room': 'bedroom'}, {'b...   \n",
       "14                          [{'reviews': 'location'}]   \n",
       "15  [{'air': 'service'}, {'conditioning': 'service...   \n",
       "16                                                 []   \n",
       "17                                                 []   \n",
       "18  [{'beds': 'bedroom'}, {'disposable': 'restaura...   \n",
       "19  [{'barely': 'restaurant'}, {'bathroom': 'bedro...   \n",
       "\n",
       "                                           fort_score  \\\n",
       "0   {'bedroom': 0, 'bathroom': 0, 'service': 1, 'l...   \n",
       "1   {'bedroom': 2, 'bathroom': 0, 'service': 1, 'l...   \n",
       "2   {'bedroom': 2, 'bathroom': 0, 'service': 0, 'l...   \n",
       "3   {'bedroom': 1, 'bathroom': 0, 'service': 0, 'l...   \n",
       "4   {'bedroom': 0, 'bathroom': 0, 'service': 0, 'l...   \n",
       "5   {'bedroom': 0, 'bathroom': 0, 'service': 0, 'l...   \n",
       "6   {'bedroom': 2, 'bathroom': 0, 'service': 0, 'l...   \n",
       "7   {'bedroom': 0, 'bathroom': 0, 'service': 0, 'l...   \n",
       "8   {'bedroom': 5, 'bathroom': 1, 'service': 0, 'l...   \n",
       "9   {'bedroom': 1, 'bathroom': 0, 'service': 0, 'l...   \n",
       "10  {'bedroom': 0, 'bathroom': 0, 'service': 0, 'l...   \n",
       "11  {'bedroom': 1, 'bathroom': 0, 'service': 1, 'l...   \n",
       "12  {'bedroom': 1, 'bathroom': 0, 'service': 1, 'l...   \n",
       "13  {'bedroom': 3, 'bathroom': 0, 'service': 0, 'l...   \n",
       "14  {'bedroom': 3, 'bathroom': 0, 'service': 2, 'l...   \n",
       "15  {'bedroom': 1, 'bathroom': 0, 'service': 0, 'l...   \n",
       "16  {'bedroom': 1, 'bathroom': 0, 'service': 1, 'l...   \n",
       "17  {'bedroom': 1, 'bathroom': 0, 'service': 0, 'l...   \n",
       "18  {'bedroom': 1, 'bathroom': 0, 'service': 0, 'l...   \n",
       "19  {'bedroom': 0, 'bathroom': 0, 'service': 1, 'l...   \n",
       "\n",
       "                                         faible_score  \n",
       "0   {'bedroom': 0, 'bathroom': 0, 'service': 0, 'l...  \n",
       "1   {'bedroom': 0, 'bathroom': 0, 'service': 0, 'l...  \n",
       "2   {'bedroom': 2, 'bathroom': 0, 'service': 1, 'l...  \n",
       "3   {'bedroom': 2, 'bathroom': 0, 'service': 1, 'l...  \n",
       "4   {'bedroom': 0, 'bathroom': 0, 'service': 0, 'l...  \n",
       "5   {'bedroom': 4, 'bathroom': 0, 'service': 3, 'l...  \n",
       "6   {'bedroom': 3, 'bathroom': 0, 'service': 1, 'l...  \n",
       "7   {'bedroom': 0, 'bathroom': 0, 'service': 0, 'l...  \n",
       "8   {'bedroom': 3, 'bathroom': 0, 'service': 0, 'l...  \n",
       "9   {'bedroom': 0, 'bathroom': 0, 'service': 0, 'l...  \n",
       "10  {'bedroom': 2, 'bathroom': 2, 'service': 3, 'l...  \n",
       "11  {'bedroom': 1, 'bathroom': 0, 'service': 0, 'l...  \n",
       "12  {'bedroom': 0, 'bathroom': 0, 'service': 0, 'l...  \n",
       "13  {'bedroom': 3, 'bathroom': 0, 'service': 0, 'l...  \n",
       "14  {'bedroom': 0, 'bathroom': 0, 'service': 0, 'l...  \n",
       "15  {'bedroom': 0, 'bathroom': 0, 'service': 2, 'l...  \n",
       "16  {'bedroom': 0, 'bathroom': 0, 'service': 0, 'l...  \n",
       "17  {'bedroom': 0, 'bathroom': 0, 'service': 0, 'l...  \n",
       "18  {'bedroom': 6, 'bathroom': 0, 'service': 2, 'l...  \n",
       "19  {'bedroom': 2, 'bathroom': 0, 'service': 1, 'l...  "
      ]
     },
     "metadata": {},
     "output_type": "display_data"
    }
   ],
   "source": [
    "display(df2)"
   ]
  },
  {
   "cell_type": "code",
   "execution_count": 13,
   "id": "d95504a2",
   "metadata": {},
   "outputs": [],
   "source": [
    "df2.to_excel(\"C:\\\\Users\\\\Pénichon\\\\Desktop\\\\M2_TIDE\\\\TIDE_S1\\\\Algo_python\\\\Projet_NLP\\\\Project_NLP_perso\\\\hotel_review_result_output.xlsx\")"
   ]
  }
 ],
 "metadata": {
  "kernelspec": {
   "display_name": "Python 3 (ipykernel)",
   "language": "python",
   "name": "python3"
  },
  "language_info": {
   "codemirror_mode": {
    "name": "ipython",
    "version": 3
   },
   "file_extension": ".py",
   "mimetype": "text/x-python",
   "name": "python",
   "nbconvert_exporter": "python",
   "pygments_lexer": "ipython3",
   "version": "3.9.12"
  }
 },
 "nbformat": 4,
 "nbformat_minor": 5
}
