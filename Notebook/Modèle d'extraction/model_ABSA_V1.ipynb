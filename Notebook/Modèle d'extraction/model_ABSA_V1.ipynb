{
 "cells": [
  {
   "cell_type": "code",
   "execution_count": null,
   "id": "e90e7fd6-2ac7-40f0-9108-52d1a954cfb4",
   "metadata": {},
   "outputs": [],
   "source": [
    "import pandas as pd\n",
    "import numpy as np\n",
    "import matplotlib.pyplot as plt\n",
    "import seaborn as sns\n",
    "import os\n",
    "from tqdm.notebook import tqdm\n",
    "import nltk\n",
    "from nltk.sentiment import SentimentIntensityAnalyzer\n",
    "from tqdm.notebook import tqdm\n",
    "plt.style.use('ggplot')\n",
    "import warnings\n",
    "warnings.filterwarnings('ignore')"
   ]
  },
  {
   "cell_type": "code",
   "execution_count": 3,
   "id": "3b820360-8fee-4aa0-87cd-2fee232e25bc",
   "metadata": {},
   "outputs": [],
   "source": [
    "def get_type(x):\n",
    "    try:\n",
    "        return x.split(' ')[-1]\n",
    "    except:\n",
    "        return 'NAN'"
   ]
  },
  {
   "cell_type": "code",
   "execution_count": 4,
   "id": "208e8ffe-5110-4a9a-9855-5035298599a2",
   "metadata": {},
   "outputs": [],
   "source": [
    "# os.chdir('Downloads')\n",
    "df = pd.read_excel('/Users/claire/Documents/Documents/STUDIES/6. M2 TIDE/Semestre 9/Algorithmique et Python/Projet/reviews_google.xlsx').drop('index', axis=1)\n",
    "df['type'] = df['trip_type'].apply(lambda x: get_type(x))\n",
    "df = df.drop('trip_type', axis=1)"
   ]
  },
  {
   "cell_type": "code",
   "execution_count": 5,
   "id": "9738b185-3b69-4d33-acda-a130a22212d8",
   "metadata": {},
   "outputs": [
    {
     "data": {
      "text/html": [
       "<div>\n",
       "<style scoped>\n",
       "    .dataframe tbody tr th:only-of-type {\n",
       "        vertical-align: middle;\n",
       "    }\n",
       "\n",
       "    .dataframe tbody tr th {\n",
       "        vertical-align: top;\n",
       "    }\n",
       "\n",
       "    .dataframe thead th {\n",
       "        text-align: right;\n",
       "    }\n",
       "</style>\n",
       "<table border=\"1\" class=\"dataframe\">\n",
       "  <thead>\n",
       "    <tr style=\"text-align: right;\">\n",
       "      <th></th>\n",
       "      <th>title</th>\n",
       "      <th>review</th>\n",
       "      <th>rate</th>\n",
       "      <th>date</th>\n",
       "      <th>type</th>\n",
       "    </tr>\n",
       "  </thead>\n",
       "  <tbody>\n",
       "    <tr>\n",
       "      <th>0</th>\n",
       "      <td>small room but okey</td>\n",
       "      <td>this hotel has the smallest room, and we have ...</td>\n",
       "      <td>4</td>\n",
       "      <td>2022-11-01</td>\n",
       "      <td>couple</td>\n",
       "    </tr>\n",
       "    <tr>\n",
       "      <th>1</th>\n",
       "      <td>great location, great staff</td>\n",
       "      <td>great location and simple but clean ammenities...</td>\n",
       "      <td>5</td>\n",
       "      <td>2022-10-01</td>\n",
       "      <td>business</td>\n",
       "    </tr>\n",
       "    <tr>\n",
       "      <th>2</th>\n",
       "      <td>dont stay in this hotel unless you would like ...</td>\n",
       "      <td>don't stay in this hotel unless you would like...</td>\n",
       "      <td>1</td>\n",
       "      <td>2022-10-01</td>\n",
       "      <td>NAN</td>\n",
       "    </tr>\n",
       "    <tr>\n",
       "      <th>3</th>\n",
       "      <td>waste of money</td>\n",
       "      <td>not worth it. better rooms available for this ...</td>\n",
       "      <td>1</td>\n",
       "      <td>2022-09-01</td>\n",
       "      <td>NAN</td>\n",
       "    </tr>\n",
       "    <tr>\n",
       "      <th>4</th>\n",
       "      <td>pre-autorisation money has not been refunded</td>\n",
       "      <td>ibis paris tour eiffel cambronne charged my de...</td>\n",
       "      <td>3</td>\n",
       "      <td>2022-10-01</td>\n",
       "      <td>couple</td>\n",
       "    </tr>\n",
       "  </tbody>\n",
       "</table>\n",
       "</div>"
      ],
      "text/plain": [
       "                                               title  \\\n",
       "0                                small room but okey   \n",
       "1                        great location, great staff   \n",
       "2  dont stay in this hotel unless you would like ...   \n",
       "3                                     waste of money   \n",
       "4       pre-autorisation money has not been refunded   \n",
       "\n",
       "                                              review  rate       date  \\\n",
       "0  this hotel has the smallest room, and we have ...     4 2022-11-01   \n",
       "1  great location and simple but clean ammenities...     5 2022-10-01   \n",
       "2  don't stay in this hotel unless you would like...     1 2022-10-01   \n",
       "3  not worth it. better rooms available for this ...     1 2022-09-01   \n",
       "4  ibis paris tour eiffel cambronne charged my de...     3 2022-10-01   \n",
       "\n",
       "       type  \n",
       "0    couple  \n",
       "1  business  \n",
       "2       NAN  \n",
       "3       NAN  \n",
       "4    couple  "
      ]
     },
     "execution_count": 5,
     "metadata": {},
     "output_type": "execute_result"
    }
   ],
   "source": [
    "df.head()"
   ]
  },
  {
   "cell_type": "code",
   "execution_count": 6,
   "id": "505af331-0f8b-4181-8d21-dbd0f160eedd",
   "metadata": {},
   "outputs": [
    {
     "name": "stdout",
     "output_type": "stream",
     "text": [
      "Requirement already satisfied: pyabsa in /Users/claire/opt/anaconda3/envs/env_uni/lib/python3.9/site-packages (2.0.22)\n",
      "Requirement already satisfied: autocuda>=0.14 in /Users/claire/opt/anaconda3/envs/env_uni/lib/python3.9/site-packages (from pyabsa) (0.14)\n",
      "Requirement already satisfied: spacy in /Users/claire/opt/anaconda3/envs/env_uni/lib/python3.9/site-packages (from pyabsa) (3.4.4)\n",
      "Requirement already satisfied: update-checker in /Users/claire/opt/anaconda3/envs/env_uni/lib/python3.9/site-packages (from pyabsa) (0.18.0)\n",
      "Requirement already satisfied: pandas in /Users/claire/opt/anaconda3/envs/env_uni/lib/python3.9/site-packages (from pyabsa) (1.4.4)\n",
      "Requirement already satisfied: typing-extensions in /Users/claire/opt/anaconda3/envs/env_uni/lib/python3.9/site-packages (from pyabsa) (4.3.0)\n",
      "Requirement already satisfied: tqdm in /Users/claire/opt/anaconda3/envs/env_uni/lib/python3.9/site-packages (from pyabsa) (4.64.1)\n",
      "Requirement already satisfied: gitpython in /Users/claire/opt/anaconda3/envs/env_uni/lib/python3.9/site-packages (from pyabsa) (3.1.30)\n",
      "Requirement already satisfied: termcolor in /Users/claire/opt/anaconda3/envs/env_uni/lib/python3.9/site-packages (from pyabsa) (2.1.1)\n",
      "Requirement already satisfied: metric-visualizer>=0.6.6 in /Users/claire/opt/anaconda3/envs/env_uni/lib/python3.9/site-packages (from pyabsa) (0.6.6)\n",
      "Requirement already satisfied: networkx in /Users/claire/opt/anaconda3/envs/env_uni/lib/python3.9/site-packages (from pyabsa) (2.8.4)\n",
      "Requirement already satisfied: sentencepiece in /Users/claire/opt/anaconda3/envs/env_uni/lib/python3.9/site-packages (from pyabsa) (0.1.97)\n",
      "Requirement already satisfied: torch>=1.0.0 in /Users/claire/opt/anaconda3/envs/env_uni/lib/python3.9/site-packages (from pyabsa) (1.13.1)\n",
      "Requirement already satisfied: protobuf<4.0.0 in /Users/claire/opt/anaconda3/envs/env_uni/lib/python3.9/site-packages (from pyabsa) (3.20.3)\n",
      "Requirement already satisfied: boostaug>=2.3.0 in /Users/claire/opt/anaconda3/envs/env_uni/lib/python3.9/site-packages (from pyabsa) (2.3.0)\n",
      "Requirement already satisfied: findfile>=1.7.10 in /Users/claire/opt/anaconda3/envs/env_uni/lib/python3.9/site-packages (from pyabsa) (1.7.10)\n",
      "Requirement already satisfied: seqeval in /Users/claire/opt/anaconda3/envs/env_uni/lib/python3.9/site-packages (from pyabsa) (1.2.2)\n",
      "Requirement already satisfied: transformers>=4.18.0 in /Users/claire/opt/anaconda3/envs/env_uni/lib/python3.9/site-packages (from pyabsa) (4.25.1)\n",
      "Requirement already satisfied: pytorch-warmup in /Users/claire/opt/anaconda3/envs/env_uni/lib/python3.9/site-packages (from pyabsa) (0.1.1)\n",
      "Requirement already satisfied: scipy in /Users/claire/opt/anaconda3/envs/env_uni/lib/python3.9/site-packages (from metric-visualizer>=0.6.6->pyabsa) (1.9.1)\n",
      "Requirement already satisfied: numpy in /Users/claire/opt/anaconda3/envs/env_uni/lib/python3.9/site-packages (from metric-visualizer>=0.6.6->pyabsa) (1.21.5)\n",
      "Requirement already satisfied: matplotlib<3.6.0 in /Users/claire/opt/anaconda3/envs/env_uni/lib/python3.9/site-packages (from metric-visualizer>=0.6.6->pyabsa) (3.5.2)\n",
      "Requirement already satisfied: natsort in /Users/claire/opt/anaconda3/envs/env_uni/lib/python3.9/site-packages (from metric-visualizer>=0.6.6->pyabsa) (7.1.1)\n",
      "Requirement already satisfied: tabulate in /Users/claire/opt/anaconda3/envs/env_uni/lib/python3.9/site-packages (from metric-visualizer>=0.6.6->pyabsa) (0.8.10)\n",
      "Requirement already satisfied: click in /Users/claire/opt/anaconda3/envs/env_uni/lib/python3.9/site-packages (from metric-visualizer>=0.6.6->pyabsa) (8.0.4)\n",
      "Requirement already satisfied: tikzplotlib in /Users/claire/opt/anaconda3/envs/env_uni/lib/python3.9/site-packages (from metric-visualizer>=0.6.6->pyabsa) (0.10.1)\n",
      "Requirement already satisfied: filelock in /Users/claire/opt/anaconda3/envs/env_uni/lib/python3.9/site-packages (from transformers>=4.18.0->pyabsa) (3.6.0)\n",
      "Requirement already satisfied: tokenizers!=0.11.3,<0.14,>=0.11.1 in /Users/claire/opt/anaconda3/envs/env_uni/lib/python3.9/site-packages (from transformers>=4.18.0->pyabsa) (0.13.2)\n",
      "Requirement already satisfied: huggingface-hub<1.0,>=0.10.0 in /Users/claire/opt/anaconda3/envs/env_uni/lib/python3.9/site-packages (from transformers>=4.18.0->pyabsa) (0.11.1)\n",
      "Requirement already satisfied: pyyaml>=5.1 in /Users/claire/opt/anaconda3/envs/env_uni/lib/python3.9/site-packages (from transformers>=4.18.0->pyabsa) (6.0)\n",
      "Requirement already satisfied: packaging>=20.0 in /Users/claire/opt/anaconda3/envs/env_uni/lib/python3.9/site-packages (from transformers>=4.18.0->pyabsa) (21.3)\n",
      "Requirement already satisfied: regex!=2019.12.17 in /Users/claire/opt/anaconda3/envs/env_uni/lib/python3.9/site-packages (from transformers>=4.18.0->pyabsa) (2022.7.9)\n",
      "Requirement already satisfied: requests in /Users/claire/opt/anaconda3/envs/env_uni/lib/python3.9/site-packages (from transformers>=4.18.0->pyabsa) (2.28.1)\n",
      "Requirement already satisfied: gitdb<5,>=4.0.1 in /Users/claire/opt/anaconda3/envs/env_uni/lib/python3.9/site-packages (from gitpython->pyabsa) (4.0.10)\n",
      "Requirement already satisfied: python-dateutil>=2.8.1 in /Users/claire/opt/anaconda3/envs/env_uni/lib/python3.9/site-packages (from pandas->pyabsa) (2.8.2)\n",
      "Requirement already satisfied: pytz>=2020.1 in /Users/claire/opt/anaconda3/envs/env_uni/lib/python3.9/site-packages (from pandas->pyabsa) (2022.1)\n",
      "Requirement already satisfied: scikit-learn>=0.21.3 in /Users/claire/opt/anaconda3/envs/env_uni/lib/python3.9/site-packages (from seqeval->pyabsa) (1.0.2)\n",
      "Requirement already satisfied: wasabi<1.1.0,>=0.9.1 in /Users/claire/opt/anaconda3/envs/env_uni/lib/python3.9/site-packages (from spacy->pyabsa) (0.10.1)\n",
      "Requirement already satisfied: smart-open<7.0.0,>=5.2.1 in /Users/claire/opt/anaconda3/envs/env_uni/lib/python3.9/site-packages (from spacy->pyabsa) (5.2.1)\n",
      "Requirement already satisfied: typer<0.8.0,>=0.3.0 in /Users/claire/opt/anaconda3/envs/env_uni/lib/python3.9/site-packages (from spacy->pyabsa) (0.7.0)\n",
      "Requirement already satisfied: spacy-legacy<3.1.0,>=3.0.10 in /Users/claire/opt/anaconda3/envs/env_uni/lib/python3.9/site-packages (from spacy->pyabsa) (3.0.11)\n",
      "Requirement already satisfied: pydantic!=1.8,!=1.8.1,<1.11.0,>=1.7.4 in /Users/claire/opt/anaconda3/envs/env_uni/lib/python3.9/site-packages (from spacy->pyabsa) (1.10.3)\n",
      "Requirement already satisfied: jinja2 in /Users/claire/opt/anaconda3/envs/env_uni/lib/python3.9/site-packages (from spacy->pyabsa) (2.11.3)\n",
      "Requirement already satisfied: langcodes<4.0.0,>=3.2.0 in /Users/claire/opt/anaconda3/envs/env_uni/lib/python3.9/site-packages (from spacy->pyabsa) (3.3.0)\n",
      "Requirement already satisfied: catalogue<2.1.0,>=2.0.6 in /Users/claire/opt/anaconda3/envs/env_uni/lib/python3.9/site-packages (from spacy->pyabsa) (2.0.8)\n",
      "Requirement already satisfied: thinc<8.2.0,>=8.1.0 in /Users/claire/opt/anaconda3/envs/env_uni/lib/python3.9/site-packages (from spacy->pyabsa) (8.1.6)\n",
      "Requirement already satisfied: cymem<2.1.0,>=2.0.2 in /Users/claire/opt/anaconda3/envs/env_uni/lib/python3.9/site-packages (from spacy->pyabsa) (2.0.7)\n",
      "Requirement already satisfied: setuptools in /Users/claire/opt/anaconda3/envs/env_uni/lib/python3.9/site-packages (from spacy->pyabsa) (63.4.1)\n",
      "Requirement already satisfied: spacy-loggers<2.0.0,>=1.0.0 in /Users/claire/opt/anaconda3/envs/env_uni/lib/python3.9/site-packages (from spacy->pyabsa) (1.0.4)\n",
      "Requirement already satisfied: pathy>=0.3.5 in /Users/claire/opt/anaconda3/envs/env_uni/lib/python3.9/site-packages (from spacy->pyabsa) (0.10.1)\n",
      "Requirement already satisfied: murmurhash<1.1.0,>=0.28.0 in /Users/claire/opt/anaconda3/envs/env_uni/lib/python3.9/site-packages (from spacy->pyabsa) (1.0.9)\n",
      "Requirement already satisfied: srsly<3.0.0,>=2.4.3 in /Users/claire/opt/anaconda3/envs/env_uni/lib/python3.9/site-packages (from spacy->pyabsa) (2.4.5)\n",
      "Requirement already satisfied: preshed<3.1.0,>=3.0.2 in /Users/claire/opt/anaconda3/envs/env_uni/lib/python3.9/site-packages (from spacy->pyabsa) (3.0.8)\n",
      "Requirement already satisfied: smmap<6,>=3.0.1 in /Users/claire/opt/anaconda3/envs/env_uni/lib/python3.9/site-packages (from gitdb<5,>=4.0.1->gitpython->pyabsa) (5.0.0)\n",
      "Requirement already satisfied: cycler>=0.10 in /Users/claire/opt/anaconda3/envs/env_uni/lib/python3.9/site-packages (from matplotlib<3.6.0->metric-visualizer>=0.6.6->pyabsa) (0.11.0)\n",
      "Requirement already satisfied: kiwisolver>=1.0.1 in /Users/claire/opt/anaconda3/envs/env_uni/lib/python3.9/site-packages (from matplotlib<3.6.0->metric-visualizer>=0.6.6->pyabsa) (1.4.2)\n",
      "Requirement already satisfied: fonttools>=4.22.0 in /Users/claire/opt/anaconda3/envs/env_uni/lib/python3.9/site-packages (from matplotlib<3.6.0->metric-visualizer>=0.6.6->pyabsa) (4.25.0)\n",
      "Requirement already satisfied: pillow>=6.2.0 in /Users/claire/opt/anaconda3/envs/env_uni/lib/python3.9/site-packages (from matplotlib<3.6.0->metric-visualizer>=0.6.6->pyabsa) (9.2.0)\n",
      "Requirement already satisfied: pyparsing>=2.2.1 in /Users/claire/opt/anaconda3/envs/env_uni/lib/python3.9/site-packages (from matplotlib<3.6.0->metric-visualizer>=0.6.6->pyabsa) (3.0.9)\n",
      "Requirement already satisfied: six>=1.5 in /Users/claire/opt/anaconda3/envs/env_uni/lib/python3.9/site-packages (from python-dateutil>=2.8.1->pandas->pyabsa) (1.16.0)\n",
      "Requirement already satisfied: idna<4,>=2.5 in /Users/claire/opt/anaconda3/envs/env_uni/lib/python3.9/site-packages (from requests->transformers>=4.18.0->pyabsa) (3.3)\n",
      "Requirement already satisfied: certifi>=2017.4.17 in /Users/claire/opt/anaconda3/envs/env_uni/lib/python3.9/site-packages (from requests->transformers>=4.18.0->pyabsa) (2022.12.7)\n",
      "Requirement already satisfied: charset-normalizer<3,>=2 in /Users/claire/opt/anaconda3/envs/env_uni/lib/python3.9/site-packages (from requests->transformers>=4.18.0->pyabsa) (2.0.4)\n",
      "Requirement already satisfied: urllib3<1.27,>=1.21.1 in /Users/claire/opt/anaconda3/envs/env_uni/lib/python3.9/site-packages (from requests->transformers>=4.18.0->pyabsa) (1.26.11)\n",
      "Requirement already satisfied: joblib>=0.11 in /Users/claire/opt/anaconda3/envs/env_uni/lib/python3.9/site-packages (from scikit-learn>=0.21.3->seqeval->pyabsa) (1.1.0)\n",
      "Requirement already satisfied: threadpoolctl>=2.0.0 in /Users/claire/opt/anaconda3/envs/env_uni/lib/python3.9/site-packages (from scikit-learn>=0.21.3->seqeval->pyabsa) (2.2.0)\n",
      "Requirement already satisfied: confection<1.0.0,>=0.0.1 in /Users/claire/opt/anaconda3/envs/env_uni/lib/python3.9/site-packages (from thinc<8.2.0,>=8.1.0->spacy->pyabsa) (0.0.3)\n",
      "Requirement already satisfied: blis<0.8.0,>=0.7.8 in /Users/claire/opt/anaconda3/envs/env_uni/lib/python3.9/site-packages (from thinc<8.2.0,>=8.1.0->spacy->pyabsa) (0.7.9)\n",
      "Requirement already satisfied: MarkupSafe>=0.23 in /Users/claire/opt/anaconda3/envs/env_uni/lib/python3.9/site-packages (from jinja2->spacy->pyabsa) (2.0.1)\n",
      "Requirement already satisfied: webcolors in /Users/claire/opt/anaconda3/envs/env_uni/lib/python3.9/site-packages (from tikzplotlib->metric-visualizer>=0.6.6->pyabsa) (1.12)\n",
      "Note: you may need to restart the kernel to use updated packages.\n"
     ]
    }
   ],
   "source": [
    "pip install pyabsa"
   ]
  },
  {
   "cell_type": "code",
   "execution_count": 7,
   "id": "19727377-8be2-4bd9-9981-f9096e4a58a4",
   "metadata": {},
   "outputs": [
    {
     "name": "stdout",
     "output_type": "stream",
     "text": [
      "No CUDA GPU found in your device\n"
     ]
    },
    {
     "name": "stderr",
     "output_type": "stream",
     "text": [
      "/Users/claire/opt/anaconda3/envs/env_uni/lib/python3.9/site-packages/fontTools/misc/py23.py:11: DeprecationWarning: The py23 module has been deprecated and will be removed in a future release. Please update your code.\n",
      "  warnings.warn(\n"
     ]
    },
    {
     "name": "stdout",
     "output_type": "stream",
     "text": [
      "[2022-12-30 10:59:43] (2.0.22) PyABSA(2.0.22): There are some known issues with compatibility when migrating from v1.x versions to v2.x versions.\n",
      "If you find any problems in v2.x, please downgrade to v1.16.27 (or earlier versions) and raise an issue on GitHub.\n"
     ]
    }
   ],
   "source": [
    "from pyabsa import ATEPCCheckpointManager"
   ]
  },
  {
   "cell_type": "code",
   "execution_count": null,
   "id": "ec3c4e0f-3b34-42f7-945b-8f370e612e95",
   "metadata": {},
   "outputs": [
    {
     "name": "stderr",
     "output_type": "stream",
     "text": [
      "/Users/claire/opt/anaconda3/envs/env_uni/lib/python3.9/multiprocessing/pool.py:265: ResourceWarning: unclosed running multiprocessing pool <multiprocessing.pool.Pool state=RUN pool_size=1>\n",
      "  _warn(f\"unclosed running multiprocessing pool {self!r}\",\n",
      "ResourceWarning: Enable tracemalloc to get the object allocation traceback\n"
     ]
    },
    {
     "name": "stdout",
     "output_type": "stream",
     "text": [
      "[2022-12-30 10:59:43] (2.0.22) ********** Available ATEPC model checkpoints for Version:2.0.22 (this version) **********\n",
      "[2022-12-30 10:59:43] (2.0.22) Downloading checkpoint:english \n",
      "[2022-12-30 10:59:43] (2.0.22) Notice: The pretrained model are used for testing, it is recommended to train the model on your own custom datasets\n"
     ]
    },
    {
     "name": "stderr",
     "output_type": "stream",
     "text": [
      "Downloading checkpoint: 579MB [08:02,  1.20MB/s]                         "
     ]
    },
    {
     "name": "stdout",
     "output_type": "stream",
     "text": [
      "[2022-12-30 11:07:47] (2.0.22) Find zipped checkpoint: ./checkpoints/ATEPC_ENGLISH_CHECKPOINT/fast_lcf_atepc_English_cdw_apcacc_82.36_apcf1_81.89_atef1_75.43.zip, unzipping\n"
     ]
    },
    {
     "name": "stderr",
     "output_type": "stream",
     "text": [
      "\n"
     ]
    },
    {
     "name": "stdout",
     "output_type": "stream",
     "text": [
      "[2022-12-30 11:07:57] (2.0.22) Done.\n",
      "[2022-12-30 11:07:57] (2.0.22) If the auto-downloading failed, please download it via browser: https://huggingface.co/spaces/yangheng/PyABSA/resolve/main/checkpoints/English/ATEPC/fast_lcf_atepc_English_cdw_apcacc_82.36_apcf1_81.89_atef1_75.43.zip \n",
      "[2022-12-30 11:07:57] (2.0.22) Load aspect extractor from ./checkpoints/ATEPC_ENGLISH_CHECKPOINT/fast_lcf_atepc_English_cdw_apcacc_82.36_apcf1_81.89_atef1_75.43\n",
      "[2022-12-30 11:07:57] (2.0.22) config: ./checkpoints/ATEPC_ENGLISH_CHECKPOINT/fast_lcf_atepc_English_cdw_apcacc_82.36_apcf1_81.89_atef1_75.43/fast_lcf_atepc.config\n",
      "[2022-12-30 11:07:57] (2.0.22) state_dict: ./checkpoints/ATEPC_ENGLISH_CHECKPOINT/fast_lcf_atepc_English_cdw_apcacc_82.36_apcf1_81.89_atef1_75.43/fast_lcf_atepc.state_dict\n",
      "[2022-12-30 11:07:57] (2.0.22) model: None\n",
      "[2022-12-30 11:07:57] (2.0.22) tokenizer: ./checkpoints/ATEPC_ENGLISH_CHECKPOINT/fast_lcf_atepc_English_cdw_apcacc_82.36_apcf1_81.89_atef1_75.43/fast_lcf_atepc.tokenizer\n",
      "[2022-12-30 11:07:57] (2.0.22) Set Model Device: cpu\n",
      "[2022-12-30 11:07:57] (2.0.22) Device Name: Unknown\n"
     ]
    },
    {
     "data": {
      "application/vnd.jupyter.widget-view+json": {
       "model_id": "6ccce1472d214caa83eb3d4f00ede78d",
       "version_major": 2,
       "version_minor": 0
      },
      "text/plain": [
       "Downloading:   0%|          | 0.00/579 [00:00<?, ?B/s]"
      ]
     },
     "metadata": {},
     "output_type": "display_data"
    },
    {
     "data": {
      "application/vnd.jupyter.widget-view+json": {
       "model_id": "acaa05a974af44f08749f452f0d48836",
       "version_major": 2,
       "version_minor": 0
      },
      "text/plain": [
       "Downloading:   0%|          | 0.00/371M [00:00<?, ?B/s]"
      ]
     },
     "metadata": {},
     "output_type": "display_data"
    },
    {
     "name": "stderr",
     "output_type": "stream",
     "text": [
      "Some weights of the model checkpoint at microsoft/deberta-v3-base were not used when initializing DebertaV2Model: ['lm_predictions.lm_head.dense.bias', 'lm_predictions.lm_head.LayerNorm.bias', 'mask_predictions.classifier.weight', 'mask_predictions.dense.weight', 'lm_predictions.lm_head.LayerNorm.weight', 'mask_predictions.LayerNorm.weight', 'mask_predictions.dense.bias', 'mask_predictions.classifier.bias', 'lm_predictions.lm_head.dense.weight', 'lm_predictions.lm_head.bias', 'mask_predictions.LayerNorm.bias']\n",
      "- This IS expected if you are initializing DebertaV2Model from the checkpoint of a model trained on another task or with another architecture (e.g. initializing a BertForSequenceClassification model from a BertForPreTraining model).\n",
      "- This IS NOT expected if you are initializing DebertaV2Model from the checkpoint of a model that you expect to be exactly identical (initializing a BertForSequenceClassification model from a BertForSequenceClassification model).\n"
     ]
    }
   ],
   "source": [
    "aspect_extractor = ATEPCCheckpointManager.get_aspect_extractor(checkpoint='english')"
   ]
  },
  {
   "cell_type": "code",
   "execution_count": null,
   "id": "01f4b3b0-893b-4177-8845-f754a17a40ca",
   "metadata": {},
   "outputs": [],
   "source": [
    "def get_absa(text):\n",
    "    atepc_result = aspect_extractor.extract_aspect(inference_source=text, pred_sentiment=True, save_result=False,\n",
    "    print_result=False)\n",
    "    return [{x:y for x,y in zip(atepc_result[i]['aspect'], atepc_result[i]['sentiment'])} for i in range(len(text))]"
   ]
  },
  {
   "cell_type": "code",
   "execution_count": null,
   "id": "6b797ba9-4469-48b2-8de8-38f5e896096d",
   "metadata": {},
   "outputs": [],
   "source": [
    "atepc_result = get_absa(df['review'].values.tolist())"
   ]
  },
  {
   "cell_type": "code",
   "execution_count": null,
   "id": "eff5ceaa-3b41-47e5-876a-54001b694240",
   "metadata": {},
   "outputs": [],
   "source": [
    "atepc_result"
   ]
  }
 ],
 "metadata": {
  "kernelspec": {
   "display_name": "Python 3 (ipykernel)",
   "language": "python",
   "name": "python3"
  },
  "language_info": {
   "codemirror_mode": {
    "name": "ipython",
    "version": 3
   },
   "file_extension": ".py",
   "mimetype": "text/x-python",
   "name": "python",
   "nbconvert_exporter": "python",
   "pygments_lexer": "ipython3",
   "version": "3.9.13"
  }
 },
 "nbformat": 4,
 "nbformat_minor": 5
}
